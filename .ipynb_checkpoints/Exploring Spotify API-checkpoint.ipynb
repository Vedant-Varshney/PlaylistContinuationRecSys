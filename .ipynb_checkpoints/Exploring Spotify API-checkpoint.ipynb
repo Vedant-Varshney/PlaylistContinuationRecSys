{
 "cells": [
  {
   "cell_type": "markdown",
   "metadata": {},
   "source": [
    "# Exploring Spotify Web API"
   ]
  },
  {
   "cell_type": "markdown",
   "metadata": {},
   "source": [
    "An informal notebook to explore the Spotify API"
   ]
  },
  {
   "cell_type": "code",
   "execution_count": 1,
   "metadata": {},
   "outputs": [],
   "source": [
    "import requests\n",
    "import pandas as pd\n",
    "from copy import copy\n",
    "from tqdm import trange\n",
    "\n",
    "import spotipy\n",
    "from spotipy.oauth2 import SpotifyOAuth"
   ]
  },
  {
   "cell_type": "code",
   "execution_count": 10,
   "metadata": {},
   "outputs": [],
   "source": [
    "import pprint\n",
    "\n",
    "pp = pprint.PrettyPrinter()"
   ]
  },
  {
   "cell_type": "code",
   "execution_count": 2,
   "metadata": {},
   "outputs": [],
   "source": [
    "client_id = \"16dab5df57af40a0b913a3010f3b34ba\"\n",
    "client_secret = \"65223edc47de4e6b84c794d901f1d011\"\n",
    "\n",
    "scope = \"user-library-read\"\n",
    "redirect_uri = \"http://collab_vedant.com/callback/\"\n",
    "username =  \"jp23jhto8yfwq8rsv6yyg4wg8\""
   ]
  },
  {
   "cell_type": "code",
   "execution_count": 3,
   "metadata": {},
   "outputs": [],
   "source": [
    "auth = SpotifyOAuth(client_id=client_id,\n",
    "                           client_secret=client_secret,\n",
    "                           scope=scope,\n",
    "                           redirect_uri=redirect_uri,\n",
    "                           username=username)\n",
    "\n",
    "\n",
    "sp = spotipy.Spotify(auth_manager=auth, requests_timeout=100)"
   ]
  },
  {
   "cell_type": "code",
   "execution_count": 4,
   "metadata": {},
   "outputs": [],
   "source": [
    "metrics = [\"danceability\", \"energy\", \"loudness\", \"speechiness\",\\\n",
    "\"acousticness\", \"instrumentalness\",\"liveness\", \"valence\", \"tempo\"]"
   ]
  },
  {
   "cell_type": "code",
   "execution_count": 5,
   "metadata": {},
   "outputs": [],
   "source": [
    "def get_tracks(query):\n",
    "    return sp.search(q=query, limit=1)['tracks']['items']"
   ]
  },
  {
   "cell_type": "code",
   "execution_count": 12,
   "metadata": {},
   "outputs": [],
   "source": [
    "tracks = get_tracks(\"Sad\")"
   ]
  },
  {
   "cell_type": "code",
   "execution_count": 13,
   "metadata": {},
   "outputs": [
    {
     "name": "stdout",
     "output_type": "stream",
     "text": [
      "[{'album': {'album_type': 'album',\n",
      "            'artists': [{'external_urls': {'spotify': 'https://open.spotify.com/artist/15UsOTVnJzReFVN1VCnxy4'},\n",
      "                         'href': 'https://api.spotify.com/v1/artists/15UsOTVnJzReFVN1VCnxy4',\n",
      "                         'id': '15UsOTVnJzReFVN1VCnxy4',\n",
      "                         'name': 'XXXTENTACION',\n",
      "                         'type': 'artist',\n",
      "                         'uri': 'spotify:artist:15UsOTVnJzReFVN1VCnxy4'}],\n",
      "            'available_markets': ['AD',\n",
      "                                  'AE',\n",
      "                                  'AL',\n",
      "                                  'AR',\n",
      "                                  'AT',\n",
      "                                  'AU',\n",
      "                                  'BA',\n",
      "                                  'BE',\n",
      "                                  'BG',\n",
      "                                  'BH',\n",
      "                                  'BO',\n",
      "                                  'BR',\n",
      "                                  'BY',\n",
      "                                  'CA',\n",
      "                                  'CH',\n",
      "                                  'CL',\n",
      "                                  'CO',\n",
      "                                  'CR',\n",
      "                                  'CY',\n",
      "                                  'CZ',\n",
      "                                  'DE',\n",
      "                                  'DK',\n",
      "                                  'DO',\n",
      "                                  'DZ',\n",
      "                                  'EC',\n",
      "                                  'EE',\n",
      "                                  'EG',\n",
      "                                  'ES',\n",
      "                                  'FI',\n",
      "                                  'FR',\n",
      "                                  'GB',\n",
      "                                  'GR',\n",
      "                                  'GT',\n",
      "                                  'HK',\n",
      "                                  'HN',\n",
      "                                  'HR',\n",
      "                                  'HU',\n",
      "                                  'ID',\n",
      "                                  'IE',\n",
      "                                  'IL',\n",
      "                                  'IN',\n",
      "                                  'IS',\n",
      "                                  'IT',\n",
      "                                  'JO',\n",
      "                                  'JP',\n",
      "                                  'KW',\n",
      "                                  'KZ',\n",
      "                                  'LB',\n",
      "                                  'LI',\n",
      "                                  'LT',\n",
      "                                  'LU',\n",
      "                                  'LV',\n",
      "                                  'MA',\n",
      "                                  'MC',\n",
      "                                  'MD',\n",
      "                                  'ME',\n",
      "                                  'MK',\n",
      "                                  'MT',\n",
      "                                  'MX',\n",
      "                                  'MY',\n",
      "                                  'NI',\n",
      "                                  'NL',\n",
      "                                  'NO',\n",
      "                                  'NZ',\n",
      "                                  'OM',\n",
      "                                  'PA',\n",
      "                                  'PE',\n",
      "                                  'PH',\n",
      "                                  'PL',\n",
      "                                  'PS',\n",
      "                                  'PT',\n",
      "                                  'PY',\n",
      "                                  'QA',\n",
      "                                  'RO',\n",
      "                                  'RS',\n",
      "                                  'RU',\n",
      "                                  'SA',\n",
      "                                  'SE',\n",
      "                                  'SG',\n",
      "                                  'SI',\n",
      "                                  'SK',\n",
      "                                  'SV',\n",
      "                                  'TH',\n",
      "                                  'TN',\n",
      "                                  'TR',\n",
      "                                  'TW',\n",
      "                                  'UA',\n",
      "                                  'US',\n",
      "                                  'UY',\n",
      "                                  'VN',\n",
      "                                  'XK',\n",
      "                                  'ZA'],\n",
      "            'external_urls': {'spotify': 'https://open.spotify.com/album/2Ti79nwTsont5ZHfdxIzAm'},\n",
      "            'href': 'https://api.spotify.com/v1/albums/2Ti79nwTsont5ZHfdxIzAm',\n",
      "            'id': '2Ti79nwTsont5ZHfdxIzAm',\n",
      "            'images': [{'height': 640,\n",
      "                        'url': 'https://i.scdn.co/image/ab67616d0000b273806c160566580d6335d1f16c',\n",
      "                        'width': 640},\n",
      "                       {'height': 300,\n",
      "                        'url': 'https://i.scdn.co/image/ab67616d00001e02806c160566580d6335d1f16c',\n",
      "                        'width': 300},\n",
      "                       {'height': 64,\n",
      "                        'url': 'https://i.scdn.co/image/ab67616d00004851806c160566580d6335d1f16c',\n",
      "                        'width': 64}],\n",
      "            'name': '?',\n",
      "            'release_date': '2018-03-16',\n",
      "            'release_date_precision': 'day',\n",
      "            'total_tracks': 18,\n",
      "            'type': 'album',\n",
      "            'uri': 'spotify:album:2Ti79nwTsont5ZHfdxIzAm'},\n",
      "  'artists': [{'external_urls': {'spotify': 'https://open.spotify.com/artist/15UsOTVnJzReFVN1VCnxy4'},\n",
      "               'href': 'https://api.spotify.com/v1/artists/15UsOTVnJzReFVN1VCnxy4',\n",
      "               'id': '15UsOTVnJzReFVN1VCnxy4',\n",
      "               'name': 'XXXTENTACION',\n",
      "               'type': 'artist',\n",
      "               'uri': 'spotify:artist:15UsOTVnJzReFVN1VCnxy4'}],\n",
      "  'available_markets': ['AD',\n",
      "                        'AE',\n",
      "                        'AL',\n",
      "                        'AR',\n",
      "                        'AT',\n",
      "                        'AU',\n",
      "                        'BA',\n",
      "                        'BE',\n",
      "                        'BG',\n",
      "                        'BH',\n",
      "                        'BO',\n",
      "                        'BR',\n",
      "                        'BY',\n",
      "                        'CA',\n",
      "                        'CH',\n",
      "                        'CL',\n",
      "                        'CO',\n",
      "                        'CR',\n",
      "                        'CY',\n",
      "                        'CZ',\n",
      "                        'DE',\n",
      "                        'DK',\n",
      "                        'DO',\n",
      "                        'DZ',\n",
      "                        'EC',\n",
      "                        'EE',\n",
      "                        'EG',\n",
      "                        'ES',\n",
      "                        'FI',\n",
      "                        'FR',\n",
      "                        'GB',\n",
      "                        'GR',\n",
      "                        'GT',\n",
      "                        'HK',\n",
      "                        'HN',\n",
      "                        'HR',\n",
      "                        'HU',\n",
      "                        'ID',\n",
      "                        'IE',\n",
      "                        'IL',\n",
      "                        'IN',\n",
      "                        'IS',\n",
      "                        'IT',\n",
      "                        'JO',\n",
      "                        'JP',\n",
      "                        'KW',\n",
      "                        'KZ',\n",
      "                        'LB',\n",
      "                        'LI',\n",
      "                        'LT',\n",
      "                        'LU',\n",
      "                        'LV',\n",
      "                        'MA',\n",
      "                        'MC',\n",
      "                        'MD',\n",
      "                        'ME',\n",
      "                        'MK',\n",
      "                        'MT',\n",
      "                        'MX',\n",
      "                        'MY',\n",
      "                        'NI',\n",
      "                        'NL',\n",
      "                        'NO',\n",
      "                        'NZ',\n",
      "                        'OM',\n",
      "                        'PA',\n",
      "                        'PE',\n",
      "                        'PH',\n",
      "                        'PL',\n",
      "                        'PS',\n",
      "                        'PT',\n",
      "                        'PY',\n",
      "                        'QA',\n",
      "                        'RO',\n",
      "                        'RS',\n",
      "                        'RU',\n",
      "                        'SA',\n",
      "                        'SE',\n",
      "                        'SG',\n",
      "                        'SI',\n",
      "                        'SK',\n",
      "                        'SV',\n",
      "                        'TH',\n",
      "                        'TN',\n",
      "                        'TR',\n",
      "                        'TW',\n",
      "                        'UA',\n",
      "                        'US',\n",
      "                        'UY',\n",
      "                        'VN',\n",
      "                        'XK',\n",
      "                        'ZA'],\n",
      "  'disc_number': 1,\n",
      "  'duration_ms': 166605,\n",
      "  'explicit': True,\n",
      "  'external_ids': {'isrc': 'USUG11800208'},\n",
      "  'external_urls': {'spotify': 'https://open.spotify.com/track/3ee8Jmje8o58CHK66QrVC2'},\n",
      "  'href': 'https://api.spotify.com/v1/tracks/3ee8Jmje8o58CHK66QrVC2',\n",
      "  'id': '3ee8Jmje8o58CHK66QrVC2',\n",
      "  'is_local': False,\n",
      "  'name': 'SAD!',\n",
      "  'popularity': 87,\n",
      "  'preview_url': None,\n",
      "  'track_number': 4,\n",
      "  'type': 'track',\n",
      "  'uri': 'spotify:track:3ee8Jmje8o58CHK66QrVC2'}]\n"
     ]
    }
   ],
   "source": [
    "pp.pprint(tracks)"
   ]
  },
  {
   "cell_type": "code",
   "execution_count": 14,
   "metadata": {},
   "outputs": [
    {
     "data": {
      "text/plain": [
       "1"
      ]
     },
     "execution_count": 14,
     "metadata": {},
     "output_type": "execute_result"
    }
   ],
   "source": [
    "len(tracks)"
   ]
  },
  {
   "cell_type": "code",
   "execution_count": 20,
   "metadata": {},
   "outputs": [],
   "source": [
    "track = tracks[0]"
   ]
  },
  {
   "cell_type": "code",
   "execution_count": 18,
   "metadata": {},
   "outputs": [
    {
     "data": {
      "text/plain": [
       "list"
      ]
     },
     "execution_count": 18,
     "metadata": {},
     "output_type": "execute_result"
    }
   ],
   "source": [
    "type(tracks[0][\"available_markets\"])"
   ]
  },
  {
   "cell_type": "code",
   "execution_count": 19,
   "metadata": {},
   "outputs": [
    {
     "name": "stdout",
     "output_type": "stream",
     "text": [
      "Help on method audio_features in module spotipy.client:\n",
      "\n",
      "audio_features(tracks=[]) method of spotipy.client.Spotify instance\n",
      "    Get audio features for one or multiple tracks based upon their Spotify IDs\n",
      "    Parameters:\n",
      "        - tracks - a list of track URIs, URLs or IDs, maximum: 100 ids\n",
      "\n"
     ]
    }
   ],
   "source": [
    "help(sp.audio_features)"
   ]
  },
  {
   "cell_type": "code",
   "execution_count": 34,
   "metadata": {},
   "outputs": [
    {
     "data": {
      "text/plain": [
       "danceability                                                     0.74\n",
       "energy                                                          0.613\n",
       "key                                                                 8\n",
       "loudness                                                        -4.88\n",
       "mode                                                                1\n",
       "speechiness                                                     0.145\n",
       "acousticness                                                    0.258\n",
       "instrumentalness                                              0.00372\n",
       "liveness                                                        0.123\n",
       "valence                                                         0.473\n",
       "tempo                                                          75.023\n",
       "type                                                   audio_features\n",
       "id                                             3ee8Jmje8o58CHK66QrVC2\n",
       "uri                              spotify:track:3ee8Jmje8o58CHK66QrVC2\n",
       "track_href          https://api.spotify.com/v1/tracks/3ee8Jmje8o58...\n",
       "analysis_url        https://api.spotify.com/v1/audio-analysis/3ee8...\n",
       "duration_ms                                                    166606\n",
       "time_signature                                                      4\n",
       "dtype: object"
      ]
     },
     "execution_count": 34,
     "metadata": {},
     "output_type": "execute_result"
    }
   ],
   "source": [
    "pd.Series(sp.audio_features([track[\"id\"]])[0])"
   ]
  },
  {
   "cell_type": "code",
   "execution_count": 31,
   "metadata": {},
   "outputs": [
    {
     "data": {
      "text/plain": [
       "Series([], dtype: float64)"
      ]
     },
     "execution_count": 31,
     "metadata": {},
     "output_type": "execute_result"
    }
   ],
   "source": [
    "pd.Series(sp.audio_features([\"a\"])[0])"
   ]
  }
 ],
 "metadata": {
  "kernelspec": {
   "display_name": "Python 3",
   "language": "python",
   "name": "python3"
  },
  "language_info": {
   "codemirror_mode": {
    "name": "ipython",
    "version": 3
   },
   "file_extension": ".py",
   "mimetype": "text/x-python",
   "name": "python",
   "nbconvert_exporter": "python",
   "pygments_lexer": "ipython3",
   "version": "3.7.4"
  }
 },
 "nbformat": 4,
 "nbformat_minor": 2
}
