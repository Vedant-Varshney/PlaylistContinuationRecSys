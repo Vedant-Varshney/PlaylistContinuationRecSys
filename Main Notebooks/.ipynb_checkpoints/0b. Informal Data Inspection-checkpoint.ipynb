{
 "cells": [
  {
   "cell_type": "markdown",
   "metadata": {},
   "source": [
    "# Informal Data Inspection"
   ]
  },
  {
   "cell_type": "markdown",
   "metadata": {},
   "source": [
    "An informal notebook to inspect the MPSD dataset."
   ]
  },
  {
   "cell_type": "code",
   "execution_count": 35,
   "metadata": {},
   "outputs": [],
   "source": [
    "import pandas as pd\n",
    "import numpy as np\n",
    "from matplotlib import pyplot as plt\n",
    "import seaborn as sns\n",
    "from tqdm.notebook import tqdm, trange\n",
    "\n",
    "sns.set()"
   ]
  },
  {
   "cell_type": "code",
   "execution_count": 2,
   "metadata": {},
   "outputs": [
    {
     "name": "stderr",
     "output_type": "stream",
     "text": [
      "/Users/vedantvarshney/opt/anaconda3/lib/python3.7/site-packages/IPython/core/interactiveshell.py:3058: DtypeWarning: Columns (2,6,9,11) have mixed types. Specify dtype option on import or set low_memory=False.\n",
      "  interactivity=interactivity, compiler=compiler, result=result)\n"
     ]
    }
   ],
   "source": [
    "data_url = \"https://media.githubusercontent.com/media/felipevieira/computacao-e-musica-lsd/master/sbcm-2017/Datasets/MPSD%20v1.0.csv\"\n",
    "\n",
    "df = pd.read_csv(data_url)"
   ]
  },
  {
   "cell_type": "code",
   "execution_count": 4,
   "metadata": {},
   "outputs": [
    {
     "data": {
      "text/plain": [
       "1993607"
      ]
     },
     "execution_count": 4,
     "metadata": {},
     "output_type": "execute_result"
    }
   ],
   "source": [
    "len(df)"
   ]
  },
  {
   "cell_type": "code",
   "execution_count": 5,
   "metadata": {},
   "outputs": [
    {
     "data": {
      "text/html": [
       "<div>\n",
       "<style scoped>\n",
       "    .dataframe tbody tr th:only-of-type {\n",
       "        vertical-align: middle;\n",
       "    }\n",
       "\n",
       "    .dataframe tbody tr th {\n",
       "        vertical-align: top;\n",
       "    }\n",
       "\n",
       "    .dataframe thead th {\n",
       "        text-align: right;\n",
       "    }\n",
       "</style>\n",
       "<table border=\"1\" class=\"dataframe\">\n",
       "  <thead>\n",
       "    <tr style=\"text-align: right;\">\n",
       "      <th></th>\n",
       "      <th>Unnamed: 0</th>\n",
       "      <th>source</th>\n",
       "      <th>user_id</th>\n",
       "      <th>track_name</th>\n",
       "      <th>artist_name</th>\n",
       "      <th>mbids</th>\n",
       "      <th>playlist_id</th>\n",
       "      <th>tags</th>\n",
       "      <th>playlist_name</th>\n",
       "      <th>date</th>\n",
       "      <th>...</th>\n",
       "      <th>mood_sad_value</th>\n",
       "      <th>mood_sad_prob</th>\n",
       "      <th>moods_mirex_value</th>\n",
       "      <th>moods_mirex_prob</th>\n",
       "      <th>timbre_value</th>\n",
       "      <th>timbre_prob</th>\n",
       "      <th>tonal_atonal_value</th>\n",
       "      <th>tonal_atonal_prob</th>\n",
       "      <th>voice_instrumental_value</th>\n",
       "      <th>voice_instrumental_prob</th>\n",
       "    </tr>\n",
       "  </thead>\n",
       "  <tbody>\n",
       "    <tr>\n",
       "      <td>0</td>\n",
       "      <td>1</td>\n",
       "      <td>vagalume</td>\n",
       "      <td>sitevagalume</td>\n",
       "      <td>Eraser</td>\n",
       "      <td>Ed Sheeran</td>\n",
       "      <td>[]</td>\n",
       "      <td>6736120</td>\n",
       "      <td>Pop,Rock,Pop/Rock</td>\n",
       "      <td>Ed Sheeran - Divide</td>\n",
       "      <td>NaN</td>\n",
       "      <td>...</td>\n",
       "      <td>NaN</td>\n",
       "      <td>NaN</td>\n",
       "      <td>NaN</td>\n",
       "      <td>NaN</td>\n",
       "      <td>NaN</td>\n",
       "      <td>NaN</td>\n",
       "      <td>NaN</td>\n",
       "      <td>NaN</td>\n",
       "      <td>NaN</td>\n",
       "      <td>NaN</td>\n",
       "    </tr>\n",
       "    <tr>\n",
       "      <td>1</td>\n",
       "      <td>2</td>\n",
       "      <td>vagalume</td>\n",
       "      <td>sitevagalume</td>\n",
       "      <td>Castle On The Hill</td>\n",
       "      <td>Ed Sheeran</td>\n",
       "      <td>[u'5780b6fb-066f-4147-ac0e-0d8c8e812e02']</td>\n",
       "      <td>6736120</td>\n",
       "      <td>Pop,Rock,Pop/Rock</td>\n",
       "      <td>Ed Sheeran - Divide</td>\n",
       "      <td>NaN</td>\n",
       "      <td>...</td>\n",
       "      <td>not_sad</td>\n",
       "      <td>0.649855</td>\n",
       "      <td>Cluster5</td>\n",
       "      <td>0.361099</td>\n",
       "      <td>bright</td>\n",
       "      <td>0.912051</td>\n",
       "      <td>atonal</td>\n",
       "      <td>0.949714</td>\n",
       "      <td>voice</td>\n",
       "      <td>0.990462</td>\n",
       "    </tr>\n",
       "    <tr>\n",
       "      <td>2</td>\n",
       "      <td>3</td>\n",
       "      <td>vagalume</td>\n",
       "      <td>sitevagalume</td>\n",
       "      <td>Dive</td>\n",
       "      <td>Ed Sheeran</td>\n",
       "      <td>[]</td>\n",
       "      <td>6736120</td>\n",
       "      <td>Pop,Rock,Pop/Rock</td>\n",
       "      <td>Ed Sheeran - Divide</td>\n",
       "      <td>NaN</td>\n",
       "      <td>...</td>\n",
       "      <td>NaN</td>\n",
       "      <td>NaN</td>\n",
       "      <td>NaN</td>\n",
       "      <td>NaN</td>\n",
       "      <td>NaN</td>\n",
       "      <td>NaN</td>\n",
       "      <td>NaN</td>\n",
       "      <td>NaN</td>\n",
       "      <td>NaN</td>\n",
       "      <td>NaN</td>\n",
       "    </tr>\n",
       "    <tr>\n",
       "      <td>3</td>\n",
       "      <td>4</td>\n",
       "      <td>vagalume</td>\n",
       "      <td>sitevagalume</td>\n",
       "      <td>Shape Of You</td>\n",
       "      <td>Ed Sheeran</td>\n",
       "      <td>[]</td>\n",
       "      <td>6736120</td>\n",
       "      <td>Pop,Rock,Pop/Rock</td>\n",
       "      <td>Ed Sheeran - Divide</td>\n",
       "      <td>NaN</td>\n",
       "      <td>...</td>\n",
       "      <td>NaN</td>\n",
       "      <td>NaN</td>\n",
       "      <td>NaN</td>\n",
       "      <td>NaN</td>\n",
       "      <td>NaN</td>\n",
       "      <td>NaN</td>\n",
       "      <td>NaN</td>\n",
       "      <td>NaN</td>\n",
       "      <td>NaN</td>\n",
       "      <td>NaN</td>\n",
       "    </tr>\n",
       "    <tr>\n",
       "      <td>4</td>\n",
       "      <td>5</td>\n",
       "      <td>vagalume</td>\n",
       "      <td>sitevagalume</td>\n",
       "      <td>Perfect</td>\n",
       "      <td>Ed Sheeran</td>\n",
       "      <td>[]</td>\n",
       "      <td>6736120</td>\n",
       "      <td>Pop,Rock,Pop/Rock</td>\n",
       "      <td>Ed Sheeran - Divide</td>\n",
       "      <td>NaN</td>\n",
       "      <td>...</td>\n",
       "      <td>NaN</td>\n",
       "      <td>NaN</td>\n",
       "      <td>NaN</td>\n",
       "      <td>NaN</td>\n",
       "      <td>NaN</td>\n",
       "      <td>NaN</td>\n",
       "      <td>NaN</td>\n",
       "      <td>NaN</td>\n",
       "      <td>NaN</td>\n",
       "      <td>NaN</td>\n",
       "    </tr>\n",
       "  </tbody>\n",
       "</table>\n",
       "<p>5 rows × 46 columns</p>\n",
       "</div>"
      ],
      "text/plain": [
       "   Unnamed: 0    source       user_id          track_name artist_name  \\\n",
       "0           1  vagalume  sitevagalume              Eraser  Ed Sheeran   \n",
       "1           2  vagalume  sitevagalume  Castle On The Hill  Ed Sheeran   \n",
       "2           3  vagalume  sitevagalume                Dive  Ed Sheeran   \n",
       "3           4  vagalume  sitevagalume        Shape Of You  Ed Sheeran   \n",
       "4           5  vagalume  sitevagalume             Perfect  Ed Sheeran   \n",
       "\n",
       "                                       mbids playlist_id               tags  \\\n",
       "0                                         []     6736120  Pop,Rock,Pop/Rock   \n",
       "1  [u'5780b6fb-066f-4147-ac0e-0d8c8e812e02']     6736120  Pop,Rock,Pop/Rock   \n",
       "2                                         []     6736120  Pop,Rock,Pop/Rock   \n",
       "3                                         []     6736120  Pop,Rock,Pop/Rock   \n",
       "4                                         []     6736120  Pop,Rock,Pop/Rock   \n",
       "\n",
       "         playlist_name date  ... mood_sad_value mood_sad_prob  \\\n",
       "0  Ed Sheeran - Divide  NaN  ...            NaN           NaN   \n",
       "1  Ed Sheeran - Divide  NaN  ...        not_sad      0.649855   \n",
       "2  Ed Sheeran - Divide  NaN  ...            NaN           NaN   \n",
       "3  Ed Sheeran - Divide  NaN  ...            NaN           NaN   \n",
       "4  Ed Sheeran - Divide  NaN  ...            NaN           NaN   \n",
       "\n",
       "  moods_mirex_value  moods_mirex_prob timbre_value  timbre_prob  \\\n",
       "0               NaN               NaN          NaN          NaN   \n",
       "1          Cluster5          0.361099       bright     0.912051   \n",
       "2               NaN               NaN          NaN          NaN   \n",
       "3               NaN               NaN          NaN          NaN   \n",
       "4               NaN               NaN          NaN          NaN   \n",
       "\n",
       "  tonal_atonal_value  tonal_atonal_prob voice_instrumental_value  \\\n",
       "0                NaN                NaN                      NaN   \n",
       "1             atonal           0.949714                    voice   \n",
       "2                NaN                NaN                      NaN   \n",
       "3                NaN                NaN                      NaN   \n",
       "4                NaN                NaN                      NaN   \n",
       "\n",
       "   voice_instrumental_prob  \n",
       "0                      NaN  \n",
       "1                 0.990462  \n",
       "2                      NaN  \n",
       "3                      NaN  \n",
       "4                      NaN  \n",
       "\n",
       "[5 rows x 46 columns]"
      ]
     },
     "execution_count": 5,
     "metadata": {},
     "output_type": "execute_result"
    }
   ],
   "source": [
    "df.head()"
   ]
  },
  {
   "cell_type": "code",
   "execution_count": 6,
   "metadata": {},
   "outputs": [
    {
     "data": {
      "text/plain": [
       "Index(['Unnamed: 0', 'source', 'user_id', 'track_name', 'artist_name', 'mbids',\n",
       "       'playlist_id', 'tags', 'playlist_name', 'date', 'danceability_value',\n",
       "       'danceability_prob', 'gender_value', 'gender_prob',\n",
       "       'genre_dortmund_value', 'genre_dortmund_prob', 'genre_electronic_value',\n",
       "       'genre_electronic_prob', 'genre_rosamerica_value',\n",
       "       'genre_rosamerica_prob', 'genre_tzanetakis_value',\n",
       "       'genre_tzanetakis_prob', 'ismir04_rhythm_value', 'ismir04_rhythm_prob',\n",
       "       'mood_acoustic_value', 'mood_acoustic_prob', 'mood_aggressive_value',\n",
       "       'mood_aggressive_prob', 'mood_electronic_value', 'mood_electronic_prob',\n",
       "       'mood_happy_value', 'mood_happy_prob', 'mood_party_value',\n",
       "       'mood_party_prob', 'mood_relaxed_value', 'mood_relaxed_prob',\n",
       "       'mood_sad_value', 'mood_sad_prob', 'moods_mirex_value',\n",
       "       'moods_mirex_prob', 'timbre_value', 'timbre_prob', 'tonal_atonal_value',\n",
       "       'tonal_atonal_prob', 'voice_instrumental_value',\n",
       "       'voice_instrumental_prob'],\n",
       "      dtype='object')"
      ]
     },
     "execution_count": 6,
     "metadata": {},
     "output_type": "execute_result"
    }
   ],
   "source": [
    "df.columns"
   ]
  },
  {
   "cell_type": "code",
   "execution_count": 9,
   "metadata": {},
   "outputs": [],
   "source": [
    "df.drop(df.columns[10:], axis=1, inplace=True)"
   ]
  },
  {
   "cell_type": "code",
   "execution_count": 10,
   "metadata": {},
   "outputs": [
    {
     "data": {
      "text/plain": [
       "Index(['Unnamed: 0', 'source', 'user_id', 'track_name', 'artist_name', 'mbids',\n",
       "       'playlist_id', 'tags', 'playlist_name', 'date'],\n",
       "      dtype='object')"
      ]
     },
     "execution_count": 10,
     "metadata": {},
     "output_type": "execute_result"
    }
   ],
   "source": [
    "df.columns"
   ]
  },
  {
   "cell_type": "code",
   "execution_count": 11,
   "metadata": {},
   "outputs": [],
   "source": [
    "df.drop([\"mbids\"], axis=1, inplace=True)"
   ]
  },
  {
   "cell_type": "code",
   "execution_count": 13,
   "metadata": {},
   "outputs": [],
   "source": [
    "df.rename({\"Unnamed: 0\": \"number\"}, axis=1, inplace=True)"
   ]
  },
  {
   "cell_type": "code",
   "execution_count": 39,
   "metadata": {},
   "outputs": [],
   "source": [
    "df.drop([\"date\"], axis=1, inplace=True)"
   ]
  },
  {
   "cell_type": "code",
   "execution_count": 40,
   "metadata": {},
   "outputs": [
    {
     "data": {
      "text/html": [
       "<div>\n",
       "<style scoped>\n",
       "    .dataframe tbody tr th:only-of-type {\n",
       "        vertical-align: middle;\n",
       "    }\n",
       "\n",
       "    .dataframe tbody tr th {\n",
       "        vertical-align: top;\n",
       "    }\n",
       "\n",
       "    .dataframe thead th {\n",
       "        text-align: right;\n",
       "    }\n",
       "</style>\n",
       "<table border=\"1\" class=\"dataframe\">\n",
       "  <thead>\n",
       "    <tr style=\"text-align: right;\">\n",
       "      <th></th>\n",
       "      <th>number</th>\n",
       "      <th>source</th>\n",
       "      <th>user_id</th>\n",
       "      <th>track_name</th>\n",
       "      <th>artist_name</th>\n",
       "      <th>playlist_id</th>\n",
       "      <th>tags</th>\n",
       "      <th>playlist_name</th>\n",
       "    </tr>\n",
       "  </thead>\n",
       "  <tbody>\n",
       "    <tr>\n",
       "      <td>0</td>\n",
       "      <td>1</td>\n",
       "      <td>vagalume</td>\n",
       "      <td>sitevagalume</td>\n",
       "      <td>Eraser</td>\n",
       "      <td>Ed Sheeran</td>\n",
       "      <td>6736120</td>\n",
       "      <td>Pop,Rock,Pop/Rock</td>\n",
       "      <td>Ed Sheeran - Divide</td>\n",
       "    </tr>\n",
       "    <tr>\n",
       "      <td>1</td>\n",
       "      <td>2</td>\n",
       "      <td>vagalume</td>\n",
       "      <td>sitevagalume</td>\n",
       "      <td>Castle On The Hill</td>\n",
       "      <td>Ed Sheeran</td>\n",
       "      <td>6736120</td>\n",
       "      <td>Pop,Rock,Pop/Rock</td>\n",
       "      <td>Ed Sheeran - Divide</td>\n",
       "    </tr>\n",
       "    <tr>\n",
       "      <td>2</td>\n",
       "      <td>3</td>\n",
       "      <td>vagalume</td>\n",
       "      <td>sitevagalume</td>\n",
       "      <td>Dive</td>\n",
       "      <td>Ed Sheeran</td>\n",
       "      <td>6736120</td>\n",
       "      <td>Pop,Rock,Pop/Rock</td>\n",
       "      <td>Ed Sheeran - Divide</td>\n",
       "    </tr>\n",
       "    <tr>\n",
       "      <td>3</td>\n",
       "      <td>4</td>\n",
       "      <td>vagalume</td>\n",
       "      <td>sitevagalume</td>\n",
       "      <td>Shape Of You</td>\n",
       "      <td>Ed Sheeran</td>\n",
       "      <td>6736120</td>\n",
       "      <td>Pop,Rock,Pop/Rock</td>\n",
       "      <td>Ed Sheeran - Divide</td>\n",
       "    </tr>\n",
       "    <tr>\n",
       "      <td>4</td>\n",
       "      <td>5</td>\n",
       "      <td>vagalume</td>\n",
       "      <td>sitevagalume</td>\n",
       "      <td>Perfect</td>\n",
       "      <td>Ed Sheeran</td>\n",
       "      <td>6736120</td>\n",
       "      <td>Pop,Rock,Pop/Rock</td>\n",
       "      <td>Ed Sheeran - Divide</td>\n",
       "    </tr>\n",
       "  </tbody>\n",
       "</table>\n",
       "</div>"
      ],
      "text/plain": [
       "   number    source       user_id          track_name artist_name playlist_id  \\\n",
       "0       1  vagalume  sitevagalume              Eraser  Ed Sheeran     6736120   \n",
       "1       2  vagalume  sitevagalume  Castle On The Hill  Ed Sheeran     6736120   \n",
       "2       3  vagalume  sitevagalume                Dive  Ed Sheeran     6736120   \n",
       "3       4  vagalume  sitevagalume        Shape Of You  Ed Sheeran     6736120   \n",
       "4       5  vagalume  sitevagalume             Perfect  Ed Sheeran     6736120   \n",
       "\n",
       "                tags        playlist_name  \n",
       "0  Pop,Rock,Pop/Rock  Ed Sheeran - Divide  \n",
       "1  Pop,Rock,Pop/Rock  Ed Sheeran - Divide  \n",
       "2  Pop,Rock,Pop/Rock  Ed Sheeran - Divide  \n",
       "3  Pop,Rock,Pop/Rock  Ed Sheeran - Divide  \n",
       "4  Pop,Rock,Pop/Rock  Ed Sheeran - Divide  "
      ]
     },
     "execution_count": 40,
     "metadata": {},
     "output_type": "execute_result"
    }
   ],
   "source": [
    "df.head()"
   ]
  },
  {
   "cell_type": "code",
   "execution_count": 41,
   "metadata": {},
   "outputs": [
    {
     "data": {
      "text/plain": [
       "1993607"
      ]
     },
     "execution_count": 41,
     "metadata": {},
     "output_type": "execute_result"
    }
   ],
   "source": [
    "len(df)"
   ]
  },
  {
   "cell_type": "code",
   "execution_count": 46,
   "metadata": {},
   "outputs": [
    {
     "name": "stdout",
     "output_type": "stream",
     "text": [
      "int64\n",
      "object\n",
      "object\n",
      "object\n",
      "object\n",
      "object\n",
      "object\n",
      "object\n"
     ]
    }
   ],
   "source": [
    "for col in df.columns:\n",
    "    print(df[col].dtype)"
   ]
  },
  {
   "cell_type": "code",
   "execution_count": 48,
   "metadata": {},
   "outputs": [],
   "source": [
    "for col in df.columns[1:]:\n",
    "    df[col] = df[col].astype(str)"
   ]
  },
  {
   "cell_type": "code",
   "execution_count": 49,
   "metadata": {},
   "outputs": [
    {
     "data": {
      "text/html": [
       "<div>\n",
       "<style scoped>\n",
       "    .dataframe tbody tr th:only-of-type {\n",
       "        vertical-align: middle;\n",
       "    }\n",
       "\n",
       "    .dataframe tbody tr th {\n",
       "        vertical-align: top;\n",
       "    }\n",
       "\n",
       "    .dataframe thead th {\n",
       "        text-align: right;\n",
       "    }\n",
       "</style>\n",
       "<table border=\"1\" class=\"dataframe\">\n",
       "  <thead>\n",
       "    <tr style=\"text-align: right;\">\n",
       "      <th></th>\n",
       "      <th>number</th>\n",
       "      <th>source</th>\n",
       "      <th>user_id</th>\n",
       "      <th>track_name</th>\n",
       "      <th>artist_name</th>\n",
       "      <th>playlist_id</th>\n",
       "      <th>tags</th>\n",
       "      <th>playlist_name</th>\n",
       "    </tr>\n",
       "  </thead>\n",
       "  <tbody>\n",
       "    <tr>\n",
       "      <td>0</td>\n",
       "      <td>1</td>\n",
       "      <td>vagalume</td>\n",
       "      <td>sitevagalume</td>\n",
       "      <td>Eraser</td>\n",
       "      <td>Ed Sheeran</td>\n",
       "      <td>6736120</td>\n",
       "      <td>Pop,Rock,Pop/Rock</td>\n",
       "      <td>Ed Sheeran - Divide</td>\n",
       "    </tr>\n",
       "    <tr>\n",
       "      <td>1</td>\n",
       "      <td>2</td>\n",
       "      <td>vagalume</td>\n",
       "      <td>sitevagalume</td>\n",
       "      <td>Castle On The Hill</td>\n",
       "      <td>Ed Sheeran</td>\n",
       "      <td>6736120</td>\n",
       "      <td>Pop,Rock,Pop/Rock</td>\n",
       "      <td>Ed Sheeran - Divide</td>\n",
       "    </tr>\n",
       "    <tr>\n",
       "      <td>2</td>\n",
       "      <td>3</td>\n",
       "      <td>vagalume</td>\n",
       "      <td>sitevagalume</td>\n",
       "      <td>Dive</td>\n",
       "      <td>Ed Sheeran</td>\n",
       "      <td>6736120</td>\n",
       "      <td>Pop,Rock,Pop/Rock</td>\n",
       "      <td>Ed Sheeran - Divide</td>\n",
       "    </tr>\n",
       "    <tr>\n",
       "      <td>3</td>\n",
       "      <td>4</td>\n",
       "      <td>vagalume</td>\n",
       "      <td>sitevagalume</td>\n",
       "      <td>Shape Of You</td>\n",
       "      <td>Ed Sheeran</td>\n",
       "      <td>6736120</td>\n",
       "      <td>Pop,Rock,Pop/Rock</td>\n",
       "      <td>Ed Sheeran - Divide</td>\n",
       "    </tr>\n",
       "    <tr>\n",
       "      <td>4</td>\n",
       "      <td>5</td>\n",
       "      <td>vagalume</td>\n",
       "      <td>sitevagalume</td>\n",
       "      <td>Perfect</td>\n",
       "      <td>Ed Sheeran</td>\n",
       "      <td>6736120</td>\n",
       "      <td>Pop,Rock,Pop/Rock</td>\n",
       "      <td>Ed Sheeran - Divide</td>\n",
       "    </tr>\n",
       "  </tbody>\n",
       "</table>\n",
       "</div>"
      ],
      "text/plain": [
       "   number    source       user_id          track_name artist_name playlist_id  \\\n",
       "0       1  vagalume  sitevagalume              Eraser  Ed Sheeran     6736120   \n",
       "1       2  vagalume  sitevagalume  Castle On The Hill  Ed Sheeran     6736120   \n",
       "2       3  vagalume  sitevagalume                Dive  Ed Sheeran     6736120   \n",
       "3       4  vagalume  sitevagalume        Shape Of You  Ed Sheeran     6736120   \n",
       "4       5  vagalume  sitevagalume             Perfect  Ed Sheeran     6736120   \n",
       "\n",
       "                tags        playlist_name  \n",
       "0  Pop,Rock,Pop/Rock  Ed Sheeran - Divide  \n",
       "1  Pop,Rock,Pop/Rock  Ed Sheeran - Divide  \n",
       "2  Pop,Rock,Pop/Rock  Ed Sheeran - Divide  \n",
       "3  Pop,Rock,Pop/Rock  Ed Sheeran - Divide  \n",
       "4  Pop,Rock,Pop/Rock  Ed Sheeran - Divide  "
      ]
     },
     "execution_count": 49,
     "metadata": {},
     "output_type": "execute_result"
    }
   ],
   "source": [
    "df.head()"
   ]
  },
  {
   "cell_type": "code",
   "execution_count": 50,
   "metadata": {},
   "outputs": [
    {
     "data": {
      "text/plain": [
       "1993607"
      ]
     },
     "execution_count": 50,
     "metadata": {},
     "output_type": "execute_result"
    }
   ],
   "source": [
    "len(df)"
   ]
  },
  {
   "cell_type": "code",
   "execution_count": 51,
   "metadata": {},
   "outputs": [
    {
     "data": {
      "text/html": [
       "<div>\n",
       "<style scoped>\n",
       "    .dataframe tbody tr th:only-of-type {\n",
       "        vertical-align: middle;\n",
       "    }\n",
       "\n",
       "    .dataframe tbody tr th {\n",
       "        vertical-align: top;\n",
       "    }\n",
       "\n",
       "    .dataframe thead th {\n",
       "        text-align: right;\n",
       "    }\n",
       "</style>\n",
       "<table border=\"1\" class=\"dataframe\">\n",
       "  <thead>\n",
       "    <tr style=\"text-align: right;\">\n",
       "      <th></th>\n",
       "      <th>number</th>\n",
       "      <th>source</th>\n",
       "      <th>user_id</th>\n",
       "      <th>track_name</th>\n",
       "      <th>artist_name</th>\n",
       "      <th>playlist_id</th>\n",
       "      <th>tags</th>\n",
       "      <th>playlist_name</th>\n",
       "    </tr>\n",
       "  </thead>\n",
       "  <tbody>\n",
       "    <tr>\n",
       "      <td>1993602</td>\n",
       "      <td>1993603</td>\n",
       "      <td>aotm</td>\n",
       "      <td>DJ Palindrome</td>\n",
       "      <td>For Martha</td>\n",
       "      <td>The Smashing Pumpkins</td>\n",
       "      <td>19786</td>\n",
       "      <td>Rock/Pop</td>\n",
       "      <td>Playlist 32736</td>\n",
       "    </tr>\n",
       "    <tr>\n",
       "      <td>1993603</td>\n",
       "      <td>1993604</td>\n",
       "      <td>aotm</td>\n",
       "      <td>DJ Palindrome</td>\n",
       "      <td>Movin' On</td>\n",
       "      <td>Blur</td>\n",
       "      <td>19786</td>\n",
       "      <td>Rock/Pop</td>\n",
       "      <td>Playlist 32736</td>\n",
       "    </tr>\n",
       "    <tr>\n",
       "      <td>1993604</td>\n",
       "      <td>1993605</td>\n",
       "      <td>aotm</td>\n",
       "      <td>DJ Palindrome</td>\n",
       "      <td>Sliver</td>\n",
       "      <td>Nirvana</td>\n",
       "      <td>19786</td>\n",
       "      <td>Rock/Pop</td>\n",
       "      <td>Playlist 32736</td>\n",
       "    </tr>\n",
       "    <tr>\n",
       "      <td>1993605</td>\n",
       "      <td>1993606</td>\n",
       "      <td>aotm</td>\n",
       "      <td>DJ Palindrome</td>\n",
       "      <td>Wouldn't Mama Be Proud</td>\n",
       "      <td>Elliott Smith</td>\n",
       "      <td>19786</td>\n",
       "      <td>Rock/Pop</td>\n",
       "      <td>Playlist 32736</td>\n",
       "    </tr>\n",
       "    <tr>\n",
       "      <td>1993606</td>\n",
       "      <td>1993607</td>\n",
       "      <td>aotm</td>\n",
       "      <td>DJ Palindrome</td>\n",
       "      <td>Peace on Earth</td>\n",
       "      <td>U2</td>\n",
       "      <td>19786</td>\n",
       "      <td>Rock/Pop</td>\n",
       "      <td>Playlist 32736</td>\n",
       "    </tr>\n",
       "  </tbody>\n",
       "</table>\n",
       "</div>"
      ],
      "text/plain": [
       "          number source        user_id              track_name  \\\n",
       "1993602  1993603   aotm  DJ Palindrome              For Martha   \n",
       "1993603  1993604   aotm  DJ Palindrome               Movin' On   \n",
       "1993604  1993605   aotm  DJ Palindrome                  Sliver   \n",
       "1993605  1993606   aotm  DJ Palindrome  Wouldn't Mama Be Proud   \n",
       "1993606  1993607   aotm  DJ Palindrome          Peace on Earth   \n",
       "\n",
       "                   artist_name playlist_id      tags   playlist_name  \n",
       "1993602  The Smashing Pumpkins       19786  Rock/Pop  Playlist 32736  \n",
       "1993603                   Blur       19786  Rock/Pop  Playlist 32736  \n",
       "1993604                Nirvana       19786  Rock/Pop  Playlist 32736  \n",
       "1993605          Elliott Smith       19786  Rock/Pop  Playlist 32736  \n",
       "1993606                     U2       19786  Rock/Pop  Playlist 32736  "
      ]
     },
     "execution_count": 51,
     "metadata": {},
     "output_type": "execute_result"
    }
   ],
   "source": [
    "df.tail()"
   ]
  },
  {
   "cell_type": "code",
   "execution_count": 52,
   "metadata": {},
   "outputs": [],
   "source": [
    "df.to_csv(\"original_data.csv\")"
   ]
  },
  {
   "cell_type": "code",
   "execution_count": 55,
   "metadata": {},
   "outputs": [
    {
     "data": {
      "text/plain": [
       "1.0"
      ]
     },
     "execution_count": 55,
     "metadata": {},
     "output_type": "execute_result"
    }
   ],
   "source": [
    "len(df.artist_name.dropna())/len(df.artist_name)"
   ]
  },
  {
   "cell_type": "code",
   "execution_count": null,
   "metadata": {},
   "outputs": [],
   "source": []
  }
 ],
 "metadata": {
  "kernelspec": {
   "display_name": "Python 3",
   "language": "python",
   "name": "python3"
  },
  "language_info": {
   "codemirror_mode": {
    "name": "ipython",
    "version": 3
   },
   "file_extension": ".py",
   "mimetype": "text/x-python",
   "name": "python",
   "nbconvert_exporter": "python",
   "pygments_lexer": "ipython3",
   "version": "3.7.4"
  }
 },
 "nbformat": 4,
 "nbformat_minor": 2
}
