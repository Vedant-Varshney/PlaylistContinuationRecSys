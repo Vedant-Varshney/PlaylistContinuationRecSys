{
 "cells": [
  {
   "cell_type": "markdown",
   "metadata": {},
   "source": [
    "# LSTM Model"
   ]
  },
  {
   "cell_type": "code",
   "execution_count": 1,
   "metadata": {},
   "outputs": [],
   "source": [
    "import pandas as pd\n",
    "import matplotlib.pyplot as plt\n",
    "import numpy as np\n",
    "import scipy as sp\n",
    "\n",
    "import implicit\n",
    "from tqdm.notebook import tqdm, trange\n",
    "\n",
    "from sklearn.model_selection import train_test_split\n",
    "\n",
    "import sys\n",
    "sys.path.append(\"..\")\n",
    "\n",
    "from collections import defaultdict\n",
    "from importlib import reload\n",
    "\n",
    "import pickle\n",
    "\n",
    "from joblib import delayed, Parallel\n",
    "\n",
    "import seaborn as sns\n",
    "sns.set()\n",
    "\n",
    "import tensorflow as tf\n",
    "from tensorflow import keras\n",
    "\n",
    "from tensorflow.keras.models import Sequential\n",
    "from tensorflow.keras.layers import Dense, LSTM, Embedding\n",
    "from tensorflow.keras.optimizers import RMSprop\n",
    "from tensorflow.keras.callbacks import EarlyStopping\n",
    "from tensorflow.keras.backend import square, mean, log, dot, flatten, clear_session\n",
    "from sklearn.preprocessing import MinMaxScaler\n",
    "from sklearn.metrics import mean_squared_error"
   ]
  },
  {
   "cell_type": "code",
   "execution_count": 2,
   "metadata": {},
   "outputs": [],
   "source": [
    "import df_utils\n",
    "import mf_utils\n",
    "import rnn_utils"
   ]
  },
  {
   "cell_type": "code",
   "execution_count": 3,
   "metadata": {},
   "outputs": [
    {
     "name": "stderr",
     "output_type": "stream",
     "text": [
      "/Users/vedantvarshney/opt/anaconda3/lib/python3.7/site-packages/IPython/core/interactiveshell.py:3058: DtypeWarning: Columns (2) have mixed types. Specify dtype option on import or set low_memory=False.\n",
      "  interactivity=interactivity, compiler=compiler, result=result)\n"
     ]
    }
   ],
   "source": [
    "df = pd.read_csv(\"cleaned_data_0.2.csv\", index_col=[0])\n",
    "\n",
    "# songs_df = pd.read_csv(\"songs_DF.csv\", index_col=[0])\n",
    "\n",
    "train_df = pd.read_csv(\"Train_DF.csv\", index_col=[0])\n",
    "test_df = pd.read_csv(\"Test_DF.csv\", index_col=[0])\n",
    "\n",
    "# split_train_df = pd.read_csv(\"Split_Train_DF.csv\", index_col=[0])\n",
    "excl = pickle.load(open(\"Excluded_Songs_Series.p\", \"rb\"))\n",
    "\n",
    "# CANNOT use songs_df here as order is different\n",
    "indx_to_song = mf_utils.indx_mapping(df.spotify_id.unique())\n",
    "\n",
    "# CHANGE FROM EARLIER NOTEBOOKS - now using train_df and not split_train_df\n",
    "indx_to_playlist = mf_utils.indx_mapping(train_df.playlist_id.unique())\n",
    "\n",
    "song_to_indx = mf_utils.indx_mapping(df.spotify_id.unique(), indx_to_item=False)\n",
    "playlist_to_indx = mf_utils.indx_mapping(train_df.playlist_id.unique(), indx_to_item=False)"
   ]
  },
  {
   "cell_type": "code",
   "execution_count": 4,
   "metadata": {},
   "outputs": [
    {
     "name": "stderr",
     "output_type": "stream",
     "text": [
      "WARNING:root:Intel MKL BLAS detected. Its highly recommend to set the environment variable 'export MKL_NUM_THREADS=1' to disable its internal multithreading\n"
     ]
    },
    {
     "data": {
      "application/vnd.jupyter.widget-view+json": {
       "model_id": "54aa5b994f164ccabc7e9f34aab1f327",
       "version_major": 2,
       "version_minor": 0
      },
      "text/plain": [
       "HBox(children=(IntProgress(value=0, max=15), HTML(value='')))"
      ]
     },
     "metadata": {},
     "output_type": "display_data"
    },
    {
     "name": "stdout",
     "output_type": "stream",
     "text": [
      "\n"
     ]
    }
   ],
   "source": [
    "train_ratings_matrix = mf_utils.df_to_sparse(train_df, all_songs=df.spotify_id.unique())\n",
    "\n",
    "# Number of latent factors now 300\n",
    "wrmf_model = implicit.als.AlternatingLeastSquares(factors=300)\n",
    "\n",
    "# items_users matrix in this case is the songs_playlist matrix\n",
    "wrmf_model.fit(train_ratings_matrix)"
   ]
  },
  {
   "cell_type": "code",
   "execution_count": 5,
   "metadata": {},
   "outputs": [
    {
     "data": {
      "text/plain": [
       "(10531, 300)"
      ]
     },
     "execution_count": 5,
     "metadata": {},
     "output_type": "execute_result"
    }
   ],
   "source": [
    "wrmf_model.user_factors.shape"
   ]
  },
  {
   "cell_type": "code",
   "execution_count": 6,
   "metadata": {},
   "outputs": [
    {
     "data": {
      "text/plain": [
       "(105152, 300)"
      ]
     },
     "execution_count": 6,
     "metadata": {},
     "output_type": "execute_result"
    }
   ],
   "source": [
    "wrmf_model.item_factors.shape"
   ]
  },
  {
   "cell_type": "code",
   "execution_count": 7,
   "metadata": {},
   "outputs": [
    {
     "data": {
      "text/plain": [
       "0"
      ]
     },
     "execution_count": 7,
     "metadata": {},
     "output_type": "execute_result"
    }
   ],
   "source": [
    "playlist_to_indx[6736120]"
   ]
  },
  {
   "cell_type": "code",
   "execution_count": 255,
   "metadata": {},
   "outputs": [
    {
     "data": {
      "text/html": [
       "<div>\n",
       "<style scoped>\n",
       "    .dataframe tbody tr th:only-of-type {\n",
       "        vertical-align: middle;\n",
       "    }\n",
       "\n",
       "    .dataframe tbody tr th {\n",
       "        vertical-align: top;\n",
       "    }\n",
       "\n",
       "    .dataframe thead th {\n",
       "        text-align: right;\n",
       "    }\n",
       "</style>\n",
       "<table border=\"1\" class=\"dataframe\">\n",
       "  <thead>\n",
       "    <tr style=\"text-align: right;\">\n",
       "      <th></th>\n",
       "      <th>source</th>\n",
       "      <th>user_id</th>\n",
       "      <th>track_name</th>\n",
       "      <th>artist_name</th>\n",
       "      <th>playlist_id</th>\n",
       "      <th>tags</th>\n",
       "      <th>playlist_name</th>\n",
       "      <th>spotify_id</th>\n",
       "      <th>album</th>\n",
       "      <th>popularity</th>\n",
       "      <th>danceability</th>\n",
       "      <th>energy</th>\n",
       "      <th>loudness</th>\n",
       "      <th>speechiness</th>\n",
       "      <th>acousticness</th>\n",
       "      <th>instrumentalness</th>\n",
       "      <th>liveness</th>\n",
       "      <th>valence</th>\n",
       "      <th>tempo</th>\n",
       "    </tr>\n",
       "  </thead>\n",
       "  <tbody>\n",
       "    <tr>\n",
       "      <td>0</td>\n",
       "      <td>vagalume</td>\n",
       "      <td>sitevagalume</td>\n",
       "      <td>Eraser</td>\n",
       "      <td>Ed Sheeran</td>\n",
       "      <td>6736120</td>\n",
       "      <td>pop,pop/rock,rock</td>\n",
       "      <td>Ed Sheeran - Divide</td>\n",
       "      <td>7oolFzHipTMg2nL7shhdz2</td>\n",
       "      <td>÷ (Deluxe)</td>\n",
       "      <td>64.0</td>\n",
       "      <td>0.640</td>\n",
       "      <td>0.812</td>\n",
       "      <td>-5.647</td>\n",
       "      <td>0.0834</td>\n",
       "      <td>0.0860</td>\n",
       "      <td>0.000000</td>\n",
       "      <td>0.0509</td>\n",
       "      <td>0.914</td>\n",
       "      <td>86.013</td>\n",
       "    </tr>\n",
       "    <tr>\n",
       "      <td>1</td>\n",
       "      <td>vagalume</td>\n",
       "      <td>sitevagalume</td>\n",
       "      <td>Castle On The Hill</td>\n",
       "      <td>Ed Sheeran</td>\n",
       "      <td>6736120</td>\n",
       "      <td>pop,pop/rock,rock</td>\n",
       "      <td>Ed Sheeran - Divide</td>\n",
       "      <td>6PCUP3dWmTjcTtXY02oFdT</td>\n",
       "      <td>÷ (Deluxe)</td>\n",
       "      <td>78.0</td>\n",
       "      <td>0.461</td>\n",
       "      <td>0.834</td>\n",
       "      <td>-4.868</td>\n",
       "      <td>0.0989</td>\n",
       "      <td>0.0232</td>\n",
       "      <td>0.000011</td>\n",
       "      <td>0.1400</td>\n",
       "      <td>0.471</td>\n",
       "      <td>135.007</td>\n",
       "    </tr>\n",
       "    <tr>\n",
       "      <td>2</td>\n",
       "      <td>vagalume</td>\n",
       "      <td>sitevagalume</td>\n",
       "      <td>Dive</td>\n",
       "      <td>Ed Sheeran</td>\n",
       "      <td>6736120</td>\n",
       "      <td>pop,pop/rock,rock</td>\n",
       "      <td>Ed Sheeran - Divide</td>\n",
       "      <td>51ChrwmUPDJvedPQnIU8Ls</td>\n",
       "      <td>÷ (Deluxe)</td>\n",
       "      <td>75.0</td>\n",
       "      <td>0.761</td>\n",
       "      <td>0.386</td>\n",
       "      <td>-6.158</td>\n",
       "      <td>0.0399</td>\n",
       "      <td>0.3550</td>\n",
       "      <td>0.000000</td>\n",
       "      <td>0.0953</td>\n",
       "      <td>0.526</td>\n",
       "      <td>134.943</td>\n",
       "    </tr>\n",
       "    <tr>\n",
       "      <td>3</td>\n",
       "      <td>vagalume</td>\n",
       "      <td>sitevagalume</td>\n",
       "      <td>Shape Of You</td>\n",
       "      <td>Ed Sheeran</td>\n",
       "      <td>6736120</td>\n",
       "      <td>pop,pop/rock,rock</td>\n",
       "      <td>Ed Sheeran - Divide</td>\n",
       "      <td>7qiZfU4dY1lWllzX7mPBI3</td>\n",
       "      <td>÷ (Deluxe)</td>\n",
       "      <td>85.0</td>\n",
       "      <td>0.825</td>\n",
       "      <td>0.652</td>\n",
       "      <td>-3.183</td>\n",
       "      <td>0.0802</td>\n",
       "      <td>0.5810</td>\n",
       "      <td>0.000000</td>\n",
       "      <td>0.0931</td>\n",
       "      <td>0.931</td>\n",
       "      <td>95.977</td>\n",
       "    </tr>\n",
       "    <tr>\n",
       "      <td>4</td>\n",
       "      <td>vagalume</td>\n",
       "      <td>sitevagalume</td>\n",
       "      <td>Perfect</td>\n",
       "      <td>Ed Sheeran</td>\n",
       "      <td>6736120</td>\n",
       "      <td>pop,pop/rock,rock</td>\n",
       "      <td>Ed Sheeran - Divide</td>\n",
       "      <td>0tgVpDi06FyKpA1z0VMD4v</td>\n",
       "      <td>÷ (Deluxe)</td>\n",
       "      <td>86.0</td>\n",
       "      <td>0.599</td>\n",
       "      <td>0.448</td>\n",
       "      <td>-6.312</td>\n",
       "      <td>0.0232</td>\n",
       "      <td>0.1630</td>\n",
       "      <td>0.000000</td>\n",
       "      <td>0.1060</td>\n",
       "      <td>0.168</td>\n",
       "      <td>95.050</td>\n",
       "    </tr>\n",
       "  </tbody>\n",
       "</table>\n",
       "</div>"
      ],
      "text/plain": [
       "     source       user_id          track_name artist_name  playlist_id  \\\n",
       "0  vagalume  sitevagalume              Eraser  Ed Sheeran      6736120   \n",
       "1  vagalume  sitevagalume  Castle On The Hill  Ed Sheeran      6736120   \n",
       "2  vagalume  sitevagalume                Dive  Ed Sheeran      6736120   \n",
       "3  vagalume  sitevagalume        Shape Of You  Ed Sheeran      6736120   \n",
       "4  vagalume  sitevagalume             Perfect  Ed Sheeran      6736120   \n",
       "\n",
       "                tags        playlist_name              spotify_id       album  \\\n",
       "0  pop,pop/rock,rock  Ed Sheeran - Divide  7oolFzHipTMg2nL7shhdz2  ÷ (Deluxe)   \n",
       "1  pop,pop/rock,rock  Ed Sheeran - Divide  6PCUP3dWmTjcTtXY02oFdT  ÷ (Deluxe)   \n",
       "2  pop,pop/rock,rock  Ed Sheeran - Divide  51ChrwmUPDJvedPQnIU8Ls  ÷ (Deluxe)   \n",
       "3  pop,pop/rock,rock  Ed Sheeran - Divide  7qiZfU4dY1lWllzX7mPBI3  ÷ (Deluxe)   \n",
       "4  pop,pop/rock,rock  Ed Sheeran - Divide  0tgVpDi06FyKpA1z0VMD4v  ÷ (Deluxe)   \n",
       "\n",
       "   popularity  danceability  energy  loudness  speechiness  acousticness  \\\n",
       "0        64.0         0.640   0.812    -5.647       0.0834        0.0860   \n",
       "1        78.0         0.461   0.834    -4.868       0.0989        0.0232   \n",
       "2        75.0         0.761   0.386    -6.158       0.0399        0.3550   \n",
       "3        85.0         0.825   0.652    -3.183       0.0802        0.5810   \n",
       "4        86.0         0.599   0.448    -6.312       0.0232        0.1630   \n",
       "\n",
       "   instrumentalness  liveness  valence    tempo  \n",
       "0          0.000000    0.0509    0.914   86.013  \n",
       "1          0.000011    0.1400    0.471  135.007  \n",
       "2          0.000000    0.0953    0.526  134.943  \n",
       "3          0.000000    0.0931    0.931   95.977  \n",
       "4          0.000000    0.1060    0.168   95.050  "
      ]
     },
     "execution_count": 255,
     "metadata": {},
     "output_type": "execute_result"
    }
   ],
   "source": [
    "train_df.head()"
   ]
  },
  {
   "cell_type": "code",
   "execution_count": 254,
   "metadata": {},
   "outputs": [
    {
     "data": {
      "text/html": [
       "<div>\n",
       "<style scoped>\n",
       "    .dataframe tbody tr th:only-of-type {\n",
       "        vertical-align: middle;\n",
       "    }\n",
       "\n",
       "    .dataframe tbody tr th {\n",
       "        vertical-align: top;\n",
       "    }\n",
       "\n",
       "    .dataframe thead th {\n",
       "        text-align: right;\n",
       "    }\n",
       "</style>\n",
       "<table border=\"1\" class=\"dataframe\">\n",
       "  <thead>\n",
       "    <tr style=\"text-align: right;\">\n",
       "      <th></th>\n",
       "      <th>source</th>\n",
       "      <th>user_id</th>\n",
       "      <th>track_name</th>\n",
       "      <th>artist_name</th>\n",
       "      <th>playlist_id</th>\n",
       "      <th>tags</th>\n",
       "      <th>playlist_name</th>\n",
       "      <th>spotify_id</th>\n",
       "      <th>album</th>\n",
       "      <th>popularity</th>\n",
       "      <th>danceability</th>\n",
       "      <th>energy</th>\n",
       "      <th>loudness</th>\n",
       "      <th>speechiness</th>\n",
       "      <th>acousticness</th>\n",
       "      <th>instrumentalness</th>\n",
       "      <th>liveness</th>\n",
       "      <th>valence</th>\n",
       "      <th>tempo</th>\n",
       "    </tr>\n",
       "  </thead>\n",
       "  <tbody>\n",
       "    <tr>\n",
       "      <td>6</td>\n",
       "      <td>vagalume</td>\n",
       "      <td>sitevagalume</td>\n",
       "      <td>Happier</td>\n",
       "      <td>Ed Sheeran</td>\n",
       "      <td>6736120</td>\n",
       "      <td>pop,pop/rock,rock</td>\n",
       "      <td>Ed Sheeran - Divide</td>\n",
       "      <td>2RttW7RAu5nOAfq6YFvApB</td>\n",
       "      <td>÷ (Deluxe)</td>\n",
       "      <td>81.0</td>\n",
       "      <td>0.522</td>\n",
       "      <td>0.385</td>\n",
       "      <td>-7.355</td>\n",
       "      <td>0.0288</td>\n",
       "      <td>0.53600</td>\n",
       "      <td>0.000000</td>\n",
       "      <td>0.1350</td>\n",
       "      <td>0.236</td>\n",
       "      <td>89.792</td>\n",
       "    </tr>\n",
       "    <tr>\n",
       "      <td>9</td>\n",
       "      <td>vagalume</td>\n",
       "      <td>sitevagalume</td>\n",
       "      <td>How Would You Feel (Paean)</td>\n",
       "      <td>Ed Sheeran</td>\n",
       "      <td>6736120</td>\n",
       "      <td>pop,pop/rock,rock</td>\n",
       "      <td>Ed Sheeran - Divide</td>\n",
       "      <td>6PJ8FF6UR8FZXfEvpHkIVN</td>\n",
       "      <td>÷ (Deluxe)</td>\n",
       "      <td>69.0</td>\n",
       "      <td>0.617</td>\n",
       "      <td>0.439</td>\n",
       "      <td>-5.630</td>\n",
       "      <td>0.0269</td>\n",
       "      <td>0.42400</td>\n",
       "      <td>0.000000</td>\n",
       "      <td>0.1270</td>\n",
       "      <td>0.242</td>\n",
       "      <td>139.979</td>\n",
       "    </tr>\n",
       "    <tr>\n",
       "      <td>17</td>\n",
       "      <td>vagalume</td>\n",
       "      <td>sitevagalume</td>\n",
       "      <td>Hotline Bling</td>\n",
       "      <td>Drake</td>\n",
       "      <td>6123235</td>\n",
       "      <td>pop,pop/rock,rock</td>\n",
       "      <td>Fugir do Carnaval Pop 2016</td>\n",
       "      <td>0wwPcA6wtMf6HUMpIRdeP7</td>\n",
       "      <td>Views</td>\n",
       "      <td>77.0</td>\n",
       "      <td>0.891</td>\n",
       "      <td>0.625</td>\n",
       "      <td>-7.861</td>\n",
       "      <td>0.0558</td>\n",
       "      <td>0.00261</td>\n",
       "      <td>0.000176</td>\n",
       "      <td>0.0504</td>\n",
       "      <td>0.548</td>\n",
       "      <td>134.967</td>\n",
       "    </tr>\n",
       "    <tr>\n",
       "      <td>31</td>\n",
       "      <td>vagalume</td>\n",
       "      <td>sitevagalume</td>\n",
       "      <td>Freedom</td>\n",
       "      <td>Pitbull</td>\n",
       "      <td>6123235</td>\n",
       "      <td>pop,pop/rock,rock</td>\n",
       "      <td>Fugir do Carnaval Pop 2016</td>\n",
       "      <td>1StLlgkTm6s0LGRyAap9SP</td>\n",
       "      <td>Climate Change</td>\n",
       "      <td>50.0</td>\n",
       "      <td>0.701</td>\n",
       "      <td>0.931</td>\n",
       "      <td>-4.954</td>\n",
       "      <td>0.1190</td>\n",
       "      <td>0.09490</td>\n",
       "      <td>0.000000</td>\n",
       "      <td>0.1260</td>\n",
       "      <td>0.803</td>\n",
       "      <td>118.034</td>\n",
       "    </tr>\n",
       "    <tr>\n",
       "      <td>44</td>\n",
       "      <td>vagalume</td>\n",
       "      <td>sitevagalume</td>\n",
       "      <td>Bang My Head (Feat. Sia, Fetty Wap (Remix)</td>\n",
       "      <td>David Guetta</td>\n",
       "      <td>6123243</td>\n",
       "      <td>pop,pop/rock,rock</td>\n",
       "      <td>Fugir Carnaval Eletrônico 2016</td>\n",
       "      <td>440LuUlgdK3j9Uj8Q9L3Yj</td>\n",
       "      <td>Bang My Head (feat. Sia &amp; Fetty Wap)</td>\n",
       "      <td>33.0</td>\n",
       "      <td>0.733</td>\n",
       "      <td>0.675</td>\n",
       "      <td>-7.008</td>\n",
       "      <td>0.0647</td>\n",
       "      <td>0.14400</td>\n",
       "      <td>0.186000</td>\n",
       "      <td>0.1000</td>\n",
       "      <td>0.530</td>\n",
       "      <td>122.011</td>\n",
       "    </tr>\n",
       "  </tbody>\n",
       "</table>\n",
       "</div>"
      ],
      "text/plain": [
       "      source       user_id                                  track_name  \\\n",
       "6   vagalume  sitevagalume                                     Happier   \n",
       "9   vagalume  sitevagalume                  How Would You Feel (Paean)   \n",
       "17  vagalume  sitevagalume                               Hotline Bling   \n",
       "31  vagalume  sitevagalume                                     Freedom   \n",
       "44  vagalume  sitevagalume  Bang My Head (Feat. Sia, Fetty Wap (Remix)   \n",
       "\n",
       "     artist_name  playlist_id               tags  \\\n",
       "6     Ed Sheeran      6736120  pop,pop/rock,rock   \n",
       "9     Ed Sheeran      6736120  pop,pop/rock,rock   \n",
       "17         Drake      6123235  pop,pop/rock,rock   \n",
       "31       Pitbull      6123235  pop,pop/rock,rock   \n",
       "44  David Guetta      6123243  pop,pop/rock,rock   \n",
       "\n",
       "                     playlist_name              spotify_id  \\\n",
       "6              Ed Sheeran - Divide  2RttW7RAu5nOAfq6YFvApB   \n",
       "9              Ed Sheeran - Divide  6PJ8FF6UR8FZXfEvpHkIVN   \n",
       "17      Fugir do Carnaval Pop 2016  0wwPcA6wtMf6HUMpIRdeP7   \n",
       "31      Fugir do Carnaval Pop 2016  1StLlgkTm6s0LGRyAap9SP   \n",
       "44  Fugir Carnaval Eletrônico 2016  440LuUlgdK3j9Uj8Q9L3Yj   \n",
       "\n",
       "                                   album  popularity  danceability  energy  \\\n",
       "6                             ÷ (Deluxe)        81.0         0.522   0.385   \n",
       "9                             ÷ (Deluxe)        69.0         0.617   0.439   \n",
       "17                                 Views        77.0         0.891   0.625   \n",
       "31                        Climate Change        50.0         0.701   0.931   \n",
       "44  Bang My Head (feat. Sia & Fetty Wap)        33.0         0.733   0.675   \n",
       "\n",
       "    loudness  speechiness  acousticness  instrumentalness  liveness  valence  \\\n",
       "6     -7.355       0.0288       0.53600          0.000000    0.1350    0.236   \n",
       "9     -5.630       0.0269       0.42400          0.000000    0.1270    0.242   \n",
       "17    -7.861       0.0558       0.00261          0.000176    0.0504    0.548   \n",
       "31    -4.954       0.1190       0.09490          0.000000    0.1260    0.803   \n",
       "44    -7.008       0.0647       0.14400          0.186000    0.1000    0.530   \n",
       "\n",
       "      tempo  \n",
       "6    89.792  \n",
       "9   139.979  \n",
       "17  134.967  \n",
       "31  118.034  \n",
       "44  122.011  "
      ]
     },
     "execution_count": 254,
     "metadata": {},
     "output_type": "execute_result"
    }
   ],
   "source": [
    "test_df.head()"
   ]
  },
  {
   "cell_type": "code",
   "execution_count": 9,
   "metadata": {},
   "outputs": [
    {
     "name": "stdout",
     "output_type": "stream",
     "text": [
      "Number of unique songs:  105152\n"
     ]
    }
   ],
   "source": [
    "print(\"Number of unique songs: \", len(df.spotify_id.unique()))"
   ]
  },
  {
   "cell_type": "code",
   "execution_count": 10,
   "metadata": {},
   "outputs": [],
   "source": [
    "vocab_size = int(40e3)\n",
    "\n",
    "song_vocab = pd.value_counts(df.spotify_id)[:vocab_size].index.values"
   ]
  },
  {
   "cell_type": "code",
   "execution_count": 11,
   "metadata": {},
   "outputs": [
    {
     "data": {
      "text/plain": [
       "array(['4rHZZAmHpZrA3iH5zx8frV', '4v0hWD4N6qefyFrmSGLjTV',\n",
       "       '2dOTkLZFbpNXrhc24CnTFd', ..., '4hO6t8MOec8hZalXc1LiBL',\n",
       "       '5BpmwiKR6ns1EtfCQRpNUc', '6xLHcDe6NPWuvpnsiT6ywb'], dtype=object)"
      ]
     },
     "execution_count": 11,
     "metadata": {},
     "output_type": "execute_result"
    }
   ],
   "source": [
    "song_vocab"
   ]
  },
  {
   "cell_type": "code",
   "execution_count": 12,
   "metadata": {},
   "outputs": [
    {
     "data": {
      "text/plain": [
       "(40000,)"
      ]
     },
     "execution_count": 12,
     "metadata": {},
     "output_type": "execute_result"
    }
   ],
   "source": [
    "song_vocab.shape"
   ]
  },
  {
   "cell_type": "code",
   "execution_count": 13,
   "metadata": {},
   "outputs": [],
   "source": [
    "songs_series = pd.Series(df.spotify_id.unique())\n",
    "\n",
    "vocab_indxs = songs_series[songs_series.isin(song_vocab)].index.values\n",
    "\n",
    "# Reorder songs in vocab. so that they follow the *order* in df.spotify_id.unique()\n",
    "song_vocab = df.spotify_id.unique()[vocab_indxs]\n",
    "\n",
    "# New song to index dict. which now corresponds to the smaller vocabulary rather than the entire dataset\n",
    "song_to_indx_vocab = {song_vocab[i]: i for i in range(len(song_vocab))}"
   ]
  },
  {
   "cell_type": "code",
   "execution_count": 14,
   "metadata": {},
   "outputs": [
    {
     "data": {
      "application/vnd.jupyter.widget-view+json": {
       "model_id": "d02d831956da466cb2f8806ff21b76a0",
       "version_major": 2,
       "version_minor": 0
      },
      "text/plain": [
       "HBox(children=(IntProgress(value=0, max=10531), HTML(value='')))"
      ]
     },
     "metadata": {},
     "output_type": "display_data"
    },
    {
     "name": "stdout",
     "output_type": "stream",
     "text": [
      "\n"
     ]
    }
   ],
   "source": [
    "train_playlist_songs_matrix, lengths_series = rnn_utils.create_playlist_song_matrix(train_df, song_to_indx_vocab,\n",
    "                                                                                    song_vocab=song_vocab)"
   ]
  },
  {
   "cell_type": "code",
   "execution_count": 229,
   "metadata": {},
   "outputs": [
    {
     "data": {
      "application/vnd.jupyter.widget-view+json": {
       "model_id": "aa67719347034f05939ee5715ef98e76",
       "version_major": 2,
       "version_minor": 0
      },
      "text/plain": [
       "HBox(children=(IntProgress(value=0, max=7972), HTML(value='')))"
      ]
     },
     "metadata": {},
     "output_type": "display_data"
    },
    {
     "name": "stdout",
     "output_type": "stream",
     "text": [
      "\n"
     ]
    }
   ],
   "source": [
    "test_playlist_songs_matrix, test_lengths_series = rnn_utils.create_playlist_song_matrix(test_df, song_to_indx_vocab,\n",
    "                                                                                        song_vocab=song_vocab)"
   ]
  },
  {
   "cell_type": "code",
   "execution_count": 16,
   "metadata": {},
   "outputs": [
    {
     "data": {
      "text/plain": [
       "<matplotlib.axes._subplots.AxesSubplot at 0x14dcbf7d0>"
      ]
     },
     "execution_count": 16,
     "metadata": {},
     "output_type": "execute_result"
    },
    {
     "data": {
      "image/png": "[encoded data removed]",
      "text/plain": [
       "<Figure size 432x288 with 1 Axes>"
      ]
     },
     "metadata": {
      "needs_background": "light"
     },
     "output_type": "display_data"
    }
   ],
   "source": [
    "lengths_series.hist(bins=50)"
   ]
  },
  {
   "cell_type": "code",
   "execution_count": 253,
   "metadata": {},
   "outputs": [
    {
     "data": {
      "text/plain": [
       "<matplotlib.axes._subplots.AxesSubplot at 0x324e1d110>"
      ]
     },
     "execution_count": 253,
     "metadata": {},
     "output_type": "execute_result"
    },
    {
     "data": {
      "image/png": "[encoded data removed]",
      "text/plain": [
       "<Figure size 432x288 with 1 Axes>"
      ]
     },
     "metadata": {
      "needs_background": "light"
     },
     "output_type": "display_data"
    }
   ],
   "source": [
    "test_lengths_series.hist(bins=50)"
   ]
  },
  {
   "cell_type": "markdown",
   "metadata": {},
   "source": [
    "Let us check that train_playlist_songs_matrix has the shape (num_playlists, None, num_latent_factors):"
   ]
  },
  {
   "cell_type": "code",
   "execution_count": 17,
   "metadata": {},
   "outputs": [
    {
     "name": "stdout",
     "output_type": "stream",
     "text": [
      "[27 29 30 31 32 33 35 36 37 38 39]\n"
     ]
    }
   ],
   "source": [
    "print(train_playlist_songs_matrix[2])"
   ]
  },
  {
   "cell_type": "code",
   "execution_count": 18,
   "metadata": {},
   "outputs": [
    {
     "data": {
      "text/plain": [
       "(105152, 300)"
      ]
     },
     "execution_count": 18,
     "metadata": {},
     "output_type": "execute_result"
    }
   ],
   "source": [
    "wrmf_model.item_factors.shape"
   ]
  },
  {
   "cell_type": "code",
   "execution_count": 19,
   "metadata": {},
   "outputs": [],
   "source": [
    "# latent vectors for each song *IN VOCAB*\n",
    "item_factors_vocab = wrmf_model.item_factors[vocab_indxs]"
   ]
  },
  {
   "cell_type": "code",
   "execution_count": 20,
   "metadata": {},
   "outputs": [
    {
     "data": {
      "text/plain": [
       "(40000, 300)"
      ]
     },
     "execution_count": 20,
     "metadata": {},
     "output_type": "execute_result"
    }
   ],
   "source": [
    "item_factors_vocab.shape"
   ]
  },
  {
   "cell_type": "markdown",
   "metadata": {},
   "source": [
    "### TODO\n",
    "Cannot pass arguments to generators if wrapping in a TF dataset. Check if bug.\n",
    "\n",
    "Workaround - use global variables"
   ]
  },
  {
   "cell_type": "code",
   "execution_count": 207,
   "metadata": {},
   "outputs": [],
   "source": [
    "def generate_xy_sample():\n",
    "    while True:\n",
    "        for playlist in train_playlist_songs_matrix:\n",
    "            xsample, ysample = rnn_utils.prepare_sample(playlist, item_factors_vocab, vocab_size)\n",
    "            yield xsample, ysample"
   ]
  },
  {
   "cell_type": "code",
   "execution_count": 312,
   "metadata": {},
   "outputs": [],
   "source": [
    "def generate_validation_sample():\n",
    "    while True:\n",
    "        for playlist in test_playlist_songs_matrix:\n",
    "            xsample, ysample = rnn_utils.prepare_sample(playlist, item_factors_vocab, vocab_size)\n",
    "            yield xsample, ysample"
   ]
  },
  {
   "cell_type": "code",
   "execution_count": 313,
   "metadata": {},
   "outputs": [],
   "source": [
    "a, b = next(generate_xy_sample())"
   ]
  },
  {
   "cell_type": "code",
   "execution_count": 314,
   "metadata": {},
   "outputs": [
    {
     "name": "stdout",
     "output_type": "stream",
     "text": [
      "(6, 300)\n",
      "float32 \n",
      "\n",
      "(6, 40000)\n",
      "int32 \n",
      "\n"
     ]
    }
   ],
   "source": [
    "for x in next(generate_xy_sample()):\n",
    "    print(x.shape)\n",
    "    print(x.dtype, \"\\n\")"
   ]
  },
  {
   "cell_type": "code",
   "execution_count": 315,
   "metadata": {},
   "outputs": [
    {
     "data": {
      "text/plain": [
       "array([[ 0.00602189, -0.00175472,  0.00586928, ..., -0.00643963,\n",
       "        -0.00358253,  0.00539631],\n",
       "       [ 0.01440937,  0.00866992,  0.02106015, ..., -0.01529669,\n",
       "        -0.01496681,  0.00370339],\n",
       "       [ 0.02567204,  0.06783669,  0.08630717, ..., -0.02815304,\n",
       "         0.03548595, -0.0366329 ],\n",
       "       [-0.00236878,  0.01952095,  0.01547904, ..., -0.01277475,\n",
       "        -0.02320292, -0.00567305],\n",
       "       [-0.03153174,  0.22949632,  0.06107102, ..., -0.18887359,\n",
       "        -0.1346917 ,  0.05337438],\n",
       "       [ 0.01267892,  0.03493347,  0.00290621, ...,  0.00689641,\n",
       "        -0.01097857,  0.00892946]], dtype=float32)"
      ]
     },
     "execution_count": 315,
     "metadata": {},
     "output_type": "execute_result"
    }
   ],
   "source": [
    "a"
   ]
  },
  {
   "cell_type": "code",
   "execution_count": 316,
   "metadata": {},
   "outputs": [
    {
     "data": {
      "text/plain": [
       "array([[0, 1, 1, ..., 0, 0, 0],\n",
       "       [0, 0, 1, ..., 0, 0, 0],\n",
       "       [0, 0, 0, ..., 0, 0, 0],\n",
       "       [0, 0, 0, ..., 0, 0, 0],\n",
       "       [0, 0, 0, ..., 0, 0, 0],\n",
       "       [0, 0, 0, ..., 0, 0, 0]], dtype=int32)"
      ]
     },
     "execution_count": 316,
     "metadata": {},
     "output_type": "execute_result"
    }
   ],
   "source": [
    "b"
   ]
  },
  {
   "cell_type": "code",
   "execution_count": 317,
   "metadata": {},
   "outputs": [
    {
     "data": {
      "text/plain": [
       "generator"
      ]
     },
     "execution_count": 317,
     "metadata": {},
     "output_type": "execute_result"
    }
   ],
   "source": [
    "type(x for x in b)"
   ]
  },
  {
   "cell_type": "code",
   "execution_count": 318,
   "metadata": {},
   "outputs": [],
   "source": [
    "assert np.array((x == 1).any() for x in b).all()"
   ]
  },
  {
   "cell_type": "code",
   "execution_count": 319,
   "metadata": {},
   "outputs": [],
   "source": [
    "num_latent_factors = 300\n",
    "\n",
    "# IMPORTANT NOTE - set to 320 if using GPU (Google Colab.)\n",
    "# num_latent_factors = 320"
   ]
  },
  {
   "cell_type": "code",
   "execution_count": 348,
   "metadata": {},
   "outputs": [],
   "source": [
    "train_dataset = tf.data.Dataset.from_generator(generate_xy_sample,\n",
    "                                              output_types=(tf.float32, tf.int32),\n",
    "                                              output_shapes=(tf.TensorShape([None, num_latent_factors]), tf.TensorShape([None, vocab_size]))\n",
    "                                              )"
   ]
  },
  {
   "cell_type": "code",
   "execution_count": 349,
   "metadata": {},
   "outputs": [
    {
     "name": "stdout",
     "output_type": "stream",
     "text": [
      "(1, 6, 300)\n",
      "float32 \n",
      "\n",
      "(1, 6, 40000)\n",
      "int32 \n",
      "\n"
     ]
    }
   ],
   "source": [
    "for x in next(train_dataset.batch(1).as_numpy_iterator()):\n",
    "    print(x.shape)\n",
    "    print(x.dtype, \"\\n\")"
   ]
  },
  {
   "cell_type": "code",
   "execution_count": 350,
   "metadata": {},
   "outputs": [],
   "source": [
    "test_dataset = tf.data.Dataset.from_generator(generate_validation_sample,\n",
    "                                              output_types=(tf.float32, tf.int32),\n",
    "                                              output_shapes=(tf.TensorShape([None, num_latent_factors]), tf.TensorShape([None, vocab_size]))\n",
    "                                              )"
   ]
  },
  {
   "cell_type": "code",
   "execution_count": 351,
   "metadata": {},
   "outputs": [
    {
     "name": "stdout",
     "output_type": "stream",
     "text": [
      "(1, 300)\n",
      "float32 \n",
      "\n",
      "(1, 40000)\n",
      "int32 \n",
      "\n"
     ]
    }
   ],
   "source": [
    "for x in next(test_dataset.as_numpy_iterator()):\n",
    "    print(x.shape)\n",
    "    print(x.dtype, \"\\n\")"
   ]
  },
  {
   "cell_type": "code",
   "execution_count": 324,
   "metadata": {},
   "outputs": [
    {
     "data": {
      "text/plain": [
       "TensorShape([300, 40000])"
      ]
     },
     "execution_count": 324,
     "metadata": {},
     "output_type": "execute_result"
    }
   ],
   "source": [
    "item_factors_T = tf.convert_to_tensor(item_factors_vocab.T, dtype=tf.float32)\n",
    "item_factors_T.shape"
   ]
  },
  {
   "cell_type": "code",
   "execution_count": 325,
   "metadata": {},
   "outputs": [],
   "source": [
    "BATCH_SIZE = 1\n",
    "\n",
    "item_factors_T_batch = tf.tile(tf.expand_dims(item_factors_T, axis=0), multiples=[BATCH_SIZE, 1, 1])"
   ]
  },
  {
   "cell_type": "code",
   "execution_count": 326,
   "metadata": {},
   "outputs": [
    {
     "name": "stdout",
     "output_type": "stream",
     "text": [
      "(1, 300, 40000)\n",
      "<dtype: 'float32'>\n"
     ]
    }
   ],
   "source": [
    "print(item_factors_T_batch.shape)\n",
    "print(item_factors_T_batch.dtype)"
   ]
  },
  {
   "cell_type": "code",
   "execution_count": 327,
   "metadata": {},
   "outputs": [
    {
     "data": {
      "text/plain": [
       "TensorShape([1, 300, 40000])"
      ]
     },
     "execution_count": 327,
     "metadata": {},
     "output_type": "execute_result"
    }
   ],
   "source": [
    "item_factors_T_batch.shape"
   ]
  },
  {
   "cell_type": "code",
   "execution_count": 328,
   "metadata": {},
   "outputs": [
    {
     "data": {
      "text/plain": [
       "<tf.Tensor: shape=(), dtype=int32, numpy=1>"
      ]
     },
     "execution_count": 328,
     "metadata": {},
     "output_type": "execute_result"
    }
   ],
   "source": [
    "tf.shape(item_factors_T_batch)[0]"
   ]
  },
  {
   "cell_type": "code",
   "execution_count": 329,
   "metadata": {},
   "outputs": [],
   "source": [
    "epsilon = 1e-5"
   ]
  },
  {
   "cell_type": "code",
   "execution_count": 330,
   "metadata": {},
   "outputs": [],
   "source": [
    "def custom_loss(y_true, y_pred):\n",
    "    \"\"\"\n",
    "    Essentially converts a classification problem to a regression problem.\n",
    "    \"\"\"\n",
    "#  y_true - shape (batch_size, playlist_length, multihot ie vocab_size ie 40k)\n",
    "#  y_pred - shape (batch_size, playlist_length, 300)\n",
    "\n",
    "    loss = 0\n",
    "\n",
    "#     Cast to a boolean mask. Consider changing during preprocessing.\n",
    "    y_true = tf.cast(y_true, tf.bool)\n",
    "    \n",
    "#     Contains all the necessary dot products\n",
    "    composite = tf.matmul(y_pred, item_factors_T_batch)\n",
    "        \n",
    "# TODO - improve such that only have to run through mask once.\n",
    "    correct = tf.boolean_mask(composite, y_true)\n",
    "    incorrect = tf.boolean_mask(composite, ~y_true)\n",
    "    \n",
    "    tf.print(tf.math.sigmoid(correct))\n",
    "    \n",
    "    loss -= tf.math.reduce_sum(log(tf.math.sigmoid(correct) + epsilon))\n",
    "    loss -= tf.math.reduce_sum(log(1-tf.math.sigmoid(incorrect) + epsilon))\n",
    "    \n",
    "    return loss\n",
    "        "
   ]
  },
  {
   "cell_type": "code",
   "execution_count": 331,
   "metadata": {},
   "outputs": [
    {
     "name": "stdout",
     "output_type": "stream",
     "text": [
      "(1, 6, 300)\n",
      "float32\n",
      "(1, 6, 40000)\n",
      "int32\n",
      "[0.504186392 0.502449691 0.503188372 ... 0.54395479 0.501901627 0.500137568]\n",
      "tf.Tensor(167652.88, shape=(), dtype=float32)\n"
     ]
    }
   ],
   "source": [
    "# TEST - custom loss function\n",
    "\n",
    "a, b = next(train_dataset.batch(1).as_numpy_iterator())\n",
    "\n",
    "print(a.shape)\n",
    "print(a.dtype)\n",
    "\n",
    "print(b.shape)\n",
    "print(b.dtype)\n",
    "\n",
    "print(custom_loss(b, a))"
   ]
  },
  {
   "cell_type": "markdown",
   "metadata": {},
   "source": [
    "## Creating Model"
   ]
  },
  {
   "cell_type": "code",
   "execution_count": 154,
   "metadata": {},
   "outputs": [
    {
     "name": "stdout",
     "output_type": "stream",
     "text": [
      "300\n",
      "40000\n"
     ]
    }
   ],
   "source": [
    "print(num_latent_factors)\n",
    "print(vocab_size)"
   ]
  },
  {
   "cell_type": "code",
   "execution_count": 352,
   "metadata": {},
   "outputs": [],
   "source": [
    "clear_session()"
   ]
  },
  {
   "cell_type": "code",
   "execution_count": 353,
   "metadata": {},
   "outputs": [],
   "source": [
    "LSTM_L1_UNITS = 320\n",
    "LSTM_L2_UNITS = 50\n",
    "LEARNING_RATE = 1e-3\n",
    "\n",
    "model = Sequential()\n",
    "\n",
    "model.add(LSTM(units=LSTM_L1_UNITS,\n",
    "              return_sequences=True,\n",
    "              input_shape=(None, num_latent_factors)))\n",
    "\n",
    "model.add(LSTM(units=LSTM_L2_UNITS,\n",
    "              return_sequences=True,\n",
    "              input_shape=(None, LSTM_L1_UNITS)))\n",
    "\n",
    "model.add(Dense(units=num_latent_factors, activation=\"tanh\"))\n",
    "\n",
    "optimiser = RMSprop(lr=LEARNING_RATE)\n",
    "\n",
    "model.compile(loss=custom_loss, optimizer=optimiser)"
   ]
  },
  {
   "cell_type": "code",
   "execution_count": 354,
   "metadata": {},
   "outputs": [
    {
     "name": "stdout",
     "output_type": "stream",
     "text": [
      "Model: \"sequential\"\n",
      "_________________________________________________________________\n",
      "Layer (type)                 Output Shape              Param #   \n",
      "=================================================================\n",
      "lstm (LSTM)                  (None, None, 320)         794880    \n",
      "_________________________________________________________________\n",
      "lstm_1 (LSTM)                (None, None, 50)          74200     \n",
      "_________________________________________________________________\n",
      "dense (Dense)                (None, None, 300)         15300     \n",
      "=================================================================\n",
      "Total params: 884,380\n",
      "Trainable params: 884,380\n",
      "Non-trainable params: 0\n",
      "_________________________________________________________________\n"
     ]
    }
   ],
   "source": [
    "model.summary()"
   ]
  },
  {
   "cell_type": "code",
   "execution_count": 355,
   "metadata": {},
   "outputs": [
    {
     "data": {
      "text/plain": [
       "9519"
      ]
     },
     "execution_count": 355,
     "metadata": {},
     "output_type": "execute_result"
    }
   ],
   "source": [
    "train_playlist_songs_matrix.shape[0]"
   ]
  },
  {
   "cell_type": "code",
   "execution_count": 356,
   "metadata": {},
   "outputs": [],
   "source": [
    "approx_dof = train_playlist_songs_matrix.shape[0] * 10 * 300"
   ]
  },
  {
   "cell_type": "code",
   "execution_count": 357,
   "metadata": {},
   "outputs": [
    {
     "data": {
      "text/plain": [
       "28557000"
      ]
     },
     "execution_count": 357,
     "metadata": {},
     "output_type": "execute_result"
    }
   ],
   "source": [
    "approx_dof"
   ]
  },
  {
   "cell_type": "markdown",
   "metadata": {},
   "source": [
    "## TODO\n",
    "We cannot select a batch size greater than 1 without fixing the length of each input (i.e. padding and truncating)."
   ]
  },
  {
   "cell_type": "code",
   "execution_count": 358,
   "metadata": {},
   "outputs": [],
   "source": [
    "callbacks = [EarlyStopping(monitor=\"val_loss\", patience=10, verbose=1)]"
   ]
  },
  {
   "cell_type": "code",
   "execution_count": 359,
   "metadata": {},
   "outputs": [
    {
     "ename": "IndentationError",
     "evalue": "unexpected indent (<ipython-input-359-7269fe004d02>, line 7)",
     "output_type": "error",
     "traceback": [
      "\u001b[0;36m  File \u001b[0;32m\"<ipython-input-359-7269fe004d02>\"\u001b[0;36m, line \u001b[0;32m7\u001b[0m\n\u001b[0;31m    validation_data=validation_data,\u001b[0m\n\u001b[0m    ^\u001b[0m\n\u001b[0;31mIndentationError\u001b[0m\u001b[0;31m:\u001b[0m unexpected indent\n"
     ]
    }
   ],
   "source": [
    "# INTERNAL NOTE - Run in Google Collab. to make use of a GPU\n",
    "\n",
    "history = model.fit(train_dataset.shuffle(100).batch(1),\n",
    "                    epochs=6,\n",
    "                    steps_per_epoch=train_playlist_songs_matrix.shape[0])\n",
    "#                     steps_per_epoch=train_playlist_songs_matrix.shape[0])\n",
    "                    validation_data=validation_data,\n",
    "#          callbacks=callbacks)"
   ]
  },
  {
   "cell_type": "code",
   "execution_count": 360,
   "metadata": {},
   "outputs": [
    {
     "name": "stdout",
     "output_type": "stream",
     "text": [
      "[0.497461915 0.500525773 0.494164288 ... 0.507944047 0.502427578 0.50246942]\n",
      "1/2 [==============>...............] - ETA: 0s - loss: 582828.0000[0.489204615 0.499488741 0.499715805 ... 0.504103839 0.503507912 0.503391922]\n",
      "2/2 [==============================] - ETA: 0s - loss: 870326.4375[0.49857837]\n",
      "[0.498258442]\n",
      "[0.497214824]\n",
      "[0.492429525 0.495726407 0.493713677 0.490935624 0.491673291 0.490528822]\n",
      "[0.499000728 0.497854441 0.496058971 ... 0.492638588 0.487194538 0.486373782]\n",
      "[0.495994091 0.492875814 0.489837795]\n",
      "[0.481671065 0.495135516 0.494792879]\n",
      "[0.50648421 0.487996191 0.501080334 ... 0.507350445 0.498809427 0.506438375]\n",
      "[0.493488491 0.495870888 0.494489789]\n",
      "[0.497537971 0.491375893 0.490044981]\n",
      "[0.486638069]\n",
      "[0.501044214 0.501259089 0.501302421 0.50147289 0.501518726 0.501752734]\n",
      "[0.495830685 0.496807814 0.496048331]\n",
      "[0.496821195 0.488787919 0.488215089]\n",
      "[0.499688387 0.494808793 0.497340292 0.501267612 0.495886922 0.495231]\n",
      "[0.494897574]\n",
      "[0.495916605]\n",
      "[0.499304026 0.497802734 0.498723835 ... 0.497092277 0.499465287 0.499344528]\n",
      "[0.497764289 0.49763751 0.497005284]\n",
      "[0.485199034 0.495884985 0.50130713 ... 0.492234558 0.492025584 0.490794152]\n",
      "[0.497065514 0.495723635 0.494652599 ... 0.489243925 0.473737329 0.473779678]\n",
      "[0.494438827 0.496391952 0.485263407 ... 0.464139819 0.491869062 0.464062542]\n",
      "[0.474830478]\n",
      "[0.498123974 0.497786909 0.497417063]\n",
      "[0.499433368 0.495718867 0.492163211 0.495436758 0.491398513 0.490907]\n",
      "[0.49964872 0.464316308 0.461219043]\n",
      "[0.499988824]\n",
      "[0.494657636 0.501309693 0.501458108]\n",
      "[0.49410212 0.497202933 0.497867197 ... 0.496452212 0.496460915 0.496427417]\n",
      "[0.49911347 0.488633 0.50004369 ... 0.488170683 0.498233676 0.498092979]\n",
      "[0.481337816]\n",
      "[0.475051433 0.493601084 0.495302856 0.487988979 0.489819199 0.486256927]\n",
      "[0.477597386 0.496997476 0.496159494 ... 0.471765429 0.49550119 0.495462835]\n",
      "[0.499961346 0.488639325 0.493602067 ... 0.497123241 0.497624397 0.497368723]\n",
      "[0.495366603 0.498563468 0.493712 0.49850145 0.492880613 0.492165476]\n",
      "[0.498376638]\n",
      "[0.498933226]\n",
      "[0.49467954]\n",
      "[0.496784925 0.496714622 0.496307671]\n",
      "[0.49402824 0.502599359 0.502930462]\n",
      "[0.495892614 0.498011351 0.4855223 ... 0.474782169 0.498556197 0.499157846]\n",
      "[0.496398896 0.498535156 0.499583781 ... 0.495449215 0.496358424 0.496152908]\n",
      "[0.490815639 0.495637655 0.496329725 0.4899275 0.496546507 0.496655911]\n",
      "[0.488629729]\n",
      "[0.497551709 0.49344337 0.49270618]\n",
      "[0.476360172 0.499705136 0.499567807]\n",
      "[0.496623307 0.499047399 0.499286294 ... 0.499506921 0.498788923 0.498664498]\n",
      "[0.498268336]\n",
      "[0.495878845 0.496710449 0.497219414 ... 0.4950701 0.487216294 0.48485586]\n",
      "[0.49898985]\n",
      "[0.49966374 0.495968491 0.496086776]\n",
      "[0.500289679 0.495942265 0.495864451]\n",
      "[0.497838587 0.499769628 0.499556512]\n",
      "[0.498013288 0.498602629 0.497752666]\n",
      "[0.498995394]\n",
      "[0.486519575]\n",
      "[0.492839277]\n",
      "[0.499703318]\n",
      "[0.500613749 0.498700052 0.498632491 0.501244485 0.498731375 0.501728833]\n",
      "[0.495829403 0.498585582 0.493022978 ... 0.492120743 0.496704698 0.490808636]\n",
      "[0.5 0.494534314 0.494954556 0.49441883 0.494963944 0.494908363]\n",
      "[0.500492275 0.49615398 0.498555213 ... 0.499843478 0.496907324 0.499653965]\n",
      "[0.49972567 0.483136207 0.497367173 ... 0.495035946 0.492155939 0.493707627]\n",
      "[0.498104364 0.498125792 0.497887433 ... 0.498357 0.499522746 0.499851972]\n",
      "[0.500357926 0.493466884 0.499581605 0.493109345 0.500486493 0.501834929]\n",
      "[0.498020768]\n",
      "[0.497317344 0.499765396 0.496974826]\n",
      "[0.499601632 0.499427348 0.49944374]\n",
      "[0.485070169 0.496208787 0.498446375 ... 0.483861178 0.495479584 0.494760513]\n",
      "[0.498371571 0.498166293 0.499276906 ... 0.499101967 0.499847949 0.499833256]\n",
      "[0.497638762 0.497578353 0.497085422]\n",
      "[0.496777 0.500068963 0.498313934 ... 0.491777241 0.499128282 0.498929]\n",
      "[0.496942788]\n",
      "[0.496986657]\n",
      "[0.498472]\n",
      "[0.493734598 0.497937888 0.491548032]\n",
      "[0.500650465 0.499341816 0.501084566 ... 0.498813629 0.488518924 0.487954617]\n",
      "[0.494541764 0.49564597 0.494996935]\n",
      "[0.485517204]\n",
      "[0.500169754 0.500389814 0.500593364]\n",
      "[0.496203661]\n",
      "[0.499353707]\n",
      "[0.49586004]\n",
      "[0.496229589 0.497525215 0.497183472]\n",
      "[0.486413866 0.484568536 0.483624429]\n",
      "[0.492703]\n",
      "[0.499883]\n",
      "[0.49780193]\n",
      "[0.500105321]\n",
      "[0.493854165 0.495415062 0.490026861 0.492783368 0.488562226 0.486735791]\n",
      "[0.495242864 0.494442582 0.496563196 0.496472478 0.495526642 0.498543382]\n",
      "[0.495080471]\n",
      "[0.497415394 0.487954855 0.496470183]\n",
      "[0.494929016 0.494642645 0.486816138 ... 0.49436447 0.492458165 0.492188066]\n",
      "[0.500258148 0.497947812 0.495903701 ... 0.504373193 0.500943482 0.501566231]\n",
      "[0.489228606 0.498921186 0.499624312 ... 0.488793969 0.498835295 0.498772293]\n",
      "[0.491543233 0.499572098 0.488952935 ... 0.492427915 0.49934727 0.499229431]\n",
      "[0.493264347 0.498343647 0.499108672]\n",
      "[0.500086129]\n",
      "[0.477729172 0.495652109 0.494967043 ... 0.475132287 0.489895701 0.484475523]\n",
      "[0.500226676 0.498954773 0.499092132]\n",
      "[0.504689097 0.499939054 0.492904305 ... 0.4957982 0.498774797 0.498754174]\n",
      "[0.503842115 0.499229252 0.499266297]\n",
      "[0.502267122 0.495542377 0.494233906]\n",
      "[0.499432206 0.499038965 0.498988062]\n",
      "[0.498602092]\n",
      "[0.493262678 0.501057684 0.500317633 0.491894573 0.500532925 0.490347445]\n",
      "[0.499418497]\n",
      "[0.499719292 0.497103214 0.498403192 ... 0.499653697 0.499001831 0.498860419]\n",
      "[0.498844445 0.502780795 0.503049135]\n",
      "[0.496659428 0.484448433 0.497152209 ... 0.483251572 0.498417169 0.498076946]\n",
      "[0.498897702]\n",
      "[0.499804288 0.500249624 0.500331521]\n",
      "[0.497916758 0.495598823 0.499197274 0.49535203 0.499446839 0.500061035]\n",
      "[0.494834781 0.497102439 0.494440913 0.496458948 0.493416607 0.492215812]\n",
      "[0.497781575]\n",
      "[0.507049859 0.501869082 0.497062981 0.507931232 0.496735841 0.509135067]\n",
      "[0.498022497 0.494226366 0.49502784 ... 0.473617643 0.492416263 0.47183311]\n",
      "[0.500260651 0.496708542 0.49665615]\n",
      "[0.49429962 0.489662558 0.487467706]\n",
      "[0.500262141]\n",
      "[0.492418677]\n",
      "[0.488956511]\n",
      "[0.498909891 0.500395834 0.491945207 0.500535846 0.489798218 0.487822175]\n",
      "[0.478820562 0.476162732 0.493603468 ... 0.497202426 0.487504661 0.497784108]\n",
      "[0.492743105 0.48925367 0.49267751 ... 0.484920979 0.497155696 0.497415364]\n",
      "[0.495852888 0.49974227 0.497968256 0.495311767 0.498015136 0.494821042]\n",
      "[0.493657738 0.512739837 0.466698825 ... 0.48048237 0.498727947 0.48017031]\n",
      "[0.49895826]\n",
      "[0.495344579]\n",
      "[0.499557137]\n",
      "[0.500531197 0.498448521 0.498356521]\n",
      "[0.498992145 0.499783635 0.496308118 0.499814361 0.495754957 0.495204359]\n",
      "[0.495039403]\n",
      "[0.499427885 0.499471694 0.499433786 0.49977389 0.499714226 0.500067055]\n",
      "[0.49302873 0.494319022 0.496930301 ... 0.49285391 0.495719701 0.495562732]\n",
      "[0.491290241 0.492224 0.496798903 ... 0.482800782 0.500590205 0.485436887]\n",
      "[0.489221752 0.472031683 0.499355435 ... 0.485458404 0.494916201 0.494571209]\n",
      "[0.500371277 0.497473538 0.498512298 ... 0.500559 0.496825278 0.500632405]\n",
      "[0.49952361 0.491188437 0.49279052 ... 0.461410612 0.493302643 0.45878166]\n",
      "[0.494747669 0.49787125 0.497202784]\n",
      "[0.483931363 0.495259672 0.496102512]\n",
      "[0.498456 0.497887194 0.497237444]\n",
      "[0.497356564 0.494708449 0.499079853 ... 0.49965483 0.492356 0.492301047]\n",
      "[0.494214058 0.481561452 0.498640716 ... 0.48973608 0.490072131 0.488515913]\n",
      "[0.49648422 0.49725616 0.497605503 0.497222602 0.497570634 0.497633636]\n",
      "[0.493289351 0.498234 0.502826929 ... 0.494959384 0.498264968 0.498973578]\n",
      "[0.49483934]\n",
      "[0.496947944 0.499508888 0.495086968]\n",
      "[0.490552485 0.500909626 0.493581027 0.501018 0.493370384 0.493270367]\n",
      "[0.497470528 0.496796817 0.498976588 0.498106748 0.498746425 0.499408066]\n",
      "[0.478610277 0.49093172 0.493097901 0.49196893 0.491292775 0.49085623]\n",
      "[0.496870816 0.49766174 0.497793257 ... 0.497385 0.495783031 0.495490372]\n",
      "[0.495850116 0.497063279 0.492219537 ... 0.495360225 0.497930855 0.494749486]\n",
      "[0.485052437 0.491446882 0.483384371]\n",
      "[0.499177665]\n",
      "[0.481669933 0.494389832 0.492893964 ... 0.486251086 0.482080221 0.482]\n",
      "[0.492580414 0.494409502 0.499342024 ... 0.493346304 0.499439865 0.493222237]\n",
      "[0.495592743 0.4962883 0.495425045]\n",
      "[0.498665452]\n",
      "[0.479519606 0.492902428 0.491502881]\n",
      "[0.48901403 0.491424471 0.498925298 ... 0.498737484 0.498915911 0.498867452]\n",
      "[0.500464261 0.49772203 0.496825665 ... 0.50049454 0.501117349 0.501303613]\n",
      "[0.494448632 0.494846106 0.499981195 ... 0.495374382 0.495371938 0.495265365]\n",
      "[0.484512657]\n",
      "[0.495854288 0.497569561 0.497503489]\n",
      "[0.497836083]\n",
      "[0.466292143]\n",
      "[0.493824661 0.492434204 0.491358876]\n"
     ]
    },
    {
     "name": "stdout",
     "output_type": "stream",
     "text": [
      "[0.496598482 0.498899758 0.498818278]\n",
      "[0.496829778 0.494448155 0.499424934 0.496448636 0.499520838 0.494421273]\n",
      "[0.491594911 0.499995023 0.490633577]\n",
      "[0.4946329 0.497852474 0.49714911]\n",
      "[0.484555215 0.495524108 0.472323179 ... 0.440994859 0.490206242 0.490122378]\n",
      "[0.497358024 0.49746421 0.497058094]\n",
      "[0.491954237 0.499317884 0.49728334 ... 0.490118712 0.500086427 0.500187278]\n",
      "[0.492564321 0.48135072 0.500986636 ... 0.513140619 0.463026106 0.462411463]\n",
      "[0.499054939 0.503059566 0.502402961 0.503207088 0.502467155 0.503290236]\n",
      "[0.496388882]\n",
      "[0.495889515 0.497928888 0.497422427 0.49821192 0.497578323 0.497563869]\n",
      "[0.498354435 0.498452 0.490269661 ... 0.499283 0.495192677 0.498652369]\n",
      "[0.496087074]\n",
      "[0.49639675]\n",
      "[0.493853211]\n",
      "[0.499677658]\n",
      "[0.497739524 0.497212887 0.4972094 ... 0.496920198 0.497351408 0.497493207]\n",
      "[0.500668645 0.494288564 0.495579511 ... 0.501623571 0.496065736 0.501433194]\n",
      "[0.496934503 0.49736169 0.49586913 ... 0.480349422 0.501251 0.500726521]\n",
      "[0.492903799 0.484792113 0.479915261 ... 0.501339257 0.498972625 0.498822808]\n",
      "[0.478123754 0.50224781 0.498887032 ... 0.505188465 0.488346577 0.50456]\n",
      "[0.492747754 0.496125042 0.498996407 ... 0.490262628 0.487145931 0.486252636]\n",
      "[0.49819687 0.4958134 0.472224712 ... 0.479062408 0.492187 0.477196872]\n",
      "[0.499202937 0.490715653 0.496503592 ... 0.490718126 0.495576888 0.495845199]\n",
      "[0.506153107 0.488967657 0.496911883 ... 0.497095346 0.483949423 0.48521179]\n",
      "[0.49954 0.49975878 0.494771719 ... 0.500042915 0.499389797 0.500078499]\n",
      "[0.496525407]\n",
      "[0.496682197 0.497342885 0.48419 ... 0.495684743 0.477221251 0.476702571]\n",
      "[0.500869572 0.4949705 0.487721086 ... 0.502932191 0.461749345 0.503028631]\n",
      "[0.471672714]\n",
      "[0.485268801 0.498681039 0.500490785 ... 0.490425676 0.500193477 0.500026405]\n",
      "[0.496222705 0.495367169 0.493357182 0.49395442 0.490999341 0.491877049]\n",
      "[0.4988361 0.48107475 0.487642825 ... 0.497908622 0.471408427 0.467998058]\n",
      "[0.4999547]\n",
      "[0.49999]\n",
      "[0.485030502 0.494652152 0.497258872 ... 0.496719122 0.498034418 0.496230394]\n",
      "[0.478012711 0.501295209 0.498578191 ... 0.503238 0.49242422 0.503637969]\n",
      "[0.495133132]\n",
      "[0.499091566 0.497524679 0.49691844]\n",
      "[0.498801023 0.499406129 0.497267544 0.498550564 0.499233216 0.499007195]\n",
      "[0.495042384 0.481788 0.496482432 ... 0.494974136 0.499494821 0.495096445]\n",
      "[0.507389128 0.490348876 0.499089599 ... 0.484220862 0.461421788 0.45758304]\n",
      "[0.498308033]\n",
      "[0.487467438 0.49873358 0.489710927 ... 0.461564749 0.498136282 0.497870326]\n",
      "[0.486614764 0.497150362 0.493691236 ... 0.478415906 0.49565661 0.495506227]\n",
      "[0.493878096 0.495435655 0.494461238 ... 0.495154798 0.495003462 0.494686246]\n",
      "[0.493866801 0.491276145 0.489481747 ... 0.495244682 0.499281704 0.49898994]\n",
      "[0.483525872 0.489309758 0.481458575 ... 0.430715203 0.475759983 0.425605]\n",
      "[0.49589029 0.492182761 0.497131675 ... 0.498715967 0.501674116 0.501613498]\n",
      "[0.498315901 0.495923638 0.495326579 0.495149374 0.495503783 0.494341463]\n",
      "[0.499818951 0.500630915 0.497180283 0.500660837 0.497004062 0.496835]\n",
      "[0.498844504 0.494646579 0.494070441]\n",
      "[0.49797526]\n",
      "[0.499779612]\n",
      "[0.485443056 0.499232501 0.503043354 ... 0.519640744 0.507503271 0.523828626]\n",
      "[0.49299702 0.491580337 0.492557317 ... 0.485235453 0.48678425 0.48493281]\n",
      "[0.499019623 0.499944508 0.495622367 ... 0.498544425 0.495626837 0.495548099]\n",
      "[0.498547018 0.493554235 0.488670558 ... 0.491976082 0.49836126 0.491518646]\n",
      "[0.492242038 0.48463884 0.496577382 ... 0.487661958 0.495011449 0.49482125]\n",
      "[0.484921813 0.489745706 0.497681051 ... 0.480881214 0.494998395 0.494018137]\n",
      "[0.48235926 0.495443702 0.500095487 ... 0.505559802 0.498537868 0.498048872]\n",
      "[0.483751923 0.492817312 0.493888289 ... 0.49929592 0.499656 0.499839336]\n",
      "[0.499308527 0.497741967 0.488219887 ... 0.498080075 0.496203721 0.495981574]\n",
      "[0.498491675 0.491121978 0.495340139 ... 0.494506538 0.486888617 0.486294448]\n",
      "[0.498061985]\n",
      "[0.497905672 0.488245517 0.4996 ... 0.499624 0.495477676 0.499709636]\n",
      "[0.494668454 0.49962914 0.499481946]\n",
      "[0.497562677 0.498968929 0.496176273 0.497695625 0.494540453 0.492788494]\n",
      "[0.496254802 0.49663052 0.493223488 0.496173263 0.493043363 0.496114165]\n",
      "[0.497650564]\n",
      "[0.500005662 0.490112096 0.500357628 ... 0.488295048 0.48771 0.486788392]\n",
      "[0.495827973]\n",
      "[0.495888978]\n",
      "[0.497514367 0.495517761 0.496798605 ... 0.489542633 0.485569745 0.485853016]\n",
      "[0.493076891 0.494082689 0.492353827]\n",
      "[0.494115472 0.499340624 0.49897173 0.493461758 0.498827726 0.492934]\n",
      "[0.494923025 0.500241399 0.500248611]\n",
      "[0.496530861 0.499646872 0.496448964]\n",
      "[0.504002392 0.499411345 0.499570966 ... 0.501198888 0.499709308 0.499862522]\n",
      "[0.498065442 0.496718556 0.49672094]\n",
      "[0.498196691 0.498731583 0.498757392 ... 0.501992822 0.493967414 0.503479302]\n",
      "[0.493608028 0.498226881 0.493622571 ... 0.486663848 0.490276158 0.485253513]\n",
      "[0.495983601 0.496749222 0.496768415 ... 0.496344179 0.494418591 0.494452864]\n",
      "[0.499034613 0.498644829 0.498437405]\n",
      "[0.486778468 0.471499234 0.491624475 ... 0.497065932 0.497238427 0.497164667]\n",
      "[0.506348133 0.498105794 0.497358203]\n",
      "[0.498382598 0.490200847 0.500355601 ... 0.482461035 0.47216478 0.470486581]\n",
      "[0.477198869 0.501774311 0.501672268 ... 0.501582146 0.490983784 0.490497917]\n",
      "[0.498541027 0.498551518 0.498460472 ... 0.487831235 0.492722 0.492370218]\n",
      "[0.497820646 0.487542897 0.499188662 ... 0.497200161 0.496561259 0.498015046]\n",
      "[0.497876346 0.496667147 0.498521507 ... 0.493600726 0.497623593 0.497495204]\n",
      "[0.491635978 0.495775223 0.496160924 ... 0.4785254 0.498750746 0.476716489]\n",
      "[0.488801718 0.486066461 0.484227806 ... 0.49519 0.497545034 0.497599483]\n",
      "[0.496920288 0.485861599 0.493798107 ... 0.49616468 0.499100208 0.499365926]\n",
      "[0.494174749 0.489435464 0.494609624 ... 0.469177306 0.487142384 0.468646169]\n",
      "[0.502810955 0.493343651 0.492682308 ... 0.496483743 0.477636307 0.477367848]\n",
      "[0.494477391 0.495430082 0.499810785 ... 0.492263347 0.497210085 0.491670966]\n",
      "[0.49513042 0.496417254 0.49087891 ... 0.495357245 0.495357 0.495446473]\n",
      "[0.49565047 0.497807741 0.494132608 ... 0.500061035 0.493092746 0.492798269]\n",
      "[0.495316416 0.496146053 0.498761743 ... 0.498460263 0.499701917 0.498441875]\n",
      "[0.500270426 0.498750031 0.496829838 ... 0.490488172 0.492394477 0.491344571]\n",
      "[0.494324654 0.495690525 0.495402038 ... 0.492885709 0.496948093 0.492672145]\n",
      "[0.498614]\n",
      "[0.497525662]\n",
      "[0.498255581]\n",
      "[0.484172463 0.498493552 0.499095947 ... 0.499424666 0.49990356 0.499894083]\n",
      "[0.494316608 0.497862548 0.497356057 0.493501842 0.496934235 0.496583134]\n",
      "[0.500650287]\n",
      "[0.495412022]\n",
      "[0.500046372]\n",
      "[0.493225336]\n",
      "[0.495739043]\n",
      "[0.488767445 0.493670136 0.490961313]\n",
      "[0.49225226]\n",
      "[0.497810155 0.497865349 0.499948829 ... 0.494890511 0.493205756 0.491096556]\n",
      "[0.496629298 0.496322304 0.488549173 ... 0.507208586 0.498206347 0.498601317]\n",
      "[0.496621132]\n",
      "[0.490778416 0.498687923 0.498497725 0.490226626 0.499443084 0.499453276]\n",
      "[0.496967226 0.498011 0.496131361 ... 0.502634943 0.502521753 0.50300926]\n",
      "[0.491802663 0.489675224 0.496468 ... 0.502570629 0.501360714 0.501647294]\n",
      "[0.499833465 0.491465271 0.499835104 0.489262283 0.499385983 0.488756269]\n",
      "[0.497782767 0.499862224 0.499775618 ... 0.499728113 0.499724925 0.499707043]\n",
      "[0.49424243 0.49586305 0.495443285 ... 0.492721647 0.493329972 0.493719]\n",
      "[0.494482398]\n",
      "[0.473959267]\n",
      "[0.496612191 0.499646544 0.496584028 ... 0.499712616 0.500667155 0.500724614]\n",
      "[0.498964]\n",
      "[0.4931629 0.496879607 0.487072498 ... 0.492141157 0.487258613 0.492020547]\n",
      "[0.493520677 0.488961 0.495770782 ... 0.492992371 0.493309706 0.493289709]\n",
      "[0.496239603 0.490096152 0.490573287 ... 0.486051112 0.492207319 0.485589921]\n",
      "[0.493202806 0.495171666 0.493069202 ... 0.480474591 0.495702118 0.480015814]\n",
      "[0.498515934]\n",
      "[0.498052478]\n",
      "[0.493992209 0.481553257 0.496169478 ... 0.476269364 0.503766477 0.505072236]\n",
      "[0.493128598 0.498248786 0.495931476 0.493474036 0.495874345 0.496020168]\n",
      "[0.497386962 0.490783155 0.497296363 ... 0.486612916 0.494520724 0.485401839]\n",
      "[0.492566556 0.491152734 0.498843 ... 0.499817878 0.499203444 0.499212861]\n",
      "[0.489199787 0.490849584 0.493501812 ... 0.476934195 0.479724675 0.474392384]\n",
      "[0.495767176]\n",
      "[0.500072062 0.492219269 0.500411153 ... 0.500185311 0.49740845 0.497292936]\n",
      "[0.496386677 0.498309106 0.496283263 ... 0.500665128 0.493361652 0.493035764]\n",
      "[0.498194098 0.494369537 0.499908805 ... 0.493868262 0.492334038 0.491971314]\n"
     ]
    },
    {
     "name": "stdout",
     "output_type": "stream",
     "text": [
      "[0.478577912 0.496129483 0.497576 ... 0.501016557 0.48871395 0.488225788]\n",
      "[0.498304278]\n",
      "[0.489301056]\n",
      "[0.479062825 0.496915311 0.499316603 ... 0.498609364 0.499043554 0.498968363]\n",
      "[0.497830033 0.498339474 0.496568531 0.497879386 0.496275216 0.497985303]\n",
      "[0.498613447 0.500111639 0.49665311 ... 0.497870028 0.495580673 0.495369405]\n",
      "[0.497073412]\n",
      "[0.49640435 0.491646796 0.496759623]\n",
      "[0.493494868 0.495209396 0.49533245 ... 0.498762429 0.491648167 0.491596252]\n",
      "[0.495283872 0.503719151 0.492784262 ... 0.488504231 0.480014473 0.482927382]\n",
      "[0.495886594 0.495392889 0.497689039 ... 0.495229125 0.498967379 0.498900145]\n",
      "[0.494412452 0.495255888 0.494332492]\n",
      "[0.495233238 0.494882494 0.494724214]\n",
      "[0.498694271]\n",
      "[0.48174575 0.490718246 0.492777109 ... 0.49582538 0.495797426 0.495564908]\n",
      "[0.50077647 0.50410682 0.493936181 ... 0.494772971 0.475257903 0.491650403]\n",
      "[0.497605473 0.498289287 0.495681971 ... 0.503484726 0.523228288 0.523280859]\n",
      "[0.498856783 0.493068397 0.499299377 ... 0.493676662 0.493836015 0.493450165]\n",
      "[0.500519931 0.500059843 0.501 0.500025392 0.501235545 0.500998616]\n",
      "[0.49044162 0.498688191 0.490381539 ... 0.487601161 0.500897527 0.50095588]\n",
      "[0.488440663 0.494681478 0.497235537 ... 0.4929699 0.494482964 0.493797064]\n",
      "[0.497962087 0.488483071 0.490646958 ... 0.479531825 0.493899226 0.477271646]\n",
      "[0.481911629]\n",
      "[0.499799 0.499799132 0.499785244]\n",
      "[0.495289624 0.495867878 0.499690741 ... 0.493310064 0.49678582 0.496416241]\n",
      "[0.491977453 0.498564899 0.495045543 ... 0.487632573 0.489443153 0.489164114]\n",
      "[0.49719277 0.480603904 0.492404073 ... 0.48799637 0.489693582 0.489524573]\n",
      "[0.494265974 0.498787791 0.49740833 ... 0.488064378 0.498617947 0.497664541]\n",
      "[0.498271108 0.498824179 0.498874515]\n",
      "[0.48758629 0.492425859 0.497465909 ... 0.490257293 0.498570532 0.489586502]\n",
      "[0.498135418]\n",
      "[0.490327239 0.495328844 0.494345605 ... 0.49590829 0.48814559 0.486961782]\n",
      "[0.490307361 0.491647393 0.495169461 ... 0.491008371 0.485748589 0.483794153]\n",
      "[0.477918208 0.497824967 0.500758171 ... 0.501110613 0.488889515 0.489278793]\n",
      "[0.496812105]\n",
      "[0.499133915 0.493933141 0.499470711 0.499141663 0.49923417 0.499020904]\n",
      "[0.481760532 0.490673184 0.490801424 ... 0.486270905 0.499175072 0.486249894]\n",
      "[0.494170457 0.49448359 0.507685423 0.494800299 0.5102126 0.496127397]\n",
      "[0.499755561 0.501450956 0.500192285 0.49994576 0.501792 0.502101123]\n",
      "[0.49757421 0.499498278 0.498412609 ... 0.489131719 0.495587528 0.495234966]\n",
      "[0.498253554 0.49790594 0.494772106 0.498250395 0.494117022 0.493655235]\n",
      "[0.497209 0.499500275 0.499199152 ... 0.500944555 0.496539354 0.497266054]\n",
      "[0.488872468 0.498626202 0.489143938 ... 0.489432842 0.491466075 0.488925606]\n",
      "[0.495683253 0.492455423 0.494185299 ... 0.462696 0.507789314 0.507347882]\n",
      "[0.488816828 0.49600777 0.502191305 ... 0.495695263 0.497911066 0.497892708]\n",
      "[0.500937045 0.496278465 0.498265952 ... 0.4959988 0.496458799 0.496353269]\n",
      "[0.4986974 0.513567924 0.507892609 ... 0.46527642 0.475302517 0.462861687]\n",
      "[0.479182571 0.486280859 0.489497244 0.47695595 0.488519073 0.484670132]\n",
      "[0.497198582 0.498433411 0.493132502 ... 0.493618369 0.483160734 0.482472807]\n",
      "[0.493506044 0.495296836 0.49453485]\n",
      "[0.498623341 0.500566781 0.498983264]\n",
      "[0.488484114]\n",
      "[0.499307454]\n",
      "[0.496466935 0.492842 0.501623571 ... 0.488393873 0.481933504 0.478013784]\n",
      "[0.487075448 0.49744916 0.499563783]\n",
      "[0.496702641]\n",
      "[0.482475609]\n",
      "[0.498640835]\n",
      "[0.489540964 0.498298973 0.499477863 ... 0.499147296 0.494371295 0.494657397]\n",
      "[0.482164681 0.499686 0.494266778 ... 0.481365383 0.489498198 0.488742918]\n",
      "[0.496732056 0.499539316 0.500247478 ... 0.500646293 0.499686509 0.500422478]\n",
      "[0.488916397 0.496262699 0.490397125 ... 0.478958905 0.497246891 0.497062266]\n",
      "[0.498170018 0.49658528 0.494781226 ... 0.493125141 0.49823752 0.490742028]\n",
      "[0.499900341 0.497247 0.496949613 ... 0.497048974 0.494236559 0.496911913]\n",
      "[0.506730318 0.49608621 0.501473248 0.493950158 0.501807809 0.502431035]\n",
      "[0.497597128 0.494709909 0.492220491 ... 0.498611301 0.500679076 0.500590086]\n",
      "[0.496421576 0.496866852 0.496577919]\n",
      "[0.495405555]\n",
      "[0.49765864]\n",
      "[0.497742087]\n",
      "[0.49193278 0.48710078 0.500460625 ... 0.497318715 0.494735599 0.494792044]\n",
      "[0.492562354 0.498919964 0.49141416]\n",
      "[0.49830541 0.498447359 0.497533947 0.498399854 0.497493058 0.497518837]\n",
      "[0.497939765]\n",
      "[0.496995658]\n",
      "[0.491326571]\n",
      "[0.491456419 0.497329682 0.499421149 ... 0.499220759 0.497888476 0.49911052]\n",
      "[0.492599249 0.486041397 0.50385 ... 0.494419932 0.502480447 0.502429128]\n",
      "[0.479139924 0.497465253 0.494469643 ... 0.470656604 0.500163496 0.500303507]\n",
      "[0.487074673 0.495760232 0.48302421 ... 0.497398585 0.479268312 0.478201181]\n",
      "[0.497943819]\n",
      "[0.497963279]\n",
      "[0.499790549]\n",
      "[0.492575407 0.498563677 0.498563856 ... 0.490675718 0.496406198 0.490429103]\n",
      "[0.47720474 0.499597341 0.499371111 0.474923342 0.499360383 0.472631723]\n",
      "[0.492785394 0.498686463 0.499603152 0.492927074 0.499575257 0.493018776]\n",
      "[0.494011045 0.492236435 0.494553179 0.491291463 0.494106561 0.490641981]\n",
      "[0.499920636]\n",
      "[0.492635]\n",
      "[0.497551411 0.498463213 0.497486442 0.497415215 0.497154951 0.49672395]\n",
      "[0.497595727 0.496797293 0.497826308 ... 0.497190446 0.497193426 0.497024387]\n",
      "[0.497708261 0.489573866 0.497440487]\n",
      "[0.487342268 0.492964 0.482193172 ... 0.488610625 0.495105594 0.488498241]\n",
      "[0.492958069 0.496801645 0.493098319 ... 0.491786748 0.492017239 0.492055267]\n",
      "[0.496773243 0.498752952 0.499569207 0.496545255 0.498651117 0.496322185]\n",
      "[0.486023605 0.497714549 0.497530669 ... 0.481262475 0.491619527 0.478083283]\n",
      "[0.489789665 0.498297483 0.47842598 ... 0.465933055 0.484964371 0.482990265]\n",
      "[0.50030303 0.48848924 0.498388082 ... 0.497203678 0.498109043 0.498011708]\n",
      "[0.484542608 0.488131583 0.49717024 ... 0.486552089 0.498131633 0.498118639]\n",
      "[0.49477756 0.496230483 0.500336587 ... 0.492977709 0.498732239 0.498518795]\n",
      "[0.496732771 0.496492326 0.495830745]\n",
      "[0.497530103 0.499278963 0.496215492 ... 0.495852977 0.498621643 0.498528659]\n",
      "[0.499040455 0.494227141 0.498479724 ... 0.498185366 0.498851389 0.498760104]\n",
      "[0.499838173 0.498553574 0.499976784 ... 0.499941558 0.500096917 0.500109255]\n",
      "[0.499802381 0.499762684 0.499783158]\n",
      "[0.496240467 0.493050426 0.499124706 ... 0.496371388 0.499083191 0.499004066]\n",
      "[0.49951607 0.498287231 0.495277405 ... 0.498160064 0.497878492 0.498010486]\n",
      "[0.496162474 0.498803109 0.491483659 ... 0.496524572 0.497890204 0.497828782]\n",
      "[0.490204126 0.48930493 0.4941912 ... 0.494350374 0.495519817 0.495174885]\n",
      "[0.490589112]\n",
      "[0.495025456 0.496705949 0.496016324]\n",
      "[0.490592062]\n",
      "[0.497484535]\n",
      "[0.486262113 0.503325105 0.466294408 ... 0.4708606 0.502978623 0.503785789]\n",
      "[0.496274441]\n",
      "[0.495632261]\n",
      "[0.495012671 0.491669863 0.491874695]\n",
      "[0.499233276]\n",
      "[0.499231756 0.496766239 0.495694339]\n",
      "[0.498294622 0.495614916 0.494903266]\n",
      "[0.499951065 0.497285366 0.489948481 ... 0.499518722 0.499596983 0.499496847]\n",
      "[0.478215307 0.500168562 0.499413371 ... 0.503929138 0.498171568 0.503895521]\n",
      "[0.500315845 0.507980824 0.496465653 ... 0.500578 0.521978736 0.501007318]\n",
      "[0.501214206]\n",
      "[0.501649201 0.494666517 0.507492661 0.504028261 0.494441152 0.504774034]\n",
      "[0.495047659]\n",
      "[0.498443067 0.499291569 0.498422951]\n",
      "[0.494935542 0.497394 0.497974366 ... 0.493482709 0.491246313 0.490560293]\n",
      "[0.488842905 0.492767274 0.492575407 ... 0.498848408 0.496190637 0.496290803]\n",
      "[0.501188576 0.479273558 0.499196202 0.502229273 0.478739172 0.499805093]\n",
      "[0.498606801 0.477674276 0.497021765 ... 0.497948885 0.473193 0.471757799]\n",
      "[0.48354888 0.490004331 0.49135235 ... 0.48222062 0.480865479 0.480192155]\n",
      "[0.497007102 0.494115531 0.491862148 ... 0.483757406 0.498278618 0.49849388]\n",
      "[0.492395937 0.496709883 0.495938867 0.494188577 0.494357944 0.492755681]\n",
      "[0.493374139 0.495733827 0.49657613 ... 0.492096961 0.490591586 0.492131561]\n",
      "[0.49547711 0.497174531 0.495805025]\n",
      "[0.488866568 0.495666057 0.490445584 ... 0.484501898 0.501482844 0.482907027]\n",
      "[0.495009422 0.49006325 0.498716325 ... 0.476487935 0.492988467 0.491978347]\n",
      "[0.496765882]\n",
      "[0.4907085 0.497710377 0.492076963 ... 0.485595316 0.496362478 0.496012479]\n",
      "[0.509427428 0.493234485 0.49062857]\n",
      "[0.496577919 0.493633181 0.497297525 ... 0.496058404 0.501866639 0.501949668]\n",
      "[0.496792942]\n",
      "[0.483671635 0.498971671 0.498422325 ... 0.498796225 0.498088092 0.498720884]\n",
      "[0.498839229 0.499110401 0.497199029 0.500151515 0.499310791 0.499415934]\n"
     ]
    },
    {
     "name": "stdout",
     "output_type": "stream",
     "text": [
      "[0.496498436 0.500023901 0.495957285]\n",
      "[0.496061116 0.494091928 0.492622 ... 0.464063853 0.44157204 0.440790355]\n",
      "[0.467979729 0.479265302 0.489672124 ... 0.40349 0.484903425 0.486055]\n",
      "[0.496781826]\n",
      "[0.49782005 0.494385451 0.499197096 0.493608296 0.498886555 0.498686582]\n",
      "[0.496527612 0.489228636 0.495236 ... 0.498631388 0.488586605 0.488630861]\n",
      "[0.497941881 0.484194726 0.498045385 ... 0.4962309 0.498131126 0.495711744]\n",
      "[0.495774925 0.498685479 0.497121483 ... 0.496997029 0.496683598 0.496516436]\n",
      "[0.49489814]\n",
      "[0.495026141 0.494490743 0.498616576 0.494600117 0.498232 0.494143784]\n",
      "[0.494169861 0.48317039 0.48040536]\n",
      "[0.498373955 0.49046427 0.493422 ... 0.48979485 0.491668254 0.490346909]\n",
      "[0.492183894 0.493046522 0.498072267 ... 0.480931908 0.485311806 0.482456505]\n",
      "[0.484572977 0.491514355 0.489285469 ... 0.456096262 0.49288097 0.490391493]\n",
      "[0.501764417 0.491024524 0.498850226 0.504906952 0.500512421 0.501853883]\n",
      "[0.49706158 0.496674806 0.496956795]\n",
      "[0.497143179 0.496174693 0.496002138]\n",
      "[0.49610883 0.499875307 0.500995517]\n",
      "[0.489519328 0.494239479 0.489799559 0.486386716 0.488386929 0.483852118]\n",
      "[0.487290293 0.49796018 0.49462983 ... 0.483311057 0.465945065 0.462462783]\n",
      "[0.491214335 0.476179957 0.490420938 ... 0.499907613 0.49857831 0.49864769]\n",
      "[0.49301666 0.494097382 0.493727535 ... 0.492855519 0.491582334 0.491789103]\n",
      "[0.493008435 0.503738582 0.500621557 ... 0.499436706 0.499434084 0.499432176]\n",
      "[0.489423722 0.497511297 0.498771727 ... 0.501349092 0.500676751 0.500865638]\n",
      "[0.496150017 0.483541638 0.494873583 ... 0.491563112 0.488268286 0.491829216]\n",
      "[0.498323441 0.497907221 0.491453499 ... 0.481697589 0.466393441 0.464840263]\n",
      "[0.498874724 0.49225539 0.499065876 ... 0.500782251 0.49379769 0.498179197]\n",
      "[0.481209934 0.483442724 0.485477269 ... 0.472294152 0.471214622 0.465087414]\n",
      "[0.499053121 0.498268336 0.498137116]\n",
      "[0.499297976 0.498618424 0.4949404 ... 0.49615106 0.496428192 0.496381372]\n",
      "[0.497531235 0.493506074 0.495237827 ... 0.486903727 0.500012398 0.486521]\n",
      "[0.479368567 0.495735675 0.490908861 ... 0.492925465 0.496084481 0.492974102]\n",
      "[0.498638541 0.498724133 0.49796927]\n",
      "[0.497905642 0.498755127 0.499788016 0.498043656 0.499407619 0.499134153]\n",
      "[0.493784636 0.497983903 0.496979773 ... 0.45790869 0.489429653 0.490026563]\n",
      "[0.493208617 0.469227046 0.498584062 ... 0.490804046 0.498881757 0.499113858]\n",
      "[0.486644983]\n",
      "[0.478854865 0.486649245 0.504519522 ... 0.502482116 0.478400975 0.479943]\n",
      "[0.480467618 0.49798 0.498217165]\n",
      "[0.49661094 0.488784611 0.499538511 0.4953264 0.486878365 0.494116515]\n",
      "[0.500470102 0.499422491 0.498479426 ... 0.498696834 0.497401953 0.496888041]\n",
      "[0.499853015]\n",
      "[0.500026 0.497071117 0.490345269 0.500053346 0.496674925 0.496300131]\n",
      "[0.502484 0.485549361 0.496140391 0.482423067 0.492893964 0.480285436]\n",
      "[0.489941806]\n",
      "[0.498891652]\n",
      "[0.498811662]\n",
      "[0.494940788]\n",
      "[0.485674977 0.493048042 0.492271096 ... 0.486969173 0.468825966 0.485824883]\n",
      "[0.487583429]\n",
      "[0.500363886 0.499581754 0.496447563 ... 0.500083566 0.49490577 0.494586706]\n",
      "[0.498691261 0.500271618 0.500157654 0.500296056 0.500098705 0.500164509]\n",
      "[0.509225965 0.494395077 0.50286 ... 0.507416785 0.491229445 0.507756]\n",
      "[0.480579615 0.495361656 0.490768701 ... 0.490599662 0.483267069 0.482846141]\n",
      "[0.488746822 0.492535502 0.48822397]\n",
      "[0.511276186 0.498122185 0.495154589 ... 0.484804958 0.489941895 0.483150691]\n",
      "[0.498681128 0.494994521 0.50031203 ... 0.48496142 0.463713378 0.463683486]\n",
      "[0.496797115 0.497699827 0.489564389 ... 0.500217 0.470209509 0.467675954]\n",
      "[0.496842653 0.498276591 0.500311852 ... 0.498278081 0.50018692 0.500147521]\n",
      "[0.496785313 0.497395307 0.499546379 ... 0.500686646 0.492079765 0.500605226]\n",
      "[0.491663754 0.485951275 0.495394766 ... 0.487333924 0.493373752 0.492231935]\n",
      "[0.499623835 0.499626487 0.499467611 0.499593705 0.499400645 0.499328852]\n",
      "[0.499229521 0.499693334 0.499527901 0.499648631 0.49940303 0.49929148]\n",
      "[0.496534109]\n",
      "[0.496730596]\n",
      "[0.497772872 0.499231547 0.497856438]\n",
      "[0.495680034 0.497610331 0.496756613 ... 0.494159 0.494272351 0.49325484]\n",
      "[0.488902271 0.494445652 0.497577071 ... 0.497529387 0.49750483 0.497378707]\n",
      "[0.481544316 0.488727033 0.493669033 ... 0.478565663 0.485590905 0.484110564]\n",
      "[0.482923359 0.493410856 0.500216722 ... 0.500358701 0.497450024 0.497172982]\n",
      "[0.494314402 0.481640369 0.493593812 ... 0.494054824 0.499914259 0.499881774]\n",
      "[0.497476608 0.495858252 0.495734185]\n",
      "[0.49275583 0.496909589 0.494499177 ... 0.462119341 0.479467213 0.478594422]\n",
      "[0.489674449 0.495251715 0.494661808]\n",
      "[0.497809649 0.497040689 0.497207016 ... 0.49851647 0.49498418 0.498367161]\n",
      "[0.495652676 0.499203712 0.498155534 ... 0.486840159 0.489977837 0.489028692]\n",
      "[0.499869 0.499856651 0.499861062]\n",
      "[0.500904143 0.487405866 0.499546885 ... 0.499921411 0.478995621 0.479260385]\n",
      "[0.499447167]\n",
      "[0.495324284 0.49447009 0.497123063 ... 0.498733491 0.500697851 0.500564]\n",
      "[0.495837 0.481334984 0.496917129 ... 0.495253742 0.497468978 0.497435242]\n",
      "[0.49593237]\n",
      "[0.5062204 0.490754485 0.496110409 ... 0.504774511 0.496888548 0.496370554]\n",
      "[0.489489287 0.500131071 0.489146084]\n",
      "[0.496269852 0.499150306 0.497652262 0.495779574 0.499099076 0.495077074]\n",
      "[0.492626339 0.499836534 0.499796182]\n",
      "[0.499711484 0.49369505 0.499565512 0.499640822 0.492803425 0.499441117]\n",
      "[0.496486425 0.497892171 0.497737497]\n",
      "[0.492133558 0.497463375 0.497466803 ... 0.488853961 0.492323905 0.491550505]\n",
      "[0.496864736 0.485479057 0.492093474 0.483060181 0.49035117 0.488511086]\n",
      "[0.494028091 0.499481261 0.497344732 0.493936837 0.499582201 0.499777377]\n",
      "[0.493574709 0.498707473 0.493885815]\n",
      "[0.501995683 0.489241511 0.487200081]\n",
      "[0.497029752 0.491382062 0.496087402 ... 0.497978151 0.497464031 0.497371674]\n",
      "[0.496736616]\n",
      "[0.499885798]\n",
      "[0.497580975 0.493166834 0.493274778]\n",
      "[0.496734917 0.498541027 0.499463886 ... 0.49886626 0.49651581 0.496253431]\n",
      "[0.494446367]\n",
      "[0.495657802 0.498018533 0.49840796 ... 0.500108957 0.49982211 0.501147747]\n",
      "[0.498674691 0.49174124 0.490178376 ... 0.478574216 0.495621443 0.477705181]\n",
      "[0.488996 0.493289649 0.498335093 ... 0.493505567 0.495267183 0.493740141]\n",
      "[0.50020957 0.499202162 0.489002377 ... 0.508396327 0.493252933 0.492632359]\n",
      "[0.487355888 0.493407309 0.490917593 ... 0.493911386 0.49004069 0.489655048]\n",
      "[0.498674065 0.488238662 0.505261898 ... 0.505108356 0.492260844 0.491513]\n",
      "[0.49846971 0.500512958 0.500546694]\n",
      "[0.488411278 0.49500972 0.497032434 ... 0.496503472 0.49812302 0.497963578]\n",
      "[0.499712199 0.497982681 0.498437285 ... 0.49344644 0.49189 0.493327886]\n",
      "[0.49659425 0.500034392 0.500270784 ... 0.499656588 0.494618773 0.499539107]\n",
      "[0.498682618 0.49862498 0.498453707]\n",
      "[0.492501438 0.498059571 0.498446763 ... 0.493923515 0.503978074 0.503928423]\n",
      "[0.494057626 0.497187 0.49890852 0.497137487 0.49875772 0.496652961]\n",
      "[0.472496331 0.477348685 0.471284032 ... 0.474612534 0.481563896 0.472596049]\n",
      "[0.487289131 0.483622819 0.488010675 ... 0.449355662 0.503261924 0.446738839]\n",
      "[0.495953321 0.496742666 0.49852398 ... 0.498164088 0.495991737 0.495663583]\n",
      "[0.496825099 0.491936296 0.49229008 ... 0.493162751 0.490393788 0.490340352]\n",
      "[0.495506108 0.488361061 0.495873719 ... 0.495778441 0.495501846 0.495825201]\n",
      "[0.493302077 0.492944866 0.495059669 ... 0.492738724 0.494921595 0.49452135]\n",
      "[0.499742687 0.479304612 0.486697227 ... 0.483863384 0.499378294 0.499319017]\n",
      "[0.498162478 0.498813838 0.497401565 0.498051614 0.4987607 0.498749197]\n",
      "[0.498143852 0.505606711 0.492701232 ... 0.493448913 0.484471828 0.493678212]\n",
      "[0.489401042 0.497039229 0.497065037 ... 0.499430031 0.499447197 0.499452561]\n",
      "[0.49559173 0.495256 0.494550318]\n",
      "[0.49171412 0.494798124 0.499385893 ... 0.474715352 0.485822052 0.469855]\n",
      "[0.499009 0.498011142 0.500423372 ... 0.47269237 0.508147895 0.507291555]\n",
      "[0.499664426]\n",
      "[0.499701738 0.486261576 0.497348338 ... 0.50025034 0.486262798 0.488290101]\n",
      "[0.500804484 0.493484616 0.497555345 0.501390576 0.496898055 0.496514857]\n",
      "[0.494230539 0.503290594 0.499985248 ... 0.492928028 0.475909054 0.475020051]\n",
      "[0.492416799 0.487034023 0.50278455 ... 0.478563488 0.499141097 0.498550087]\n",
      "[0.500272274 0.500379324 0.498765588 ... 0.500583827 0.497898072 0.497614056]\n",
      "[0.500170767 0.467571825 0.461482942]\n",
      "[0.509510875 0.502240479 0.488203466 ... 0.466081262 0.501218379 0.466683835]\n",
      "[0.49322626 0.499645919 0.500583053 ... 0.501655161 0.50743854 0.507722616]\n"
     ]
    },
    {
     "name": "stdout",
     "output_type": "stream",
     "text": [
      "[0.489360422 0.487074137 0.492855787 ... 0.481247395 0.497716874 0.480863959]\n",
      "[0.499126673 0.492328912 0.491250306 ... 0.479045689 0.46762225 0.478128225]\n",
      "[0.492650241]\n",
      "[0.50797379 0.493982255 0.493829191 ... 0.491938233 0.492206782 0.490726858]\n",
      "[0.499766678 0.498150349 0.497958302]\n",
      "[0.492081881 0.49115321 0.49378705 ... 0.488226682 0.494024515 0.4882828]\n",
      "[0.492509276]\n",
      "[0.493212849 0.499986172 0.500662863 0.492210209 0.500774086 0.491288722]\n",
      "[0.487856835 0.492648512 0.492193103]\n",
      "[0.497663975 0.499650985 0.490938306 ... 0.486980438 0.500843585 0.500866592]\n",
      "[0.455577672]\n",
      "[0.48113662 0.489161938 0.497299135 ... 0.490583748 0.494519621 0.491056293]\n",
      "[0.471227944 0.500490844 0.468597919]\n",
      "[0.498497]\n",
      "[0.497518808 0.497861236 0.498828739 ... 0.496050686 0.495674521 0.495132059]\n",
      "[0.499150127 0.498886794 0.498650283]\n",
      "[0.498468578 0.498152792 0.498578697]\n",
      "[0.499160528 0.497689575 0.497496873]\n",
      "[0.499522895]\n",
      "[0.499370188]\n",
      "[0.499186 0.500404716 0.500407875 0.500449181 0.500458121 0.500542581]\n",
      "[0.496969491 0.478047073 0.491922498 ... 0.487399161 0.495255023 0.486951083]\n",
      "[0.499211818]\n",
      "[0.497426569]\n",
      "[0.494632363 0.48605153 0.495307207 ... 0.493484467 0.499606818 0.498853564]\n",
      "[0.499113351 0.495825142 0.492948234 ... 0.49458614 0.485817313 0.494345665]\n",
      "[0.475901186]\n",
      "[0.494199902]\n",
      "[0.503918886]\n",
      "[0.497249216 0.497987092 0.49790749]\n",
      "[0.484218866 0.4929564 0.500514865 ... 0.491574794 0.499856353 0.499870062]\n",
      "[0.490308017 0.490630329 0.49037984]\n",
      "[0.49332726 0.493619174 0.492268473]\n",
      "[0.493099779 0.501347721 0.491381437 ... 0.489082068 0.498389214 0.488589197]\n",
      "[0.493882209 0.492080837 0.488019496 ... 0.490015656 0.486086845 0.490650415]\n",
      "[0.488262266 0.497739732 0.496459]\n",
      "[0.498769224]\n",
      "[0.498404026 0.499826103 0.499840915]\n",
      "[0.476287246]\n",
      "[0.497160196]\n",
      "[0.494824797 0.487829149 0.49801439 ... 0.493228644 0.497273326 0.492117524]\n",
      "[0.492637843 0.499149233 0.49915126]\n",
      "[0.491167873]\n",
      "[0.497179508]\n",
      "[0.496045589]\n",
      "[0.502086699 0.499597251 0.498121649 ... 0.499501824 0.497756839 0.497651249]\n",
      "[0.496024966]\n",
      "[0.498296142 0.497740328 0.497520119]\n",
      "[0.496959418 0.499720782 0.499802321]\n",
      "[0.500161588]\n",
      "[0.486263752 0.498848885 0.500131905 0.49917081 0.499315202 0.499534756]\n",
      "[0.483671784]\n",
      "[0.491057873]\n",
      "[0.499046564]\n",
      "[0.499912322]\n",
      "[0.5017097]\n",
      "[0.491975039]\n",
      "[0.487063974 0.487745285 0.486608058]\n",
      "[0.497406691]\n",
      "[0.486576319]\n",
      "[0.491503268 0.4961178 0.496275216]\n",
      "[0.500491917]\n",
      "[0.479204744]\n",
      "[0.507685423 0.49285695 0.509700835]\n",
      "[0.48755002]\n",
      "[0.499394059]\n",
      "[0.489053 0.486945212 0.495523393 0.487313151 0.493423045 0.485893309]\n",
      "[0.49600026]\n",
      "[0.498221546]\n",
      "[0.493506253]\n",
      "[0.502479315]\n",
      "[0.498739183 0.497073114 0.493481368 ... 0.492207944 0.490564406 0.490871161]\n",
      "[0.505160749 0.498377651 0.499240279]\n",
      "[0.493565589 0.499643087 0.498817891 ... 0.499643624 0.499450058 0.499402225]\n",
      "[0.498355597 0.497447312 0.496673852]\n",
      "[0.49918589]\n",
      "[0.494395375 0.499520361 0.494116127]\n",
      "[0.500044405]\n",
      "[0.495343745 0.493020087 0.49404034]\n",
      "[0.48892048]\n",
      "[0.493167639 0.497229 0.498560369 ... 0.491921216 0.498883605 0.498935074]\n",
      "[0.48980546]\n",
      "[0.499877244]\n",
      "[0.498357028 0.499013096 0.498629391]\n",
      "[0.4954772 0.492241919 0.501983941 ... 0.497847944 0.485319525 0.484677225]\n",
      "[0.486205816 0.498627692 0.496447623 ... 0.497432649 0.500005 0.50008595]\n",
      "[0.496496499]\n",
      "[0.497534186]\n",
      "[0.500151873 0.499361515 0.499386907]\n",
      "[0.500356495]\n",
      "[0.494980931 0.498142153 0.502077878 0.498386919 0.5021981 0.502186358]\n",
      "[0.498984784 0.500924945 0.502633452 ... 0.501339 0.501617193 0.501820624]\n",
      "[0.492105335]\n",
      "[0.49813 0.492357284 0.497338951 ... 0.500361323 0.496204764 0.501097918]\n",
      "[0.489329427 0.497903466 0.49865523 ... 0.475566804 0.47840485 0.477812171]\n",
      "[0.490682036 0.500377417 0.500927567]\n",
      "[0.495737284 0.493975669 0.496204168 ... 0.489593536 0.492565602 0.489310831]\n",
      "[0.500065]\n",
      "[0.491260469 0.498066932 0.497376531 ... 0.476531059 0.491360605 0.490920573]\n",
      "[0.492684186 0.495496124 0.497371197 ... 0.506272 0.508000851 0.508542895]\n",
      "[0.496073395 0.497739 0.493800908 ... 0.489622474 0.494186491 0.488491923]\n",
      "[0.496314436 0.500124872 0.495613396 ... 0.495282143 0.496334 0.495960236]\n",
      "[0.481637836 0.491701961 0.49628672 ... 0.498843521 0.488915443 0.487032443]\n",
      "[0.498251826 0.497815371 0.495207638 ... 0.493845522 0.487737805 0.487881929]\n",
      "[0.497234702 0.488816619 0.49268654 ... 0.497626543 0.495175213 0.495220512]\n",
      "[0.484668 0.491430104 0.496346056 ... 0.476696521 0.49608779 0.476445735]\n",
      "[0.497172832]\n",
      "[0.499744773 0.494909495 0.494568914 ... 0.49417612 0.498035699 0.4938021]\n",
      "[0.492757261 0.490691185 0.489555418 ... 0.491014481 0.496049732 0.49079302]\n",
      "[0.491878808 0.499103844 0.500211477 ... 0.454135954 0.50163 0.501722336]\n",
      "[0.498230726 0.514104 0.488354266 0.520925522 0.485212773 0.526071608]\n",
      "[0.497943193 0.500451446 0.499608576 0.500324786 0.499471188 0.499374658]\n",
      "[0.493553281]\n",
      "[0.493814439 0.490298361 0.49796474 ... 0.482412398 0.473134696 0.474036783]\n",
      "[0.499996841 0.4999924 0.499937534]\n",
      "[0.494640499]\n",
      "[0.497752696 0.502680659 0.494772673 ... 0.497513801 0.498127222 0.497355461]\n",
      "[0.503651202 0.496387452 0.487189531 ... 0.504277647 0.489503622 0.487158716]\n",
      "[0.496541888 0.49850744 0.498319536]\n",
      "[0.498580307 0.498321563 0.498249859 0.498756021 0.49832949 0.498857081]\n",
      "[0.497919649]\n",
      "[0.495508194 0.494292796 0.499971569 ... 0.490005732 0.493051559 0.489613503]\n",
      "[0.497209907 0.489209861 0.496665269 0.490992129 0.496788442 0.497881919]\n",
      "[0.499908835]\n",
      "[0.490321249 0.497550577 0.496959865]\n",
      "[0.497400045]\n",
      "[0.489969432]\n",
      "[0.497362047 0.495744407 0.495142549]\n",
      "[0.495299459]\n",
      "[0.498090029 0.495956331 0.499575 0.499290287 0.499464512 0.500393927]\n",
      "[0.492587805 0.495417029 0.495927036 ... 0.49085775 0.48879391 0.489292264]\n",
      "[0.498208731 0.492765754 0.491585761]\n",
      "[0.47942248 0.496005446 0.490507 ... 0.482870847 0.494061232 0.498970628]\n",
      "[0.499272406 0.498101473 0.500285745 0.4988783 0.499778867 0.499698669]\n",
      "[0.488128841]\n",
      "[0.497154623 0.500357568 0.500251472]\n",
      "[0.499124616]\n",
      "[0.494744152]\n",
      "[0.491405696 0.500005662 0.500458241 0.490156323 0.500156283 0.499228537]\n",
      "[0.497906268 0.497041494 0.49278 ... 0.493135363 0.498497933 0.498447537]\n",
      "[0.474986136]\n",
      "[0.497672826 0.498493373 0.498815447 0.498260498 0.498471648 0.498261839]\n",
      "[0.498410463]\n",
      "[0.483913302 0.489445746 0.495019644 ... 0.486386389 0.492704451 0.492313772]\n",
      "[0.486642033]\n",
      "[0.484244704 0.488253206 0.498434126 ... 0.494043022 0.498687387 0.495175302]\n",
      "[0.496231794]\n",
      "[0.495033056 0.495362 0.49424848]\n",
      "[0.503138542 0.496885151 0.496623278 ... 0.49360916 0.488532126 0.488100678]\n",
      "[0.495807648 0.497601688 0.498648584 ... 0.492073148 0.497363299 0.496812671]\n",
      "[0.493637979 0.501359105 0.492733568 ... 0.489330143 0.507880211 0.507691264]\n",
      "[0.499359161 0.487968862 0.493116707 ... 0.486682802 0.498493671 0.484288454]\n",
      "[0.481599331]\n",
      "[0.492369413 0.495416403 0.502472699 ... 0.514297962 0.50524044 0.505950451]\n",
      "[0.488521874 0.497727662 0.499864161 ... 0.495174527 0.500152469 0.500167191]\n",
      "[0.498898327 0.494981229 0.493514389 ... 0.481075227 0.492765 0.493757367]\n",
      "[0.51100558 0.500074148 0.498908669 ... 0.510262787 0.499773771 0.509724736]\n",
      "[0.483739197 0.501888037 0.502858341 ... 0.494661212 0.497532904 0.494800746]\n",
      "[0.49763304 0.494543731 0.494325161]\n",
      "[0.484385729 0.499314189 0.496066362 ... 0.49428919 0.50872004 0.493359596]\n",
      "[0.490810692 0.499064922 0.498921156 ... 0.493322879 0.496912718 0.49627912]\n",
      "[0.501069 0.496837467 0.487924039 ... 0.502058566 0.49970302 0.499462306]\n",
      "[0.498244286 0.501774 0.496084273 0.497298449 0.503052354 0.503838658]\n",
      "[0.467213 0.496646255 0.48323825 ... 0.476276696 0.493537933 0.492062539]\n",
      "[0.498093188]\n",
      "[0.486064434 0.49805662 0.49624002 ... 0.482401311 0.499476433 0.499992549]\n",
      "[0.494769156 0.489064634 0.494359225 ... 0.500255167 0.502196312 0.501447]\n",
      "[0.497077614 0.498712 0.499995917 ... 0.49974674 0.495552242 0.494883925]\n",
      "[0.499821275]\n",
      "[0.488377422 0.50344485 0.490105063 0.489103049 0.490739912 0.489698172]\n",
      "[0.499355018 0.494112343 0.499414444 ... 0.499364316 0.490751982 0.499356121]\n",
      "[0.498281449 0.490830749 0.472885191 ... 0.46851185 0.433645874 0.429528415]\n",
      "[0.500505269]\n",
      "[0.498427182 0.49894315 0.49783802 ... 0.498557419 0.498923659 0.49929142]\n",
      "[0.49449259]\n",
      "[0.499357671 0.499899656 0.499891937]\n",
      "[0.493886203 0.500240922 0.496210158 ... 0.512772 0.501533031 0.513437927]\n",
      "[0.493077725 0.495735317 0.49170804 ... 0.502412379 0.50735563 0.507469177]\n",
      "[0.495631486 0.496608734 0.495251 ... 0.499238849 0.499174237 0.499898911]\n"
     ]
    },
    {
     "name": "stdout",
     "output_type": "stream",
     "text": [
      "[0.466288179 0.488899469 0.48742947 ... 0.431724697 0.498203814 0.428126812]\n",
      "[0.500055075 0.492154688 0.499064058 ... 0.497092098 0.500028551 0.500091255]\n",
      "[0.491889507 0.498164624 0.495607585 ... 0.493986458 0.494861871 0.493027598]\n",
      "[0.496886522]\n",
      "[0.49225539 0.500561655 0.485268801 ... 0.484208137 0.499188721 0.49885729]\n",
      "[0.492830038 0.488831043 0.48710236 ... 0.478288293 0.49658674 0.497370541]\n",
      "[0.499145448 0.499503 0.499430865]\n",
      "[0.498155504 0.49952811 0.499518901]\n",
      "[0.481265038 0.497404516 0.494986236 ... 0.499042541 0.498706311 0.498642951]\n",
      "[0.495935589 0.495888859 0.496455938 ... 0.497022748 0.506359398 0.497125089]\n",
      "[0.480444044 0.498172045 0.498764634 ... 0.474554062 0.497442961 0.470996499]\n",
      "[0.484183371 0.496987909 0.498624 ... 0.491060525 0.488489687 0.488277674]\n",
      "[0.49765709 0.495348066 0.494113326 ... 0.502782345 0.492493421 0.492028385]\n",
      "[0.496679723 0.494295239 0.493941963 ... 0.50210011 0.494133145 0.493726879]\n",
      "[0.495542347 0.492036641 0.494407892 ... 0.484524518 0.395221412 0.482625395]\n",
      "[0.483668745 0.488968283 0.494124919 ... 0.492099226 0.493699461 0.49333775]\n",
      "[0.494183749]\n",
      "[0.500444949 0.497534871 0.499113917 ... 0.492741615 0.509945333 0.493506342]\n",
      "[0.496272832 0.497456163 0.498376131 ... 0.495247692 0.497629404 0.497358292]\n",
      "[0.496057093 0.499071091 0.499197215 ... 0.498668224 0.499594182 0.498677313]\n",
      "[0.498727798 0.489416569 0.494179755 ... 0.49367851 0.498638928 0.498610675]\n",
      "[0.495664984 0.495853454 0.494730413 0.495166481 0.493773907 0.4926548]\n",
      "[0.493583649 0.472079635 0.495681763 ... 0.492775589 0.498544037 0.498001963]\n",
      "[0.495108515 0.487198949 0.480742931 ... 0.452144742 0.494031459 0.448555827]\n",
      "[0.493933558 0.488902837 0.496814162 ... 0.501996636 0.48898688 0.5008]\n",
      "[0.503870308 0.499681324 0.496566921 ... 0.495278656 0.498858124 0.499149233]\n",
      "[0.496409833 0.465684652 0.496697098 ... 0.437703967 0.486052 0.486775815]\n",
      "[0.496813506 0.487781674 0.48751539 ... 0.493223041 0.49308 0.492505878]\n",
      "[0.496549934 0.498888314 0.499119967 ... 0.499288 0.490002275 0.48844406]\n",
      "[0.49114874 0.482093632 0.495170683 ... 0.495448083 0.492772877 0.495868951]\n",
      "[0.495953321 0.490923673 0.495897144 0.48987484 0.49515897 0.494295835]\n",
      "[0.498214066 0.49708575 0.497078151 ... 0.495355815 0.496010929 0.495861471]\n",
      "[0.497051984 0.495552957 0.49450627 ... 0.493483186 0.498119801 0.497848213]\n",
      "[0.489176124 0.496908277 0.494822323]\n",
      "[0.493546903 0.473222077 0.49792707 ... 0.476605773 0.491664141 0.475764543]\n",
      "[0.496587336 0.494998634 0.49554497 ... 0.500482619 0.497801632 0.497702062]\n",
      "[0.48624593 0.489492744 0.496326804 ... 0.483550042 0.494051933 0.482754946]\n",
      "[0.486504167 0.487906784 0.49245438 ... 0.493741572 0.498949468 0.499064177]\n",
      "[0.498853862 0.500688851 0.498322 ... 0.489760518 0.498739541 0.489424497]\n",
      "[0.500104129]\n",
      "[0.496127695 0.496983051 0.494422048 0.496317953 0.493576765 0.492699385]\n",
      "[0.492159754]\n",
      "[0.495227039]\n",
      "[0.492761046]\n",
      "[0.498726457]\n",
      "[0.464991719 0.494442761 0.500076294 ... 0.479447246 0.492418885 0.492838413]\n",
      "[0.499120742 0.498399556 0.496737868 ... 0.498383641 0.496729046 0.496643126]\n",
      "[0.498354584 0.496279985 0.491723716 ... 0.498677462 0.495004743 0.495058864]\n",
      "[0.49772504 0.498410046 0.508744657 ... 0.494194359 0.494903773 0.494891763]\n",
      "[0.494956315 0.496980637 0.497533977 ... 0.502216101 0.502907634 0.503017843]\n",
      "[0.512775 0.483634531 0.494193226 ... 0.46641928 0.510893762 0.513403654]\n",
      "[0.496816725 0.497070849 0.495640874 ... 0.492206156 0.492541164 0.492978394]\n",
      "[0.491945982 0.495735258 0.493965924 ... 0.498571217 0.499856 0.499833435]\n",
      "[0.492735684 0.496690422 0.498025835 ... 0.49073416 0.498134434 0.488982439]\n",
      "[0.486451328 0.487799495 0.497077912 ... 0.483753502 0.489571601 0.48887825]\n",
      "[0.495215535 0.496553957 0.497419178 ... 0.496039331 0.496365756 0.495464683]\n",
      "[0.49685955 0.491028309 0.492381752 0.494701862 0.488918066 0.488384098]\n",
      "[0.493039221 0.490931153 0.49289763 ... 0.480175316 0.473992407 0.48095414]\n",
      "[0.490745723 0.477482 0.499864399 ... 0.483376026 0.475623906 0.473239243]\n",
      "[0.491742671 0.502682745 0.500467122 ... 0.473248959 0.49941054 0.499120116]\n",
      "[0.499022603 0.495037764 0.496486336 ... 0.494204819 0.494938314 0.493643373]\n",
      "[0.468524367]\n",
      "[0.501127362 0.501069486 0.502921224]\n",
      "[0.492779106 0.507243693 0.499085784 ... 0.497941673 0.498108417 0.497997642]\n",
      "[0.496564835 0.494784057 0.496695518]\n",
      "[0.498170048]\n",
      "[0.494988203 0.494595438 0.492378145 ... 0.499504656 0.498763472 0.499264777]\n",
      "[0.493268341 0.482622325 0.477426618]\n",
      "[0.49364 0.500191152 0.498426586 ... 0.496163 0.497878313 0.497582734]\n",
      "[0.499169737 0.497720212 0.497465044 ... 0.4950791 0.49757117 0.494871408]\n",
      "[0.503094792 0.475813031 0.494564325 ... 0.502913117 0.49256891 0.502856314]\n",
      "[0.498614103 0.49791491 0.498026788 ... 0.499682754 0.500003815 0.499740332]\n",
      "[0.494051933 0.48663491 0.489915341 ... 0.496411741 0.497185647 0.497024834]\n",
      "[0.49019 0.496682763 0.500237882 0.487951666 0.500288308 0.485440105]\n",
      "[0.492505699 0.498294264 0.497009248 0.496287704 0.496812046 0.494434476]\n",
      "[0.488910407]\n",
      "[0.498714626]\n",
      "[0.498549074]\n",
      "[0.495313436 0.497870356 0.493925959 ... 0.49491322 0.497332633 0.497143775]\n",
      "[0.494316965 0.498615533 0.499984324 ... 0.491311133 0.49241522 0.489898443]\n",
      "[0.482981235 0.49902913 0.496254891 0.498582691 0.495578736 0.4981]\n",
      "[0.489640236 0.497021914 0.499109834 ... 0.4888753 0.49320662 0.492874026]\n",
      "[0.504783332 0.499739319 0.499670058]\n",
      "[0.499578208 0.492008984 0.499296218 ... 0.494787365 0.500548542 0.494620532]\n",
      "[0.502807915 0.49744463 0.494834274 0.496607542 0.493875653 0.492758781]\n",
      "[0.491530269]\n",
      "[0.498274028 0.501369298 0.497621745]\n",
      "[0.496409237 0.497111768 0.497425109 ... 0.496184021 0.493674248 0.495378226]\n",
      "[0.490832746]\n",
      "[0.499657094 0.497359753 0.497167349 ... 0.494574785 0.499568284 0.499520928]\n",
      "[0.494874775 0.499678552 0.499777943]\n",
      "[0.496329606]\n",
      "[0.499135077 0.496644527 0.491846263 ... 0.491327524 0.499899209 0.499878883]\n",
      "[0.497603446 0.499673367 0.498139083 ... 0.498639911 0.503617883 0.504098773]\n",
      "[0.491004139 0.495623022 0.495196164 ... 0.482877254 0.492722452 0.492704242]\n",
      "[0.497427076 0.48673749 0.499826938 ... 0.477909416 0.49604407 0.476947069]\n",
      "[0.464785695 0.499253929 0.498213917 ... 0.497867405 0.487255096 0.486827642]\n",
      "[0.497456342 0.497977525 0.499158531 ... 0.496557951 0.494315237 0.493973285]\n",
      "[0.484156102 0.49753 0.493155092 ... 0.490412176 0.505974174 0.505943477]\n",
      "[0.477048784 0.496380895 0.495314568 ... 0.493117869 0.478726625 0.47904551]\n",
      "[0.495191544 0.494973034 0.495406091 ... 0.497533232 0.494784623 0.495022833]\n",
      "[0.505514741 0.507914245 0.506501 ... 0.516262233 0.513266802 0.515982866]\n",
      "[0.498627365 0.49918434 0.499228686]\n",
      "[0.481531888 0.493773818 0.492241532]\n",
      "[0.495744675 0.499139279 0.495506227]\n",
      "[0.498763]\n",
      "[0.499083459 0.496352017 0.495165259]\n",
      "[0.500614703 0.497579098 0.497395605]\n",
      "[0.495071709]\n",
      "[0.499154091]\n",
      "[0.498601407 0.494179755 0.496491849 ... 0.498767704 0.498627335 0.498527437]\n",
      "[0.500175893 0.487000883 0.499154568 ... 0.480466783 0.500656 0.500842512]\n",
      "[0.490041 0.493291706 0.496204793 ... 0.491722256 0.494951665 0.494517386]\n",
      "[0.486116558 0.489006221 0.487442523 ... 0.488330066 0.49369508 0.493587941]\n",
      "[0.49663958 0.500553429 0.500436842 ... 0.499253035 0.485088944 0.483756125]\n",
      "[0.493305594 0.502825379 0.479044795 ... 0.502438784 0.49663049 0.496039033]\n",
      "[0.498074234 0.498185039 0.497969538 ... 0.493546695 0.49765256 0.49759227]\n",
      "[0.502227902 0.476294667 0.501976848 ... 0.509828269 0.499410212 0.512491524]\n",
      "[0.479616344 0.497684866 0.498714805 ... 0.495966405 0.488816619 0.49581033]\n",
      "[0.492964268 0.507242262 0.492904633]\n",
      "[0.492917866 0.489822835 0.486962408 ... 0.488684982 0.487857401 0.486981452]\n",
      "[0.498033375 0.501188695 0.489980519 ... 0.478329599 0.482786328 0.480541497]\n",
      "[0.490197271 0.50126338 0.49704513 ... 0.470457464 0.474866211 0.474275]\n",
      "[0.492690533 0.498662 0.502574146 ... 0.486016423 0.497851044 0.49923259]\n",
      "[0.499977022 0.499984264 0.497388721 0.499984622 0.497170836 0.496935308]\n",
      "[0.477204591]\n",
      "[0.492907 0.489397347 0.49299261 ... 0.442506075 0.457735628 0.443254769]\n",
      "[0.499598712]\n",
      "[0.491873711 0.497473061 0.495186657 ... 0.498906493 0.499477774 0.499521852]\n",
      "[0.496458411 0.479177415 0.498072684 ... 0.506791532 0.508212268 0.506562]\n",
      "[0.497642815 0.4813281 0.482174218 ... 0.497524351 0.499893457 0.49970594]\n",
      "[0.495613307 0.497040242 0.499138087 ... 0.500953317 0.499823034 0.499811649]\n"
     ]
    },
    {
     "name": "stdout",
     "output_type": "stream",
     "text": [
      "[0.491135 0.478408515 0.488074273 ... 0.494701177 0.499798596 0.499795765]\n",
      "[0.483085334 0.495758951 0.492118925 ... 0.480801135 0.487048149 0.487000912]\n",
      "[0.488901407 0.494556487 0.496140718 ... 0.509734809 0.490902185 0.486909]\n",
      "[0.487042785 0.492089 0.496614218 ... 0.495595485 0.499863058 0.495282561]\n",
      "[0.49983421 0.496354759 0.497412086 ... 0.502210557 0.496366501 0.495826334]\n",
      "[0.498592228 0.499602854 0.472067297 ... 0.493425727 0.497013927 0.496836036]\n",
      "[0.495690674 0.492908508 0.501966357 ... 0.495739818 0.496167332 0.495549]\n",
      "[0.491745859 0.493618727 0.494992316 ... 0.490829438 0.493761778 0.493442208]\n",
      "[0.500860512 0.481528491 0.498621106 ... 0.50981462 0.512645662 0.513149738]\n",
      "[0.509725273 0.491649598 0.498898238 ... 0.491132945 0.499694139 0.490443349]\n",
      "[0.491660833 0.496149331 0.495963931 ... 0.476775408 0.491048664 0.490742952]\n",
      "[0.478744149 0.497593403 0.492211729 ... 0.494271576 0.49649471 0.494252592]\n",
      "[0.486626595 0.492791981 0.494080126 ... 0.490986824 0.492343098 0.491895139]\n",
      "[0.497639328 0.494242907 0.498379678 ... 0.496902168 0.499579728 0.496753305]\n",
      "[0.494946152 0.499534488 0.498482227 ... 0.497883767 0.497169852 0.496888906]\n",
      "[0.497968286 0.499591976 0.498859048 ... 0.499245346 0.498850137 0.499278963]\n",
      "[0.493495852 0.492931783 0.495899707 ... 0.491782665 0.49231723 0.492254436]\n",
      "[0.49518311 0.496626079 0.496528178]\n",
      "[0.498148143]\n",
      "[0.501294792 0.497797221 0.497760624 ... 0.445680022 0.491839737 0.491392106]\n",
      "[0.496242404 0.499131382 0.498997957 ... 0.495780617 0.491404027 0.495558262]\n",
      "[0.478049636 0.497938126 0.489869386 ... 0.490765363 0.498816431 0.49786222]\n",
      "[0.501310945 0.496267587 0.501364052 0.496054381 0.501730502 0.502172112]\n",
      "[0.498716414 0.498736978 0.499748439 0.498777837 0.499799192 0.498778701]\n",
      "[0.484916568 0.494144231 0.478369772 ... 0.479473591 0.470162868 0.479823321]\n",
      "[0.498790085 0.497013628 0.496734351]\n",
      "[0.498838782 0.49915719 0.498985469]\n",
      "[0.488919377 0.502057195 0.504045 ... 0.446830899 0.499542892 0.500544846]\n",
      "[0.500393 0.498267472 0.493303537 0.49977991 0.493384272 0.497914463]\n",
      "[0.477989674 0.496688038 0.475493401]\n",
      "[0.49773708 0.490039587 0.497842044 0.488325745 0.497534543 0.486584038]\n",
      "[0.497343689]\n",
      "[0.492446601 0.492464751 0.491032183 ... 0.436784506 0.500150263 0.500314474]\n",
      "[0.501059532]\n",
      "[0.504525244 0.493655264 0.493725777 0.493338764 0.494654387 0.492726296]\n",
      "[0.495887518 0.491401911 0.494750589]\n",
      "[0.497887522 0.498667955 0.497587]\n",
      "[0.497663319 0.499903381 0.499973744]\n",
      "[0.493354738]\n",
      "[0.49836722]\n",
      "[0.489060462 0.500497222 0.499751419 0.500178039 0.499547839 0.500060081]\n",
      "[0.496601939 0.499451905 0.496410161]\n",
      "[0.495054841 0.500740826 0.497179568 ... 0.491074711 0.491409093 0.491041154]\n",
      "[0.497714311 0.478125751 0.479503065 ... 0.499745697 0.500583947 0.499937952]\n",
      "[0.483686954 0.484949499 0.495427281 ... 0.495827645 0.496861637 0.494897336]\n",
      "[0.504413366]\n",
      "[0.469744027]\n",
      "[0.493585 0.498740315 0.493323356]\n",
      "[0.490459025 0.497395754 0.488425344]\n",
      "[0.481402844]\n",
      "[0.495912939 0.499162912 0.498472512 ... 0.498297423 0.495593727 0.495566308]\n",
      "[0.494510829]\n",
      "[0.498774201 0.497539699 0.496445984 ... 0.496088088 0.495196 0.496039212]\n",
      "[0.500013709 0.49807781 0.499591589]\n",
      "[0.498159021]\n",
      "[0.491673827]\n",
      "[0.499765426]\n",
      "[0.494347423 0.495653301 0.488281 ... 0.48787567 0.501565874 0.501774788]\n",
      "[0.494319886]\n",
      "[0.516733706]\n",
      "[0.497926414 0.493932188 0.491360277 ... 0.495238543 0.49829933 0.498267919]\n",
      "[0.495559841 0.497663349 0.494447708 ... 0.480522424 0.499611 0.499638766]\n",
      "[0.49771148]\n",
      "[0.495909959]\n",
      "[0.497791 0.494467616 0.497500539 ... 0.493256569 0.499486625 0.492870957]\n",
      "[0.494033098 0.492333353 0.49586755 ... 0.493550748 0.490653 0.492596596]\n",
      "[0.487314731 0.496288776 0.498303533 ... 0.500169456 0.492722183 0.492695451]\n",
      "[0.490278214 0.478610516 0.497490168 ... 0.495406 0.496361583 0.496059775]\n",
      "[0.495683551 0.489058495 0.497670859 ... 0.499040812 0.49678582 0.496317208]\n",
      "[0.494638383 0.497174978 0.497981697 ... 0.490689635 0.496612519 0.490034044]\n",
      "[0.489559084 0.497256905 0.494321883 0.488741696 0.493807882 0.490101069]\n",
      "[0.495304823 0.496793687 0.499415845 ... 0.492321461 0.501040339 0.490528911]\n",
      "[0.49677366]\n",
      "[0.48621738 0.49543789 0.505845 ... 0.479097903 0.494953543 0.496165484]\n",
      "[0.496835828]\n",
      "[0.500651598]\n",
      "[0.494242698]\n",
      "[0.497184396 0.493836522 0.488904595 ... 0.495779485 0.486979663 0.495980918]\n",
      "[0.498712212 0.485136569 0.495888054 ... 0.491492838 0.496342093 0.496225238]\n",
      "[0.491320074 0.495411098 0.49786827 ... 0.490545243 0.499876291 0.499862552]\n",
      "[0.489658833 0.496961653 0.497252524 ... 0.499043792 0.497207105 0.496757239]\n",
      "[0.497875 0.500039339 0.499665022 0.497726023 0.499686331 0.49758333]\n",
      "[0.497345656 0.486257315 0.484364629]\n",
      "[0.504420221 0.494466901 0.492924064 0.502324939 0.493619531 0.502237737]\n",
      "[0.492905974 0.497641653 0.49822709 0.491680801 0.497249246 0.490620494]\n",
      "[0.496792823 0.497350067 0.496516168]\n",
      "[0.495941848]\n",
      "[0.491289079 0.470349103 0.497437894 ... 0.491208881 0.493625045 0.491218835]\n",
      "[0.494775 0.500025153 0.500003397]\n",
      "[0.491738409 0.494744301 0.490577728 ... 0.493278742 0.489432305 0.492189407]\n",
      "[0.497567177 0.496691555 0.49585098]\n",
      "[0.496229142 0.4936966 0.495811194]\n",
      "[0.478239357]\n",
      "[0.482914418 0.498928398 0.498859286 ... 0.499029219 0.497889429 0.497605801]\n",
      "[0.49579078 0.498275101 0.498155087]\n",
      "[0.499197096 0.482710898 0.484425485 ... 0.486818582 0.488390535 0.488995492]\n",
      "[0.492083609 0.494093925 0.493630588]\n",
      "[0.492262602]\n",
      "[0.502846062 0.498477757 0.498755813 ... 0.501130521 0.499057978 0.50230056]\n",
      "[0.495927095]\n",
      "[0.498230964 0.488369733 0.494742393 ... 0.496347427 0.482717425 0.495872438]\n",
      "[0.490262598]\n",
      "[0.498642892 0.489423543 0.497097135 ... 0.485318363 0.505127907 0.483004]\n",
      "[0.493380785]\n",
      "[0.490212381 0.4960078 0.498575658 0.489669591 0.495751172 0.488892585]\n",
      "[0.483687192 0.502819598 0.494591653 ... 0.467564166 0.469538242 0.465160042]\n",
      "[0.487794936 0.50013119 0.486281723]\n",
      "[0.480569184 0.501536369 0.496983558 ... 0.497060776 0.498553097 0.498798251]\n",
      "[0.491921276 0.496734202 0.497410208]\n",
      "[0.497619212]\n",
      "[0.493716508 0.494134605 0.49172017]\n",
      "[0.49295938 0.499060094 0.497097164 0.491489023 0.496818542 0.489295602]\n",
      "[0.496412069]\n",
      "[0.503165]\n",
      "[0.500751734 0.499909 0.498984 ... 0.500949204 0.486480027 0.50173068]\n",
      "[0.503448784 0.497165501 0.497648478 ... 0.49187392 0.477805257 0.477886677]\n",
      "[0.497213691 0.491402566 0.495970875 0.497826606 0.491457939 0.491303682]\n",
      "[0.499173969]\n",
      "[0.496290356 0.486449063 0.496400684 ... 0.502729774 0.499834 0.499321759]\n",
      "[0.500739872 0.49662894 0.490710109 0.501019299 0.489136368 0.501313925]\n",
      "[0.482160568 0.477261841 0.495481521 ... 0.475073844 0.492091924 0.487506628]\n",
      "[0.489597261 0.465739936 0.492669672 ... 0.504130721 0.495405525 0.495845]\n",
      "[0.50784272 0.476583213 0.49593696 ... 0.557672858 0.485578537 0.556897283]\n",
      "[0.508461118 0.467632115 0.499448597 0.449233383 0.499909908 0.434959948]\n",
      "[0.495782465 0.500757933 0.500296831 0.495582551 0.501108646 0.495769918]\n",
      "[0.500224173 0.498462647 0.504098952 0.500414371 0.505964398 0.500875711]\n",
      "[0.487899274 0.499708 0.486803621]\n",
      "[0.497723043 0.499812424 0.498197019 0.497496963 0.499639422 0.49732253]\n",
      "[0.494367808]\n",
      "[0.496764541 0.486996 0.494033158 ... 0.49575904 0.503088653 0.502694786]\n",
      "[0.489155 0.498674244 0.501215518 ... 0.486257523 0.500514388 0.499444038]\n",
      "[0.491844177 0.496255189 0.495908886]\n",
      "[0.500873327]\n",
      "[0.495711654 0.500267625 0.500621915 ... 0.500887036 0.501232 0.501395762]\n",
      "[0.493997544]\n",
      "[0.496194065]\n",
      "[0.486893088 0.500467837 0.499037445 ... 0.497934282 0.487745076 0.487715334]\n",
      "[0.491207212 0.481791496 0.497321606 0.490313321 0.481616288 0.479833692]\n",
      "[0.492346883 0.491788983 0.498957306 ... 0.488669068 0.485104948 0.48331207]\n",
      "[0.502674 0.466698915 0.498111695 ... 0.495054454 0.490594953 0.49064073]\n",
      "[0.482737541 0.497639775 0.489571095 ... 0.484093547 0.494379789 0.494255364]\n",
      "[0.497576594 0.4854967 0.50151825 ... 0.502020895 0.502048135 0.502213597]\n",
      "[0.494315207 0.500107288 0.500114918 ... 0.490572244 0.500277698 0.488613635]\n",
      "[0.499145478 0.498184919 0.499120831]\n",
      "[0.492777556 0.497211516 0.49910146 ... 0.499834716 0.49353683 0.499868155]\n",
      "[0.485293508 0.472636938 0.498696178 ... 0.517811835 0.508453608 0.509143412]\n",
      "[0.498312652]\n",
      "[0.498632342 0.500146925 0.500215352]\n",
      "[0.490007639]\n",
      "[0.498757273]\n",
      "[0.488081843 0.486357838 0.484667838 ... 0.479201645 0.503946841 0.478179514]\n"
     ]
    },
    {
     "name": "stdout",
     "output_type": "stream",
     "text": [
      "[0.489216834 0.491025954 0.496194601 ... 0.5199278 0.51649189 0.516878366]\n",
      "[0.493738949 0.500517726 0.498704791 ... 0.49786514 0.494631261 0.497837514]\n",
      "[0.495831221 0.499008238 0.498361588 0.495472461 0.498341173 0.4983854]\n",
      "[0.497036397 0.498067081 0.497868687]\n",
      "[0.468127191 0.494898885 0.49219808 ... 0.500850558 0.499700576 0.499958]\n",
      "[0.487404436 0.497698218 0.495893508 ... 0.494394273 0.461525202 0.462334812]\n",
      "[0.498946548]\n",
      "[0.494137138 0.496626198 0.498648971 0.493431807 0.49638921 0.492830455]\n",
      "[0.493282109 0.494712979 0.498867214 ... 0.498472333 0.5 0.5]\n",
      "[0.498573869 0.491803765 0.493607819 ... 0.491247773 0.49286297 0.490627825]\n",
      "[0.49190864 0.489305526 0.494344741 ... 0.489910752 0.496054351 0.489349216]\n",
      "[0.490532815]\n",
      "[0.498023272 0.492327213 0.499433428 ... 0.497591168 0.490423232 0.497577071]\n",
      "[0.485096 0.499914676 0.500067711 ... 0.4767088 0.501021802 0.501104176]\n",
      "[0.492812097 0.490297198 0.498521179 0.491861671 0.489034146 0.488982022]\n",
      "[0.498022735 0.497858018 0.497864395 0.497581899 0.497588664 0.497153819]\n",
      "[0.489293158 0.498335868 0.487764478]\n",
      "[0.489273071 0.490310431 0.499635607 ... 0.488155693 0.497831523 0.487094939]\n",
      "[0.497406572 0.499700755 0.498736948 ... 0.498394877 0.50077492 0.500944734]\n",
      "[0.497865379 0.495239884 0.489429384 ... 0.496693909 0.497285485 0.496310085]\n",
      "[0.490810752 0.496702015 0.498993427 ... 0.489329785 0.496446073 0.48851648]\n",
      "[0.50066942]\n",
      "[0.493726194 0.49439171 0.496365339 ... 0.491768539 0.496045619 0.495957315]\n",
      "[0.499793738]\n",
      "[0.499182165]\n",
      "[0.497748494 0.48787418 0.496645927]\n",
      "[0.476913303 0.495935589 0.484518379 ... 0.503789902 0.49916482 0.499234885]\n",
      "[0.496750951 0.48993659 0.49780488 0.488875 0.498357505 0.488205463]\n",
      "[0.490775704 0.49505353 0.49806723 ... 0.488568038 0.501324534 0.501583159]\n",
      "[0.4999578]\n",
      "[0.493875742 0.494582981 0.487115294 ... 0.497148365 0.497148126 0.497176439]\n",
      "[0.492617875]\n",
      "[0.496872365 0.498241305 0.497501135]\n",
      "[0.49782002 0.49797672 0.496129334 ... 0.496692896 0.498330504 0.498507172]\n",
      "[0.493554682 0.498635203 0.498415053]\n",
      "[0.488532454 0.495349675 0.49827227 ... 0.491293252 0.499281347 0.499384373]\n",
      "[0.486175358 0.486800164 0.496562749 ... 0.48320061 0.486699432 0.47830236]\n",
      "[0.497783303 0.498053938 0.498215467 ... 0.494504154 0.489555329 0.489260584]\n",
      "[0.497831 0.503853202 0.500039577 ... 0.497554481 0.505618215 0.506245613]\n",
      "[0.499714464 0.499755621 0.500007093 ... 0.498719126 0.497944415 0.49738124]\n",
      "[0.494775921 0.492728084 0.499601 ... 0.499747038 0.498581618 0.499687761]\n",
      "[0.477003962 0.498876512 0.499857157 ... 0.499454 0.499482214 0.499462903]\n",
      "[0.495069623]\n",
      "[0.497159272 0.492940336 0.49214977 ... 0.491802186 0.49276942 0.491794586]\n",
      "[0.489116549 0.499871373 0.499976039 ... 0.504287899 0.503206313 0.503278911]\n",
      "[0.48592633]\n",
      "[0.493618429 0.493065268 0.498814017 0.493322432 0.49259007 0.49432525]\n",
      "[0.489160687 0.491515666 0.468794018 ... 0.492467672 0.492762566 0.488817036]\n",
      "[0.493433893 0.496968776 0.494692624]\n",
      "[0.495747566 0.499751568 0.498526126 ... 0.493999451 0.494737983 0.494039029]\n",
      "[0.493335932 0.4934645 0.486850828 ... 0.492705256 0.499491066 0.492636383]\n",
      "[0.497025847 0.494109899 0.498878062 ... 0.492523223 0.498083 0.492166191]\n",
      "[0.494273245 0.499215156 0.498865 ... 0.490933031 0.498002648 0.497833967]\n",
      "[0.492170513 0.49980852 0.499796897]\n",
      "[0.499576479]\n",
      "[0.474385142 0.495738149 0.498265028 ... 0.443154812 0.488810688 0.487656415]\n",
      "[0.501367688 0.499680549 0.497879028 ... 0.496645123 0.499915242 0.500287414]\n",
      "[0.497534245 0.497929454 0.499176949 ... 0.497825354 0.497825861 0.497697175]\n",
      "[0.494085759 0.48978284 0.488144875 ... 0.476044208 0.496897399 0.496282816]\n",
      "[0.497711033 0.497451246 0.497274309 ... 0.496984333 0.497709781 0.497569978]\n",
      "[0.502200127 0.49411121 0.50257194 ... 0.496751279 0.498657018 0.496884376]\n",
      "[0.498719692 0.490616024 0.482389241 ... 0.497140586 0.466692984 0.466581553]\n",
      "[0.496862859]\n",
      "[0.495977104]\n",
      "[0.492012531 0.489444643 0.488013476 ... 0.483555 0.483548164 0.480548471]\n",
      "[0.492490947 0.500049531 0.500052452]\n",
      "[0.486856222 0.480318487 0.498083562 ... 0.498336643 0.495016605 0.495118141]\n",
      "[0.495822728 0.498030514 0.498623431 ... 0.506038547 0.500570178 0.501066]\n",
      "[0.498700052 0.497475922 0.497985423 0.498688191 0.497334421 0.497199982]\n",
      "[0.486533701 0.496740639 0.489927828 ... 0.49837774 0.49833107 0.498357296]\n",
      "[0.495260358 0.499197274 0.496336728 ... 0.488297194 0.501101136 0.500909]\n",
      "[0.492689162 0.495757729 0.499394774 ... 0.494000196 0.495458663 0.495986074]\n",
      "[0.500772297 0.495167196 0.5003407 ... 0.49290055 0.500964761 0.492429197]\n",
      "[0.492419034 0.496768624 0.492623597 ... 0.496090978 0.500333607 0.497041672]\n",
      "[0.486774772 0.491630375 0.499775857 ... 0.489659548 0.499372423 0.489128232]\n",
      "[0.498359472 0.500005841 0.498239785]\n",
      "[0.482188821 0.499412119 0.499021679 ... 0.477310479 0.496239811 0.475555778]\n",
      "[0.48679021 0.483479232 0.498823583 ... 0.494899452 0.498018682 0.494906366]\n",
      "[0.497164816 0.497671783 0.486465126 0.49669221 0.48516953 0.483989656]\n",
      "[0.498201251 0.488882363 0.49911046 0.499189526 0.498782068 0.499047458]\n",
      "[0.498370349 0.497479469 0.497275]\n",
      "[0.484395534 0.496901631 0.499998271 ... 0.502587914 0.505052567 0.505874872]\n",
      "[0.505613923]\n",
      "[0.499326974]\n",
      "[0.483021915 0.494967043 0.498980016 0.481619596 0.494992822 0.482366711]\n",
      "[0.496093273 0.499058604 0.499371648 ... 0.508129418 0.508482933 0.509005964]\n",
      "[0.499619842 0.498995394 0.497167706 ... 0.49867323 0.502813697 0.499719352]\n",
      "[0.494437605]\n",
      "[0.496507]\n",
      "[0.504124224 0.498861164 0.498330504]\n",
      "[0.489625514 0.493607521 0.49350515 ... 0.483362645 0.469964296 0.468108535]\n",
      "[0.496634 0.496341199 0.499237448 ... 0.48973015 0.490895718 0.490524828]\n",
      "[0.504003048 0.465953052 0.494008929 ... 0.490550876 0.496447265 0.490017682]\n",
      "[0.490797043 0.495232105 0.497313678 0.491346508 0.498420477 0.499666929]\n",
      "[0.500022113]\n",
      "[0.495444596]\n",
      "[0.505385101 0.493377328 0.50530237]\n",
      "[0.497427672 0.499703914 0.49996236 0.496872932 0.499770254 0.499780685]\n",
      "[0.497036636 0.499548018 0.49713856]\n",
      "[0.486021638 0.491808683 0.497423649 0.486095279 0.498517126 0.499454051]\n",
      "[0.494930327]\n",
      "[0.493390918 0.491154313 0.496260315 ... 0.491578251 0.491582423 0.491505682]\n",
      "[0.484121412 0.491500348 0.483566791]\n",
      "[0.499146342]\n",
      "[0.499876142 0.496437907 0.498724043 ... 0.499486774 0.498701483 0.498268366]\n",
      "[0.49243322 0.465864092 0.481595844 ... 0.495601505 0.495603025 0.495631665]\n",
      "[0.492319167 0.497319371 0.498261601 0.491286516 0.498250842 0.4982979]\n",
      "[0.4984124]\n",
      "[0.499135256 0.498181313 0.499064]\n",
      "[0.49188298 0.495781898 0.500458837 0.491208524 0.495265543 0.490480751]\n",
      "[0.492593378 0.499245435 0.498572201 ... 0.496716648 0.497317135 0.497216672]\n",
      "[0.497127324 0.496649504 0.498013228 ... 0.49646616 0.498201191 0.496154785]\n",
      "[0.501762 0.498051345 0.498716801 ... 0.502446592 0.503550351 0.50349015]\n",
      "[0.4926036 0.495836139 0.496215075 ... 0.49329415 0.491630197 0.49161166]\n",
      "[0.49647671 0.491065204 0.495328128 ... 0.492873847 0.495274 0.494986206]\n",
      "[0.499478906]\n",
      "[0.485820174 0.498682797 0.499073863 ... 0.492024034 0.515469909 0.491711199]\n",
      "[0.486341894 0.489039034 0.49843964 ... 0.487912089 0.496820569 0.487999082]\n",
      "[0.491023272 0.498525262 0.49951604 ... 0.489520609 0.498449981 0.488803118]\n",
      "[0.493939251 0.496601611 0.499781579 ... 0.500066042 0.498291224 0.498355538]\n",
      "[0.494341582]\n",
      "[0.496018559]\n",
      "[0.501528382]\n",
      "[0.493700027]\n",
      "[0.494237304 0.497586936 0.495367408 ... 0.498226464 0.494433373 0.497704327]\n",
      "[0.501124 0.507820487 0.502133548]\n",
      "[0.49520877 0.494152576 0.483138859 ... 0.491029829 0.495657593 0.495269686]\n",
      "[0.489830881]\n",
      "[0.498073488 0.49602136 0.499708503 ... 0.40184629 0.481541336 0.482077181]\n",
      "[0.489481777 0.488579184 0.496096909 0.482539773 0.491043568 0.488046527]\n",
      "[0.498285294 0.495039493 0.497883677]\n",
      "[0.497797638 0.498478502 0.497821271 ... 0.497466534 0.496049166 0.495227486]\n",
      "[0.500930607]\n",
      "[0.490804 0.487396687 0.495170236 ... 0.476313859 0.494038552 0.494698256]\n",
      "[0.496088654]\n",
      "[0.492268622 0.489733875 0.492248178]\n",
      "[0.48864311 0.499140203 0.493726611 ... 0.487615019 0.511250317 0.512010038]\n",
      "[0.4972305 0.48944205 0.479578614 ... 0.459565371 0.474811107 0.475025386]\n",
      "[0.499753296 0.502784431 0.502661467]\n",
      "[0.491718352 0.478994936 0.477158159]\n",
      "[0.501970828 0.49935919 0.502733946]\n",
      "[0.501916349 0.498373419 0.499639153 0.498361558 0.499407381 0.498501152]\n",
      "[0.496666729 0.501772404 0.496603906]\n"
     ]
    },
    {
     "name": "stdout",
     "output_type": "stream",
     "text": [
      "[0.499303758 0.489907473 0.481386095 ... 0.497009814 0.489860862 0.48892647]\n",
      "[0.487617016 0.498607457 0.497177362 ... 0.504097819 0.496969253 0.497087896]\n",
      "[0.498777658 0.490528971 0.498311162]\n",
      "[0.49647671 0.494963944 0.4972018 0.493924171 0.497171581 0.496763438]\n",
      "[0.492220581 0.484921426 0.50032407 ... 0.530362189 0.492561758 0.488863796]\n",
      "[0.489388168 0.494737864 0.495447308 ... 0.494302 0.49663049 0.493564904]\n",
      "[0.48781994 0.490945518 0.489869565]\n",
      "[0.496427596]\n",
      "[0.486894429 0.497558475 0.494053721 ... 0.498949796 0.494294018 0.498759866]\n",
      "[0.494980723 0.497852683 0.481825441 ... 0.499308437 0.502020717 0.499416023]\n",
      "[0.487884283 0.496028215 0.485660166]\n",
      "[0.492267758 0.503427744 0.49378705 ... 0.498128265 0.493642479 0.496923178]\n",
      "[0.498690307 0.498990625 0.498672783]\n",
      "[0.490956664 0.494856149 0.498773932 0.494595468 0.498885483 0.49433744]\n",
      "[0.498093098 0.492023915 0.498078316 ... 0.495859206 0.49616462 0.495635509]\n",
      "[0.479821652 0.499239743 0.479064435]\n",
      "[0.486256659 0.497232765 0.495858192 ... 0.499505103 0.498184234 0.49808085]\n",
      "[0.498051196 0.495519936 0.492126524 ... 0.505910695 0.50537622 0.504481494]\n",
      "[0.497641593]\n",
      "[0.507989585 0.468188226 0.495723307 ... 0.439711511 0.491216063 0.491344333]\n",
      "[0.496605456]\n",
      "[0.489970952 0.489050388 0.494199902 ... 0.485870659 0.490913719 0.484597147]\n",
      "[0.494149059 0.497301638 0.497666508 ... 0.496394455 0.49753809 0.497595459]\n",
      "[0.496570319]\n",
      "[0.49170664 0.491339564 0.49019134]\n",
      "[0.495392144]\n",
      "[0.491669267 0.500213623 0.493834138 ... 0.500054598 0.490749 0.489478439]\n",
      "[0.480398387 0.485198647 0.496506304 ... 0.47935766 0.492963016 0.492917597]\n",
      "[0.496741593 0.486586124 0.498277843 ... 0.498282492 0.500359833 0.50035125]\n",
      "[0.496053129 0.498587072 0.491107553 ... 0.495041192 0.495200664 0.494850695]\n",
      "[0.493863016 0.504092157 0.492650181]\n",
      "[0.498998463]\n",
      "[0.499760121 0.50245893 0.493052661 ... 0.496867329 0.502480924 0.496800333]\n",
      "[0.499691635 0.500053763 0.497942805 ... 0.49967894 0.494974196 0.494811982]\n",
      "[0.493605137 0.492262542 0.493661195 ... 0.48968634 0.494551748 0.493945569]\n",
      "[0.492687315 0.494467348 0.49262166 ... 0.492466956 0.493657053 0.492235154]\n",
      "[0.490965605 0.495109826 0.497471243 ... 0.490915626 0.500250578 0.490216583]\n",
      "[0.494685858 0.490122348 0.495173335 ... 0.494475186 0.494064152 0.493995696]\n",
      "[0.494224697 0.491687566 0.492531657]\n",
      "[0.49498263 0.496970028 0.495658517 ... 0.493431062 0.497785956 0.4974747]\n",
      "[0.495154172 0.495395541 0.494290709 ... 0.49438712 0.498254836 0.498147279]\n",
      "[0.482816219 0.492777169 0.490684479 ... 0.492599845 0.494948387 0.494883478]\n",
      "[0.491224021 0.499240458 0.49477464 ... 0.499382287 0.49998033 0.499403596]\n",
      "[0.497738183 0.498464465 0.495348603 ... 0.500064969 0.499386072 0.500497639]\n",
      "[0.500519872 0.49850288 0.49870345 0.499287933 0.500077426 0.501067519]\n",
      "[0.494541764 0.499548107 0.499097228]\n",
      "[0.468083262 0.497383714 0.499851197 ... 0.493941367 0.48124 0.49236846]\n",
      "[0.49665454]\n",
      "[0.499640793]\n",
      "[0.48913455]\n",
      "[0.489407063 0.492600739 0.498393267 0.489593834 0.498703897 0.4990637]\n"
     ]
    },
    {
     "ename": "KeyboardInterrupt",
     "evalue": "",
     "output_type": "error",
     "traceback": [
      "\u001b[0;31m---------------------------------------------------------------------------\u001b[0m",
      "\u001b[0;31mKeyboardInterrupt\u001b[0m                         Traceback (most recent call last)",
      "\u001b[0;32m<ipython-input-360-30c9d8b6e19d>\u001b[0m in \u001b[0;36m<module>\u001b[0;34m\u001b[0m\n\u001b[1;32m      5\u001b[0m                     \u001b[0msteps_per_epoch\u001b[0m\u001b[0;34m=\u001b[0m\u001b[0;36m2\u001b[0m\u001b[0;34m,\u001b[0m\u001b[0;34m\u001b[0m\u001b[0;34m\u001b[0m\u001b[0m\n\u001b[1;32m      6\u001b[0m                     \u001b[0mvalidation_data\u001b[0m\u001b[0;34m=\u001b[0m\u001b[0mtest_dataset\u001b[0m\u001b[0;34m.\u001b[0m\u001b[0mbatch\u001b[0m\u001b[0;34m(\u001b[0m\u001b[0;36m1\u001b[0m\u001b[0;34m)\u001b[0m\u001b[0;34m,\u001b[0m\u001b[0;34m\u001b[0m\u001b[0;34m\u001b[0m\u001b[0m\n\u001b[0;32m----> 7\u001b[0;31m                     validation_steps=test_playlist_songs_matrix.shape[0])\n\u001b[0m",
      "\u001b[0;32m~/opt/anaconda3/lib/python3.7/site-packages/tensorflow/python/keras/engine/training.py\u001b[0m in \u001b[0;36m_method_wrapper\u001b[0;34m(self, *args, **kwargs)\u001b[0m\n\u001b[1;32m    106\u001b[0m   \u001b[0;32mdef\u001b[0m \u001b[0m_method_wrapper\u001b[0m\u001b[0;34m(\u001b[0m\u001b[0mself\u001b[0m\u001b[0;34m,\u001b[0m \u001b[0;34m*\u001b[0m\u001b[0margs\u001b[0m\u001b[0;34m,\u001b[0m \u001b[0;34m**\u001b[0m\u001b[0mkwargs\u001b[0m\u001b[0;34m)\u001b[0m\u001b[0;34m:\u001b[0m\u001b[0;34m\u001b[0m\u001b[0;34m\u001b[0m\u001b[0m\n\u001b[1;32m    107\u001b[0m     \u001b[0;32mif\u001b[0m \u001b[0;32mnot\u001b[0m \u001b[0mself\u001b[0m\u001b[0;34m.\u001b[0m\u001b[0m_in_multi_worker_mode\u001b[0m\u001b[0;34m(\u001b[0m\u001b[0;34m)\u001b[0m\u001b[0;34m:\u001b[0m  \u001b[0;31m# pylint: disable=protected-access\u001b[0m\u001b[0;34m\u001b[0m\u001b[0;34m\u001b[0m\u001b[0m\n\u001b[0;32m--> 108\u001b[0;31m       \u001b[0;32mreturn\u001b[0m \u001b[0mmethod\u001b[0m\u001b[0;34m(\u001b[0m\u001b[0mself\u001b[0m\u001b[0;34m,\u001b[0m \u001b[0;34m*\u001b[0m\u001b[0margs\u001b[0m\u001b[0;34m,\u001b[0m \u001b[0;34m**\u001b[0m\u001b[0mkwargs\u001b[0m\u001b[0;34m)\u001b[0m\u001b[0;34m\u001b[0m\u001b[0;34m\u001b[0m\u001b[0m\n\u001b[0m\u001b[1;32m    109\u001b[0m \u001b[0;34m\u001b[0m\u001b[0m\n\u001b[1;32m    110\u001b[0m     \u001b[0;31m# Running inside `run_distribute_coordinator` already.\u001b[0m\u001b[0;34m\u001b[0m\u001b[0;34m\u001b[0m\u001b[0;34m\u001b[0m\u001b[0m\n",
      "\u001b[0;32m~/opt/anaconda3/lib/python3.7/site-packages/tensorflow/python/keras/engine/training.py\u001b[0m in \u001b[0;36mfit\u001b[0;34m(self, x, y, batch_size, epochs, verbose, callbacks, validation_split, validation_data, shuffle, class_weight, sample_weight, initial_epoch, steps_per_epoch, validation_steps, validation_batch_size, validation_freq, max_queue_size, workers, use_multiprocessing)\u001b[0m\n\u001b[1;32m   1131\u001b[0m               \u001b[0mworkers\u001b[0m\u001b[0;34m=\u001b[0m\u001b[0mworkers\u001b[0m\u001b[0;34m,\u001b[0m\u001b[0;34m\u001b[0m\u001b[0;34m\u001b[0m\u001b[0m\n\u001b[1;32m   1132\u001b[0m               \u001b[0muse_multiprocessing\u001b[0m\u001b[0;34m=\u001b[0m\u001b[0muse_multiprocessing\u001b[0m\u001b[0;34m,\u001b[0m\u001b[0;34m\u001b[0m\u001b[0;34m\u001b[0m\u001b[0m\n\u001b[0;32m-> 1133\u001b[0;31m               return_dict=True)\n\u001b[0m\u001b[1;32m   1134\u001b[0m           \u001b[0mval_logs\u001b[0m \u001b[0;34m=\u001b[0m \u001b[0;34m{\u001b[0m\u001b[0;34m'val_'\u001b[0m \u001b[0;34m+\u001b[0m \u001b[0mname\u001b[0m\u001b[0;34m:\u001b[0m \u001b[0mval\u001b[0m \u001b[0;32mfor\u001b[0m \u001b[0mname\u001b[0m\u001b[0;34m,\u001b[0m \u001b[0mval\u001b[0m \u001b[0;32min\u001b[0m \u001b[0mval_logs\u001b[0m\u001b[0;34m.\u001b[0m\u001b[0mitems\u001b[0m\u001b[0;34m(\u001b[0m\u001b[0;34m)\u001b[0m\u001b[0;34m}\u001b[0m\u001b[0;34m\u001b[0m\u001b[0;34m\u001b[0m\u001b[0m\n\u001b[1;32m   1135\u001b[0m           \u001b[0mepoch_logs\u001b[0m\u001b[0;34m.\u001b[0m\u001b[0mupdate\u001b[0m\u001b[0;34m(\u001b[0m\u001b[0mval_logs\u001b[0m\u001b[0;34m)\u001b[0m\u001b[0;34m\u001b[0m\u001b[0;34m\u001b[0m\u001b[0m\n",
      "\u001b[0;32m~/opt/anaconda3/lib/python3.7/site-packages/tensorflow/python/keras/engine/training.py\u001b[0m in \u001b[0;36m_method_wrapper\u001b[0;34m(self, *args, **kwargs)\u001b[0m\n\u001b[1;32m    106\u001b[0m   \u001b[0;32mdef\u001b[0m \u001b[0m_method_wrapper\u001b[0m\u001b[0;34m(\u001b[0m\u001b[0mself\u001b[0m\u001b[0;34m,\u001b[0m \u001b[0;34m*\u001b[0m\u001b[0margs\u001b[0m\u001b[0;34m,\u001b[0m \u001b[0;34m**\u001b[0m\u001b[0mkwargs\u001b[0m\u001b[0;34m)\u001b[0m\u001b[0;34m:\u001b[0m\u001b[0;34m\u001b[0m\u001b[0;34m\u001b[0m\u001b[0m\n\u001b[1;32m    107\u001b[0m     \u001b[0;32mif\u001b[0m \u001b[0;32mnot\u001b[0m \u001b[0mself\u001b[0m\u001b[0;34m.\u001b[0m\u001b[0m_in_multi_worker_mode\u001b[0m\u001b[0;34m(\u001b[0m\u001b[0;34m)\u001b[0m\u001b[0;34m:\u001b[0m  \u001b[0;31m# pylint: disable=protected-access\u001b[0m\u001b[0;34m\u001b[0m\u001b[0;34m\u001b[0m\u001b[0m\n\u001b[0;32m--> 108\u001b[0;31m       \u001b[0;32mreturn\u001b[0m \u001b[0mmethod\u001b[0m\u001b[0;34m(\u001b[0m\u001b[0mself\u001b[0m\u001b[0;34m,\u001b[0m \u001b[0;34m*\u001b[0m\u001b[0margs\u001b[0m\u001b[0;34m,\u001b[0m \u001b[0;34m**\u001b[0m\u001b[0mkwargs\u001b[0m\u001b[0;34m)\u001b[0m\u001b[0;34m\u001b[0m\u001b[0;34m\u001b[0m\u001b[0m\n\u001b[0m\u001b[1;32m    109\u001b[0m \u001b[0;34m\u001b[0m\u001b[0m\n\u001b[1;32m    110\u001b[0m     \u001b[0;31m# Running inside `run_distribute_coordinator` already.\u001b[0m\u001b[0;34m\u001b[0m\u001b[0;34m\u001b[0m\u001b[0;34m\u001b[0m\u001b[0m\n",
      "\u001b[0;32m~/opt/anaconda3/lib/python3.7/site-packages/tensorflow/python/keras/engine/training.py\u001b[0m in \u001b[0;36mevaluate\u001b[0;34m(self, x, y, batch_size, verbose, sample_weight, steps, callbacks, max_queue_size, workers, use_multiprocessing, return_dict)\u001b[0m\n\u001b[1;32m   1377\u001b[0m             \u001b[0;32mwith\u001b[0m \u001b[0mtrace\u001b[0m\u001b[0;34m.\u001b[0m\u001b[0mTrace\u001b[0m\u001b[0;34m(\u001b[0m\u001b[0;34m'TraceContext'\u001b[0m\u001b[0;34m,\u001b[0m \u001b[0mgraph_type\u001b[0m\u001b[0;34m=\u001b[0m\u001b[0;34m'test'\u001b[0m\u001b[0;34m,\u001b[0m \u001b[0mstep_num\u001b[0m\u001b[0;34m=\u001b[0m\u001b[0mstep\u001b[0m\u001b[0;34m)\u001b[0m\u001b[0;34m:\u001b[0m\u001b[0;34m\u001b[0m\u001b[0;34m\u001b[0m\u001b[0m\n\u001b[1;32m   1378\u001b[0m               \u001b[0mcallbacks\u001b[0m\u001b[0;34m.\u001b[0m\u001b[0mon_test_batch_begin\u001b[0m\u001b[0;34m(\u001b[0m\u001b[0mstep\u001b[0m\u001b[0;34m)\u001b[0m\u001b[0;34m\u001b[0m\u001b[0;34m\u001b[0m\u001b[0m\n\u001b[0;32m-> 1379\u001b[0;31m               \u001b[0mtmp_logs\u001b[0m \u001b[0;34m=\u001b[0m \u001b[0mtest_function\u001b[0m\u001b[0;34m(\u001b[0m\u001b[0miterator\u001b[0m\u001b[0;34m)\u001b[0m\u001b[0;34m\u001b[0m\u001b[0;34m\u001b[0m\u001b[0m\n\u001b[0m\u001b[1;32m   1380\u001b[0m               \u001b[0;32mif\u001b[0m \u001b[0mdata_handler\u001b[0m\u001b[0;34m.\u001b[0m\u001b[0mshould_sync\u001b[0m\u001b[0;34m:\u001b[0m\u001b[0;34m\u001b[0m\u001b[0;34m\u001b[0m\u001b[0m\n\u001b[1;32m   1381\u001b[0m                 \u001b[0mcontext\u001b[0m\u001b[0;34m.\u001b[0m\u001b[0masync_wait\u001b[0m\u001b[0;34m(\u001b[0m\u001b[0;34m)\u001b[0m\u001b[0;34m\u001b[0m\u001b[0;34m\u001b[0m\u001b[0m\n",
      "\u001b[0;32m~/opt/anaconda3/lib/python3.7/site-packages/tensorflow/python/eager/def_function.py\u001b[0m in \u001b[0;36m__call__\u001b[0;34m(self, *args, **kwds)\u001b[0m\n\u001b[1;32m    778\u001b[0m       \u001b[0;32melse\u001b[0m\u001b[0;34m:\u001b[0m\u001b[0;34m\u001b[0m\u001b[0;34m\u001b[0m\u001b[0m\n\u001b[1;32m    779\u001b[0m         \u001b[0mcompiler\u001b[0m \u001b[0;34m=\u001b[0m \u001b[0;34m\"nonXla\"\u001b[0m\u001b[0;34m\u001b[0m\u001b[0;34m\u001b[0m\u001b[0m\n\u001b[0;32m--> 780\u001b[0;31m         \u001b[0mresult\u001b[0m \u001b[0;34m=\u001b[0m \u001b[0mself\u001b[0m\u001b[0;34m.\u001b[0m\u001b[0m_call\u001b[0m\u001b[0;34m(\u001b[0m\u001b[0;34m*\u001b[0m\u001b[0margs\u001b[0m\u001b[0;34m,\u001b[0m \u001b[0;34m**\u001b[0m\u001b[0mkwds\u001b[0m\u001b[0;34m)\u001b[0m\u001b[0;34m\u001b[0m\u001b[0;34m\u001b[0m\u001b[0m\n\u001b[0m\u001b[1;32m    781\u001b[0m \u001b[0;34m\u001b[0m\u001b[0m\n\u001b[1;32m    782\u001b[0m       \u001b[0mnew_tracing_count\u001b[0m \u001b[0;34m=\u001b[0m \u001b[0mself\u001b[0m\u001b[0;34m.\u001b[0m\u001b[0m_get_tracing_count\u001b[0m\u001b[0;34m(\u001b[0m\u001b[0;34m)\u001b[0m\u001b[0;34m\u001b[0m\u001b[0;34m\u001b[0m\u001b[0m\n",
      "\u001b[0;32m~/opt/anaconda3/lib/python3.7/site-packages/tensorflow/python/eager/def_function.py\u001b[0m in \u001b[0;36m_call\u001b[0;34m(self, *args, **kwds)\u001b[0m\n\u001b[1;32m    812\u001b[0m       \u001b[0;31m# In this case we have not created variables on the first call. So we can\u001b[0m\u001b[0;34m\u001b[0m\u001b[0;34m\u001b[0m\u001b[0;34m\u001b[0m\u001b[0m\n\u001b[1;32m    813\u001b[0m       \u001b[0;31m# run the first trace but we should fail if variables are created.\u001b[0m\u001b[0;34m\u001b[0m\u001b[0;34m\u001b[0m\u001b[0;34m\u001b[0m\u001b[0m\n\u001b[0;32m--> 814\u001b[0;31m       \u001b[0mresults\u001b[0m \u001b[0;34m=\u001b[0m \u001b[0mself\u001b[0m\u001b[0;34m.\u001b[0m\u001b[0m_stateful_fn\u001b[0m\u001b[0;34m(\u001b[0m\u001b[0;34m*\u001b[0m\u001b[0margs\u001b[0m\u001b[0;34m,\u001b[0m \u001b[0;34m**\u001b[0m\u001b[0mkwds\u001b[0m\u001b[0;34m)\u001b[0m\u001b[0;34m\u001b[0m\u001b[0;34m\u001b[0m\u001b[0m\n\u001b[0m\u001b[1;32m    815\u001b[0m       \u001b[0;32mif\u001b[0m \u001b[0mself\u001b[0m\u001b[0;34m.\u001b[0m\u001b[0m_created_variables\u001b[0m\u001b[0;34m:\u001b[0m\u001b[0;34m\u001b[0m\u001b[0;34m\u001b[0m\u001b[0m\n\u001b[1;32m    816\u001b[0m         raise ValueError(\"Creating variables on a non-first call to a function\"\n",
      "\u001b[0;32m~/opt/anaconda3/lib/python3.7/site-packages/tensorflow/python/eager/function.py\u001b[0m in \u001b[0;36m__call__\u001b[0;34m(self, *args, **kwargs)\u001b[0m\n\u001b[1;32m   2827\u001b[0m     \u001b[0;32mwith\u001b[0m \u001b[0mself\u001b[0m\u001b[0;34m.\u001b[0m\u001b[0m_lock\u001b[0m\u001b[0;34m:\u001b[0m\u001b[0;34m\u001b[0m\u001b[0;34m\u001b[0m\u001b[0m\n\u001b[1;32m   2828\u001b[0m       \u001b[0mgraph_function\u001b[0m\u001b[0;34m,\u001b[0m \u001b[0margs\u001b[0m\u001b[0;34m,\u001b[0m \u001b[0mkwargs\u001b[0m \u001b[0;34m=\u001b[0m \u001b[0mself\u001b[0m\u001b[0;34m.\u001b[0m\u001b[0m_maybe_define_function\u001b[0m\u001b[0;34m(\u001b[0m\u001b[0margs\u001b[0m\u001b[0;34m,\u001b[0m \u001b[0mkwargs\u001b[0m\u001b[0;34m)\u001b[0m\u001b[0;34m\u001b[0m\u001b[0;34m\u001b[0m\u001b[0m\n\u001b[0;32m-> 2829\u001b[0;31m     \u001b[0;32mreturn\u001b[0m \u001b[0mgraph_function\u001b[0m\u001b[0;34m.\u001b[0m\u001b[0m_filtered_call\u001b[0m\u001b[0;34m(\u001b[0m\u001b[0margs\u001b[0m\u001b[0;34m,\u001b[0m \u001b[0mkwargs\u001b[0m\u001b[0;34m)\u001b[0m  \u001b[0;31m# pylint: disable=protected-access\u001b[0m\u001b[0;34m\u001b[0m\u001b[0;34m\u001b[0m\u001b[0m\n\u001b[0m\u001b[1;32m   2830\u001b[0m \u001b[0;34m\u001b[0m\u001b[0m\n\u001b[1;32m   2831\u001b[0m   \u001b[0;34m@\u001b[0m\u001b[0mproperty\u001b[0m\u001b[0;34m\u001b[0m\u001b[0;34m\u001b[0m\u001b[0m\n",
      "\u001b[0;32m~/opt/anaconda3/lib/python3.7/site-packages/tensorflow/python/eager/function.py\u001b[0m in \u001b[0;36m_filtered_call\u001b[0;34m(self, args, kwargs, cancellation_manager)\u001b[0m\n\u001b[1;32m   1846\u001b[0m                            resource_variable_ops.BaseResourceVariable))],\n\u001b[1;32m   1847\u001b[0m         \u001b[0mcaptured_inputs\u001b[0m\u001b[0;34m=\u001b[0m\u001b[0mself\u001b[0m\u001b[0;34m.\u001b[0m\u001b[0mcaptured_inputs\u001b[0m\u001b[0;34m,\u001b[0m\u001b[0;34m\u001b[0m\u001b[0;34m\u001b[0m\u001b[0m\n\u001b[0;32m-> 1848\u001b[0;31m         cancellation_manager=cancellation_manager)\n\u001b[0m\u001b[1;32m   1849\u001b[0m \u001b[0;34m\u001b[0m\u001b[0m\n\u001b[1;32m   1850\u001b[0m   \u001b[0;32mdef\u001b[0m \u001b[0m_call_flat\u001b[0m\u001b[0;34m(\u001b[0m\u001b[0mself\u001b[0m\u001b[0;34m,\u001b[0m \u001b[0margs\u001b[0m\u001b[0;34m,\u001b[0m \u001b[0mcaptured_inputs\u001b[0m\u001b[0;34m,\u001b[0m \u001b[0mcancellation_manager\u001b[0m\u001b[0;34m=\u001b[0m\u001b[0;32mNone\u001b[0m\u001b[0;34m)\u001b[0m\u001b[0;34m:\u001b[0m\u001b[0;34m\u001b[0m\u001b[0;34m\u001b[0m\u001b[0m\n",
      "\u001b[0;32m~/opt/anaconda3/lib/python3.7/site-packages/tensorflow/python/eager/function.py\u001b[0m in \u001b[0;36m_call_flat\u001b[0;34m(self, args, captured_inputs, cancellation_manager)\u001b[0m\n\u001b[1;32m   1922\u001b[0m       \u001b[0;31m# No tape is watching; skip to running the function.\u001b[0m\u001b[0;34m\u001b[0m\u001b[0;34m\u001b[0m\u001b[0;34m\u001b[0m\u001b[0m\n\u001b[1;32m   1923\u001b[0m       return self._build_call_outputs(self._inference_function.call(\n\u001b[0;32m-> 1924\u001b[0;31m           ctx, args, cancellation_manager=cancellation_manager))\n\u001b[0m\u001b[1;32m   1925\u001b[0m     forward_backward = self._select_forward_and_backward_functions(\n\u001b[1;32m   1926\u001b[0m         \u001b[0margs\u001b[0m\u001b[0;34m,\u001b[0m\u001b[0;34m\u001b[0m\u001b[0;34m\u001b[0m\u001b[0m\n",
      "\u001b[0;32m~/opt/anaconda3/lib/python3.7/site-packages/tensorflow/python/eager/function.py\u001b[0m in \u001b[0;36mcall\u001b[0;34m(self, ctx, args, cancellation_manager)\u001b[0m\n\u001b[1;32m    548\u001b[0m               \u001b[0minputs\u001b[0m\u001b[0;34m=\u001b[0m\u001b[0margs\u001b[0m\u001b[0;34m,\u001b[0m\u001b[0;34m\u001b[0m\u001b[0;34m\u001b[0m\u001b[0m\n\u001b[1;32m    549\u001b[0m               \u001b[0mattrs\u001b[0m\u001b[0;34m=\u001b[0m\u001b[0mattrs\u001b[0m\u001b[0;34m,\u001b[0m\u001b[0;34m\u001b[0m\u001b[0;34m\u001b[0m\u001b[0m\n\u001b[0;32m--> 550\u001b[0;31m               ctx=ctx)\n\u001b[0m\u001b[1;32m    551\u001b[0m         \u001b[0;32melse\u001b[0m\u001b[0;34m:\u001b[0m\u001b[0;34m\u001b[0m\u001b[0;34m\u001b[0m\u001b[0m\n\u001b[1;32m    552\u001b[0m           outputs = execute.execute_with_cancellation(\n",
      "\u001b[0;32m~/opt/anaconda3/lib/python3.7/site-packages/tensorflow/python/eager/execute.py\u001b[0m in \u001b[0;36mquick_execute\u001b[0;34m(op_name, num_outputs, inputs, attrs, ctx, name)\u001b[0m\n\u001b[1;32m     58\u001b[0m     \u001b[0mctx\u001b[0m\u001b[0;34m.\u001b[0m\u001b[0mensure_initialized\u001b[0m\u001b[0;34m(\u001b[0m\u001b[0;34m)\u001b[0m\u001b[0;34m\u001b[0m\u001b[0;34m\u001b[0m\u001b[0m\n\u001b[1;32m     59\u001b[0m     tensors = pywrap_tfe.TFE_Py_Execute(ctx._handle, device_name, op_name,\n\u001b[0;32m---> 60\u001b[0;31m                                         inputs, attrs, num_outputs)\n\u001b[0m\u001b[1;32m     61\u001b[0m   \u001b[0;32mexcept\u001b[0m \u001b[0mcore\u001b[0m\u001b[0;34m.\u001b[0m\u001b[0m_NotOkStatusException\u001b[0m \u001b[0;32mas\u001b[0m \u001b[0me\u001b[0m\u001b[0;34m:\u001b[0m\u001b[0;34m\u001b[0m\u001b[0;34m\u001b[0m\u001b[0m\n\u001b[1;32m     62\u001b[0m     \u001b[0;32mif\u001b[0m \u001b[0mname\u001b[0m \u001b[0;32mis\u001b[0m \u001b[0;32mnot\u001b[0m \u001b[0;32mNone\u001b[0m\u001b[0;34m:\u001b[0m\u001b[0;34m\u001b[0m\u001b[0;34m\u001b[0m\u001b[0m\n",
      "\u001b[0;31mKeyboardInterrupt\u001b[0m: "
     ]
    }
   ],
   "source": [
    "# INTERNAL NOTE - Run in Google Collab. to make use of a GPU\n",
    "\n",
    "history = model.fit(train_dataset.shuffle(100).batch(1),\n",
    "                    epochs=1,\n",
    "                    steps_per_epoch=2,\n",
    "                    validation_data=test_dataset.batch(1),\n",
    "                    validation_steps=test_playlist_songs_matrix.shape[0])\n"
   ]
  },
  {
   "cell_type": "code",
   "execution_count": 337,
   "metadata": {},
   "outputs": [
    {
     "data": {
      "text/plain": [
       "(1, 1, 300)"
      ]
     },
     "execution_count": 337,
     "metadata": {},
     "output_type": "execute_result"
    }
   ],
   "source": [
    "next(test_dataset.batch(1).as_numpy_iterator())[0].shape"
   ]
  },
  {
   "cell_type": "code",
   "execution_count": 338,
   "metadata": {},
   "outputs": [
    {
     "data": {
      "text/plain": [
       "(1, 1, 40000)"
      ]
     },
     "execution_count": 338,
     "metadata": {},
     "output_type": "execute_result"
    }
   ],
   "source": [
    "next(test_dataset.batch(1).as_numpy_iterator())[1].shape"
   ]
  },
  {
   "cell_type": "code",
   "execution_count": null,
   "metadata": {},
   "outputs": [],
   "source": []
  }
 ],
 "metadata": {
  "kernelspec": {
   "display_name": "Python 3",
   "language": "python",
   "name": "python3"
  },
  "language_info": {
   "codemirror_mode": {
    "name": "ipython",
    "version": 3
   },
   "file_extension": ".py",
   "mimetype": "text/x-python",
   "name": "python",
   "nbconvert_exporter": "python",
   "pygments_lexer": "ipython3",
   "version": "3.7.4"
  }
 },
 "nbformat": 4,
 "nbformat_minor": 2
}
