{
 "cells": [
  {
   "cell_type": "markdown",
   "metadata": {},
   "source": [
    "# LSTM Model"
   ]
  },
  {
   "cell_type": "code",
   "execution_count": 1,
   "metadata": {},
   "outputs": [],
   "source": [
    "import pandas as pd\n",
    "import matplotlib.pyplot as plt\n",
    "import numpy as np\n",
    "import scipy as sp\n",
    "\n",
    "import implicit\n",
    "from tqdm.notebook import tqdm, trange\n",
    "\n",
    "from sklearn.model_selection import train_test_split\n",
    "\n",
    "import sys\n",
    "sys.path.append(\"..\")\n",
    "\n",
    "from collections import defaultdict\n",
    "from importlib import reload\n",
    "\n",
    "import pickle\n",
    "\n",
    "from joblib import delayed, Parallel\n",
    "\n",
    "import seaborn as sns\n",
    "sns.set()\n",
    "\n",
    "import tensorflow as tf\n",
    "from tensorflow import keras\n",
    "\n",
    "from tensorflow.keras.models import Sequential\n",
    "from tensorflow.keras.layers import Dense, LSTM, Embedding\n",
    "from tensorflow.keras.optimizers import RMSprop\n",
    "from tensorflow.keras.callbacks import EarlyStopping\n",
    "from tensorflow.keras.backend import square, mean, log, dot, flatten, clear_session\n",
    "from sklearn.preprocessing import MinMaxScaler\n",
    "from sklearn.metrics import mean_squared_error"
   ]
  },
  {
   "cell_type": "code",
   "execution_count": 2,
   "metadata": {},
   "outputs": [],
   "source": [
    "import df_utils\n",
    "import mf_utils\n",
    "import rnn_utils"
   ]
  },
  {
   "cell_type": "code",
   "execution_count": 3,
   "metadata": {},
   "outputs": [
    {
     "name": "stderr",
     "output_type": "stream",
     "text": [
      "/Users/vedantvarshney/opt/anaconda3/lib/python3.7/site-packages/IPython/core/interactiveshell.py:3058: DtypeWarning: Columns (2) have mixed types. Specify dtype option on import or set low_memory=False.\n",
      "  interactivity=interactivity, compiler=compiler, result=result)\n"
     ]
    }
   ],
   "source": [
    "df = pd.read_csv(\"cleaned_data_0.2.csv\", index_col=[0])\n",
    "songs_df = pd.read_csv(\"songs_DF.csv\", index_col=[0])\n",
    "\n",
    "train_df = pd.read_csv(\"Train_DF.csv\", index_col=[0])\n",
    "\n",
    "# split_train_df = pd.read_csv(\"Split_Train_DF.csv\", index_col=[0])\n",
    "excl = pickle.load(open(\"Excluded_Songs_Series.p\", \"rb\"))\n",
    "\n",
    "# CANNOT use songs_df here as order is different\n",
    "indx_to_song = mf_utils.indx_mapping(df.spotify_id.unique())\n",
    "\n",
    "# CHANGE FROM EARLIER NOTEBOOKS - now using train_df and not split_train_df\n",
    "indx_to_playlist = mf_utils.indx_mapping(train_df.playlist_id.unique())\n",
    "\n",
    "song_to_indx = mf_utils.indx_mapping(df.spotify_id.unique(), indx_to_item=False)\n",
    "playlist_to_indx = mf_utils.indx_mapping(train_df.playlist_id.unique(), indx_to_item=False)"
   ]
  },
  {
   "cell_type": "code",
   "execution_count": 62,
   "metadata": {},
   "outputs": [],
   "source": [
    "test_df = pd.read_csv(\"Test_DF.csv\", index_col=[0])"
   ]
  },
  {
   "cell_type": "code",
   "execution_count": 63,
   "metadata": {},
   "outputs": [
    {
     "data": {
      "text/html": [
       "<div>\n",
       "<style scoped>\n",
       "    .dataframe tbody tr th:only-of-type {\n",
       "        vertical-align: middle;\n",
       "    }\n",
       "\n",
       "    .dataframe tbody tr th {\n",
       "        vertical-align: top;\n",
       "    }\n",
       "\n",
       "    .dataframe thead th {\n",
       "        text-align: right;\n",
       "    }\n",
       "</style>\n",
       "<table border=\"1\" class=\"dataframe\">\n",
       "  <thead>\n",
       "    <tr style=\"text-align: right;\">\n",
       "      <th></th>\n",
       "      <th>source</th>\n",
       "      <th>user_id</th>\n",
       "      <th>track_name</th>\n",
       "      <th>artist_name</th>\n",
       "      <th>playlist_id</th>\n",
       "      <th>tags</th>\n",
       "      <th>playlist_name</th>\n",
       "      <th>spotify_id</th>\n",
       "      <th>album</th>\n",
       "      <th>popularity</th>\n",
       "      <th>danceability</th>\n",
       "      <th>energy</th>\n",
       "      <th>loudness</th>\n",
       "      <th>speechiness</th>\n",
       "      <th>acousticness</th>\n",
       "      <th>instrumentalness</th>\n",
       "      <th>liveness</th>\n",
       "      <th>valence</th>\n",
       "      <th>tempo</th>\n",
       "    </tr>\n",
       "  </thead>\n",
       "  <tbody>\n",
       "    <tr>\n",
       "      <td>6</td>\n",
       "      <td>vagalume</td>\n",
       "      <td>sitevagalume</td>\n",
       "      <td>Happier</td>\n",
       "      <td>Ed Sheeran</td>\n",
       "      <td>6736120</td>\n",
       "      <td>pop,pop/rock,rock</td>\n",
       "      <td>Ed Sheeran - Divide</td>\n",
       "      <td>2RttW7RAu5nOAfq6YFvApB</td>\n",
       "      <td>÷ (Deluxe)</td>\n",
       "      <td>81.0</td>\n",
       "      <td>0.522</td>\n",
       "      <td>0.385</td>\n",
       "      <td>-7.355</td>\n",
       "      <td>0.0288</td>\n",
       "      <td>0.53600</td>\n",
       "      <td>0.000000</td>\n",
       "      <td>0.1350</td>\n",
       "      <td>0.236</td>\n",
       "      <td>89.792</td>\n",
       "    </tr>\n",
       "    <tr>\n",
       "      <td>9</td>\n",
       "      <td>vagalume</td>\n",
       "      <td>sitevagalume</td>\n",
       "      <td>How Would You Feel (Paean)</td>\n",
       "      <td>Ed Sheeran</td>\n",
       "      <td>6736120</td>\n",
       "      <td>pop,pop/rock,rock</td>\n",
       "      <td>Ed Sheeran - Divide</td>\n",
       "      <td>6PJ8FF6UR8FZXfEvpHkIVN</td>\n",
       "      <td>÷ (Deluxe)</td>\n",
       "      <td>69.0</td>\n",
       "      <td>0.617</td>\n",
       "      <td>0.439</td>\n",
       "      <td>-5.630</td>\n",
       "      <td>0.0269</td>\n",
       "      <td>0.42400</td>\n",
       "      <td>0.000000</td>\n",
       "      <td>0.1270</td>\n",
       "      <td>0.242</td>\n",
       "      <td>139.979</td>\n",
       "    </tr>\n",
       "    <tr>\n",
       "      <td>17</td>\n",
       "      <td>vagalume</td>\n",
       "      <td>sitevagalume</td>\n",
       "      <td>Hotline Bling</td>\n",
       "      <td>Drake</td>\n",
       "      <td>6123235</td>\n",
       "      <td>pop,pop/rock,rock</td>\n",
       "      <td>Fugir do Carnaval Pop 2016</td>\n",
       "      <td>0wwPcA6wtMf6HUMpIRdeP7</td>\n",
       "      <td>Views</td>\n",
       "      <td>77.0</td>\n",
       "      <td>0.891</td>\n",
       "      <td>0.625</td>\n",
       "      <td>-7.861</td>\n",
       "      <td>0.0558</td>\n",
       "      <td>0.00261</td>\n",
       "      <td>0.000176</td>\n",
       "      <td>0.0504</td>\n",
       "      <td>0.548</td>\n",
       "      <td>134.967</td>\n",
       "    </tr>\n",
       "    <tr>\n",
       "      <td>31</td>\n",
       "      <td>vagalume</td>\n",
       "      <td>sitevagalume</td>\n",
       "      <td>Freedom</td>\n",
       "      <td>Pitbull</td>\n",
       "      <td>6123235</td>\n",
       "      <td>pop,pop/rock,rock</td>\n",
       "      <td>Fugir do Carnaval Pop 2016</td>\n",
       "      <td>1StLlgkTm6s0LGRyAap9SP</td>\n",
       "      <td>Climate Change</td>\n",
       "      <td>50.0</td>\n",
       "      <td>0.701</td>\n",
       "      <td>0.931</td>\n",
       "      <td>-4.954</td>\n",
       "      <td>0.1190</td>\n",
       "      <td>0.09490</td>\n",
       "      <td>0.000000</td>\n",
       "      <td>0.1260</td>\n",
       "      <td>0.803</td>\n",
       "      <td>118.034</td>\n",
       "    </tr>\n",
       "    <tr>\n",
       "      <td>44</td>\n",
       "      <td>vagalume</td>\n",
       "      <td>sitevagalume</td>\n",
       "      <td>Bang My Head (Feat. Sia, Fetty Wap (Remix)</td>\n",
       "      <td>David Guetta</td>\n",
       "      <td>6123243</td>\n",
       "      <td>pop,pop/rock,rock</td>\n",
       "      <td>Fugir Carnaval Eletrônico 2016</td>\n",
       "      <td>440LuUlgdK3j9Uj8Q9L3Yj</td>\n",
       "      <td>Bang My Head (feat. Sia &amp; Fetty Wap)</td>\n",
       "      <td>33.0</td>\n",
       "      <td>0.733</td>\n",
       "      <td>0.675</td>\n",
       "      <td>-7.008</td>\n",
       "      <td>0.0647</td>\n",
       "      <td>0.14400</td>\n",
       "      <td>0.186000</td>\n",
       "      <td>0.1000</td>\n",
       "      <td>0.530</td>\n",
       "      <td>122.011</td>\n",
       "    </tr>\n",
       "    <tr>\n",
       "      <td>...</td>\n",
       "      <td>...</td>\n",
       "      <td>...</td>\n",
       "      <td>...</td>\n",
       "      <td>...</td>\n",
       "      <td>...</td>\n",
       "      <td>...</td>\n",
       "      <td>...</td>\n",
       "      <td>...</td>\n",
       "      <td>...</td>\n",
       "      <td>...</td>\n",
       "      <td>...</td>\n",
       "      <td>...</td>\n",
       "      <td>...</td>\n",
       "      <td>...</td>\n",
       "      <td>...</td>\n",
       "      <td>...</td>\n",
       "      <td>...</td>\n",
       "      <td>...</td>\n",
       "      <td>...</td>\n",
       "    </tr>\n",
       "    <tr>\n",
       "      <td>560545</td>\n",
       "      <td>8tracks</td>\n",
       "      <td>7907.0</td>\n",
       "      <td>Sweet And Easy</td>\n",
       "      <td>Van McCoy</td>\n",
       "      <td>7500</td>\n",
       "      <td>sweet soul,girl groups, van mccoy, northern soul</td>\n",
       "      <td>I Get The Sweetest Feeling</td>\n",
       "      <td>7FjsNampQlb9Yhn6DiqqKx</td>\n",
       "      <td>At the Rock House</td>\n",
       "      <td>23.0</td>\n",
       "      <td>0.362</td>\n",
       "      <td>0.797</td>\n",
       "      <td>-4.976</td>\n",
       "      <td>0.0402</td>\n",
       "      <td>0.48400</td>\n",
       "      <td>0.000000</td>\n",
       "      <td>0.1800</td>\n",
       "      <td>0.661</td>\n",
       "      <td>169.040</td>\n",
       "    </tr>\n",
       "    <tr>\n",
       "      <td>560547</td>\n",
       "      <td>8tracks</td>\n",
       "      <td>9622.0</td>\n",
       "      <td>Walking On Thin Ice (Louie Lou Mix)</td>\n",
       "      <td>anane</td>\n",
       "      <td>9222</td>\n",
       "      <td>garage, house - soulful,house</td>\n",
       "      <td>HOUSE IN MOTION vol. 1</td>\n",
       "      <td>4oebBJgY6Hk8eXK4Bk6AP2</td>\n",
       "      <td>Vega Allstar Remixers &amp; Producers, Vol. 2</td>\n",
       "      <td>0.0</td>\n",
       "      <td>0.810</td>\n",
       "      <td>0.410</td>\n",
       "      <td>-18.170</td>\n",
       "      <td>0.1020</td>\n",
       "      <td>0.14100</td>\n",
       "      <td>0.844000</td>\n",
       "      <td>0.1030</td>\n",
       "      <td>0.429</td>\n",
       "      <td>125.980</td>\n",
       "    </tr>\n",
       "    <tr>\n",
       "      <td>560553</td>\n",
       "      <td>8tracks</td>\n",
       "      <td>25361.0</td>\n",
       "      <td>Gut Feeling</td>\n",
       "      <td>Devo</td>\n",
       "      <td>28414</td>\n",
       "      <td>general unclassifiable, soundtrack, hip hop</td>\n",
       "      <td>strip joint versus strip mall</td>\n",
       "      <td>1dxy88oPzmIN9QAyCNfXmW</td>\n",
       "      <td>Ella Mai</td>\n",
       "      <td>62.0</td>\n",
       "      <td>0.604</td>\n",
       "      <td>0.551</td>\n",
       "      <td>-5.768</td>\n",
       "      <td>0.0478</td>\n",
       "      <td>0.40600</td>\n",
       "      <td>0.000000</td>\n",
       "      <td>0.3950</td>\n",
       "      <td>0.423</td>\n",
       "      <td>76.067</td>\n",
       "    </tr>\n",
       "    <tr>\n",
       "      <td>560556</td>\n",
       "      <td>8tracks</td>\n",
       "      <td>25361.0</td>\n",
       "      <td>Midnight in a Perfect World</td>\n",
       "      <td>DJ Shadow</td>\n",
       "      <td>28414</td>\n",
       "      <td>general unclassifiable, soundtrack, hip hop</td>\n",
       "      <td>strip joint versus strip mall</td>\n",
       "      <td>1z6zJqayfsAiiYtQ3minb7</td>\n",
       "      <td>Endtroducing.....</td>\n",
       "      <td>53.0</td>\n",
       "      <td>0.664</td>\n",
       "      <td>0.644</td>\n",
       "      <td>-9.334</td>\n",
       "      <td>0.0352</td>\n",
       "      <td>0.53100</td>\n",
       "      <td>0.661000</td>\n",
       "      <td>0.2510</td>\n",
       "      <td>0.646</td>\n",
       "      <td>79.526</td>\n",
       "    </tr>\n",
       "    <tr>\n",
       "      <td>560559</td>\n",
       "      <td>8tracks</td>\n",
       "      <td>19037.0</td>\n",
       "      <td>What A Wonderful World</td>\n",
       "      <td>Joey Ramone</td>\n",
       "      <td>18856</td>\n",
       "      <td>17, alternative rock,punk rock</td>\n",
       "      <td>music to thrash to</td>\n",
       "      <td>1qCQTy0fTXerET4x8VHyr9</td>\n",
       "      <td>What A Wonderful World</td>\n",
       "      <td>73.0</td>\n",
       "      <td>0.399</td>\n",
       "      <td>0.258</td>\n",
       "      <td>-16.028</td>\n",
       "      <td>0.0330</td>\n",
       "      <td>0.79200</td>\n",
       "      <td>0.000002</td>\n",
       "      <td>0.1280</td>\n",
       "      <td>0.192</td>\n",
       "      <td>108.174</td>\n",
       "    </tr>\n",
       "  </tbody>\n",
       "</table>\n",
       "<p>56058 rows × 19 columns</p>\n",
       "</div>"
      ],
      "text/plain": [
       "          source       user_id                                  track_name  \\\n",
       "6       vagalume  sitevagalume                                     Happier   \n",
       "9       vagalume  sitevagalume                  How Would You Feel (Paean)   \n",
       "17      vagalume  sitevagalume                               Hotline Bling   \n",
       "31      vagalume  sitevagalume                                     Freedom   \n",
       "44      vagalume  sitevagalume  Bang My Head (Feat. Sia, Fetty Wap (Remix)   \n",
       "...          ...           ...                                         ...   \n",
       "560545   8tracks        7907.0                              Sweet And Easy   \n",
       "560547   8tracks        9622.0         Walking On Thin Ice (Louie Lou Mix)   \n",
       "560553   8tracks       25361.0                                 Gut Feeling   \n",
       "560556   8tracks       25361.0                 Midnight in a Perfect World   \n",
       "560559   8tracks       19037.0                      What A Wonderful World   \n",
       "\n",
       "         artist_name  playlist_id  \\\n",
       "6         Ed Sheeran      6736120   \n",
       "9         Ed Sheeran      6736120   \n",
       "17             Drake      6123235   \n",
       "31           Pitbull      6123235   \n",
       "44      David Guetta      6123243   \n",
       "...              ...          ...   \n",
       "560545     Van McCoy         7500   \n",
       "560547         anane         9222   \n",
       "560553          Devo        28414   \n",
       "560556     DJ Shadow        28414   \n",
       "560559   Joey Ramone        18856   \n",
       "\n",
       "                                                     tags  \\\n",
       "6                                       pop,pop/rock,rock   \n",
       "9                                       pop,pop/rock,rock   \n",
       "17                                      pop,pop/rock,rock   \n",
       "31                                      pop,pop/rock,rock   \n",
       "44                                      pop,pop/rock,rock   \n",
       "...                                                   ...   \n",
       "560545   sweet soul,girl groups, van mccoy, northern soul   \n",
       "560547                      garage, house - soulful,house   \n",
       "560553        general unclassifiable, soundtrack, hip hop   \n",
       "560556        general unclassifiable, soundtrack, hip hop   \n",
       "560559                     17, alternative rock,punk rock   \n",
       "\n",
       "                         playlist_name              spotify_id  \\\n",
       "6                  Ed Sheeran - Divide  2RttW7RAu5nOAfq6YFvApB   \n",
       "9                  Ed Sheeran - Divide  6PJ8FF6UR8FZXfEvpHkIVN   \n",
       "17          Fugir do Carnaval Pop 2016  0wwPcA6wtMf6HUMpIRdeP7   \n",
       "31          Fugir do Carnaval Pop 2016  1StLlgkTm6s0LGRyAap9SP   \n",
       "44      Fugir Carnaval Eletrônico 2016  440LuUlgdK3j9Uj8Q9L3Yj   \n",
       "...                                ...                     ...   \n",
       "560545      I Get The Sweetest Feeling  7FjsNampQlb9Yhn6DiqqKx   \n",
       "560547          HOUSE IN MOTION vol. 1  4oebBJgY6Hk8eXK4Bk6AP2   \n",
       "560553   strip joint versus strip mall  1dxy88oPzmIN9QAyCNfXmW   \n",
       "560556   strip joint versus strip mall  1z6zJqayfsAiiYtQ3minb7   \n",
       "560559              music to thrash to  1qCQTy0fTXerET4x8VHyr9   \n",
       "\n",
       "                                            album  popularity  danceability  \\\n",
       "6                                      ÷ (Deluxe)        81.0         0.522   \n",
       "9                                      ÷ (Deluxe)        69.0         0.617   \n",
       "17                                          Views        77.0         0.891   \n",
       "31                                 Climate Change        50.0         0.701   \n",
       "44           Bang My Head (feat. Sia & Fetty Wap)        33.0         0.733   \n",
       "...                                           ...         ...           ...   \n",
       "560545                          At the Rock House        23.0         0.362   \n",
       "560547  Vega Allstar Remixers & Producers, Vol. 2         0.0         0.810   \n",
       "560553                                   Ella Mai        62.0         0.604   \n",
       "560556                          Endtroducing.....        53.0         0.664   \n",
       "560559                     What A Wonderful World        73.0         0.399   \n",
       "\n",
       "        energy  loudness  speechiness  acousticness  instrumentalness  \\\n",
       "6        0.385    -7.355       0.0288       0.53600          0.000000   \n",
       "9        0.439    -5.630       0.0269       0.42400          0.000000   \n",
       "17       0.625    -7.861       0.0558       0.00261          0.000176   \n",
       "31       0.931    -4.954       0.1190       0.09490          0.000000   \n",
       "44       0.675    -7.008       0.0647       0.14400          0.186000   \n",
       "...        ...       ...          ...           ...               ...   \n",
       "560545   0.797    -4.976       0.0402       0.48400          0.000000   \n",
       "560547   0.410   -18.170       0.1020       0.14100          0.844000   \n",
       "560553   0.551    -5.768       0.0478       0.40600          0.000000   \n",
       "560556   0.644    -9.334       0.0352       0.53100          0.661000   \n",
       "560559   0.258   -16.028       0.0330       0.79200          0.000002   \n",
       "\n",
       "        liveness  valence    tempo  \n",
       "6         0.1350    0.236   89.792  \n",
       "9         0.1270    0.242  139.979  \n",
       "17        0.0504    0.548  134.967  \n",
       "31        0.1260    0.803  118.034  \n",
       "44        0.1000    0.530  122.011  \n",
       "...          ...      ...      ...  \n",
       "560545    0.1800    0.661  169.040  \n",
       "560547    0.1030    0.429  125.980  \n",
       "560553    0.3950    0.423   76.067  \n",
       "560556    0.2510    0.646   79.526  \n",
       "560559    0.1280    0.192  108.174  \n",
       "\n",
       "[56058 rows x 19 columns]"
      ]
     },
     "execution_count": 63,
     "metadata": {},
     "output_type": "execute_result"
    }
   ],
   "source": [
    "test_df"
   ]
  },
  {
   "cell_type": "code",
   "execution_count": 4,
   "metadata": {},
   "outputs": [
    {
     "name": "stderr",
     "output_type": "stream",
     "text": [
      "WARNING:root:Intel MKL BLAS detected. Its highly recommend to set the environment variable 'export MKL_NUM_THREADS=1' to disable its internal multithreading\n"
     ]
    },
    {
     "data": {
      "application/vnd.jupyter.widget-view+json": {
       "model_id": "c2693fd259eb44f2929bf8ecc9c84043",
       "version_major": 2,
       "version_minor": 0
      },
      "text/plain": [
       "HBox(children=(IntProgress(value=0, max=15), HTML(value='')))"
      ]
     },
     "metadata": {},
     "output_type": "display_data"
    },
    {
     "name": "stdout",
     "output_type": "stream",
     "text": [
      "\n"
     ]
    }
   ],
   "source": [
    "train_ratings_matrix = mf_utils.df_to_sparse(train_df, all_songs=df.spotify_id.unique())\n",
    "\n",
    "# Number of latent factors now 300\n",
    "wrmf_model = implicit.als.AlternatingLeastSquares(factors=300)\n",
    "\n",
    "# items_users matrix in this case is the songs_playlist matrix\n",
    "wrmf_model.fit(train_ratings_matrix)"
   ]
  },
  {
   "cell_type": "code",
   "execution_count": 5,
   "metadata": {},
   "outputs": [
    {
     "data": {
      "text/plain": [
       "(10531, 300)"
      ]
     },
     "execution_count": 5,
     "metadata": {},
     "output_type": "execute_result"
    }
   ],
   "source": [
    "wrmf_model.user_factors.shape"
   ]
  },
  {
   "cell_type": "code",
   "execution_count": 6,
   "metadata": {},
   "outputs": [
    {
     "data": {
      "text/plain": [
       "(105152, 300)"
      ]
     },
     "execution_count": 6,
     "metadata": {},
     "output_type": "execute_result"
    }
   ],
   "source": [
    "wrmf_model.item_factors.shape"
   ]
  },
  {
   "cell_type": "code",
   "execution_count": 7,
   "metadata": {},
   "outputs": [
    {
     "data": {
      "text/plain": [
       "0"
      ]
     },
     "execution_count": 7,
     "metadata": {},
     "output_type": "execute_result"
    }
   ],
   "source": [
    "playlist_to_indx[6736120]"
   ]
  },
  {
   "cell_type": "code",
   "execution_count": 8,
   "metadata": {},
   "outputs": [
    {
     "data": {
      "text/html": [
       "<div>\n",
       "<style scoped>\n",
       "    .dataframe tbody tr th:only-of-type {\n",
       "        vertical-align: middle;\n",
       "    }\n",
       "\n",
       "    .dataframe tbody tr th {\n",
       "        vertical-align: top;\n",
       "    }\n",
       "\n",
       "    .dataframe thead th {\n",
       "        text-align: right;\n",
       "    }\n",
       "</style>\n",
       "<table border=\"1\" class=\"dataframe\">\n",
       "  <thead>\n",
       "    <tr style=\"text-align: right;\">\n",
       "      <th></th>\n",
       "      <th>source</th>\n",
       "      <th>user_id</th>\n",
       "      <th>track_name</th>\n",
       "      <th>artist_name</th>\n",
       "      <th>playlist_id</th>\n",
       "      <th>tags</th>\n",
       "      <th>playlist_name</th>\n",
       "      <th>spotify_id</th>\n",
       "      <th>album</th>\n",
       "      <th>popularity</th>\n",
       "      <th>danceability</th>\n",
       "      <th>energy</th>\n",
       "      <th>loudness</th>\n",
       "      <th>speechiness</th>\n",
       "      <th>acousticness</th>\n",
       "      <th>instrumentalness</th>\n",
       "      <th>liveness</th>\n",
       "      <th>valence</th>\n",
       "      <th>tempo</th>\n",
       "    </tr>\n",
       "  </thead>\n",
       "  <tbody>\n",
       "    <tr>\n",
       "      <td>0</td>\n",
       "      <td>vagalume</td>\n",
       "      <td>sitevagalume</td>\n",
       "      <td>Eraser</td>\n",
       "      <td>Ed Sheeran</td>\n",
       "      <td>6736120</td>\n",
       "      <td>pop,pop/rock,rock</td>\n",
       "      <td>Ed Sheeran - Divide</td>\n",
       "      <td>7oolFzHipTMg2nL7shhdz2</td>\n",
       "      <td>÷ (Deluxe)</td>\n",
       "      <td>64.0</td>\n",
       "      <td>0.640</td>\n",
       "      <td>0.812</td>\n",
       "      <td>-5.647</td>\n",
       "      <td>0.0834</td>\n",
       "      <td>0.086000</td>\n",
       "      <td>0.000000</td>\n",
       "      <td>0.0509</td>\n",
       "      <td>0.914</td>\n",
       "      <td>86.013</td>\n",
       "    </tr>\n",
       "    <tr>\n",
       "      <td>1</td>\n",
       "      <td>vagalume</td>\n",
       "      <td>sitevagalume</td>\n",
       "      <td>Castle On The Hill</td>\n",
       "      <td>Ed Sheeran</td>\n",
       "      <td>6736120</td>\n",
       "      <td>pop,pop/rock,rock</td>\n",
       "      <td>Ed Sheeran - Divide</td>\n",
       "      <td>6PCUP3dWmTjcTtXY02oFdT</td>\n",
       "      <td>÷ (Deluxe)</td>\n",
       "      <td>78.0</td>\n",
       "      <td>0.461</td>\n",
       "      <td>0.834</td>\n",
       "      <td>-4.868</td>\n",
       "      <td>0.0989</td>\n",
       "      <td>0.023200</td>\n",
       "      <td>0.000011</td>\n",
       "      <td>0.1400</td>\n",
       "      <td>0.471</td>\n",
       "      <td>135.007</td>\n",
       "    </tr>\n",
       "    <tr>\n",
       "      <td>2</td>\n",
       "      <td>vagalume</td>\n",
       "      <td>sitevagalume</td>\n",
       "      <td>Dive</td>\n",
       "      <td>Ed Sheeran</td>\n",
       "      <td>6736120</td>\n",
       "      <td>pop,pop/rock,rock</td>\n",
       "      <td>Ed Sheeran - Divide</td>\n",
       "      <td>51ChrwmUPDJvedPQnIU8Ls</td>\n",
       "      <td>÷ (Deluxe)</td>\n",
       "      <td>75.0</td>\n",
       "      <td>0.761</td>\n",
       "      <td>0.386</td>\n",
       "      <td>-6.158</td>\n",
       "      <td>0.0399</td>\n",
       "      <td>0.355000</td>\n",
       "      <td>0.000000</td>\n",
       "      <td>0.0953</td>\n",
       "      <td>0.526</td>\n",
       "      <td>134.943</td>\n",
       "    </tr>\n",
       "    <tr>\n",
       "      <td>3</td>\n",
       "      <td>vagalume</td>\n",
       "      <td>sitevagalume</td>\n",
       "      <td>Shape Of You</td>\n",
       "      <td>Ed Sheeran</td>\n",
       "      <td>6736120</td>\n",
       "      <td>pop,pop/rock,rock</td>\n",
       "      <td>Ed Sheeran - Divide</td>\n",
       "      <td>7qiZfU4dY1lWllzX7mPBI3</td>\n",
       "      <td>÷ (Deluxe)</td>\n",
       "      <td>85.0</td>\n",
       "      <td>0.825</td>\n",
       "      <td>0.652</td>\n",
       "      <td>-3.183</td>\n",
       "      <td>0.0802</td>\n",
       "      <td>0.581000</td>\n",
       "      <td>0.000000</td>\n",
       "      <td>0.0931</td>\n",
       "      <td>0.931</td>\n",
       "      <td>95.977</td>\n",
       "    </tr>\n",
       "    <tr>\n",
       "      <td>4</td>\n",
       "      <td>vagalume</td>\n",
       "      <td>sitevagalume</td>\n",
       "      <td>Perfect</td>\n",
       "      <td>Ed Sheeran</td>\n",
       "      <td>6736120</td>\n",
       "      <td>pop,pop/rock,rock</td>\n",
       "      <td>Ed Sheeran - Divide</td>\n",
       "      <td>0tgVpDi06FyKpA1z0VMD4v</td>\n",
       "      <td>÷ (Deluxe)</td>\n",
       "      <td>86.0</td>\n",
       "      <td>0.599</td>\n",
       "      <td>0.448</td>\n",
       "      <td>-6.312</td>\n",
       "      <td>0.0232</td>\n",
       "      <td>0.163000</td>\n",
       "      <td>0.000000</td>\n",
       "      <td>0.1060</td>\n",
       "      <td>0.168</td>\n",
       "      <td>95.050</td>\n",
       "    </tr>\n",
       "    <tr>\n",
       "      <td>...</td>\n",
       "      <td>...</td>\n",
       "      <td>...</td>\n",
       "      <td>...</td>\n",
       "      <td>...</td>\n",
       "      <td>...</td>\n",
       "      <td>...</td>\n",
       "      <td>...</td>\n",
       "      <td>...</td>\n",
       "      <td>...</td>\n",
       "      <td>...</td>\n",
       "      <td>...</td>\n",
       "      <td>...</td>\n",
       "      <td>...</td>\n",
       "      <td>...</td>\n",
       "      <td>...</td>\n",
       "      <td>...</td>\n",
       "      <td>...</td>\n",
       "      <td>...</td>\n",
       "      <td>...</td>\n",
       "    </tr>\n",
       "    <tr>\n",
       "      <td>560575</td>\n",
       "      <td>8tracks</td>\n",
       "      <td>11027</td>\n",
       "      <td>Instant Karma</td>\n",
       "      <td>John Lennon</td>\n",
       "      <td>10532</td>\n",
       "      <td>indie rock,unknown, alternative &amp; punk</td>\n",
       "      <td>scascio</td>\n",
       "      <td>2E9wKgL8NN7Tvydqcjoh7v</td>\n",
       "      <td>Gimme Some Truth</td>\n",
       "      <td>53.0</td>\n",
       "      <td>0.624</td>\n",
       "      <td>0.931</td>\n",
       "      <td>-9.988</td>\n",
       "      <td>0.1160</td>\n",
       "      <td>0.000899</td>\n",
       "      <td>0.001490</td>\n",
       "      <td>0.0631</td>\n",
       "      <td>0.140</td>\n",
       "      <td>119.887</td>\n",
       "    </tr>\n",
       "    <tr>\n",
       "      <td>560576</td>\n",
       "      <td>8tracks</td>\n",
       "      <td>11027</td>\n",
       "      <td>This Must Be the Place (Naive Melody)</td>\n",
       "      <td>Talking Heads</td>\n",
       "      <td>10532</td>\n",
       "      <td>indie rock,unknown, alternative &amp; punk</td>\n",
       "      <td>scascio</td>\n",
       "      <td>6aBUnkXuCEQQHAlTokv9or</td>\n",
       "      <td>Speaking in Tongues (Deluxe Version)</td>\n",
       "      <td>71.0</td>\n",
       "      <td>0.942</td>\n",
       "      <td>0.641</td>\n",
       "      <td>-10.150</td>\n",
       "      <td>0.0333</td>\n",
       "      <td>0.331000</td>\n",
       "      <td>0.179000</td>\n",
       "      <td>0.0280</td>\n",
       "      <td>0.966</td>\n",
       "      <td>114.443</td>\n",
       "    </tr>\n",
       "    <tr>\n",
       "      <td>560577</td>\n",
       "      <td>8tracks</td>\n",
       "      <td>11027</td>\n",
       "      <td>Rock &amp; Roll (Full-Length Version)</td>\n",
       "      <td>The Velvet Underground</td>\n",
       "      <td>10532</td>\n",
       "      <td>indie rock,unknown, alternative &amp; punk</td>\n",
       "      <td>scascio</td>\n",
       "      <td>1o6DclZHw0HomxXEQR1ijX</td>\n",
       "      <td>Loaded: Re-Loaded 45th Anniversary Edition</td>\n",
       "      <td>62.0</td>\n",
       "      <td>0.494</td>\n",
       "      <td>0.735</td>\n",
       "      <td>-8.347</td>\n",
       "      <td>0.0345</td>\n",
       "      <td>0.004010</td>\n",
       "      <td>0.000003</td>\n",
       "      <td>0.5440</td>\n",
       "      <td>0.742</td>\n",
       "      <td>132.526</td>\n",
       "    </tr>\n",
       "    <tr>\n",
       "      <td>560578</td>\n",
       "      <td>8tracks</td>\n",
       "      <td>11027</td>\n",
       "      <td>So. Central Rain (I'm Sorry)</td>\n",
       "      <td>R.E.M.</td>\n",
       "      <td>10532</td>\n",
       "      <td>indie rock,unknown, alternative &amp; punk</td>\n",
       "      <td>scascio</td>\n",
       "      <td>3AdyPM9rfgfPxoWS4tKh2O</td>\n",
       "      <td>Live At The Olympia</td>\n",
       "      <td>38.0</td>\n",
       "      <td>0.339</td>\n",
       "      <td>0.950</td>\n",
       "      <td>-4.797</td>\n",
       "      <td>0.0556</td>\n",
       "      <td>0.000804</td>\n",
       "      <td>0.000034</td>\n",
       "      <td>0.9700</td>\n",
       "      <td>0.460</td>\n",
       "      <td>142.148</td>\n",
       "    </tr>\n",
       "    <tr>\n",
       "      <td>560579</td>\n",
       "      <td>8tracks</td>\n",
       "      <td>24524</td>\n",
       "      <td>Phantom Punch</td>\n",
       "      <td>Sondre Lerche</td>\n",
       "      <td>27073</td>\n",
       "      <td>pop,rock, alternative rock</td>\n",
       "      <td>Wake up!</td>\n",
       "      <td>337mW8qSIO7fXdA2UaDxE2</td>\n",
       "      <td>Phantom Punch</td>\n",
       "      <td>19.0</td>\n",
       "      <td>0.511</td>\n",
       "      <td>0.888</td>\n",
       "      <td>-3.125</td>\n",
       "      <td>0.1120</td>\n",
       "      <td>0.008520</td>\n",
       "      <td>0.000000</td>\n",
       "      <td>0.1900</td>\n",
       "      <td>0.828</td>\n",
       "      <td>146.441</td>\n",
       "    </tr>\n",
       "  </tbody>\n",
       "</table>\n",
       "<p>504522 rows × 19 columns</p>\n",
       "</div>"
      ],
      "text/plain": [
       "          source       user_id                             track_name  \\\n",
       "0       vagalume  sitevagalume                                 Eraser   \n",
       "1       vagalume  sitevagalume                     Castle On The Hill   \n",
       "2       vagalume  sitevagalume                                   Dive   \n",
       "3       vagalume  sitevagalume                           Shape Of You   \n",
       "4       vagalume  sitevagalume                                Perfect   \n",
       "...          ...           ...                                    ...   \n",
       "560575   8tracks         11027                          Instant Karma   \n",
       "560576   8tracks         11027  This Must Be the Place (Naive Melody)   \n",
       "560577   8tracks         11027      Rock & Roll (Full-Length Version)   \n",
       "560578   8tracks         11027           So. Central Rain (I'm Sorry)   \n",
       "560579   8tracks         24524                          Phantom Punch   \n",
       "\n",
       "                   artist_name  playlist_id  \\\n",
       "0                   Ed Sheeran      6736120   \n",
       "1                   Ed Sheeran      6736120   \n",
       "2                   Ed Sheeran      6736120   \n",
       "3                   Ed Sheeran      6736120   \n",
       "4                   Ed Sheeran      6736120   \n",
       "...                        ...          ...   \n",
       "560575             John Lennon        10532   \n",
       "560576           Talking Heads        10532   \n",
       "560577  The Velvet Underground        10532   \n",
       "560578                  R.E.M.        10532   \n",
       "560579           Sondre Lerche        27073   \n",
       "\n",
       "                                           tags        playlist_name  \\\n",
       "0                             pop,pop/rock,rock  Ed Sheeran - Divide   \n",
       "1                             pop,pop/rock,rock  Ed Sheeran - Divide   \n",
       "2                             pop,pop/rock,rock  Ed Sheeran - Divide   \n",
       "3                             pop,pop/rock,rock  Ed Sheeran - Divide   \n",
       "4                             pop,pop/rock,rock  Ed Sheeran - Divide   \n",
       "...                                         ...                  ...   \n",
       "560575   indie rock,unknown, alternative & punk              scascio   \n",
       "560576   indie rock,unknown, alternative & punk              scascio   \n",
       "560577   indie rock,unknown, alternative & punk              scascio   \n",
       "560578   indie rock,unknown, alternative & punk              scascio   \n",
       "560579               pop,rock, alternative rock             Wake up!   \n",
       "\n",
       "                    spotify_id                                       album  \\\n",
       "0       7oolFzHipTMg2nL7shhdz2                                  ÷ (Deluxe)   \n",
       "1       6PCUP3dWmTjcTtXY02oFdT                                  ÷ (Deluxe)   \n",
       "2       51ChrwmUPDJvedPQnIU8Ls                                  ÷ (Deluxe)   \n",
       "3       7qiZfU4dY1lWllzX7mPBI3                                  ÷ (Deluxe)   \n",
       "4       0tgVpDi06FyKpA1z0VMD4v                                  ÷ (Deluxe)   \n",
       "...                        ...                                         ...   \n",
       "560575  2E9wKgL8NN7Tvydqcjoh7v                            Gimme Some Truth   \n",
       "560576  6aBUnkXuCEQQHAlTokv9or        Speaking in Tongues (Deluxe Version)   \n",
       "560577  1o6DclZHw0HomxXEQR1ijX  Loaded: Re-Loaded 45th Anniversary Edition   \n",
       "560578  3AdyPM9rfgfPxoWS4tKh2O                         Live At The Olympia   \n",
       "560579  337mW8qSIO7fXdA2UaDxE2                               Phantom Punch   \n",
       "\n",
       "        popularity  danceability  energy  loudness  speechiness  acousticness  \\\n",
       "0             64.0         0.640   0.812    -5.647       0.0834      0.086000   \n",
       "1             78.0         0.461   0.834    -4.868       0.0989      0.023200   \n",
       "2             75.0         0.761   0.386    -6.158       0.0399      0.355000   \n",
       "3             85.0         0.825   0.652    -3.183       0.0802      0.581000   \n",
       "4             86.0         0.599   0.448    -6.312       0.0232      0.163000   \n",
       "...            ...           ...     ...       ...          ...           ...   \n",
       "560575        53.0         0.624   0.931    -9.988       0.1160      0.000899   \n",
       "560576        71.0         0.942   0.641   -10.150       0.0333      0.331000   \n",
       "560577        62.0         0.494   0.735    -8.347       0.0345      0.004010   \n",
       "560578        38.0         0.339   0.950    -4.797       0.0556      0.000804   \n",
       "560579        19.0         0.511   0.888    -3.125       0.1120      0.008520   \n",
       "\n",
       "        instrumentalness  liveness  valence    tempo  \n",
       "0               0.000000    0.0509    0.914   86.013  \n",
       "1               0.000011    0.1400    0.471  135.007  \n",
       "2               0.000000    0.0953    0.526  134.943  \n",
       "3               0.000000    0.0931    0.931   95.977  \n",
       "4               0.000000    0.1060    0.168   95.050  \n",
       "...                  ...       ...      ...      ...  \n",
       "560575          0.001490    0.0631    0.140  119.887  \n",
       "560576          0.179000    0.0280    0.966  114.443  \n",
       "560577          0.000003    0.5440    0.742  132.526  \n",
       "560578          0.000034    0.9700    0.460  142.148  \n",
       "560579          0.000000    0.1900    0.828  146.441  \n",
       "\n",
       "[504522 rows x 19 columns]"
      ]
     },
     "execution_count": 8,
     "metadata": {},
     "output_type": "execute_result"
    }
   ],
   "source": [
    "train_df"
   ]
  },
  {
   "cell_type": "code",
   "execution_count": 9,
   "metadata": {},
   "outputs": [
    {
     "data": {
      "text/plain": [
       "<module 'rnn_utils' from '../rnn_utils.py'>"
      ]
     },
     "execution_count": 9,
     "metadata": {},
     "output_type": "execute_result"
    }
   ],
   "source": [
    "reload(rnn_utils)"
   ]
  },
  {
   "cell_type": "code",
   "execution_count": 10,
   "metadata": {},
   "outputs": [
    {
     "name": "stdout",
     "output_type": "stream",
     "text": [
      "Number of unique songs:  105152\n"
     ]
    }
   ],
   "source": [
    "print(\"Number of unique songs: \", len(df.spotify_id.unique()))"
   ]
  },
  {
   "cell_type": "code",
   "execution_count": 11,
   "metadata": {},
   "outputs": [],
   "source": [
    "vocab_size = int(40e3)\n",
    "\n",
    "song_vocab = pd.value_counts(df.spotify_id)[:vocab_size].index.values"
   ]
  },
  {
   "cell_type": "code",
   "execution_count": 12,
   "metadata": {},
   "outputs": [
    {
     "data": {
      "text/plain": [
       "array(['4rHZZAmHpZrA3iH5zx8frV', '4v0hWD4N6qefyFrmSGLjTV',\n",
       "       '2dOTkLZFbpNXrhc24CnTFd', ..., '1EVlcltS0KnEx3HxGJ6LIy',\n",
       "       '3Ddny34bFoYBb8dIGq5lwp', '75aLSMFtZtkA38l2fqkI70'], dtype=object)"
      ]
     },
     "execution_count": 12,
     "metadata": {},
     "output_type": "execute_result"
    }
   ],
   "source": [
    "song_vocab"
   ]
  },
  {
   "cell_type": "code",
   "execution_count": 13,
   "metadata": {},
   "outputs": [
    {
     "data": {
      "text/plain": [
       "(40000,)"
      ]
     },
     "execution_count": 13,
     "metadata": {},
     "output_type": "execute_result"
    }
   ],
   "source": [
    "song_vocab.shape"
   ]
  },
  {
   "cell_type": "code",
   "execution_count": 14,
   "metadata": {},
   "outputs": [],
   "source": [
    "songs_series = pd.Series(df.spotify_id.unique())\n",
    "\n",
    "vocab_indxs = songs_series[songs_series.isin(song_vocab)].index.values\n",
    "\n",
    "# Reorder songs in vocab. so that they follow the *order* in df.spotify_id.unique()\n",
    "song_vocab = df.spotify_id.unique()[vocab_indxs]\n",
    "\n",
    "# New song to index dict. which now corresponds to the smaller vocabulary rather than the entire dataset\n",
    "song_to_indx_vocab = {song_vocab[i]: i for i in range(len(song_vocab))}"
   ]
  },
  {
   "cell_type": "code",
   "execution_count": 15,
   "metadata": {},
   "outputs": [
    {
     "data": {
      "application/vnd.jupyter.widget-view+json": {
       "model_id": "c8c9460e57424ddb99c978feb7ac9c75",
       "version_major": 2,
       "version_minor": 0
      },
      "text/plain": [
       "HBox(children=(IntProgress(value=0, max=10531), HTML(value='')))"
      ]
     },
     "metadata": {},
     "output_type": "display_data"
    },
    {
     "name": "stdout",
     "output_type": "stream",
     "text": [
      "\n"
     ]
    }
   ],
   "source": [
    "train_playlist_songs_matrix, lengths_series = rnn_utils.create_playlist_song_matrix(train_df, song_to_indx_vocab,\n",
    "                                                                                    song_vocab=song_vocab)"
   ]
  },
  {
   "cell_type": "code",
   "execution_count": 64,
   "metadata": {},
   "outputs": [
    {
     "data": {
      "application/vnd.jupyter.widget-view+json": {
       "model_id": "6c5e5662250145faa1434d8343096750",
       "version_major": 2,
       "version_minor": 0
      },
      "text/plain": [
       "HBox(children=(IntProgress(value=0, max=7972), HTML(value='')))"
      ]
     },
     "metadata": {},
     "output_type": "display_data"
    },
    {
     "name": "stdout",
     "output_type": "stream",
     "text": [
      "\n"
     ]
    }
   ],
   "source": [
    "test_playlist_songs_matrix, test_lengths_series = rnn_utils.create_playlist_song_matrix(test_df, song_to_indx_vocab,\n",
    "                                                                                        song_vocab=song_vocab)"
   ]
  },
  {
   "cell_type": "code",
   "execution_count": 16,
   "metadata": {},
   "outputs": [
    {
     "data": {
      "text/plain": [
       "<matplotlib.axes._subplots.AxesSubplot at 0x14f61a3d0>"
      ]
     },
     "execution_count": 16,
     "metadata": {},
     "output_type": "execute_result"
    },
    {
     "data": {
      "image/png": "[encoded data removed]",
      "text/plain": [
       "<Figure size 432x288 with 1 Axes>"
      ]
     },
     "metadata": {
      "needs_background": "light"
     },
     "output_type": "display_data"
    }
   ],
   "source": [
    "lengths_series.hist(bins=50)"
   ]
  },
  {
   "cell_type": "markdown",
   "metadata": {},
   "source": [
    "Let us check that train_playlist_songs_matrix has the shape (num_playlists, None, num_latent_factors):"
   ]
  },
  {
   "cell_type": "code",
   "execution_count": 17,
   "metadata": {},
   "outputs": [
    {
     "name": "stdout",
     "output_type": "stream",
     "text": [
      "[27 29 30 31 32 33 35 36 37 38 39]\n"
     ]
    }
   ],
   "source": [
    "print(train_playlist_songs_matrix[2])"
   ]
  },
  {
   "cell_type": "code",
   "execution_count": 18,
   "metadata": {},
   "outputs": [
    {
     "data": {
      "text/plain": [
       "<module 'rnn_utils' from '../rnn_utils.py'>"
      ]
     },
     "execution_count": 18,
     "metadata": {},
     "output_type": "execute_result"
    }
   ],
   "source": [
    "reload(rnn_utils)"
   ]
  },
  {
   "cell_type": "code",
   "execution_count": 19,
   "metadata": {},
   "outputs": [],
   "source": [
    "# latent vectors for each song *IN VOCAB*\n",
    "item_factors_vocab = wrmf_model.item_factors[vocab_indxs]"
   ]
  },
  {
   "cell_type": "code",
   "execution_count": 20,
   "metadata": {},
   "outputs": [],
   "source": [
    "def generate_xy_sample():\n",
    "    while True:\n",
    "        for playlist in train_playlist_songs_matrix:\n",
    "            xsample, ysample = rnn_utils.prepare_sample(playlist, item_factors_vocab, vocab_size)\n",
    "            yield xsample, ysample"
   ]
  },
  {
   "cell_type": "code",
   "execution_count": 68,
   "metadata": {},
   "outputs": [],
   "source": [
    "def create_validation_data(playlist_songs_matrix):\n",
    "    x_test = []\n",
    "    y_test = []\n",
    "    for playlist in tqdm(playlist_songs_matrix):\n",
    "        xsample, ysample = rnn_utils.prepare_sample(playlist, item_factors_vocab, vocab_size)\n",
    "        \n",
    "        x_test.append(xsample)\n",
    "        y_test.append(ysample)\n",
    "        \n",
    "    return np.asarray(x_test), np.asarray(y_test)"
   ]
  },
  {
   "cell_type": "code",
   "execution_count": 69,
   "metadata": {},
   "outputs": [
    {
     "data": {
      "application/vnd.jupyter.widget-view+json": {
       "model_id": "22fc0702e981481daca3dd16c101e7e8",
       "version_major": 2,
       "version_minor": 0
      },
      "text/plain": [
       "HBox(children=(IntProgress(value=0, max=5186), HTML(value='')))"
      ]
     },
     "metadata": {},
     "output_type": "display_data"
    },
    {
     "name": "stdout",
     "output_type": "stream",
     "text": [
      "\n"
     ]
    }
   ],
   "source": [
    "validation_data = create_validation_data(test_playlist_songs_matrix)"
   ]
  },
  {
   "cell_type": "code",
   "execution_count": 81,
   "metadata": {},
   "outputs": [
    {
     "data": {
      "text/plain": [
       "(1, 300)"
      ]
     },
     "execution_count": 81,
     "metadata": {},
     "output_type": "execute_result"
    }
   ],
   "source": [
    "validation_data[0][0].shape"
   ]
  },
  {
   "cell_type": "code",
   "execution_count": 82,
   "metadata": {},
   "outputs": [
    {
     "data": {
      "text/plain": [
       "(1, 40000)"
      ]
     },
     "execution_count": 82,
     "metadata": {},
     "output_type": "execute_result"
    }
   ],
   "source": [
    "validation_data[1][0].shape"
   ]
  },
  {
   "cell_type": "code",
   "execution_count": 21,
   "metadata": {},
   "outputs": [],
   "source": [
    "a, b = next(generate_xy_sample())"
   ]
  },
  {
   "cell_type": "code",
   "execution_count": 22,
   "metadata": {},
   "outputs": [
    {
     "name": "stdout",
     "output_type": "stream",
     "text": [
      "(6, 300)\n",
      "float32 \n",
      "\n",
      "(6, 40000)\n",
      "int32 \n",
      "\n"
     ]
    }
   ],
   "source": [
    "for x in next(generate_xy_sample()):\n",
    "    print(x.shape)\n",
    "    print(x.dtype, \"\\n\")"
   ]
  },
  {
   "cell_type": "code",
   "execution_count": 23,
   "metadata": {},
   "outputs": [],
   "source": [
    "assert (b == 1).any()"
   ]
  },
  {
   "cell_type": "code",
   "execution_count": 24,
   "metadata": {},
   "outputs": [],
   "source": [
    "num_latent_factors = 300"
   ]
  },
  {
   "cell_type": "code",
   "execution_count": 25,
   "metadata": {},
   "outputs": [],
   "source": [
    "train_dataset = tf.data.Dataset.from_generator(generate_xy_sample,\n",
    "                                              output_types=(tf.float32, tf.int32),\n",
    "                                              output_shapes=(tf.TensorShape([None, num_latent_factors]), tf.TensorShape([None, vocab_size]))\n",
    "                                              )"
   ]
  },
  {
   "cell_type": "code",
   "execution_count": 26,
   "metadata": {},
   "outputs": [
    {
     "name": "stdout",
     "output_type": "stream",
     "text": [
      "(1, 6, 300)\n",
      "float32 \n",
      "\n",
      "(1, 6, 40000)\n",
      "int32 \n",
      "\n"
     ]
    }
   ],
   "source": [
    "for x in next(train_dataset.batch(1).as_numpy_iterator()):\n",
    "    print(x.shape)\n",
    "    print(x.dtype, \"\\n\")"
   ]
  },
  {
   "cell_type": "code",
   "execution_count": 27,
   "metadata": {},
   "outputs": [
    {
     "data": {
      "text/plain": [
       "TensorShape([300, 40000])"
      ]
     },
     "execution_count": 27,
     "metadata": {},
     "output_type": "execute_result"
    }
   ],
   "source": [
    "item_factors_T = tf.convert_to_tensor(item_factors_vocab.T, dtype=tf.float32)\n",
    "item_factors_T.shape"
   ]
  },
  {
   "cell_type": "code",
   "execution_count": 28,
   "metadata": {},
   "outputs": [],
   "source": [
    "BATCH_SIZE = 1\n",
    "\n",
    "item_factors_T_batch = tf.tile(tf.expand_dims(item_factors_T, axis=0), multiples=[BATCH_SIZE, 1, 1])"
   ]
  },
  {
   "cell_type": "code",
   "execution_count": 29,
   "metadata": {},
   "outputs": [
    {
     "name": "stdout",
     "output_type": "stream",
     "text": [
      "(1, 300, 40000)\n",
      "<dtype: 'float32'>\n"
     ]
    }
   ],
   "source": [
    "print(item_factors_T_batch.shape)\n",
    "print(item_factors_T_batch.dtype)"
   ]
  },
  {
   "cell_type": "code",
   "execution_count": 30,
   "metadata": {},
   "outputs": [
    {
     "data": {
      "text/plain": [
       "TensorShape([1, 300, 40000])"
      ]
     },
     "execution_count": 30,
     "metadata": {},
     "output_type": "execute_result"
    }
   ],
   "source": [
    "item_factors_T_batch.shape"
   ]
  },
  {
   "cell_type": "code",
   "execution_count": 31,
   "metadata": {},
   "outputs": [
    {
     "data": {
      "text/plain": [
       "<tf.Tensor: shape=(), dtype=int32, numpy=1>"
      ]
     },
     "execution_count": 31,
     "metadata": {},
     "output_type": "execute_result"
    }
   ],
   "source": [
    "tf.shape(item_factors_T_batch)[0]"
   ]
  },
  {
   "cell_type": "code",
   "execution_count": 53,
   "metadata": {},
   "outputs": [],
   "source": [
    "epsilon = 1e-5"
   ]
  },
  {
   "cell_type": "code",
   "execution_count": 54,
   "metadata": {},
   "outputs": [],
   "source": [
    "def custom_loss(y_true, y_pred):\n",
    "    \n",
    "#  y_true - shape (batch_size, playlist_length, multihot ie vocab_size ie 40k)\n",
    "#  y_pred - shape (batch_size, playlist_length, 300)\n",
    "\n",
    "    loss = 0\n",
    "\n",
    "#     Cast to a boolean mask. Consider changing during preprocessing.\n",
    "    y_true = tf.cast(y_true, tf.bool)\n",
    "#     print(\"y_true shape, \", y_true.shape)\n",
    "\n",
    "# Adjust global variable if batch size is different than the one anticipated? \n",
    "# Slightly ugly solution (changing global variables) but significantly reduces unnecessary computation.\n",
    "\n",
    "# BUG - UnboundLocalError?!\n",
    "#     if tf.shape(item_factors_T_batch)[0] != tf.shape(y_true)[0]:\n",
    "#     batch_size = tf.shape(y_true)[0]\n",
    "\n",
    "#     item_factors_T_batch = tf.tile(tf.expand_dims(item_factors_T, axis=0), multiples=[batch_size, 1, 1])\n",
    "    \n",
    "#     print(\"item factors T batch \", item_factors_T_batch.shape)\n",
    "\n",
    "#     item_factors_T_batch = tf.expand_dims(item_factors_T, axis=0)\n",
    "    \n",
    "#     Contains all the necessary dot products\n",
    "    composite = tf.matmul(y_pred, item_factors_T_batch)\n",
    "    \n",
    "#     print(\"composite shape \", composite.shape)\n",
    "        \n",
    "# TODO - improve such that only have to run through mask once.\n",
    "    correct = tf.boolean_mask(composite, y_true)\n",
    "    incorrect = tf.boolean_mask(composite, ~y_true)\n",
    "    \n",
    "    loss -= tf.math.reduce_sum(log(tf.math.sigmoid(correct))) + epsilon\n",
    "    loss -= tf.math.reduce_sum(log(1-tf.math.sigmoid(incorrect))) + epsilon\n",
    "    \n",
    "    return loss\n",
    "        "
   ]
  },
  {
   "cell_type": "code",
   "execution_count": 55,
   "metadata": {},
   "outputs": [
    {
     "name": "stdout",
     "output_type": "stream",
     "text": [
      "(1, 6, 300)\n",
      "float32\n",
      "(1, 6, 40000)\n",
      "int32\n",
      "tf.Tensor(167960.64, shape=(), dtype=float32)\n"
     ]
    }
   ],
   "source": [
    "# TEST - custom loss function\n",
    "\n",
    "a, b = next(train_dataset.batch(1).as_numpy_iterator())\n",
    "\n",
    "print(a.shape)\n",
    "print(a.dtype)\n",
    "\n",
    "print(b.shape)\n",
    "print(b.dtype)\n",
    "\n",
    "print(custom_loss(b, a))"
   ]
  },
  {
   "cell_type": "markdown",
   "metadata": {},
   "source": [
    "## Creating Model"
   ]
  },
  {
   "cell_type": "code",
   "execution_count": 88,
   "metadata": {},
   "outputs": [
    {
     "name": "stdout",
     "output_type": "stream",
     "text": [
      "300\n",
      "40000\n"
     ]
    }
   ],
   "source": [
    "print(num_latent_factors)\n",
    "print(vocab_size)"
   ]
  },
  {
   "cell_type": "code",
   "execution_count": 89,
   "metadata": {},
   "outputs": [],
   "source": [
    "clear_session()"
   ]
  },
  {
   "cell_type": "code",
   "execution_count": 90,
   "metadata": {},
   "outputs": [],
   "source": [
    "LSTM_L1_UNITS = num_latent_factors\n",
    "LSTM_L2_UNITS = 50\n",
    "LEARNING_RATE = 1e-3\n",
    "\n",
    "model = Sequential()\n",
    "\n",
    "model.add(LSTM(units=LSTM_L1_UNITS,\n",
    "              return_sequences=True,\n",
    "              input_shape=(None, num_latent_factors)))\n",
    "\n",
    "model.add(LSTM(units=LSTM_L2_UNITS,\n",
    "              return_sequences=True,\n",
    "              input_shape=(None, LSTM_L1_UNITS)))\n",
    "\n",
    "model.add(Dense(units=num_latent_factors, activation=\"sigmoid\"))\n",
    "\n",
    "optimiser = RMSprop(lr=LEARNING_RATE)\n",
    "\n",
    "model.compile(loss=custom_loss, optimizer=optimiser)"
   ]
  },
  {
   "cell_type": "code",
   "execution_count": 91,
   "metadata": {},
   "outputs": [
    {
     "name": "stdout",
     "output_type": "stream",
     "text": [
      "Model: \"sequential\"\n",
      "_________________________________________________________________\n",
      "Layer (type)                 Output Shape              Param #   \n",
      "=================================================================\n",
      "lstm (LSTM)                  (None, None, 300)         721200    \n",
      "_________________________________________________________________\n",
      "lstm_1 (LSTM)                (None, None, 50)          70200     \n",
      "_________________________________________________________________\n",
      "dense (Dense)                (None, None, 300)         15300     \n",
      "=================================================================\n",
      "Total params: 806,700\n",
      "Trainable params: 806,700\n",
      "Non-trainable params: 0\n",
      "_________________________________________________________________\n"
     ]
    }
   ],
   "source": [
    "model.summary()"
   ]
  },
  {
   "cell_type": "code",
   "execution_count": 92,
   "metadata": {},
   "outputs": [
    {
     "data": {
      "text/plain": [
       "9520"
      ]
     },
     "execution_count": 92,
     "metadata": {},
     "output_type": "execute_result"
    }
   ],
   "source": [
    "train_playlist_songs_matrix.shape[0]"
   ]
  },
  {
   "cell_type": "code",
   "execution_count": 93,
   "metadata": {},
   "outputs": [],
   "source": [
    "approx_dof = train_playlist_songs_matrix.shape[0] * 10 * 300"
   ]
  },
  {
   "cell_type": "code",
   "execution_count": 94,
   "metadata": {},
   "outputs": [
    {
     "data": {
      "text/plain": [
       "28560000"
      ]
     },
     "execution_count": 94,
     "metadata": {},
     "output_type": "execute_result"
    }
   ],
   "source": [
    "approx_dof"
   ]
  },
  {
   "cell_type": "markdown",
   "metadata": {},
   "source": [
    "## TODO\n",
    "We cannot select a batch size greater than 1 without fixing the length of each input (i.e. padding and truncating)."
   ]
  },
  {
   "cell_type": "code",
   "execution_count": 95,
   "metadata": {},
   "outputs": [],
   "source": [
    "callbacks = [EarlyStopping(monitor=\"val_loss\", patience=10, verbose=1)]"
   ]
  },
  {
   "cell_type": "code",
   "execution_count": 96,
   "metadata": {},
   "outputs": [
    {
     "name": "stdout",
     "output_type": "stream",
     "text": [
      "Epoch 1/30\n",
      "3493/9520 [==========>...................] - ETA: 18:47 - loss: nan"
     ]
    },
    {
     "ename": "KeyboardInterrupt",
     "evalue": "",
     "output_type": "error",
     "traceback": [
      "\u001b[0;31m---------------------------------------------------------------------------\u001b[0m",
      "\u001b[0;31mKeyboardInterrupt\u001b[0m                         Traceback (most recent call last)",
      "\u001b[0;32m<ipython-input-96-199c0634281b>\u001b[0m in \u001b[0;36m<module>\u001b[0;34m\u001b[0m\n\u001b[1;32m      3\u001b[0m          \u001b[0msteps_per_epoch\u001b[0m\u001b[0;34m=\u001b[0m\u001b[0mtrain_playlist_songs_matrix\u001b[0m\u001b[0;34m.\u001b[0m\u001b[0mshape\u001b[0m\u001b[0;34m[\u001b[0m\u001b[0;36m0\u001b[0m\u001b[0;34m]\u001b[0m\u001b[0;34m,\u001b[0m\u001b[0;34m\u001b[0m\u001b[0;34m\u001b[0m\u001b[0m\n\u001b[1;32m      4\u001b[0m          \u001b[0mvalidation_data\u001b[0m\u001b[0;34m=\u001b[0m\u001b[0mvalidation_data\u001b[0m\u001b[0;34m,\u001b[0m\u001b[0;34m\u001b[0m\u001b[0;34m\u001b[0m\u001b[0m\n\u001b[0;32m----> 5\u001b[0;31m          callbacks=callbacks)\n\u001b[0m",
      "\u001b[0;32m~/opt/anaconda3/lib/python3.7/site-packages/tensorflow/python/keras/engine/training.py\u001b[0m in \u001b[0;36m_method_wrapper\u001b[0;34m(self, *args, **kwargs)\u001b[0m\n\u001b[1;32m    106\u001b[0m   \u001b[0;32mdef\u001b[0m \u001b[0m_method_wrapper\u001b[0m\u001b[0;34m(\u001b[0m\u001b[0mself\u001b[0m\u001b[0;34m,\u001b[0m \u001b[0;34m*\u001b[0m\u001b[0margs\u001b[0m\u001b[0;34m,\u001b[0m \u001b[0;34m**\u001b[0m\u001b[0mkwargs\u001b[0m\u001b[0;34m)\u001b[0m\u001b[0;34m:\u001b[0m\u001b[0;34m\u001b[0m\u001b[0;34m\u001b[0m\u001b[0m\n\u001b[1;32m    107\u001b[0m     \u001b[0;32mif\u001b[0m \u001b[0;32mnot\u001b[0m \u001b[0mself\u001b[0m\u001b[0;34m.\u001b[0m\u001b[0m_in_multi_worker_mode\u001b[0m\u001b[0;34m(\u001b[0m\u001b[0;34m)\u001b[0m\u001b[0;34m:\u001b[0m  \u001b[0;31m# pylint: disable=protected-access\u001b[0m\u001b[0;34m\u001b[0m\u001b[0;34m\u001b[0m\u001b[0m\n\u001b[0;32m--> 108\u001b[0;31m       \u001b[0;32mreturn\u001b[0m \u001b[0mmethod\u001b[0m\u001b[0;34m(\u001b[0m\u001b[0mself\u001b[0m\u001b[0;34m,\u001b[0m \u001b[0;34m*\u001b[0m\u001b[0margs\u001b[0m\u001b[0;34m,\u001b[0m \u001b[0;34m**\u001b[0m\u001b[0mkwargs\u001b[0m\u001b[0;34m)\u001b[0m\u001b[0;34m\u001b[0m\u001b[0;34m\u001b[0m\u001b[0m\n\u001b[0m\u001b[1;32m    109\u001b[0m \u001b[0;34m\u001b[0m\u001b[0m\n\u001b[1;32m    110\u001b[0m     \u001b[0;31m# Running inside `run_distribute_coordinator` already.\u001b[0m\u001b[0;34m\u001b[0m\u001b[0;34m\u001b[0m\u001b[0;34m\u001b[0m\u001b[0m\n",
      "\u001b[0;32m~/opt/anaconda3/lib/python3.7/site-packages/tensorflow/python/keras/engine/training.py\u001b[0m in \u001b[0;36mfit\u001b[0;34m(self, x, y, batch_size, epochs, verbose, callbacks, validation_split, validation_data, shuffle, class_weight, sample_weight, initial_epoch, steps_per_epoch, validation_steps, validation_batch_size, validation_freq, max_queue_size, workers, use_multiprocessing)\u001b[0m\n\u001b[1;32m   1096\u001b[0m                 batch_size=batch_size):\n\u001b[1;32m   1097\u001b[0m               \u001b[0mcallbacks\u001b[0m\u001b[0;34m.\u001b[0m\u001b[0mon_train_batch_begin\u001b[0m\u001b[0;34m(\u001b[0m\u001b[0mstep\u001b[0m\u001b[0;34m)\u001b[0m\u001b[0;34m\u001b[0m\u001b[0;34m\u001b[0m\u001b[0m\n\u001b[0;32m-> 1098\u001b[0;31m               \u001b[0mtmp_logs\u001b[0m \u001b[0;34m=\u001b[0m \u001b[0mtrain_function\u001b[0m\u001b[0;34m(\u001b[0m\u001b[0miterator\u001b[0m\u001b[0;34m)\u001b[0m\u001b[0;34m\u001b[0m\u001b[0;34m\u001b[0m\u001b[0m\n\u001b[0m\u001b[1;32m   1099\u001b[0m               \u001b[0;32mif\u001b[0m \u001b[0mdata_handler\u001b[0m\u001b[0;34m.\u001b[0m\u001b[0mshould_sync\u001b[0m\u001b[0;34m:\u001b[0m\u001b[0;34m\u001b[0m\u001b[0;34m\u001b[0m\u001b[0m\n\u001b[1;32m   1100\u001b[0m                 \u001b[0mcontext\u001b[0m\u001b[0;34m.\u001b[0m\u001b[0masync_wait\u001b[0m\u001b[0;34m(\u001b[0m\u001b[0;34m)\u001b[0m\u001b[0;34m\u001b[0m\u001b[0;34m\u001b[0m\u001b[0m\n",
      "\u001b[0;32m~/opt/anaconda3/lib/python3.7/site-packages/tensorflow/python/eager/def_function.py\u001b[0m in \u001b[0;36m__call__\u001b[0;34m(self, *args, **kwds)\u001b[0m\n\u001b[1;32m    778\u001b[0m       \u001b[0;32melse\u001b[0m\u001b[0;34m:\u001b[0m\u001b[0;34m\u001b[0m\u001b[0;34m\u001b[0m\u001b[0m\n\u001b[1;32m    779\u001b[0m         \u001b[0mcompiler\u001b[0m \u001b[0;34m=\u001b[0m \u001b[0;34m\"nonXla\"\u001b[0m\u001b[0;34m\u001b[0m\u001b[0;34m\u001b[0m\u001b[0m\n\u001b[0;32m--> 780\u001b[0;31m         \u001b[0mresult\u001b[0m \u001b[0;34m=\u001b[0m \u001b[0mself\u001b[0m\u001b[0;34m.\u001b[0m\u001b[0m_call\u001b[0m\u001b[0;34m(\u001b[0m\u001b[0;34m*\u001b[0m\u001b[0margs\u001b[0m\u001b[0;34m,\u001b[0m \u001b[0;34m**\u001b[0m\u001b[0mkwds\u001b[0m\u001b[0;34m)\u001b[0m\u001b[0;34m\u001b[0m\u001b[0;34m\u001b[0m\u001b[0m\n\u001b[0m\u001b[1;32m    781\u001b[0m \u001b[0;34m\u001b[0m\u001b[0m\n\u001b[1;32m    782\u001b[0m       \u001b[0mnew_tracing_count\u001b[0m \u001b[0;34m=\u001b[0m \u001b[0mself\u001b[0m\u001b[0;34m.\u001b[0m\u001b[0m_get_tracing_count\u001b[0m\u001b[0;34m(\u001b[0m\u001b[0;34m)\u001b[0m\u001b[0;34m\u001b[0m\u001b[0;34m\u001b[0m\u001b[0m\n",
      "\u001b[0;32m~/opt/anaconda3/lib/python3.7/site-packages/tensorflow/python/eager/def_function.py\u001b[0m in \u001b[0;36m_call\u001b[0;34m(self, *args, **kwds)\u001b[0m\n\u001b[1;32m    805\u001b[0m       \u001b[0;31m# In this case we have created variables on the first call, so we run the\u001b[0m\u001b[0;34m\u001b[0m\u001b[0;34m\u001b[0m\u001b[0;34m\u001b[0m\u001b[0m\n\u001b[1;32m    806\u001b[0m       \u001b[0;31m# defunned version which is guaranteed to never create variables.\u001b[0m\u001b[0;34m\u001b[0m\u001b[0;34m\u001b[0m\u001b[0;34m\u001b[0m\u001b[0m\n\u001b[0;32m--> 807\u001b[0;31m       \u001b[0;32mreturn\u001b[0m \u001b[0mself\u001b[0m\u001b[0;34m.\u001b[0m\u001b[0m_stateless_fn\u001b[0m\u001b[0;34m(\u001b[0m\u001b[0;34m*\u001b[0m\u001b[0margs\u001b[0m\u001b[0;34m,\u001b[0m \u001b[0;34m**\u001b[0m\u001b[0mkwds\u001b[0m\u001b[0;34m)\u001b[0m  \u001b[0;31m# pylint: disable=not-callable\u001b[0m\u001b[0;34m\u001b[0m\u001b[0;34m\u001b[0m\u001b[0m\n\u001b[0m\u001b[1;32m    808\u001b[0m     \u001b[0;32melif\u001b[0m \u001b[0mself\u001b[0m\u001b[0;34m.\u001b[0m\u001b[0m_stateful_fn\u001b[0m \u001b[0;32mis\u001b[0m \u001b[0;32mnot\u001b[0m \u001b[0;32mNone\u001b[0m\u001b[0;34m:\u001b[0m\u001b[0;34m\u001b[0m\u001b[0;34m\u001b[0m\u001b[0m\n\u001b[1;32m    809\u001b[0m       \u001b[0;31m# Release the lock early so that multiple threads can perform the call\u001b[0m\u001b[0;34m\u001b[0m\u001b[0;34m\u001b[0m\u001b[0;34m\u001b[0m\u001b[0m\n",
      "\u001b[0;32m~/opt/anaconda3/lib/python3.7/site-packages/tensorflow/python/eager/function.py\u001b[0m in \u001b[0;36m__call__\u001b[0;34m(self, *args, **kwargs)\u001b[0m\n\u001b[1;32m   2827\u001b[0m     \u001b[0;32mwith\u001b[0m \u001b[0mself\u001b[0m\u001b[0;34m.\u001b[0m\u001b[0m_lock\u001b[0m\u001b[0;34m:\u001b[0m\u001b[0;34m\u001b[0m\u001b[0;34m\u001b[0m\u001b[0m\n\u001b[1;32m   2828\u001b[0m       \u001b[0mgraph_function\u001b[0m\u001b[0;34m,\u001b[0m \u001b[0margs\u001b[0m\u001b[0;34m,\u001b[0m \u001b[0mkwargs\u001b[0m \u001b[0;34m=\u001b[0m \u001b[0mself\u001b[0m\u001b[0;34m.\u001b[0m\u001b[0m_maybe_define_function\u001b[0m\u001b[0;34m(\u001b[0m\u001b[0margs\u001b[0m\u001b[0;34m,\u001b[0m \u001b[0mkwargs\u001b[0m\u001b[0;34m)\u001b[0m\u001b[0;34m\u001b[0m\u001b[0;34m\u001b[0m\u001b[0m\n\u001b[0;32m-> 2829\u001b[0;31m     \u001b[0;32mreturn\u001b[0m \u001b[0mgraph_function\u001b[0m\u001b[0;34m.\u001b[0m\u001b[0m_filtered_call\u001b[0m\u001b[0;34m(\u001b[0m\u001b[0margs\u001b[0m\u001b[0;34m,\u001b[0m \u001b[0mkwargs\u001b[0m\u001b[0;34m)\u001b[0m  \u001b[0;31m# pylint: disable=protected-access\u001b[0m\u001b[0;34m\u001b[0m\u001b[0;34m\u001b[0m\u001b[0m\n\u001b[0m\u001b[1;32m   2830\u001b[0m \u001b[0;34m\u001b[0m\u001b[0m\n\u001b[1;32m   2831\u001b[0m   \u001b[0;34m@\u001b[0m\u001b[0mproperty\u001b[0m\u001b[0;34m\u001b[0m\u001b[0;34m\u001b[0m\u001b[0m\n",
      "\u001b[0;32m~/opt/anaconda3/lib/python3.7/site-packages/tensorflow/python/eager/function.py\u001b[0m in \u001b[0;36m_filtered_call\u001b[0;34m(self, args, kwargs, cancellation_manager)\u001b[0m\n\u001b[1;32m   1846\u001b[0m                            resource_variable_ops.BaseResourceVariable))],\n\u001b[1;32m   1847\u001b[0m         \u001b[0mcaptured_inputs\u001b[0m\u001b[0;34m=\u001b[0m\u001b[0mself\u001b[0m\u001b[0;34m.\u001b[0m\u001b[0mcaptured_inputs\u001b[0m\u001b[0;34m,\u001b[0m\u001b[0;34m\u001b[0m\u001b[0;34m\u001b[0m\u001b[0m\n\u001b[0;32m-> 1848\u001b[0;31m         cancellation_manager=cancellation_manager)\n\u001b[0m\u001b[1;32m   1849\u001b[0m \u001b[0;34m\u001b[0m\u001b[0m\n\u001b[1;32m   1850\u001b[0m   \u001b[0;32mdef\u001b[0m \u001b[0m_call_flat\u001b[0m\u001b[0;34m(\u001b[0m\u001b[0mself\u001b[0m\u001b[0;34m,\u001b[0m \u001b[0margs\u001b[0m\u001b[0;34m,\u001b[0m \u001b[0mcaptured_inputs\u001b[0m\u001b[0;34m,\u001b[0m \u001b[0mcancellation_manager\u001b[0m\u001b[0;34m=\u001b[0m\u001b[0;32mNone\u001b[0m\u001b[0;34m)\u001b[0m\u001b[0;34m:\u001b[0m\u001b[0;34m\u001b[0m\u001b[0;34m\u001b[0m\u001b[0m\n",
      "\u001b[0;32m~/opt/anaconda3/lib/python3.7/site-packages/tensorflow/python/eager/function.py\u001b[0m in \u001b[0;36m_call_flat\u001b[0;34m(self, args, captured_inputs, cancellation_manager)\u001b[0m\n\u001b[1;32m   1922\u001b[0m       \u001b[0;31m# No tape is watching; skip to running the function.\u001b[0m\u001b[0;34m\u001b[0m\u001b[0;34m\u001b[0m\u001b[0;34m\u001b[0m\u001b[0m\n\u001b[1;32m   1923\u001b[0m       return self._build_call_outputs(self._inference_function.call(\n\u001b[0;32m-> 1924\u001b[0;31m           ctx, args, cancellation_manager=cancellation_manager))\n\u001b[0m\u001b[1;32m   1925\u001b[0m     forward_backward = self._select_forward_and_backward_functions(\n\u001b[1;32m   1926\u001b[0m         \u001b[0margs\u001b[0m\u001b[0;34m,\u001b[0m\u001b[0;34m\u001b[0m\u001b[0;34m\u001b[0m\u001b[0m\n",
      "\u001b[0;32m~/opt/anaconda3/lib/python3.7/site-packages/tensorflow/python/eager/function.py\u001b[0m in \u001b[0;36mcall\u001b[0;34m(self, ctx, args, cancellation_manager)\u001b[0m\n\u001b[1;32m    548\u001b[0m               \u001b[0minputs\u001b[0m\u001b[0;34m=\u001b[0m\u001b[0margs\u001b[0m\u001b[0;34m,\u001b[0m\u001b[0;34m\u001b[0m\u001b[0;34m\u001b[0m\u001b[0m\n\u001b[1;32m    549\u001b[0m               \u001b[0mattrs\u001b[0m\u001b[0;34m=\u001b[0m\u001b[0mattrs\u001b[0m\u001b[0;34m,\u001b[0m\u001b[0;34m\u001b[0m\u001b[0;34m\u001b[0m\u001b[0m\n\u001b[0;32m--> 550\u001b[0;31m               ctx=ctx)\n\u001b[0m\u001b[1;32m    551\u001b[0m         \u001b[0;32melse\u001b[0m\u001b[0;34m:\u001b[0m\u001b[0;34m\u001b[0m\u001b[0;34m\u001b[0m\u001b[0m\n\u001b[1;32m    552\u001b[0m           outputs = execute.execute_with_cancellation(\n",
      "\u001b[0;32m~/opt/anaconda3/lib/python3.7/site-packages/tensorflow/python/eager/execute.py\u001b[0m in \u001b[0;36mquick_execute\u001b[0;34m(op_name, num_outputs, inputs, attrs, ctx, name)\u001b[0m\n\u001b[1;32m     58\u001b[0m     \u001b[0mctx\u001b[0m\u001b[0;34m.\u001b[0m\u001b[0mensure_initialized\u001b[0m\u001b[0;34m(\u001b[0m\u001b[0;34m)\u001b[0m\u001b[0;34m\u001b[0m\u001b[0;34m\u001b[0m\u001b[0m\n\u001b[1;32m     59\u001b[0m     tensors = pywrap_tfe.TFE_Py_Execute(ctx._handle, device_name, op_name,\n\u001b[0;32m---> 60\u001b[0;31m                                         inputs, attrs, num_outputs)\n\u001b[0m\u001b[1;32m     61\u001b[0m   \u001b[0;32mexcept\u001b[0m \u001b[0mcore\u001b[0m\u001b[0;34m.\u001b[0m\u001b[0m_NotOkStatusException\u001b[0m \u001b[0;32mas\u001b[0m \u001b[0me\u001b[0m\u001b[0;34m:\u001b[0m\u001b[0;34m\u001b[0m\u001b[0;34m\u001b[0m\u001b[0m\n\u001b[1;32m     62\u001b[0m     \u001b[0;32mif\u001b[0m \u001b[0mname\u001b[0m \u001b[0;32mis\u001b[0m \u001b[0;32mnot\u001b[0m \u001b[0;32mNone\u001b[0m\u001b[0;34m:\u001b[0m\u001b[0;34m\u001b[0m\u001b[0;34m\u001b[0m\u001b[0m\n",
      "\u001b[0;31mKeyboardInterrupt\u001b[0m: "
     ]
    }
   ],
   "source": [
    "model.fit(train_dataset.shuffle(100).batch(1),\n",
    "         epochs=30,\n",
    "         steps_per_epoch=train_playlist_songs_matrix.shape[0],\n",
    "         validation_data=validation_data,\n",
    "         callbacks=callbacks)"
   ]
  },
  {
   "cell_type": "code",
   "execution_count": null,
   "metadata": {},
   "outputs": [],
   "source": []
  }
 ],
 "metadata": {
  "kernelspec": {
   "display_name": "Python 3",
   "language": "python",
   "name": "python3"
  },
  "language_info": {
   "codemirror_mode": {
    "name": "ipython",
    "version": 3
   },
   "file_extension": ".py",
   "mimetype": "text/x-python",
   "name": "python",
   "nbconvert_exporter": "python",
   "pygments_lexer": "ipython3",
   "version": "3.7.4"
  }
 },
 "nbformat": 4,
 "nbformat_minor": 2
}
