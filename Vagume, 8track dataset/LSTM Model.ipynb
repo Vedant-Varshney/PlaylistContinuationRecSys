{
 "cells": [
  {
   "cell_type": "markdown",
   "metadata": {},
   "source": [
    "# LSTM Model"
   ]
  },
  {
   "cell_type": "markdown",
   "metadata": {},
   "source": [
    "df -> integer encoded songs per playlist"
   ]
  },
  {
   "cell_type": "code",
   "execution_count": 1,
   "metadata": {},
   "outputs": [],
   "source": [
    "import pandas as pd\n",
    "import matplotlib.pyplot as plt\n",
    "import numpy as np\n",
    "import scipy as sp\n",
    "\n",
    "import implicit\n",
    "from tqdm.notebook import tqdm, trange\n",
    "\n",
    "from sklearn.model_selection import train_test_split\n",
    "\n",
    "import sys\n",
    "sys.path.append(\"..\")\n",
    "\n",
    "from collections import defaultdict\n",
    "from importlib import reload\n",
    "\n",
    "import pickle\n",
    "\n",
    "from joblib import delayed, Parallel\n",
    "\n",
    "import seaborn as sns\n",
    "sns.set()\n",
    "\n",
    "import tensorflow as tf\n",
    "from tensorflow import keras\n",
    "\n",
    "from tensorflow.keras.models import Sequential\n",
    "from tensorflow.keras.layers import Dense, LSTM, Embedding\n",
    "from tensorflow.keras.optimizers import RMSprop\n",
    "from tensorflow.keras.callbacks import EarlyStopping\n",
    "from tensorflow.keras.backend import square, mean, log, dot, flatten\n",
    "from sklearn.preprocessing import MinMaxScaler\n",
    "from sklearn.metrics import mean_squared_error"
   ]
  },
  {
   "cell_type": "code",
   "execution_count": 14,
   "metadata": {},
   "outputs": [],
   "source": [
    "import df_utils\n",
    "import mf_utils\n",
    "import rnn_utils"
   ]
  },
  {
   "cell_type": "code",
   "execution_count": 9,
   "metadata": {},
   "outputs": [
    {
     "name": "stderr",
     "output_type": "stream",
     "text": [
      "/Users/vedantvarshney/opt/anaconda3/lib/python3.7/site-packages/IPython/core/interactiveshell.py:3058: DtypeWarning: Columns (2) have mixed types. Specify dtype option on import or set low_memory=False.\n",
      "  interactivity=interactivity, compiler=compiler, result=result)\n"
     ]
    }
   ],
   "source": [
    "df = pd.read_csv(\"cleaned_data_0.2.csv\", index_col=[0])\n",
    "songs_df = pd.read_csv(\"songs_DF.csv\", index_col=[0])\n",
    "\n",
    "train_df = pd.read_csv(\"Train_DF.csv\", index_col=[0])\n",
    "\n",
    "# split_train_df = pd.read_csv(\"Split_Train_DF.csv\", index_col=[0])\n",
    "excl = pickle.load(open(\"Excluded_Songs_Series.p\", \"rb\"))\n",
    "\n",
    "# CANNOT use songs_df here as order is different\n",
    "indx_to_song = mf_utils.indx_mapping(df.spotify_id.unique())\n",
    "\n",
    "# CHANGE FROM EARLIER NOTEBOOKS - now using train_df and not split_train_df\n",
    "indx_to_playlist = mf_utils.indx_mapping(train_df.playlist_id.unique())\n",
    "\n",
    "song_to_indx = mf_utils.indx_mapping(df.spotify_id.unique(), indx_to_item=False)\n",
    "playlist_to_indx = mf_utils.indx_mapping(train_df.playlist_id.unique(), indx_to_item=False)"
   ]
  },
  {
   "cell_type": "code",
   "execution_count": 16,
   "metadata": {},
   "outputs": [
    {
     "data": {
      "application/vnd.jupyter.widget-view+json": {
       "model_id": "c1abdbcf50ab4f73a921feeb78c5fda2",
       "version_major": 2,
       "version_minor": 0
      },
      "text/plain": [
       "HBox(children=(IntProgress(value=0, max=15), HTML(value='')))"
      ]
     },
     "metadata": {},
     "output_type": "display_data"
    },
    {
     "name": "stdout",
     "output_type": "stream",
     "text": [
      "\n"
     ]
    }
   ],
   "source": [
    "train_ratings_matrix = mf_utils.df_to_sparse(train_df, all_songs=df.spotify_id.unique())\n",
    "\n",
    "# Number of latent factors now 300\n",
    "wrmf_model = implicit.als.AlternatingLeastSquares(factors=300)\n",
    "\n",
    "# items_users matrix in this case is the songs_playlist matrix\n",
    "wrmf_model.fit(train_ratings_matrix)"
   ]
  },
  {
   "cell_type": "code",
   "execution_count": 17,
   "metadata": {},
   "outputs": [
    {
     "data": {
      "text/plain": [
       "(10531, 300)"
      ]
     },
     "execution_count": 17,
     "metadata": {},
     "output_type": "execute_result"
    }
   ],
   "source": [
    "wrmf_model.user_factors.shape"
   ]
  },
  {
   "cell_type": "code",
   "execution_count": 18,
   "metadata": {},
   "outputs": [
    {
     "data": {
      "text/plain": [
       "(105152, 300)"
      ]
     },
     "execution_count": 18,
     "metadata": {},
     "output_type": "execute_result"
    }
   ],
   "source": [
    "wrmf_model.item_factors.shape"
   ]
  },
  {
   "cell_type": "code",
   "execution_count": 20,
   "metadata": {},
   "outputs": [
    {
     "data": {
      "text/plain": [
       "0"
      ]
     },
     "execution_count": 20,
     "metadata": {},
     "output_type": "execute_result"
    }
   ],
   "source": [
    "playlist_to_indx[6736120]"
   ]
  },
  {
   "cell_type": "code",
   "execution_count": 22,
   "metadata": {},
   "outputs": [
    {
     "data": {
      "text/html": [
       "<div>\n",
       "<style scoped>\n",
       "    .dataframe tbody tr th:only-of-type {\n",
       "        vertical-align: middle;\n",
       "    }\n",
       "\n",
       "    .dataframe tbody tr th {\n",
       "        vertical-align: top;\n",
       "    }\n",
       "\n",
       "    .dataframe thead th {\n",
       "        text-align: right;\n",
       "    }\n",
       "</style>\n",
       "<table border=\"1\" class=\"dataframe\">\n",
       "  <thead>\n",
       "    <tr style=\"text-align: right;\">\n",
       "      <th></th>\n",
       "      <th>source</th>\n",
       "      <th>user_id</th>\n",
       "      <th>track_name</th>\n",
       "      <th>artist_name</th>\n",
       "      <th>playlist_id</th>\n",
       "      <th>tags</th>\n",
       "      <th>playlist_name</th>\n",
       "      <th>spotify_id</th>\n",
       "      <th>album</th>\n",
       "      <th>popularity</th>\n",
       "      <th>danceability</th>\n",
       "      <th>energy</th>\n",
       "      <th>loudness</th>\n",
       "      <th>speechiness</th>\n",
       "      <th>acousticness</th>\n",
       "      <th>instrumentalness</th>\n",
       "      <th>liveness</th>\n",
       "      <th>valence</th>\n",
       "      <th>tempo</th>\n",
       "    </tr>\n",
       "  </thead>\n",
       "  <tbody>\n",
       "    <tr>\n",
       "      <td>0</td>\n",
       "      <td>vagalume</td>\n",
       "      <td>sitevagalume</td>\n",
       "      <td>Eraser</td>\n",
       "      <td>Ed Sheeran</td>\n",
       "      <td>6736120</td>\n",
       "      <td>pop,pop/rock,rock</td>\n",
       "      <td>Ed Sheeran - Divide</td>\n",
       "      <td>7oolFzHipTMg2nL7shhdz2</td>\n",
       "      <td>÷ (Deluxe)</td>\n",
       "      <td>64.0</td>\n",
       "      <td>0.640</td>\n",
       "      <td>0.812</td>\n",
       "      <td>-5.647</td>\n",
       "      <td>0.0834</td>\n",
       "      <td>0.086000</td>\n",
       "      <td>0.000000</td>\n",
       "      <td>0.0509</td>\n",
       "      <td>0.914</td>\n",
       "      <td>86.013</td>\n",
       "    </tr>\n",
       "    <tr>\n",
       "      <td>1</td>\n",
       "      <td>vagalume</td>\n",
       "      <td>sitevagalume</td>\n",
       "      <td>Castle On The Hill</td>\n",
       "      <td>Ed Sheeran</td>\n",
       "      <td>6736120</td>\n",
       "      <td>pop,pop/rock,rock</td>\n",
       "      <td>Ed Sheeran - Divide</td>\n",
       "      <td>6PCUP3dWmTjcTtXY02oFdT</td>\n",
       "      <td>÷ (Deluxe)</td>\n",
       "      <td>78.0</td>\n",
       "      <td>0.461</td>\n",
       "      <td>0.834</td>\n",
       "      <td>-4.868</td>\n",
       "      <td>0.0989</td>\n",
       "      <td>0.023200</td>\n",
       "      <td>0.000011</td>\n",
       "      <td>0.1400</td>\n",
       "      <td>0.471</td>\n",
       "      <td>135.007</td>\n",
       "    </tr>\n",
       "    <tr>\n",
       "      <td>2</td>\n",
       "      <td>vagalume</td>\n",
       "      <td>sitevagalume</td>\n",
       "      <td>Dive</td>\n",
       "      <td>Ed Sheeran</td>\n",
       "      <td>6736120</td>\n",
       "      <td>pop,pop/rock,rock</td>\n",
       "      <td>Ed Sheeran - Divide</td>\n",
       "      <td>51ChrwmUPDJvedPQnIU8Ls</td>\n",
       "      <td>÷ (Deluxe)</td>\n",
       "      <td>75.0</td>\n",
       "      <td>0.761</td>\n",
       "      <td>0.386</td>\n",
       "      <td>-6.158</td>\n",
       "      <td>0.0399</td>\n",
       "      <td>0.355000</td>\n",
       "      <td>0.000000</td>\n",
       "      <td>0.0953</td>\n",
       "      <td>0.526</td>\n",
       "      <td>134.943</td>\n",
       "    </tr>\n",
       "    <tr>\n",
       "      <td>3</td>\n",
       "      <td>vagalume</td>\n",
       "      <td>sitevagalume</td>\n",
       "      <td>Shape Of You</td>\n",
       "      <td>Ed Sheeran</td>\n",
       "      <td>6736120</td>\n",
       "      <td>pop,pop/rock,rock</td>\n",
       "      <td>Ed Sheeran - Divide</td>\n",
       "      <td>7qiZfU4dY1lWllzX7mPBI3</td>\n",
       "      <td>÷ (Deluxe)</td>\n",
       "      <td>85.0</td>\n",
       "      <td>0.825</td>\n",
       "      <td>0.652</td>\n",
       "      <td>-3.183</td>\n",
       "      <td>0.0802</td>\n",
       "      <td>0.581000</td>\n",
       "      <td>0.000000</td>\n",
       "      <td>0.0931</td>\n",
       "      <td>0.931</td>\n",
       "      <td>95.977</td>\n",
       "    </tr>\n",
       "    <tr>\n",
       "      <td>4</td>\n",
       "      <td>vagalume</td>\n",
       "      <td>sitevagalume</td>\n",
       "      <td>Perfect</td>\n",
       "      <td>Ed Sheeran</td>\n",
       "      <td>6736120</td>\n",
       "      <td>pop,pop/rock,rock</td>\n",
       "      <td>Ed Sheeran - Divide</td>\n",
       "      <td>0tgVpDi06FyKpA1z0VMD4v</td>\n",
       "      <td>÷ (Deluxe)</td>\n",
       "      <td>86.0</td>\n",
       "      <td>0.599</td>\n",
       "      <td>0.448</td>\n",
       "      <td>-6.312</td>\n",
       "      <td>0.0232</td>\n",
       "      <td>0.163000</td>\n",
       "      <td>0.000000</td>\n",
       "      <td>0.1060</td>\n",
       "      <td>0.168</td>\n",
       "      <td>95.050</td>\n",
       "    </tr>\n",
       "    <tr>\n",
       "      <td>...</td>\n",
       "      <td>...</td>\n",
       "      <td>...</td>\n",
       "      <td>...</td>\n",
       "      <td>...</td>\n",
       "      <td>...</td>\n",
       "      <td>...</td>\n",
       "      <td>...</td>\n",
       "      <td>...</td>\n",
       "      <td>...</td>\n",
       "      <td>...</td>\n",
       "      <td>...</td>\n",
       "      <td>...</td>\n",
       "      <td>...</td>\n",
       "      <td>...</td>\n",
       "      <td>...</td>\n",
       "      <td>...</td>\n",
       "      <td>...</td>\n",
       "      <td>...</td>\n",
       "      <td>...</td>\n",
       "    </tr>\n",
       "    <tr>\n",
       "      <td>560575</td>\n",
       "      <td>8tracks</td>\n",
       "      <td>11027</td>\n",
       "      <td>Instant Karma</td>\n",
       "      <td>John Lennon</td>\n",
       "      <td>10532</td>\n",
       "      <td>indie rock,unknown, alternative &amp; punk</td>\n",
       "      <td>scascio</td>\n",
       "      <td>2E9wKgL8NN7Tvydqcjoh7v</td>\n",
       "      <td>Gimme Some Truth</td>\n",
       "      <td>53.0</td>\n",
       "      <td>0.624</td>\n",
       "      <td>0.931</td>\n",
       "      <td>-9.988</td>\n",
       "      <td>0.1160</td>\n",
       "      <td>0.000899</td>\n",
       "      <td>0.001490</td>\n",
       "      <td>0.0631</td>\n",
       "      <td>0.140</td>\n",
       "      <td>119.887</td>\n",
       "    </tr>\n",
       "    <tr>\n",
       "      <td>560576</td>\n",
       "      <td>8tracks</td>\n",
       "      <td>11027</td>\n",
       "      <td>This Must Be the Place (Naive Melody)</td>\n",
       "      <td>Talking Heads</td>\n",
       "      <td>10532</td>\n",
       "      <td>indie rock,unknown, alternative &amp; punk</td>\n",
       "      <td>scascio</td>\n",
       "      <td>6aBUnkXuCEQQHAlTokv9or</td>\n",
       "      <td>Speaking in Tongues (Deluxe Version)</td>\n",
       "      <td>71.0</td>\n",
       "      <td>0.942</td>\n",
       "      <td>0.641</td>\n",
       "      <td>-10.150</td>\n",
       "      <td>0.0333</td>\n",
       "      <td>0.331000</td>\n",
       "      <td>0.179000</td>\n",
       "      <td>0.0280</td>\n",
       "      <td>0.966</td>\n",
       "      <td>114.443</td>\n",
       "    </tr>\n",
       "    <tr>\n",
       "      <td>560577</td>\n",
       "      <td>8tracks</td>\n",
       "      <td>11027</td>\n",
       "      <td>Rock &amp; Roll (Full-Length Version)</td>\n",
       "      <td>The Velvet Underground</td>\n",
       "      <td>10532</td>\n",
       "      <td>indie rock,unknown, alternative &amp; punk</td>\n",
       "      <td>scascio</td>\n",
       "      <td>1o6DclZHw0HomxXEQR1ijX</td>\n",
       "      <td>Loaded: Re-Loaded 45th Anniversary Edition</td>\n",
       "      <td>62.0</td>\n",
       "      <td>0.494</td>\n",
       "      <td>0.735</td>\n",
       "      <td>-8.347</td>\n",
       "      <td>0.0345</td>\n",
       "      <td>0.004010</td>\n",
       "      <td>0.000003</td>\n",
       "      <td>0.5440</td>\n",
       "      <td>0.742</td>\n",
       "      <td>132.526</td>\n",
       "    </tr>\n",
       "    <tr>\n",
       "      <td>560578</td>\n",
       "      <td>8tracks</td>\n",
       "      <td>11027</td>\n",
       "      <td>So. Central Rain (I'm Sorry)</td>\n",
       "      <td>R.E.M.</td>\n",
       "      <td>10532</td>\n",
       "      <td>indie rock,unknown, alternative &amp; punk</td>\n",
       "      <td>scascio</td>\n",
       "      <td>3AdyPM9rfgfPxoWS4tKh2O</td>\n",
       "      <td>Live At The Olympia</td>\n",
       "      <td>38.0</td>\n",
       "      <td>0.339</td>\n",
       "      <td>0.950</td>\n",
       "      <td>-4.797</td>\n",
       "      <td>0.0556</td>\n",
       "      <td>0.000804</td>\n",
       "      <td>0.000034</td>\n",
       "      <td>0.9700</td>\n",
       "      <td>0.460</td>\n",
       "      <td>142.148</td>\n",
       "    </tr>\n",
       "    <tr>\n",
       "      <td>560579</td>\n",
       "      <td>8tracks</td>\n",
       "      <td>24524</td>\n",
       "      <td>Phantom Punch</td>\n",
       "      <td>Sondre Lerche</td>\n",
       "      <td>27073</td>\n",
       "      <td>pop,rock, alternative rock</td>\n",
       "      <td>Wake up!</td>\n",
       "      <td>337mW8qSIO7fXdA2UaDxE2</td>\n",
       "      <td>Phantom Punch</td>\n",
       "      <td>19.0</td>\n",
       "      <td>0.511</td>\n",
       "      <td>0.888</td>\n",
       "      <td>-3.125</td>\n",
       "      <td>0.1120</td>\n",
       "      <td>0.008520</td>\n",
       "      <td>0.000000</td>\n",
       "      <td>0.1900</td>\n",
       "      <td>0.828</td>\n",
       "      <td>146.441</td>\n",
       "    </tr>\n",
       "  </tbody>\n",
       "</table>\n",
       "<p>504522 rows × 19 columns</p>\n",
       "</div>"
      ],
      "text/plain": [
       "          source       user_id                             track_name  \\\n",
       "0       vagalume  sitevagalume                                 Eraser   \n",
       "1       vagalume  sitevagalume                     Castle On The Hill   \n",
       "2       vagalume  sitevagalume                                   Dive   \n",
       "3       vagalume  sitevagalume                           Shape Of You   \n",
       "4       vagalume  sitevagalume                                Perfect   \n",
       "...          ...           ...                                    ...   \n",
       "560575   8tracks         11027                          Instant Karma   \n",
       "560576   8tracks         11027  This Must Be the Place (Naive Melody)   \n",
       "560577   8tracks         11027      Rock & Roll (Full-Length Version)   \n",
       "560578   8tracks         11027           So. Central Rain (I'm Sorry)   \n",
       "560579   8tracks         24524                          Phantom Punch   \n",
       "\n",
       "                   artist_name  playlist_id  \\\n",
       "0                   Ed Sheeran      6736120   \n",
       "1                   Ed Sheeran      6736120   \n",
       "2                   Ed Sheeran      6736120   \n",
       "3                   Ed Sheeran      6736120   \n",
       "4                   Ed Sheeran      6736120   \n",
       "...                        ...          ...   \n",
       "560575             John Lennon        10532   \n",
       "560576           Talking Heads        10532   \n",
       "560577  The Velvet Underground        10532   \n",
       "560578                  R.E.M.        10532   \n",
       "560579           Sondre Lerche        27073   \n",
       "\n",
       "                                           tags        playlist_name  \\\n",
       "0                             pop,pop/rock,rock  Ed Sheeran - Divide   \n",
       "1                             pop,pop/rock,rock  Ed Sheeran - Divide   \n",
       "2                             pop,pop/rock,rock  Ed Sheeran - Divide   \n",
       "3                             pop,pop/rock,rock  Ed Sheeran - Divide   \n",
       "4                             pop,pop/rock,rock  Ed Sheeran - Divide   \n",
       "...                                         ...                  ...   \n",
       "560575   indie rock,unknown, alternative & punk              scascio   \n",
       "560576   indie rock,unknown, alternative & punk              scascio   \n",
       "560577   indie rock,unknown, alternative & punk              scascio   \n",
       "560578   indie rock,unknown, alternative & punk              scascio   \n",
       "560579               pop,rock, alternative rock             Wake up!   \n",
       "\n",
       "                    spotify_id                                       album  \\\n",
       "0       7oolFzHipTMg2nL7shhdz2                                  ÷ (Deluxe)   \n",
       "1       6PCUP3dWmTjcTtXY02oFdT                                  ÷ (Deluxe)   \n",
       "2       51ChrwmUPDJvedPQnIU8Ls                                  ÷ (Deluxe)   \n",
       "3       7qiZfU4dY1lWllzX7mPBI3                                  ÷ (Deluxe)   \n",
       "4       0tgVpDi06FyKpA1z0VMD4v                                  ÷ (Deluxe)   \n",
       "...                        ...                                         ...   \n",
       "560575  2E9wKgL8NN7Tvydqcjoh7v                            Gimme Some Truth   \n",
       "560576  6aBUnkXuCEQQHAlTokv9or        Speaking in Tongues (Deluxe Version)   \n",
       "560577  1o6DclZHw0HomxXEQR1ijX  Loaded: Re-Loaded 45th Anniversary Edition   \n",
       "560578  3AdyPM9rfgfPxoWS4tKh2O                         Live At The Olympia   \n",
       "560579  337mW8qSIO7fXdA2UaDxE2                               Phantom Punch   \n",
       "\n",
       "        popularity  danceability  energy  loudness  speechiness  acousticness  \\\n",
       "0             64.0         0.640   0.812    -5.647       0.0834      0.086000   \n",
       "1             78.0         0.461   0.834    -4.868       0.0989      0.023200   \n",
       "2             75.0         0.761   0.386    -6.158       0.0399      0.355000   \n",
       "3             85.0         0.825   0.652    -3.183       0.0802      0.581000   \n",
       "4             86.0         0.599   0.448    -6.312       0.0232      0.163000   \n",
       "...            ...           ...     ...       ...          ...           ...   \n",
       "560575        53.0         0.624   0.931    -9.988       0.1160      0.000899   \n",
       "560576        71.0         0.942   0.641   -10.150       0.0333      0.331000   \n",
       "560577        62.0         0.494   0.735    -8.347       0.0345      0.004010   \n",
       "560578        38.0         0.339   0.950    -4.797       0.0556      0.000804   \n",
       "560579        19.0         0.511   0.888    -3.125       0.1120      0.008520   \n",
       "\n",
       "        instrumentalness  liveness  valence    tempo  \n",
       "0               0.000000    0.0509    0.914   86.013  \n",
       "1               0.000011    0.1400    0.471  135.007  \n",
       "2               0.000000    0.0953    0.526  134.943  \n",
       "3               0.000000    0.0931    0.931   95.977  \n",
       "4               0.000000    0.1060    0.168   95.050  \n",
       "...                  ...       ...      ...      ...  \n",
       "560575          0.001490    0.0631    0.140  119.887  \n",
       "560576          0.179000    0.0280    0.966  114.443  \n",
       "560577          0.000003    0.5440    0.742  132.526  \n",
       "560578          0.000034    0.9700    0.460  142.148  \n",
       "560579          0.000000    0.1900    0.828  146.441  \n",
       "\n",
       "[504522 rows x 19 columns]"
      ]
     },
     "execution_count": 22,
     "metadata": {},
     "output_type": "execute_result"
    }
   ],
   "source": [
    "train_df"
   ]
  },
  {
   "cell_type": "code",
   "execution_count": 502,
   "metadata": {},
   "outputs": [
    {
     "data": {
      "text/plain": [
       "<module 'rnn_utils' from '../rnn_utils.py'>"
      ]
     },
     "execution_count": 502,
     "metadata": {},
     "output_type": "execute_result"
    }
   ],
   "source": [
    "reload(rnn_utils)"
   ]
  },
  {
   "cell_type": "code",
   "execution_count": 505,
   "metadata": {},
   "outputs": [
    {
     "name": "stdout",
     "output_type": "stream",
     "text": [
      "Number of unique songs:  105152\n"
     ]
    }
   ],
   "source": [
    "print(\"Number of unique songs: \", len(df.spotify_id.unique()))"
   ]
  },
  {
   "cell_type": "code",
   "execution_count": 508,
   "metadata": {},
   "outputs": [],
   "source": [
    "vocab_size = int(40e3)\n",
    "\n",
    "song_vocab = pd.value_counts(df.spotify_id)[:vocab_size].index.values"
   ]
  },
  {
   "cell_type": "code",
   "execution_count": 509,
   "metadata": {},
   "outputs": [
    {
     "data": {
      "text/plain": [
       "array(['4rHZZAmHpZrA3iH5zx8frV', '4v0hWD4N6qefyFrmSGLjTV',\n",
       "       '2dOTkLZFbpNXrhc24CnTFd', ..., '1uManNSNhjDZ6xOXF1FJRj',\n",
       "       '23VymTjqSe1OnRXdRSwsxB', '09eBMVkPeLVBrSKeG3TryS'], dtype=object)"
      ]
     },
     "execution_count": 509,
     "metadata": {},
     "output_type": "execute_result"
    }
   ],
   "source": [
    "song_vocab"
   ]
  },
  {
   "cell_type": "code",
   "execution_count": 510,
   "metadata": {},
   "outputs": [
    {
     "data": {
      "application/vnd.jupyter.widget-view+json": {
       "model_id": "011d7d1f7b6b4c60863ae6e3e91d06f9",
       "version_major": 2,
       "version_minor": 0
      },
      "text/plain": [
       "HBox(children=(IntProgress(value=0, max=10531), HTML(value='')))"
      ]
     },
     "metadata": {},
     "output_type": "display_data"
    },
    {
     "name": "stdout",
     "output_type": "stream",
     "text": [
      "\n"
     ]
    }
   ],
   "source": [
    "train_playlist_songs_matrix, lengths_series = rnn_utils.create_playlist_song_matrix(train_df, song_to_indx,\n",
    "                                                                                    song_vocab=song_vocab)"
   ]
  },
  {
   "cell_type": "code",
   "execution_count": 511,
   "metadata": {},
   "outputs": [
    {
     "data": {
      "text/plain": [
       "<matplotlib.axes._subplots.AxesSubplot at 0x1b051fc10>"
      ]
     },
     "execution_count": 511,
     "metadata": {},
     "output_type": "execute_result"
    },
    {
     "data": {
      "image/png": "[encoded data removed]",
      "text/plain": [
       "<Figure size 432x288 with 1 Axes>"
      ]
     },
     "metadata": {
      "needs_background": "light"
     },
     "output_type": "display_data"
    }
   ],
   "source": [
    "lengths_series.hist(bins=50)"
   ]
  },
  {
   "cell_type": "markdown",
   "metadata": {},
   "source": [
    "Let us check that train_playlist_songs_matrix has the shape (num_playlists, None, num_latent_factors):"
   ]
  },
  {
   "cell_type": "code",
   "execution_count": 512,
   "metadata": {},
   "outputs": [
    {
     "name": "stdout",
     "output_type": "stream",
     "text": [
      "[43 45 46 47 49 50 52 53 56 57 58]\n"
     ]
    }
   ],
   "source": [
    "print(train_playlist_songs_matrix[2])"
   ]
  },
  {
   "cell_type": "code",
   "execution_count": 513,
   "metadata": {},
   "outputs": [],
   "source": [
    "# def generate_xy_sample():\n",
    "#     while True:\n",
    "#         for playlist in train_playlist_songs_matrix:\n",
    "#             xsample, ysample = rnn_utils.sample_split(playlist)\n",
    "#             yield xsample, ysample\n",
    "\n",
    "\n",
    "def generate_xy_sample():\n",
    "    while True:\n",
    "        for playlist in train_playlist_songs_matrix:\n",
    "            xsample, ysample = rnn_utils.prepare_sample(playlist, wrmf_model.item_factors)\n",
    "            yield xsample, ysample"
   ]
  },
  {
   "cell_type": "code",
   "execution_count": 514,
   "metadata": {},
   "outputs": [],
   "source": [
    "a, b = next(generate_xy_sample())"
   ]
  },
  {
   "cell_type": "code",
   "execution_count": 515,
   "metadata": {},
   "outputs": [
    {
     "data": {
      "text/plain": [
       "(1, 300)"
      ]
     },
     "execution_count": 515,
     "metadata": {},
     "output_type": "execute_result"
    }
   ],
   "source": [
    "a.shape"
   ]
  },
  {
   "cell_type": "code",
   "execution_count": 516,
   "metadata": {},
   "outputs": [
    {
     "data": {
      "text/plain": [
       "(6,)"
      ]
     },
     "execution_count": 516,
     "metadata": {},
     "output_type": "execute_result"
    }
   ],
   "source": [
    "b.shape"
   ]
  },
  {
   "cell_type": "code",
   "execution_count": 517,
   "metadata": {},
   "outputs": [],
   "source": [
    "num_latent_factors = 300"
   ]
  },
  {
   "cell_type": "code",
   "execution_count": 518,
   "metadata": {},
   "outputs": [],
   "source": [
    "train_dataset = tf.data.Dataset.from_generator(generate_xy_sample,\n",
    "                                              output_types=(tf.float64, tf.int64),\n",
    "                                              output_shapes=(tf.TensorShape([None, num_latent_factors]), tf.TensorShape([None]))\n",
    "                                              )"
   ]
  },
  {
   "cell_type": "code",
   "execution_count": 519,
   "metadata": {},
   "outputs": [
    {
     "data": {
      "text/plain": [
       "(5, 300)"
      ]
     },
     "execution_count": 519,
     "metadata": {},
     "output_type": "execute_result"
    }
   ],
   "source": [
    "next(train_dataset.take(1).as_numpy_iterator())[0].shape"
   ]
  },
  {
   "cell_type": "code",
   "execution_count": 520,
   "metadata": {},
   "outputs": [
    {
     "data": {
      "text/plain": [
       "array([ 2,  3,  4,  5, 10])"
      ]
     },
     "execution_count": 520,
     "metadata": {},
     "output_type": "execute_result"
    }
   ],
   "source": [
    "next(train_dataset.take(1).as_numpy_iterator())[1]"
   ]
  },
  {
   "cell_type": "code",
   "execution_count": 521,
   "metadata": {},
   "outputs": [],
   "source": [
    "def logistic(x):\n",
    "    return 1/(1+np.e**(-x))"
   ]
  },
  {
   "cell_type": "code",
   "execution_count": 537,
   "metadata": {},
   "outputs": [],
   "source": [
    "vocab_series = pd.Series(df.spotify_id.unique())\n",
    "vocab_indxs = vocab_series[vocab_series.isin(song_vocab)].index.values"
   ]
  },
  {
   "cell_type": "code",
   "execution_count": 538,
   "metadata": {},
   "outputs": [
    {
     "data": {
      "text/plain": [
       "array([     0,      1,      2, ..., 102729, 103205, 103323])"
      ]
     },
     "execution_count": 538,
     "metadata": {},
     "output_type": "execute_result"
    }
   ],
   "source": [
    "vocab_indxs"
   ]
  },
  {
   "cell_type": "code",
   "execution_count": 539,
   "metadata": {},
   "outputs": [],
   "source": [
    "def custom_loss(y_true, y_pred):\n",
    "    \n",
    "    loss = 0\n",
    "    \n",
    "    y_true_numpy = y_true.numpy()\n",
    "    y_pred_numpy = y_pred.numpy()\n",
    "    \n",
    "    for i in trange(y_true_numpy.shape[0]):\n",
    "        for song_indx in vocab_indxs:\n",
    "            song_vec = wrmf_model.item_factors[song_indx]\n",
    "            \n",
    "            if song_indx in y_true_numpy[i]:\n",
    "                loss -= np.log(logistic(song_vec.dot(y_pred[i])))\n",
    "            else:\n",
    "                loss -= np.log(1-logistic(song_vec.dot(y_pred[i])))\n",
    "\n",
    "    return loss"
   ]
  },
  {
   "cell_type": "code",
   "execution_count": 523,
   "metadata": {},
   "outputs": [],
   "source": [
    "tester_y_true = tf.convert_to_tensor(a[np.newaxis, :])"
   ]
  },
  {
   "cell_type": "code",
   "execution_count": 524,
   "metadata": {},
   "outputs": [
    {
     "data": {
      "text/plain": [
       "TensorShape([1, 1, 300])"
      ]
     },
     "execution_count": 524,
     "metadata": {},
     "output_type": "execute_result"
    }
   ],
   "source": [
    "tester_y_true.shape"
   ]
  },
  {
   "cell_type": "code",
   "execution_count": 525,
   "metadata": {},
   "outputs": [],
   "source": [
    "tester_y_pred = tf.convert_to_tensor(a[0][np.newaxis, :])"
   ]
  },
  {
   "cell_type": "code",
   "execution_count": 526,
   "metadata": {},
   "outputs": [
    {
     "data": {
      "text/plain": [
       "TensorShape([1, 300])"
      ]
     },
     "execution_count": 526,
     "metadata": {},
     "output_type": "execute_result"
    }
   ],
   "source": [
    "tester_y_pred.shape"
   ]
  },
  {
   "cell_type": "code",
   "execution_count": 540,
   "metadata": {},
   "outputs": [
    {
     "data": {
      "application/vnd.jupyter.widget-view+json": {
       "model_id": "2cd65c492dc6427fa686002a9bb31e20",
       "version_major": 2,
       "version_minor": 0
      },
      "text/plain": [
       "HBox(children=(IntProgress(value=0, max=1), HTML(value='')))"
      ]
     },
     "metadata": {},
     "output_type": "display_data"
    },
    {
     "name": "stdout",
     "output_type": "stream",
     "text": [
      "\n"
     ]
    },
    {
     "data": {
      "text/plain": [
       "27736.297837069662"
      ]
     },
     "execution_count": 540,
     "metadata": {},
     "output_type": "execute_result"
    }
   ],
   "source": [
    "custom_loss(tester_y_true, tester_y_pred)"
   ]
  },
  {
   "cell_type": "code",
   "execution_count": null,
   "metadata": {},
   "outputs": [],
   "source": []
  }
 ],
 "metadata": {
  "kernelspec": {
   "display_name": "Python 3",
   "language": "python",
   "name": "python3"
  },
  "language_info": {
   "codemirror_mode": {
    "name": "ipython",
    "version": 3
   },
   "file_extension": ".py",
   "mimetype": "text/x-python",
   "name": "python",
   "nbconvert_exporter": "python",
   "pygments_lexer": "ipython3",
   "version": "3.7.4"
  }
 },
 "nbformat": 4,
 "nbformat_minor": 2
}
