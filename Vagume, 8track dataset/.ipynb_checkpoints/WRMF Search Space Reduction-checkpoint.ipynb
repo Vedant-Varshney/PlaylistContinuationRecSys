{
 "cells": [
  {
   "cell_type": "markdown",
   "metadata": {},
   "source": [
    "# WRMF Search Space Reduction"
   ]
  },
  {
   "cell_type": "markdown",
   "metadata": {},
   "source": [
    "**Objectives:**\n",
    "1. Split the dataframe into a train and test set *on playlists* before the implicit ratings matrix is calculated\n",
    "2. Leave $k$ songs out of $m$ playlists in the training set. Calculate how many songs have to be recommended before the above model achieves a high enough recall/hit rate for the left out songs for these incomplete playlists.\n",
    "3. Perform a grid search to optimise all hyperparameters.\n",
    "4. Recalculate model's ability to reduce down the song search space using the optimised hyperparameters."
   ]
  },
  {
   "cell_type": "code",
   "execution_count": 5,
   "metadata": {},
   "outputs": [],
   "source": [
    "import pandas as pd\n",
    "import matplotlib.pyplot as plt\n",
    "import numpy as np\n",
    "import scipy as sp\n",
    "\n",
    "import implicit\n",
    "from tqdm.notebook import tqdm, trange\n",
    "\n",
    "from sklearn.model_selection import train_test_split\n",
    "\n",
    "import sys\n",
    "sys.path.append(\"..\")\n",
    "\n",
    "from collections import defaultdict\n",
    "from importlib import reload\n",
    "\n",
    "import pickle\n",
    "\n",
    "from joblib import delayed, Parallel\n",
    "\n",
    "import seaborn as sns\n",
    "sns.set()"
   ]
  },
  {
   "cell_type": "code",
   "execution_count": 6,
   "metadata": {},
   "outputs": [],
   "source": [
    "import df_utils\n",
    "import mf_utils"
   ]
  },
  {
   "cell_type": "code",
   "execution_count": 7,
   "metadata": {},
   "outputs": [
    {
     "name": "stderr",
     "output_type": "stream",
     "text": [
      "/Users/vedantvarshney/opt/anaconda3/lib/python3.7/site-packages/IPython/core/interactiveshell.py:3058: DtypeWarning: Columns (2) have mixed types. Specify dtype option on import or set low_memory=False.\n",
      "  interactivity=interactivity, compiler=compiler, result=result)\n"
     ]
    }
   ],
   "source": [
    "df = pd.read_csv(\"cleaned_data_0.2.csv\", index_col=[0])\n",
    "songs_df = pd.read_csv(\"songs_DF.csv\", index_col=[0])"
   ]
  },
  {
   "cell_type": "markdown",
   "metadata": {},
   "source": [
    "## Train-test split"
   ]
  },
  {
   "cell_type": "code",
   "execution_count": 21,
   "metadata": {},
   "outputs": [],
   "source": [
    "train_df, test_df = train_test_split(df, test_size=0.1)"
   ]
  },
  {
   "cell_type": "code",
   "execution_count": 22,
   "metadata": {},
   "outputs": [
    {
     "data": {
      "text/html": [
       "<div>\n",
       "<style scoped>\n",
       "    .dataframe tbody tr th:only-of-type {\n",
       "        vertical-align: middle;\n",
       "    }\n",
       "\n",
       "    .dataframe tbody tr th {\n",
       "        vertical-align: top;\n",
       "    }\n",
       "\n",
       "    .dataframe thead th {\n",
       "        text-align: right;\n",
       "    }\n",
       "</style>\n",
       "<table border=\"1\" class=\"dataframe\">\n",
       "  <thead>\n",
       "    <tr style=\"text-align: right;\">\n",
       "      <th></th>\n",
       "      <th>source</th>\n",
       "      <th>user_id</th>\n",
       "      <th>track_name</th>\n",
       "      <th>artist_name</th>\n",
       "      <th>playlist_id</th>\n",
       "      <th>tags</th>\n",
       "      <th>playlist_name</th>\n",
       "      <th>spotify_id</th>\n",
       "      <th>album</th>\n",
       "      <th>popularity</th>\n",
       "      <th>danceability</th>\n",
       "      <th>energy</th>\n",
       "      <th>loudness</th>\n",
       "      <th>speechiness</th>\n",
       "      <th>acousticness</th>\n",
       "      <th>instrumentalness</th>\n",
       "      <th>liveness</th>\n",
       "      <th>valence</th>\n",
       "      <th>tempo</th>\n",
       "    </tr>\n",
       "  </thead>\n",
       "  <tbody>\n",
       "    <tr>\n",
       "      <td>282476</td>\n",
       "      <td>vagalume</td>\n",
       "      <td>marywinch%0A</td>\n",
       "      <td>Can't Remember To Forget You (Feat. Rihanna) (...</td>\n",
       "      <td>Shakira</td>\n",
       "      <td>5393980</td>\n",
       "      <td>romântico,pop/rock,world music</td>\n",
       "      <td>mary</td>\n",
       "      <td>3yNVRe7CmqPYE0RkWWqry6</td>\n",
       "      <td>Can't Remember to Forget You (feat. Rihanna) [...</td>\n",
       "      <td>35.0</td>\n",
       "      <td>0.668</td>\n",
       "      <td>0.800</td>\n",
       "      <td>-5.669</td>\n",
       "      <td>0.0902</td>\n",
       "      <td>0.00246</td>\n",
       "      <td>0.016400</td>\n",
       "      <td>0.0555</td>\n",
       "      <td>0.552</td>\n",
       "      <td>130.011</td>\n",
       "    </tr>\n",
       "    <tr>\n",
       "      <td>157838</td>\n",
       "      <td>vagalume</td>\n",
       "      <td>marciavpaco%0A</td>\n",
       "      <td>Who's Lovin' You</td>\n",
       "      <td>Michael Bublé</td>\n",
       "      <td>5865673</td>\n",
       "      <td>romântico,pop/rock,rock</td>\n",
       "      <td>michel buble</td>\n",
       "      <td>6cZrsaNb4Zo9E5KHk7gcz5</td>\n",
       "      <td>Diana Ross Presents The Jackson 5</td>\n",
       "      <td>61.0</td>\n",
       "      <td>0.247</td>\n",
       "      <td>0.307</td>\n",
       "      <td>-13.160</td>\n",
       "      <td>0.0371</td>\n",
       "      <td>0.64800</td>\n",
       "      <td>0.000024</td>\n",
       "      <td>0.2810</td>\n",
       "      <td>0.403</td>\n",
       "      <td>161.982</td>\n",
       "    </tr>\n",
       "    <tr>\n",
       "      <td>49467</td>\n",
       "      <td>vagalume</td>\n",
       "      <td>raffaa007%0A</td>\n",
       "      <td>In Your Pocket</td>\n",
       "      <td>Maroon 5</td>\n",
       "      <td>5548627</td>\n",
       "      <td>pop,romântico,pop/rock</td>\n",
       "      <td>internacionais</td>\n",
       "      <td>6SCh4BKjB0il6zKgtSiasQ</td>\n",
       "      <td>V</td>\n",
       "      <td>51.0</td>\n",
       "      <td>0.618</td>\n",
       "      <td>0.837</td>\n",
       "      <td>-6.142</td>\n",
       "      <td>0.0515</td>\n",
       "      <td>0.03200</td>\n",
       "      <td>0.000000</td>\n",
       "      <td>0.0475</td>\n",
       "      <td>0.434</td>\n",
       "      <td>126.082</td>\n",
       "    </tr>\n",
       "    <tr>\n",
       "      <td>163749</td>\n",
       "      <td>vagalume</td>\n",
       "      <td>silmarasuh%0A</td>\n",
       "      <td>Novos Tempos</td>\n",
       "      <td>Thaeme e Thiago</td>\n",
       "      <td>5584424</td>\n",
       "      <td>pop,romântico,sertanejo</td>\n",
       "      <td>hits THAEME  e THIAGO</td>\n",
       "      <td>5ERy3qFaMBMoupgnvKhD8y</td>\n",
       "      <td>Novos Tempos</td>\n",
       "      <td>41.0</td>\n",
       "      <td>0.641</td>\n",
       "      <td>0.645</td>\n",
       "      <td>-7.519</td>\n",
       "      <td>0.0403</td>\n",
       "      <td>0.55000</td>\n",
       "      <td>0.000027</td>\n",
       "      <td>0.2920</td>\n",
       "      <td>0.688</td>\n",
       "      <td>91.037</td>\n",
       "    </tr>\n",
       "    <tr>\n",
       "      <td>110423</td>\n",
       "      <td>vagalume</td>\n",
       "      <td>arieliartuzzo%0A</td>\n",
       "      <td>I'm Yours</td>\n",
       "      <td>Taylor Swift</td>\n",
       "      <td>5769022</td>\n",
       "      <td>pop,romântico,funk carioca</td>\n",
       "      <td>arieli artuzzo</td>\n",
       "      <td>1EzrEOXmMH3G43AXT1y7pA</td>\n",
       "      <td>We Sing. We Dance. We Steal Things.</td>\n",
       "      <td>83.0</td>\n",
       "      <td>0.686</td>\n",
       "      <td>0.457</td>\n",
       "      <td>-8.322</td>\n",
       "      <td>0.0468</td>\n",
       "      <td>0.59500</td>\n",
       "      <td>0.000000</td>\n",
       "      <td>0.1050</td>\n",
       "      <td>0.718</td>\n",
       "      <td>150.953</td>\n",
       "    </tr>\n",
       "  </tbody>\n",
       "</table>\n",
       "</div>"
      ],
      "text/plain": [
       "          source           user_id  \\\n",
       "282476  vagalume      marywinch%0A   \n",
       "157838  vagalume    marciavpaco%0A   \n",
       "49467   vagalume      raffaa007%0A   \n",
       "163749  vagalume     silmarasuh%0A   \n",
       "110423  vagalume  arieliartuzzo%0A   \n",
       "\n",
       "                                               track_name      artist_name  \\\n",
       "282476  Can't Remember To Forget You (Feat. Rihanna) (...          Shakira   \n",
       "157838                                   Who's Lovin' You    Michael Bublé   \n",
       "49467                                      In Your Pocket         Maroon 5   \n",
       "163749                                       Novos Tempos  Thaeme e Thiago   \n",
       "110423                                          I'm Yours     Taylor Swift   \n",
       "\n",
       "        playlist_id                            tags          playlist_name  \\\n",
       "282476      5393980  romântico,pop/rock,world music                   mary   \n",
       "157838      5865673         romântico,pop/rock,rock           michel buble   \n",
       "49467       5548627          pop,romântico,pop/rock         internacionais   \n",
       "163749      5584424         pop,romântico,sertanejo  hits THAEME  e THIAGO   \n",
       "110423      5769022      pop,romântico,funk carioca         arieli artuzzo   \n",
       "\n",
       "                    spotify_id  \\\n",
       "282476  3yNVRe7CmqPYE0RkWWqry6   \n",
       "157838  6cZrsaNb4Zo9E5KHk7gcz5   \n",
       "49467   6SCh4BKjB0il6zKgtSiasQ   \n",
       "163749  5ERy3qFaMBMoupgnvKhD8y   \n",
       "110423  1EzrEOXmMH3G43AXT1y7pA   \n",
       "\n",
       "                                                    album  popularity  \\\n",
       "282476  Can't Remember to Forget You (feat. Rihanna) [...        35.0   \n",
       "157838                  Diana Ross Presents The Jackson 5        61.0   \n",
       "49467                                                   V        51.0   \n",
       "163749                                       Novos Tempos        41.0   \n",
       "110423                We Sing. We Dance. We Steal Things.        83.0   \n",
       "\n",
       "        danceability  energy  loudness  speechiness  acousticness  \\\n",
       "282476         0.668   0.800    -5.669       0.0902       0.00246   \n",
       "157838         0.247   0.307   -13.160       0.0371       0.64800   \n",
       "49467          0.618   0.837    -6.142       0.0515       0.03200   \n",
       "163749         0.641   0.645    -7.519       0.0403       0.55000   \n",
       "110423         0.686   0.457    -8.322       0.0468       0.59500   \n",
       "\n",
       "        instrumentalness  liveness  valence    tempo  \n",
       "282476          0.016400    0.0555    0.552  130.011  \n",
       "157838          0.000024    0.2810    0.403  161.982  \n",
       "49467           0.000000    0.0475    0.434  126.082  \n",
       "163749          0.000027    0.2920    0.688   91.037  \n",
       "110423          0.000000    0.1050    0.718  150.953  "
      ]
     },
     "execution_count": 22,
     "metadata": {},
     "output_type": "execute_result"
    }
   ],
   "source": [
    "train_df.head()"
   ]
  },
  {
   "cell_type": "markdown",
   "metadata": {},
   "source": [
    "Although WRMF will not use the order of the songs in a playlist, it would be good practice to resort the order now for use later."
   ]
  },
  {
   "cell_type": "code",
   "execution_count": 23,
   "metadata": {},
   "outputs": [
    {
     "name": "stderr",
     "output_type": "stream",
     "text": [
      "/Users/vedantvarshney/opt/anaconda3/lib/python3.7/site-packages/ipykernel_launcher.py:1: SettingWithCopyWarning: \n",
      "A value is trying to be set on a copy of a slice from a DataFrame\n",
      "\n",
      "See the caveats in the documentation: http://pandas.pydata.org/pandas-docs/stable/user_guide/indexing.html#returning-a-view-versus-a-copy\n",
      "  \"\"\"Entry point for launching an IPython kernel.\n"
     ]
    },
    {
     "data": {
      "text/html": [
       "<div>\n",
       "<style scoped>\n",
       "    .dataframe tbody tr th:only-of-type {\n",
       "        vertical-align: middle;\n",
       "    }\n",
       "\n",
       "    .dataframe tbody tr th {\n",
       "        vertical-align: top;\n",
       "    }\n",
       "\n",
       "    .dataframe thead th {\n",
       "        text-align: right;\n",
       "    }\n",
       "</style>\n",
       "<table border=\"1\" class=\"dataframe\">\n",
       "  <thead>\n",
       "    <tr style=\"text-align: right;\">\n",
       "      <th></th>\n",
       "      <th>source</th>\n",
       "      <th>user_id</th>\n",
       "      <th>track_name</th>\n",
       "      <th>artist_name</th>\n",
       "      <th>playlist_id</th>\n",
       "      <th>tags</th>\n",
       "      <th>playlist_name</th>\n",
       "      <th>spotify_id</th>\n",
       "      <th>album</th>\n",
       "      <th>popularity</th>\n",
       "      <th>danceability</th>\n",
       "      <th>energy</th>\n",
       "      <th>loudness</th>\n",
       "      <th>speechiness</th>\n",
       "      <th>acousticness</th>\n",
       "      <th>instrumentalness</th>\n",
       "      <th>liveness</th>\n",
       "      <th>valence</th>\n",
       "      <th>tempo</th>\n",
       "    </tr>\n",
       "  </thead>\n",
       "  <tbody>\n",
       "    <tr>\n",
       "      <td>0</td>\n",
       "      <td>vagalume</td>\n",
       "      <td>sitevagalume</td>\n",
       "      <td>Eraser</td>\n",
       "      <td>Ed Sheeran</td>\n",
       "      <td>6736120</td>\n",
       "      <td>pop,pop/rock,rock</td>\n",
       "      <td>Ed Sheeran - Divide</td>\n",
       "      <td>7oolFzHipTMg2nL7shhdz2</td>\n",
       "      <td>÷ (Deluxe)</td>\n",
       "      <td>64.0</td>\n",
       "      <td>0.640</td>\n",
       "      <td>0.812</td>\n",
       "      <td>-5.647</td>\n",
       "      <td>0.0834</td>\n",
       "      <td>0.0860</td>\n",
       "      <td>0.000000</td>\n",
       "      <td>0.0509</td>\n",
       "      <td>0.914</td>\n",
       "      <td>86.013</td>\n",
       "    </tr>\n",
       "    <tr>\n",
       "      <td>1</td>\n",
       "      <td>vagalume</td>\n",
       "      <td>sitevagalume</td>\n",
       "      <td>Castle On The Hill</td>\n",
       "      <td>Ed Sheeran</td>\n",
       "      <td>6736120</td>\n",
       "      <td>pop,pop/rock,rock</td>\n",
       "      <td>Ed Sheeran - Divide</td>\n",
       "      <td>6PCUP3dWmTjcTtXY02oFdT</td>\n",
       "      <td>÷ (Deluxe)</td>\n",
       "      <td>78.0</td>\n",
       "      <td>0.461</td>\n",
       "      <td>0.834</td>\n",
       "      <td>-4.868</td>\n",
       "      <td>0.0989</td>\n",
       "      <td>0.0232</td>\n",
       "      <td>0.000011</td>\n",
       "      <td>0.1400</td>\n",
       "      <td>0.471</td>\n",
       "      <td>135.007</td>\n",
       "    </tr>\n",
       "    <tr>\n",
       "      <td>2</td>\n",
       "      <td>vagalume</td>\n",
       "      <td>sitevagalume</td>\n",
       "      <td>Dive</td>\n",
       "      <td>Ed Sheeran</td>\n",
       "      <td>6736120</td>\n",
       "      <td>pop,pop/rock,rock</td>\n",
       "      <td>Ed Sheeran - Divide</td>\n",
       "      <td>51ChrwmUPDJvedPQnIU8Ls</td>\n",
       "      <td>÷ (Deluxe)</td>\n",
       "      <td>75.0</td>\n",
       "      <td>0.761</td>\n",
       "      <td>0.386</td>\n",
       "      <td>-6.158</td>\n",
       "      <td>0.0399</td>\n",
       "      <td>0.3550</td>\n",
       "      <td>0.000000</td>\n",
       "      <td>0.0953</td>\n",
       "      <td>0.526</td>\n",
       "      <td>134.943</td>\n",
       "    </tr>\n",
       "    <tr>\n",
       "      <td>3</td>\n",
       "      <td>vagalume</td>\n",
       "      <td>sitevagalume</td>\n",
       "      <td>Shape Of You</td>\n",
       "      <td>Ed Sheeran</td>\n",
       "      <td>6736120</td>\n",
       "      <td>pop,pop/rock,rock</td>\n",
       "      <td>Ed Sheeran - Divide</td>\n",
       "      <td>7qiZfU4dY1lWllzX7mPBI3</td>\n",
       "      <td>÷ (Deluxe)</td>\n",
       "      <td>85.0</td>\n",
       "      <td>0.825</td>\n",
       "      <td>0.652</td>\n",
       "      <td>-3.183</td>\n",
       "      <td>0.0802</td>\n",
       "      <td>0.5810</td>\n",
       "      <td>0.000000</td>\n",
       "      <td>0.0931</td>\n",
       "      <td>0.931</td>\n",
       "      <td>95.977</td>\n",
       "    </tr>\n",
       "    <tr>\n",
       "      <td>4</td>\n",
       "      <td>vagalume</td>\n",
       "      <td>sitevagalume</td>\n",
       "      <td>Perfect</td>\n",
       "      <td>Ed Sheeran</td>\n",
       "      <td>6736120</td>\n",
       "      <td>pop,pop/rock,rock</td>\n",
       "      <td>Ed Sheeran - Divide</td>\n",
       "      <td>0tgVpDi06FyKpA1z0VMD4v</td>\n",
       "      <td>÷ (Deluxe)</td>\n",
       "      <td>86.0</td>\n",
       "      <td>0.599</td>\n",
       "      <td>0.448</td>\n",
       "      <td>-6.312</td>\n",
       "      <td>0.0232</td>\n",
       "      <td>0.1630</td>\n",
       "      <td>0.000000</td>\n",
       "      <td>0.1060</td>\n",
       "      <td>0.168</td>\n",
       "      <td>95.050</td>\n",
       "    </tr>\n",
       "  </tbody>\n",
       "</table>\n",
       "</div>"
      ],
      "text/plain": [
       "     source       user_id          track_name artist_name  playlist_id  \\\n",
       "0  vagalume  sitevagalume              Eraser  Ed Sheeran      6736120   \n",
       "1  vagalume  sitevagalume  Castle On The Hill  Ed Sheeran      6736120   \n",
       "2  vagalume  sitevagalume                Dive  Ed Sheeran      6736120   \n",
       "3  vagalume  sitevagalume        Shape Of You  Ed Sheeran      6736120   \n",
       "4  vagalume  sitevagalume             Perfect  Ed Sheeran      6736120   \n",
       "\n",
       "                tags        playlist_name              spotify_id       album  \\\n",
       "0  pop,pop/rock,rock  Ed Sheeran - Divide  7oolFzHipTMg2nL7shhdz2  ÷ (Deluxe)   \n",
       "1  pop,pop/rock,rock  Ed Sheeran - Divide  6PCUP3dWmTjcTtXY02oFdT  ÷ (Deluxe)   \n",
       "2  pop,pop/rock,rock  Ed Sheeran - Divide  51ChrwmUPDJvedPQnIU8Ls  ÷ (Deluxe)   \n",
       "3  pop,pop/rock,rock  Ed Sheeran - Divide  7qiZfU4dY1lWllzX7mPBI3  ÷ (Deluxe)   \n",
       "4  pop,pop/rock,rock  Ed Sheeran - Divide  0tgVpDi06FyKpA1z0VMD4v  ÷ (Deluxe)   \n",
       "\n",
       "   popularity  danceability  energy  loudness  speechiness  acousticness  \\\n",
       "0        64.0         0.640   0.812    -5.647       0.0834        0.0860   \n",
       "1        78.0         0.461   0.834    -4.868       0.0989        0.0232   \n",
       "2        75.0         0.761   0.386    -6.158       0.0399        0.3550   \n",
       "3        85.0         0.825   0.652    -3.183       0.0802        0.5810   \n",
       "4        86.0         0.599   0.448    -6.312       0.0232        0.1630   \n",
       "\n",
       "   instrumentalness  liveness  valence    tempo  \n",
       "0          0.000000    0.0509    0.914   86.013  \n",
       "1          0.000011    0.1400    0.471  135.007  \n",
       "2          0.000000    0.0953    0.526  134.943  \n",
       "3          0.000000    0.0931    0.931   95.977  \n",
       "4          0.000000    0.1060    0.168   95.050  "
      ]
     },
     "execution_count": 23,
     "metadata": {},
     "output_type": "execute_result"
    }
   ],
   "source": [
    "train_df.sort_index(inplace=True)\n",
    "train_df.head()"
   ]
  },
  {
   "cell_type": "code",
   "execution_count": 24,
   "metadata": {},
   "outputs": [
    {
     "name": "stderr",
     "output_type": "stream",
     "text": [
      "/Users/vedantvarshney/opt/anaconda3/lib/python3.7/site-packages/ipykernel_launcher.py:1: SettingWithCopyWarning: \n",
      "A value is trying to be set on a copy of a slice from a DataFrame\n",
      "\n",
      "See the caveats in the documentation: http://pandas.pydata.org/pandas-docs/stable/user_guide/indexing.html#returning-a-view-versus-a-copy\n",
      "  \"\"\"Entry point for launching an IPython kernel.\n"
     ]
    },
    {
     "data": {
      "text/html": [
       "<div>\n",
       "<style scoped>\n",
       "    .dataframe tbody tr th:only-of-type {\n",
       "        vertical-align: middle;\n",
       "    }\n",
       "\n",
       "    .dataframe tbody tr th {\n",
       "        vertical-align: top;\n",
       "    }\n",
       "\n",
       "    .dataframe thead th {\n",
       "        text-align: right;\n",
       "    }\n",
       "</style>\n",
       "<table border=\"1\" class=\"dataframe\">\n",
       "  <thead>\n",
       "    <tr style=\"text-align: right;\">\n",
       "      <th></th>\n",
       "      <th>source</th>\n",
       "      <th>user_id</th>\n",
       "      <th>track_name</th>\n",
       "      <th>artist_name</th>\n",
       "      <th>playlist_id</th>\n",
       "      <th>tags</th>\n",
       "      <th>playlist_name</th>\n",
       "      <th>spotify_id</th>\n",
       "      <th>album</th>\n",
       "      <th>popularity</th>\n",
       "      <th>danceability</th>\n",
       "      <th>energy</th>\n",
       "      <th>loudness</th>\n",
       "      <th>speechiness</th>\n",
       "      <th>acousticness</th>\n",
       "      <th>instrumentalness</th>\n",
       "      <th>liveness</th>\n",
       "      <th>valence</th>\n",
       "      <th>tempo</th>\n",
       "    </tr>\n",
       "  </thead>\n",
       "  <tbody>\n",
       "    <tr>\n",
       "      <td>20</td>\n",
       "      <td>vagalume</td>\n",
       "      <td>sitevagalume</td>\n",
       "      <td>Pillowtalk</td>\n",
       "      <td>ZAYN</td>\n",
       "      <td>6123235</td>\n",
       "      <td>pop,pop/rock,rock</td>\n",
       "      <td>Fugir do Carnaval Pop 2016</td>\n",
       "      <td>0PDUDa38GO8lMxLCRc4lL1</td>\n",
       "      <td>Mind Of Mine (Deluxe Edition)</td>\n",
       "      <td>78.0</td>\n",
       "      <td>0.584</td>\n",
       "      <td>0.700</td>\n",
       "      <td>-4.275</td>\n",
       "      <td>0.0456</td>\n",
       "      <td>0.11700</td>\n",
       "      <td>0.000000</td>\n",
       "      <td>0.0939</td>\n",
       "      <td>0.438</td>\n",
       "      <td>124.944</td>\n",
       "    </tr>\n",
       "    <tr>\n",
       "      <td>21</td>\n",
       "      <td>vagalume</td>\n",
       "      <td>sitevagalume</td>\n",
       "      <td>Ain't Got Far to Go</td>\n",
       "      <td>Jess Glynne</td>\n",
       "      <td>6123235</td>\n",
       "      <td>pop,pop/rock,rock</td>\n",
       "      <td>Fugir do Carnaval Pop 2016</td>\n",
       "      <td>4fXfLQzQaR7cvL8ObPz9Fc</td>\n",
       "      <td>I Cry When I Laugh</td>\n",
       "      <td>49.0</td>\n",
       "      <td>0.491</td>\n",
       "      <td>0.841</td>\n",
       "      <td>-4.696</td>\n",
       "      <td>0.0761</td>\n",
       "      <td>0.00330</td>\n",
       "      <td>0.000000</td>\n",
       "      <td>0.5470</td>\n",
       "      <td>0.615</td>\n",
       "      <td>143.974</td>\n",
       "    </tr>\n",
       "    <tr>\n",
       "      <td>33</td>\n",
       "      <td>vagalume</td>\n",
       "      <td>sitevagalume</td>\n",
       "      <td>Shattered</td>\n",
       "      <td>Chris Brown</td>\n",
       "      <td>6123235</td>\n",
       "      <td>pop,pop/rock,rock</td>\n",
       "      <td>Fugir do Carnaval Pop 2016</td>\n",
       "      <td>5NmdjSj7NoyOXxMG9W6vKl</td>\n",
       "      <td>Royalty International EP</td>\n",
       "      <td>19.0</td>\n",
       "      <td>0.634</td>\n",
       "      <td>0.699</td>\n",
       "      <td>-6.894</td>\n",
       "      <td>0.0320</td>\n",
       "      <td>0.00196</td>\n",
       "      <td>0.000003</td>\n",
       "      <td>0.1760</td>\n",
       "      <td>0.403</td>\n",
       "      <td>126.978</td>\n",
       "    </tr>\n",
       "    <tr>\n",
       "      <td>34</td>\n",
       "      <td>vagalume</td>\n",
       "      <td>sitevagalume</td>\n",
       "      <td>Love Me Like You</td>\n",
       "      <td>Little Mix</td>\n",
       "      <td>6123235</td>\n",
       "      <td>pop,pop/rock,rock</td>\n",
       "      <td>Fugir do Carnaval Pop 2016</td>\n",
       "      <td>0fIOacVe000P5pNhaKQlQw</td>\n",
       "      <td>Get Weird (Deluxe)</td>\n",
       "      <td>73.0</td>\n",
       "      <td>0.785</td>\n",
       "      <td>0.674</td>\n",
       "      <td>-3.936</td>\n",
       "      <td>0.0430</td>\n",
       "      <td>0.20800</td>\n",
       "      <td>0.000000</td>\n",
       "      <td>0.2850</td>\n",
       "      <td>0.848</td>\n",
       "      <td>106.057</td>\n",
       "    </tr>\n",
       "    <tr>\n",
       "      <td>50</td>\n",
       "      <td>vagalume</td>\n",
       "      <td>sitevagalume</td>\n",
       "      <td>Children Of The Wild (feat. Mako)</td>\n",
       "      <td>Steve Angello</td>\n",
       "      <td>6123243</td>\n",
       "      <td>pop,pop/rock,rock</td>\n",
       "      <td>Fugir Carnaval Eletrônico 2016</td>\n",
       "      <td>5uSLlQnpMZqsjZXJxe9kct</td>\n",
       "      <td>Wild Youth</td>\n",
       "      <td>48.0</td>\n",
       "      <td>0.518</td>\n",
       "      <td>0.911</td>\n",
       "      <td>-3.649</td>\n",
       "      <td>0.0860</td>\n",
       "      <td>0.00148</td>\n",
       "      <td>0.000000</td>\n",
       "      <td>0.5160</td>\n",
       "      <td>0.126</td>\n",
       "      <td>128.014</td>\n",
       "    </tr>\n",
       "  </tbody>\n",
       "</table>\n",
       "</div>"
      ],
      "text/plain": [
       "      source       user_id                         track_name    artist_name  \\\n",
       "20  vagalume  sitevagalume                         Pillowtalk           ZAYN   \n",
       "21  vagalume  sitevagalume                Ain't Got Far to Go    Jess Glynne   \n",
       "33  vagalume  sitevagalume                          Shattered    Chris Brown   \n",
       "34  vagalume  sitevagalume                   Love Me Like You     Little Mix   \n",
       "50  vagalume  sitevagalume  Children Of The Wild (feat. Mako)  Steve Angello   \n",
       "\n",
       "    playlist_id               tags                   playlist_name  \\\n",
       "20      6123235  pop,pop/rock,rock      Fugir do Carnaval Pop 2016   \n",
       "21      6123235  pop,pop/rock,rock      Fugir do Carnaval Pop 2016   \n",
       "33      6123235  pop,pop/rock,rock      Fugir do Carnaval Pop 2016   \n",
       "34      6123235  pop,pop/rock,rock      Fugir do Carnaval Pop 2016   \n",
       "50      6123243  pop,pop/rock,rock  Fugir Carnaval Eletrônico 2016   \n",
       "\n",
       "                spotify_id                          album  popularity  \\\n",
       "20  0PDUDa38GO8lMxLCRc4lL1  Mind Of Mine (Deluxe Edition)        78.0   \n",
       "21  4fXfLQzQaR7cvL8ObPz9Fc             I Cry When I Laugh        49.0   \n",
       "33  5NmdjSj7NoyOXxMG9W6vKl       Royalty International EP        19.0   \n",
       "34  0fIOacVe000P5pNhaKQlQw             Get Weird (Deluxe)        73.0   \n",
       "50  5uSLlQnpMZqsjZXJxe9kct                     Wild Youth        48.0   \n",
       "\n",
       "    danceability  energy  loudness  speechiness  acousticness  \\\n",
       "20         0.584   0.700    -4.275       0.0456       0.11700   \n",
       "21         0.491   0.841    -4.696       0.0761       0.00330   \n",
       "33         0.634   0.699    -6.894       0.0320       0.00196   \n",
       "34         0.785   0.674    -3.936       0.0430       0.20800   \n",
       "50         0.518   0.911    -3.649       0.0860       0.00148   \n",
       "\n",
       "    instrumentalness  liveness  valence    tempo  \n",
       "20          0.000000    0.0939    0.438  124.944  \n",
       "21          0.000000    0.5470    0.615  143.974  \n",
       "33          0.000003    0.1760    0.403  126.978  \n",
       "34          0.000000    0.2850    0.848  106.057  \n",
       "50          0.000000    0.5160    0.126  128.014  "
      ]
     },
     "execution_count": 24,
     "metadata": {},
     "output_type": "execute_result"
    }
   ],
   "source": [
    "test_df.sort_index(inplace=True)\n",
    "test_df.head()"
   ]
  },
  {
   "cell_type": "code",
   "execution_count": 25,
   "metadata": {},
   "outputs": [
    {
     "data": {
      "text/plain": [
       "(504522, 19)"
      ]
     },
     "execution_count": 25,
     "metadata": {},
     "output_type": "execute_result"
    }
   ],
   "source": [
    "train_df.shape"
   ]
  },
  {
   "cell_type": "code",
   "execution_count": 26,
   "metadata": {},
   "outputs": [
    {
     "data": {
      "text/plain": [
       "(56058, 19)"
      ]
     },
     "execution_count": 26,
     "metadata": {},
     "output_type": "execute_result"
    }
   ],
   "source": [
    "test_df.shape"
   ]
  },
  {
   "cell_type": "markdown",
   "metadata": {},
   "source": [
    "An adaptation of code from 'Exploring WRMF' notebook:"
   ]
  },
  {
   "cell_type": "code",
   "execution_count": 27,
   "metadata": {},
   "outputs": [],
   "source": [
    "def df_to_sparse(df, all_songs):\n",
    "    \"\"\"\n",
    "    Converts a dataframe to a sparse implicit ratings matrix.\n",
    "    \n",
    "    Arguments:\n",
    "        - df - dataframe to convert to a sparse matrix\n",
    "        - all_songs - list of all songs in the search space\n",
    "        - withold_dict - a dictionary whose keys are playlist IDs and whose values are a list of songs which should be\n",
    "        excluded from that playlist when calculating the implicit ratings matrix.\n",
    "        \n",
    "    Returns:\n",
    "        - ratings_matrix - implicit ratings matrix in CSR format\n",
    "    \"\"\"\n",
    "    # Create hashmap of the list of unique songs for fast index lookup\n",
    "    # np.where etc will unnecessarily search the entire array and thus will not scale well.\n",
    "    song_to_indx = {song: i for (i, song) in enumerate(all_songs)}\n",
    "    \n",
    "    # Mapping each song in the original DF to the index in the unique songs list\n",
    "    song_indxs = df.spotify_id.apply(lambda id_: song_to_indx[id_]).values\n",
    "\n",
    "    # Same for list of unique playlists\n",
    "    playlist_to_indx = {playlist: i for (i, playlist) in enumerate(df.playlist_id.unique())}\n",
    "    \n",
    "    # Mapping each playlist in the original DF to the index in the unique playlists list\n",
    "    playlist_indxs = df.playlist_id.apply(lambda id_: playlist_to_indx[id_]).values\n",
    "    \n",
    "    data = np.ones(df.shape[0])\n",
    "    \n",
    "    assert data.shape == song_indxs.shape == playlist_indxs.shape\n",
    "    \n",
    "    # Although matrix only contains int, cast as float for safety in future calculations\n",
    "    # row indx = song indx\n",
    "    # column indx = playlist indx\n",
    "    ratings_matrix = sp.sparse.csr_matrix((data, (song_indxs, playlist_indxs)), dtype=np.float64)\n",
    "    \n",
    "    return ratings_matrix"
   ]
  },
  {
   "cell_type": "code",
   "execution_count": 28,
   "metadata": {},
   "outputs": [],
   "source": [
    "def withold_songs(df, withold_split=(0.2,0.2)):\n",
    "    \"\"\"\n",
    "    Removes a certain proportion of songs from a certain proportion of playlists in DF.\n",
    "    \n",
    "    Arguments:\n",
    "        - df - standard cleaned_data DF\n",
    "        - withold_split - tuple. First value = fraction of playlists to split.\n",
    "        Second value = fraction of songs to remove from said playlists.\n",
    "        \n",
    "    Returns:\n",
    "        - df with songs excluded\n",
    "        - pd Series wrapping a dictionary of playlist and num_songs excluded.\n",
    "        key = playlist; value = list of spotify IDs excluded.\n",
    "        \n",
    "    Note - the withold split is the target split; the exact split will vary slightly.\n",
    "    This is to avoid splits creating empty playlists.\n",
    "    \"\"\"\n",
    "    \n",
    "#     Songs in each playlist\n",
    "    playlist_vc = pd.value_counts(df.playlist_id)\n",
    "\n",
    "#     Number of songs potentially excluded from each playlist\n",
    "    split = playlist_vc.apply(lambda vc: round(vc*withold_split[1]))\n",
    "\n",
    "#     Filter out playlists with a 0 split and which leave no songs in remaining playlist\n",
    "    split = split[(split>0) & (playlist_vc>split)]\n",
    "    \n",
    "#     Sample valid playlists\n",
    "    split = split.sample(frac=withold_split[0])\n",
    "    \n",
    "    indxs_to_drop = []\n",
    "    \n",
    "#     Dictionary for storing spotify IDs of songs excluded from each playlist\n",
    "    excluded = defaultdict(list)\n",
    "    \n",
    "    for playlist_id, num_songs_excl in split.items():\n",
    "        temp_excl_df = df[df.playlist_id==playlist_id].sample(num_songs_excl)\n",
    "        \n",
    "        excluded[playlist_id] += [row.spotify_id for _, row in temp_excl_df.iterrows()]\n",
    "            \n",
    "        indxs_to_drop += list(temp_excl_df.index.values)\n",
    "        \n",
    "    return df.drop(indxs_to_drop, axis=0), pd.Series(excluded)"
   ]
  },
  {
   "cell_type": "code",
   "execution_count": 29,
   "metadata": {},
   "outputs": [],
   "source": [
    "split_train_df, excl = withold_songs(train_df)"
   ]
  },
  {
   "cell_type": "code",
   "execution_count": 30,
   "metadata": {},
   "outputs": [
    {
     "data": {
      "text/plain": [
       "(504522, 19)"
      ]
     },
     "execution_count": 30,
     "metadata": {},
     "output_type": "execute_result"
    }
   ],
   "source": [
    "train_df.shape"
   ]
  },
  {
   "cell_type": "code",
   "execution_count": 31,
   "metadata": {},
   "outputs": [
    {
     "data": {
      "text/plain": [
       "(484869, 19)"
      ]
     },
     "execution_count": 31,
     "metadata": {},
     "output_type": "execute_result"
    }
   ],
   "source": [
    "split_train_df.shape"
   ]
  },
  {
   "cell_type": "code",
   "execution_count": 32,
   "metadata": {},
   "outputs": [
    {
     "data": {
      "text/plain": [
       "2272065    [3wfGneO6eXv5rM5DazKfC6, 76BVOZqKOZrTrRxMa4WJb...\n",
       "5102318    [1aEa7oUf5F1JZXXn9j3yvv, 0YOLLYNnFbOz0xagmru0S...\n",
       "5638755    [47Slg6LuqLaX0VodpSCvPt, 3Z0oQ8r78OUaHvGPiDBR3...\n",
       "88326       [1F5TITC5jJMyUXEkKRqNof, 60eZCIqGhOHfUdjzxrh3FR]\n",
       "12879                               [5gb9UJkh8TfrNMRYOJNbew]\n",
       "                                 ...                        \n",
       "5396111    [50ZU3nFGe6bLFvh8GWo9Cz, 6uyh29cLTff8ei3LGHicJ...\n",
       "2740497    [74niLvcQCxCi90ZzPnVVFM, 69NqhF0DCq2rhGSpe1ao7...\n",
       "5523959    [3GJjiToqnCxTm5rOaqoxdi, 6I6NX6tjGsxFAsIfGzY9l...\n",
       "5779799    [3v7wCCCAalarf1HShBi4QB, 2NnSYdNhqye00il4nRB4t...\n",
       "124548     [35lAjvsvS9k9HHuP1fjDT8, 0otlwsD3mSogk7VJCTp6K...\n",
       "Length: 1958, dtype: object"
      ]
     },
     "execution_count": 32,
     "metadata": {},
     "output_type": "execute_result"
    }
   ],
   "source": [
    "pd.Series(excl)"
   ]
  },
  {
   "cell_type": "code",
   "execution_count": 33,
   "metadata": {},
   "outputs": [
    {
     "data": {
      "text/plain": [
       "19653"
      ]
     },
     "execution_count": 33,
     "metadata": {},
     "output_type": "execute_result"
    }
   ],
   "source": [
    "train_df.shape[0] - split_train_df.shape[0]"
   ]
  },
  {
   "cell_type": "code",
   "execution_count": 34,
   "metadata": {},
   "outputs": [
    {
     "name": "stdout",
     "output_type": "stream",
     "text": [
      "ModeResult(mode=array([1]), count=array([377]))\n"
     ]
    },
    {
     "data": {
      "image/png": "[encoded data removed]",
      "text/plain": [
       "<Figure size 432x288 with 1 Axes>"
      ]
     },
     "metadata": {
      "needs_background": "light"
     },
     "output_type": "display_data"
    }
   ],
   "source": [
    "modal_songs_excl = sp.stats.mode(excl.apply(lambda x: len(x)))\n",
    "print(modal_songs_excl)\n",
    "\n",
    "plt.xlabel(\"Number of songs excluded for playlist\")\n",
    "plt.ylabel(\"Count\")\n",
    "excl.apply(lambda x: len(x)).hist()\n",
    "plt.show()"
   ]
  },
  {
   "cell_type": "code",
   "execution_count": 35,
   "metadata": {},
   "outputs": [],
   "source": [
    "split_train_df.to_csv(\"Split_Train_DF.csv\")\n",
    "pickle.dump(excl, open(\"Excluded_Songs_Series\", \"wb\"))"
   ]
  },
  {
   "cell_type": "markdown",
   "metadata": {},
   "source": [
    "## Creating ratings matrix"
   ]
  },
  {
   "cell_type": "code",
   "execution_count": 9,
   "metadata": {},
   "outputs": [],
   "source": [
    "split_train_df = pd.read_csv(\"Split_Train_DF.csv\", index_col=[0])\n",
    "\n",
    "excl = pickle.load(open(\"Excluded_Songs_Series\", \"rb\"))"
   ]
  },
  {
   "cell_type": "code",
   "execution_count": 10,
   "metadata": {},
   "outputs": [
    {
     "data": {
      "text/html": [
       "<div>\n",
       "<style scoped>\n",
       "    .dataframe tbody tr th:only-of-type {\n",
       "        vertical-align: middle;\n",
       "    }\n",
       "\n",
       "    .dataframe tbody tr th {\n",
       "        vertical-align: top;\n",
       "    }\n",
       "\n",
       "    .dataframe thead th {\n",
       "        text-align: right;\n",
       "    }\n",
       "</style>\n",
       "<table border=\"1\" class=\"dataframe\">\n",
       "  <thead>\n",
       "    <tr style=\"text-align: right;\">\n",
       "      <th></th>\n",
       "      <th>source</th>\n",
       "      <th>user_id</th>\n",
       "      <th>track_name</th>\n",
       "      <th>artist_name</th>\n",
       "      <th>playlist_id</th>\n",
       "      <th>tags</th>\n",
       "      <th>playlist_name</th>\n",
       "      <th>spotify_id</th>\n",
       "      <th>album</th>\n",
       "      <th>popularity</th>\n",
       "      <th>danceability</th>\n",
       "      <th>energy</th>\n",
       "      <th>loudness</th>\n",
       "      <th>speechiness</th>\n",
       "      <th>acousticness</th>\n",
       "      <th>instrumentalness</th>\n",
       "      <th>liveness</th>\n",
       "      <th>valence</th>\n",
       "      <th>tempo</th>\n",
       "    </tr>\n",
       "  </thead>\n",
       "  <tbody>\n",
       "    <tr>\n",
       "      <td>0</td>\n",
       "      <td>vagalume</td>\n",
       "      <td>sitevagalume</td>\n",
       "      <td>Eraser</td>\n",
       "      <td>Ed Sheeran</td>\n",
       "      <td>6736120</td>\n",
       "      <td>pop,pop/rock,rock</td>\n",
       "      <td>Ed Sheeran - Divide</td>\n",
       "      <td>7oolFzHipTMg2nL7shhdz2</td>\n",
       "      <td>÷ (Deluxe)</td>\n",
       "      <td>64.0</td>\n",
       "      <td>0.640</td>\n",
       "      <td>0.812</td>\n",
       "      <td>-5.647</td>\n",
       "      <td>0.0834</td>\n",
       "      <td>0.086000</td>\n",
       "      <td>0.000000</td>\n",
       "      <td>0.0509</td>\n",
       "      <td>0.914</td>\n",
       "      <td>86.013</td>\n",
       "    </tr>\n",
       "    <tr>\n",
       "      <td>1</td>\n",
       "      <td>vagalume</td>\n",
       "      <td>sitevagalume</td>\n",
       "      <td>Castle On The Hill</td>\n",
       "      <td>Ed Sheeran</td>\n",
       "      <td>6736120</td>\n",
       "      <td>pop,pop/rock,rock</td>\n",
       "      <td>Ed Sheeran - Divide</td>\n",
       "      <td>6PCUP3dWmTjcTtXY02oFdT</td>\n",
       "      <td>÷ (Deluxe)</td>\n",
       "      <td>78.0</td>\n",
       "      <td>0.461</td>\n",
       "      <td>0.834</td>\n",
       "      <td>-4.868</td>\n",
       "      <td>0.0989</td>\n",
       "      <td>0.023200</td>\n",
       "      <td>0.000011</td>\n",
       "      <td>0.1400</td>\n",
       "      <td>0.471</td>\n",
       "      <td>135.007</td>\n",
       "    </tr>\n",
       "    <tr>\n",
       "      <td>2</td>\n",
       "      <td>vagalume</td>\n",
       "      <td>sitevagalume</td>\n",
       "      <td>Dive</td>\n",
       "      <td>Ed Sheeran</td>\n",
       "      <td>6736120</td>\n",
       "      <td>pop,pop/rock,rock</td>\n",
       "      <td>Ed Sheeran - Divide</td>\n",
       "      <td>51ChrwmUPDJvedPQnIU8Ls</td>\n",
       "      <td>÷ (Deluxe)</td>\n",
       "      <td>75.0</td>\n",
       "      <td>0.761</td>\n",
       "      <td>0.386</td>\n",
       "      <td>-6.158</td>\n",
       "      <td>0.0399</td>\n",
       "      <td>0.355000</td>\n",
       "      <td>0.000000</td>\n",
       "      <td>0.0953</td>\n",
       "      <td>0.526</td>\n",
       "      <td>134.943</td>\n",
       "    </tr>\n",
       "    <tr>\n",
       "      <td>3</td>\n",
       "      <td>vagalume</td>\n",
       "      <td>sitevagalume</td>\n",
       "      <td>Shape Of You</td>\n",
       "      <td>Ed Sheeran</td>\n",
       "      <td>6736120</td>\n",
       "      <td>pop,pop/rock,rock</td>\n",
       "      <td>Ed Sheeran - Divide</td>\n",
       "      <td>7qiZfU4dY1lWllzX7mPBI3</td>\n",
       "      <td>÷ (Deluxe)</td>\n",
       "      <td>85.0</td>\n",
       "      <td>0.825</td>\n",
       "      <td>0.652</td>\n",
       "      <td>-3.183</td>\n",
       "      <td>0.0802</td>\n",
       "      <td>0.581000</td>\n",
       "      <td>0.000000</td>\n",
       "      <td>0.0931</td>\n",
       "      <td>0.931</td>\n",
       "      <td>95.977</td>\n",
       "    </tr>\n",
       "    <tr>\n",
       "      <td>4</td>\n",
       "      <td>vagalume</td>\n",
       "      <td>sitevagalume</td>\n",
       "      <td>Perfect</td>\n",
       "      <td>Ed Sheeran</td>\n",
       "      <td>6736120</td>\n",
       "      <td>pop,pop/rock,rock</td>\n",
       "      <td>Ed Sheeran - Divide</td>\n",
       "      <td>0tgVpDi06FyKpA1z0VMD4v</td>\n",
       "      <td>÷ (Deluxe)</td>\n",
       "      <td>86.0</td>\n",
       "      <td>0.599</td>\n",
       "      <td>0.448</td>\n",
       "      <td>-6.312</td>\n",
       "      <td>0.0232</td>\n",
       "      <td>0.163000</td>\n",
       "      <td>0.000000</td>\n",
       "      <td>0.1060</td>\n",
       "      <td>0.168</td>\n",
       "      <td>95.050</td>\n",
       "    </tr>\n",
       "    <tr>\n",
       "      <td>...</td>\n",
       "      <td>...</td>\n",
       "      <td>...</td>\n",
       "      <td>...</td>\n",
       "      <td>...</td>\n",
       "      <td>...</td>\n",
       "      <td>...</td>\n",
       "      <td>...</td>\n",
       "      <td>...</td>\n",
       "      <td>...</td>\n",
       "      <td>...</td>\n",
       "      <td>...</td>\n",
       "      <td>...</td>\n",
       "      <td>...</td>\n",
       "      <td>...</td>\n",
       "      <td>...</td>\n",
       "      <td>...</td>\n",
       "      <td>...</td>\n",
       "      <td>...</td>\n",
       "      <td>...</td>\n",
       "    </tr>\n",
       "    <tr>\n",
       "      <td>560575</td>\n",
       "      <td>8tracks</td>\n",
       "      <td>11027.0</td>\n",
       "      <td>Instant Karma</td>\n",
       "      <td>John Lennon</td>\n",
       "      <td>10532</td>\n",
       "      <td>indie rock,unknown, alternative &amp; punk</td>\n",
       "      <td>scascio</td>\n",
       "      <td>2E9wKgL8NN7Tvydqcjoh7v</td>\n",
       "      <td>Gimme Some Truth</td>\n",
       "      <td>53.0</td>\n",
       "      <td>0.624</td>\n",
       "      <td>0.931</td>\n",
       "      <td>-9.988</td>\n",
       "      <td>0.1160</td>\n",
       "      <td>0.000899</td>\n",
       "      <td>0.001490</td>\n",
       "      <td>0.0631</td>\n",
       "      <td>0.140</td>\n",
       "      <td>119.887</td>\n",
       "    </tr>\n",
       "    <tr>\n",
       "      <td>560576</td>\n",
       "      <td>8tracks</td>\n",
       "      <td>11027.0</td>\n",
       "      <td>This Must Be the Place (Naive Melody)</td>\n",
       "      <td>Talking Heads</td>\n",
       "      <td>10532</td>\n",
       "      <td>indie rock,unknown, alternative &amp; punk</td>\n",
       "      <td>scascio</td>\n",
       "      <td>6aBUnkXuCEQQHAlTokv9or</td>\n",
       "      <td>Speaking in Tongues (Deluxe Version)</td>\n",
       "      <td>71.0</td>\n",
       "      <td>0.942</td>\n",
       "      <td>0.641</td>\n",
       "      <td>-10.150</td>\n",
       "      <td>0.0333</td>\n",
       "      <td>0.331000</td>\n",
       "      <td>0.179000</td>\n",
       "      <td>0.0280</td>\n",
       "      <td>0.966</td>\n",
       "      <td>114.443</td>\n",
       "    </tr>\n",
       "    <tr>\n",
       "      <td>560577</td>\n",
       "      <td>8tracks</td>\n",
       "      <td>11027.0</td>\n",
       "      <td>Rock &amp; Roll (Full-Length Version)</td>\n",
       "      <td>The Velvet Underground</td>\n",
       "      <td>10532</td>\n",
       "      <td>indie rock,unknown, alternative &amp; punk</td>\n",
       "      <td>scascio</td>\n",
       "      <td>1o6DclZHw0HomxXEQR1ijX</td>\n",
       "      <td>Loaded: Re-Loaded 45th Anniversary Edition</td>\n",
       "      <td>62.0</td>\n",
       "      <td>0.494</td>\n",
       "      <td>0.735</td>\n",
       "      <td>-8.347</td>\n",
       "      <td>0.0345</td>\n",
       "      <td>0.004010</td>\n",
       "      <td>0.000003</td>\n",
       "      <td>0.5440</td>\n",
       "      <td>0.742</td>\n",
       "      <td>132.526</td>\n",
       "    </tr>\n",
       "    <tr>\n",
       "      <td>560578</td>\n",
       "      <td>8tracks</td>\n",
       "      <td>11027.0</td>\n",
       "      <td>So. Central Rain (I'm Sorry)</td>\n",
       "      <td>R.E.M.</td>\n",
       "      <td>10532</td>\n",
       "      <td>indie rock,unknown, alternative &amp; punk</td>\n",
       "      <td>scascio</td>\n",
       "      <td>3AdyPM9rfgfPxoWS4tKh2O</td>\n",
       "      <td>Live At The Olympia</td>\n",
       "      <td>38.0</td>\n",
       "      <td>0.339</td>\n",
       "      <td>0.950</td>\n",
       "      <td>-4.797</td>\n",
       "      <td>0.0556</td>\n",
       "      <td>0.000804</td>\n",
       "      <td>0.000034</td>\n",
       "      <td>0.9700</td>\n",
       "      <td>0.460</td>\n",
       "      <td>142.148</td>\n",
       "    </tr>\n",
       "    <tr>\n",
       "      <td>560579</td>\n",
       "      <td>8tracks</td>\n",
       "      <td>24524.0</td>\n",
       "      <td>Phantom Punch</td>\n",
       "      <td>Sondre Lerche</td>\n",
       "      <td>27073</td>\n",
       "      <td>pop,rock, alternative rock</td>\n",
       "      <td>Wake up!</td>\n",
       "      <td>337mW8qSIO7fXdA2UaDxE2</td>\n",
       "      <td>Phantom Punch</td>\n",
       "      <td>19.0</td>\n",
       "      <td>0.511</td>\n",
       "      <td>0.888</td>\n",
       "      <td>-3.125</td>\n",
       "      <td>0.1120</td>\n",
       "      <td>0.008520</td>\n",
       "      <td>0.000000</td>\n",
       "      <td>0.1900</td>\n",
       "      <td>0.828</td>\n",
       "      <td>146.441</td>\n",
       "    </tr>\n",
       "  </tbody>\n",
       "</table>\n",
       "<p>484869 rows × 19 columns</p>\n",
       "</div>"
      ],
      "text/plain": [
       "          source       user_id                             track_name  \\\n",
       "0       vagalume  sitevagalume                                 Eraser   \n",
       "1       vagalume  sitevagalume                     Castle On The Hill   \n",
       "2       vagalume  sitevagalume                                   Dive   \n",
       "3       vagalume  sitevagalume                           Shape Of You   \n",
       "4       vagalume  sitevagalume                                Perfect   \n",
       "...          ...           ...                                    ...   \n",
       "560575   8tracks       11027.0                          Instant Karma   \n",
       "560576   8tracks       11027.0  This Must Be the Place (Naive Melody)   \n",
       "560577   8tracks       11027.0      Rock & Roll (Full-Length Version)   \n",
       "560578   8tracks       11027.0           So. Central Rain (I'm Sorry)   \n",
       "560579   8tracks       24524.0                          Phantom Punch   \n",
       "\n",
       "                   artist_name  playlist_id  \\\n",
       "0                   Ed Sheeran      6736120   \n",
       "1                   Ed Sheeran      6736120   \n",
       "2                   Ed Sheeran      6736120   \n",
       "3                   Ed Sheeran      6736120   \n",
       "4                   Ed Sheeran      6736120   \n",
       "...                        ...          ...   \n",
       "560575             John Lennon        10532   \n",
       "560576           Talking Heads        10532   \n",
       "560577  The Velvet Underground        10532   \n",
       "560578                  R.E.M.        10532   \n",
       "560579           Sondre Lerche        27073   \n",
       "\n",
       "                                           tags        playlist_name  \\\n",
       "0                             pop,pop/rock,rock  Ed Sheeran - Divide   \n",
       "1                             pop,pop/rock,rock  Ed Sheeran - Divide   \n",
       "2                             pop,pop/rock,rock  Ed Sheeran - Divide   \n",
       "3                             pop,pop/rock,rock  Ed Sheeran - Divide   \n",
       "4                             pop,pop/rock,rock  Ed Sheeran - Divide   \n",
       "...                                         ...                  ...   \n",
       "560575   indie rock,unknown, alternative & punk              scascio   \n",
       "560576   indie rock,unknown, alternative & punk              scascio   \n",
       "560577   indie rock,unknown, alternative & punk              scascio   \n",
       "560578   indie rock,unknown, alternative & punk              scascio   \n",
       "560579               pop,rock, alternative rock             Wake up!   \n",
       "\n",
       "                    spotify_id                                       album  \\\n",
       "0       7oolFzHipTMg2nL7shhdz2                                  ÷ (Deluxe)   \n",
       "1       6PCUP3dWmTjcTtXY02oFdT                                  ÷ (Deluxe)   \n",
       "2       51ChrwmUPDJvedPQnIU8Ls                                  ÷ (Deluxe)   \n",
       "3       7qiZfU4dY1lWllzX7mPBI3                                  ÷ (Deluxe)   \n",
       "4       0tgVpDi06FyKpA1z0VMD4v                                  ÷ (Deluxe)   \n",
       "...                        ...                                         ...   \n",
       "560575  2E9wKgL8NN7Tvydqcjoh7v                            Gimme Some Truth   \n",
       "560576  6aBUnkXuCEQQHAlTokv9or        Speaking in Tongues (Deluxe Version)   \n",
       "560577  1o6DclZHw0HomxXEQR1ijX  Loaded: Re-Loaded 45th Anniversary Edition   \n",
       "560578  3AdyPM9rfgfPxoWS4tKh2O                         Live At The Olympia   \n",
       "560579  337mW8qSIO7fXdA2UaDxE2                               Phantom Punch   \n",
       "\n",
       "        popularity  danceability  energy  loudness  speechiness  acousticness  \\\n",
       "0             64.0         0.640   0.812    -5.647       0.0834      0.086000   \n",
       "1             78.0         0.461   0.834    -4.868       0.0989      0.023200   \n",
       "2             75.0         0.761   0.386    -6.158       0.0399      0.355000   \n",
       "3             85.0         0.825   0.652    -3.183       0.0802      0.581000   \n",
       "4             86.0         0.599   0.448    -6.312       0.0232      0.163000   \n",
       "...            ...           ...     ...       ...          ...           ...   \n",
       "560575        53.0         0.624   0.931    -9.988       0.1160      0.000899   \n",
       "560576        71.0         0.942   0.641   -10.150       0.0333      0.331000   \n",
       "560577        62.0         0.494   0.735    -8.347       0.0345      0.004010   \n",
       "560578        38.0         0.339   0.950    -4.797       0.0556      0.000804   \n",
       "560579        19.0         0.511   0.888    -3.125       0.1120      0.008520   \n",
       "\n",
       "        instrumentalness  liveness  valence    tempo  \n",
       "0               0.000000    0.0509    0.914   86.013  \n",
       "1               0.000011    0.1400    0.471  135.007  \n",
       "2               0.000000    0.0953    0.526  134.943  \n",
       "3               0.000000    0.0931    0.931   95.977  \n",
       "4               0.000000    0.1060    0.168   95.050  \n",
       "...                  ...       ...      ...      ...  \n",
       "560575          0.001490    0.0631    0.140  119.887  \n",
       "560576          0.179000    0.0280    0.966  114.443  \n",
       "560577          0.000003    0.5440    0.742  132.526  \n",
       "560578          0.000034    0.9700    0.460  142.148  \n",
       "560579          0.000000    0.1900    0.828  146.441  \n",
       "\n",
       "[484869 rows x 19 columns]"
      ]
     },
     "execution_count": 10,
     "metadata": {},
     "output_type": "execute_result"
    }
   ],
   "source": [
    "split_train_df"
   ]
  },
  {
   "cell_type": "code",
   "execution_count": 13,
   "metadata": {},
   "outputs": [],
   "source": [
    "split_train_ratings_matrix = mf_utils.df_to_sparse(split_train_df, all_songs=df.spotify_id.unique())"
   ]
  },
  {
   "cell_type": "code",
   "execution_count": 14,
   "metadata": {},
   "outputs": [
    {
     "data": {
      "text/plain": [
       "<105152x10549 sparse matrix of type '<class 'numpy.float64'>'\n",
       "\twith 481202 stored elements in Compressed Sparse Row format>"
      ]
     },
     "execution_count": 14,
     "metadata": {},
     "output_type": "execute_result"
    }
   ],
   "source": [
    "split_train_ratings_matrix"
   ]
  },
  {
   "cell_type": "markdown",
   "metadata": {},
   "source": [
    "## Fitting ratings matrix"
   ]
  },
  {
   "cell_type": "code",
   "execution_count": 75,
   "metadata": {},
   "outputs": [
    {
     "data": {
      "application/vnd.jupyter.widget-view+json": {
       "model_id": "d5e67b675a0c4d458e61c38cc60d6f8b",
       "version_major": 2,
       "version_minor": 0
      },
      "text/plain": [
       "HBox(children=(IntProgress(value=0, max=15), HTML(value='')))"
      ]
     },
     "metadata": {},
     "output_type": "display_data"
    },
    {
     "name": "stdout",
     "output_type": "stream",
     "text": [
      "\n"
     ]
    }
   ],
   "source": [
    "model = implicit.als.AlternatingLeastSquares(factors=150)\n",
    "\n",
    "# items_users matrix in this case is the songs_playlist matrix\n",
    "model.fit(split_train_ratings_matrix)"
   ]
  },
  {
   "cell_type": "markdown",
   "metadata": {},
   "source": [
    "### Example recommendations"
   ]
  },
  {
   "cell_type": "code",
   "execution_count": 76,
   "metadata": {},
   "outputs": [],
   "source": [
    "sample_playlist_indx = 10\n",
    "\n",
    "recommendations = model.recommend(sample_playlist_indx, split_train_ratings_matrix.T)"
   ]
  },
  {
   "cell_type": "code",
   "execution_count": 77,
   "metadata": {},
   "outputs": [
    {
     "name": "stdout",
     "output_type": "stream",
     "text": [
      "Liked Tracks:\n",
      "                                          track_name  \\\n",
      "spotify_id                                             \n",
      "7DD7eSuYSC5xk2ArU62esN                         Help!   \n",
      "1Ud6moTC0KyXMq1Oxfien0        Sympathy For The Devil   \n",
      "3qiyyUfYe7CRYLucrPmulD                  Baba O'Riley   \n",
      "7aE5WXu5sFeNRh3Z05wwu4            Wish You Were Here   \n",
      "4u7EnebtmKWzUH433cf5Qv             Bohemian Rhapsody   \n",
      "5CQ30WqJwcep0pYcV4AMNc            Stairway To Heaven   \n",
      "5uvosCdMlFdTXhoazkTI5R                 Light My Fire   \n",
      "6KTv0Z8BmVqM7DPxbGzpVC        Rock And Roll All Nite   \n",
      "64Ny7djQ6rNJspquof2KoX                     Hound Dog   \n",
      "5t9KYe0Fhd5cW6UYT4qP8f               Good Vibrations   \n",
      "2QfiRTz5Yc8DdShCxG1tB2               Johnny B. Goode   \n",
      "5UvE5QlINnvEc7aFO14DVL      Great    Balls  Of  Fire   \n",
      "0NWPxcsf5vdjdiFUI8NgkP                       Hey Joe   \n",
      "63OFKbMaZSDZ4wtesuuq6f               Born To Be Wild   \n",
      "6gJdDnF2TzfA1WPMXuCa3x                    Proud Mary   \n",
      "08mG3Y1vljYA6bvDt4Wqkj                 Back In Black   \n",
      "1jzDzZWeSDBg5fhNc3tczV                      Paranoid   \n",
      "5MMnwYs0hIxkENRsbkWJ2G            Smoke On The Water   \n",
      "052vSBPxqdmYRDlkSPiavc                      Cry Baby   \n",
      "1JSTJqkT5qHq8MDJnJbRE1         Every Breath You Take   \n",
      "2Y90nL1ohB4sgYELDs7uNx                    Glory Days   \n",
      "16uirV2aOn7vjXUe5y4dxk                          Jump   \n",
      "7e89621JPkKaeDSTQ3avtg            Sweet Home Alabama   \n",
      "39shmbIHICJ2Wxnk1fPSdz  Should I Stay Or Should I Go   \n",
      "\n",
      "                                         artist_name  popularity  \n",
      "spotify_id                                                        \n",
      "7DD7eSuYSC5xk2ArU62esN                   The Beatles        72.0  \n",
      "1Ud6moTC0KyXMq1Oxfien0                Rolling Stones        75.0  \n",
      "3qiyyUfYe7CRYLucrPmulD                       The Who        77.0  \n",
      "7aE5WXu5sFeNRh3Z05wwu4                    Pink Floyd        70.0  \n",
      "4u7EnebtmKWzUH433cf5Qv                         Queen        83.0  \n",
      "5CQ30WqJwcep0pYcV4AMNc                  Led Zeppelin        78.0  \n",
      "5uvosCdMlFdTXhoazkTI5R                     The Doors        72.0  \n",
      "6KTv0Z8BmVqM7DPxbGzpVC                          Kiss        75.0  \n",
      "64Ny7djQ6rNJspquof2KoX                 Elvis Presley        69.0  \n",
      "5t9KYe0Fhd5cW6UYT4qP8f                The Beach Boys        72.0  \n",
      "2QfiRTz5Yc8DdShCxG1tB2                   Chuck Berry        74.0  \n",
      "5UvE5QlINnvEc7aFO14DVL               Jerry Lee Lewis        66.0  \n",
      "0NWPxcsf5vdjdiFUI8NgkP                  Jimi Hendrix        71.0  \n",
      "63OFKbMaZSDZ4wtesuuq6f                   Steppenwolf        73.0  \n",
      "6gJdDnF2TzfA1WPMXuCa3x  Creedence Clearwater Revival        66.0  \n",
      "08mG3Y1vljYA6bvDt4Wqkj                         AC/DC        83.0  \n",
      "1jzDzZWeSDBg5fhNc3tczV                 Black Sabbath        76.0  \n",
      "5MMnwYs0hIxkENRsbkWJ2G                   Deep Purple        75.0  \n",
      "052vSBPxqdmYRDlkSPiavc                  Janis Joplin        69.0  \n",
      "1JSTJqkT5qHq8MDJnJbRE1                    The Police        83.0  \n",
      "2Y90nL1ohB4sgYELDs7uNx             Bruce Springsteen        69.0  \n",
      "16uirV2aOn7vjXUe5y4dxk                     Van Halen         0.0  \n",
      "7e89621JPkKaeDSTQ3avtg                Lynyrd Skynyrd        82.0  \n",
      "39shmbIHICJ2Wxnk1fPSdz                     The Clash        78.0  \n",
      "\n",
      "Recommended Tracks:\n",
      "                                   track_name              artist_name  \\\n",
      "spotify_id                                                               \n",
      "02RL8oNMFNw5Jjrlcg5PgF        Hip Hop Is Dead                      Nas   \n",
      "02PTdS9L4BFXOtNvyM1ukF   Bittersweet Memories  Bullet For My Valentine   \n",
      "02ResSuBPl9WJoCgSyjrSx     You Stole My Heart                  Dr. Sin   \n",
      "02Rku3sO5BIbP9yj1xrnZ1          One Fine Wire           Colbie Caillat   \n",
      "02P3jdwtXBPRVMSDG8WDkS           Louco de Luz         Kleiton e Kledir   \n",
      "02O46nGb7mSRDzD2fIPSCy          Open Our Eyes     Earth, Wind And Fire   \n",
      "02PHWELRAoYIxx3TTGvIit  Forró do Pic Plic Plá          Trio Nordestino   \n",
      "02PEzBRF5NQgBQPrXZvdvL        I Was The Sword            Funeral Diner   \n",
      "02Q7GcNPVgFNr8nNhq5oLg            Bill Murray                 Gorillaz   \n",
      "02POyqtbrdmYQ3RxsTrYMD   Are You Experienced?             Jimi Hendrix   \n",
      "\n",
      "                        popularity     score  \n",
      "spotify_id                                    \n",
      "02RL8oNMFNw5Jjrlcg5PgF        36.0  0.429662  \n",
      "02PTdS9L4BFXOtNvyM1ukF        51.0  0.412783  \n",
      "02ResSuBPl9WJoCgSyjrSx        29.0  0.367371  \n",
      "02Rku3sO5BIbP9yj1xrnZ1        33.0  0.352732  \n",
      "02P3jdwtXBPRVMSDG8WDkS         0.0  0.309152  \n",
      "02O46nGb7mSRDzD2fIPSCy        32.0  0.308435  \n",
      "02PHWELRAoYIxx3TTGvIit        12.0  0.307722  \n",
      "02PEzBRF5NQgBQPrXZvdvL        34.0  0.304750  \n",
      "02Q7GcNPVgFNr8nNhq5oLg        50.0  0.304433  \n",
      "02POyqtbrdmYQ3RxsTrYMD        50.0  0.271624  \n"
     ]
    }
   ],
   "source": [
    "mf_utils.inspect_recommendations(sample_playlist_indx, recommendations, split_train_df, songs_df)"
   ]
  },
  {
   "cell_type": "markdown",
   "metadata": {},
   "source": [
    "## TODO\n",
    "1. Calculate hit rate for top 20k songs for playlists which were split\n",
    "2. Optimise hyperparameters\n",
    "3. See how much search space can be reduced?"
   ]
  },
  {
   "cell_type": "code",
   "execution_count": 92,
   "metadata": {},
   "outputs": [],
   "source": [
    "# CANNOT use songs_df here as order is different\n",
    "indx_to_song = mf_utils.indx_mapping(df.spotify_id.unique())\n",
    "indx_to_playlist = mf_utils.indx_mapping(split_train_df.playlist_id.unique())\n",
    "\n",
    "song_to_indx = mf_utils.indx_mapping(df.spotify_id.unique(), indx_to_item=False)\n",
    "playlist_to_indx = mf_utils.indx_mapping(split_train_df.playlist_id.unique(), indx_to_item=False)"
   ]
  },
  {
   "cell_type": "code",
   "execution_count": 93,
   "metadata": {},
   "outputs": [],
   "source": [
    "def hit_rate(recommendations, excluded_songs):\n",
    "    \"\"\"\n",
    "    Returns the hit rate (correct recommendations/number of songs excluded)\n",
    "    \n",
    "    Arguments:\n",
    "        - recommendations - recs for a single playlist as returned by implicit\n",
    "        - excluded_songs - Spotify IDs excluded from that playlist\n",
    "    \"\"\"\n",
    "    recs_spotifyids = list(mf_utils.recs_to_spotifyids(recommendations, indx_to_song).keys())\n",
    "    num_hits = len(set(recs_spotifyids).intersection(set(excluded_songs)))\n",
    "    \n",
    "    return num_hits/len(excluded_songs)"
   ]
  },
  {
   "cell_type": "markdown",
   "metadata": {},
   "source": [
    "**Hit rate for an example playlist:**"
   ]
  },
  {
   "cell_type": "code",
   "execution_count": 104,
   "metadata": {},
   "outputs": [],
   "source": [
    "sample_playlist = excl.sample(1).index[0]"
   ]
  },
  {
   "cell_type": "code",
   "execution_count": 105,
   "metadata": {},
   "outputs": [
    {
     "data": {
      "text/plain": [
       "0.8888888888888888"
      ]
     },
     "execution_count": 105,
     "metadata": {},
     "output_type": "execute_result"
    }
   ],
   "source": [
    "recommendations = model.recommend(playlist_to_indx[sample_playlist], split_train_ratings_matrix.T, N=20000)\n",
    "\n",
    "hit_rate(recommendations, excl[sample_playlist])"
   ]
  },
  {
   "cell_type": "markdown",
   "metadata": {},
   "source": [
    "**Calculating hit rate for all 'split' playlists:**"
   ]
  },
  {
   "cell_type": "code",
   "execution_count": 106,
   "metadata": {},
   "outputs": [
    {
     "data": {
      "application/vnd.jupyter.widget-view+json": {
       "model_id": "3d1b5c5574e0477d8eb0d669c853dc20",
       "version_major": 2,
       "version_minor": 0
      },
      "text/plain": [
       "HBox(children=(IntProgress(value=0, max=1958), HTML(value='')))"
      ]
     },
     "metadata": {},
     "output_type": "display_data"
    },
    {
     "name": "stdout",
     "output_type": "stream",
     "text": [
      "\n"
     ]
    }
   ],
   "source": [
    "hit_rates = []\n",
    "\n",
    "for playlist_id, songs in tqdm(excl.items(), total=len(excl)):\n",
    "    recs = model.recommend(playlist_to_indx[playlist_id], split_train_ratings_matrix.T, N=20000)\n",
    "    hit_rates.append(hit_rate(recs, excl[playlist_id]))"
   ]
  },
  {
   "cell_type": "code",
   "execution_count": 107,
   "metadata": {},
   "outputs": [
    {
     "data": {
      "text/plain": [
       "[<matplotlib.lines.Line2D at 0x1a25ea5150>]"
      ]
     },
     "execution_count": 107,
     "metadata": {},
     "output_type": "execute_result"
    },
    {
     "data": {
      "image/png": "[encoded data removed]",
      "text/plain": [
       "<Figure size 432x288 with 1 Axes>"
      ]
     },
     "metadata": {
      "needs_background": "light"
     },
     "output_type": "display_data"
    }
   ],
   "source": [
    "hit_rates = np.asarray(hit_rates)\n",
    "plt.plot(hit_rates)"
   ]
  },
  {
   "cell_type": "code",
   "execution_count": 108,
   "metadata": {},
   "outputs": [],
   "source": [
    "sort_indxs = np.argsort(hit_rates)\n",
    "\n",
    "playlist_mask = df.playlist_id.isin(excl.index.values)"
   ]
  },
  {
   "cell_type": "code",
   "execution_count": 109,
   "metadata": {},
   "outputs": [],
   "source": [
    "playlist_lengths = pd.value_counts(split_train_df.playlist_id[playlist_mask])"
   ]
  },
  {
   "cell_type": "code",
   "execution_count": 110,
   "metadata": {},
   "outputs": [
    {
     "data": {
      "image/png": "[encoded data removed]",
      "text/plain": [
       "<Figure size 432x288 with 1 Axes>"
      ]
     },
     "metadata": {
      "needs_background": "light"
     },
     "output_type": "display_data"
    },
    {
     "data": {
      "image/png": "[encoded data removed]",
      "text/plain": [
       "<Figure size 432x288 with 1 Axes>"
      ]
     },
     "metadata": {
      "needs_background": "light"
     },
     "output_type": "display_data"
    }
   ],
   "source": [
    "plt.xlabel(\"Playlists\")\n",
    "plt.ylabel(\"Hit rate\")\n",
    "plt.plot(hit_rates[sort_indxs], label=\"hit rate\")\n",
    "plt.show()\n",
    "\n",
    "plt.xlabel(\"Playlists\")\n",
    "plt.ylabel(\"Playlist Length\")\n",
    "plt.plot(playlist_lengths.values[sort_indxs], label=\"length\")\n",
    "plt.show()"
   ]
  },
  {
   "cell_type": "code",
   "execution_count": 111,
   "metadata": {},
   "outputs": [
    {
     "data": {
      "text/plain": [
       "array([14, 11, 11, 11, 56, 11, 56, 57, 11, 10, 10, 10, 10, 58, 59, 10, 10,\n",
       "       10, 10, 10, 10, 10, 61, 10, 11, 10, 54, 54, 14, 47, 14, 14, 47, 14,\n",
       "       14, 14, 14, 13, 49, 13, 13, 50, 13, 13, 52, 12, 52, 52, 12, 12, 12,\n",
       "       12, 14, 10, 10, 74,  8,  8,  8,  8,  8,  7,  7,  7, 76,  7,  7,  7,\n",
       "        7,  7, 78,  7, 79, 79,  7,  7,  7,  7,  8, 62, 73,  8, 10, 10, 63,\n",
       "       63, 10, 10, 64, 64,  9,  9,  9, 66, 66,  9,  9,  9,  9, 70])"
      ]
     },
     "execution_count": 111,
     "metadata": {},
     "output_type": "execute_result"
    }
   ],
   "source": [
    "playlist_lengths.values[sort_indxs][:100]"
   ]
  },
  {
   "cell_type": "code",
   "execution_count": 112,
   "metadata": {},
   "outputs": [
    {
     "data": {
      "text/plain": [
       "0.7241994806323756"
      ]
     },
     "execution_count": 112,
     "metadata": {},
     "output_type": "execute_result"
    }
   ],
   "source": [
    "np.mean(hit_rates)"
   ]
  },
  {
   "cell_type": "markdown",
   "metadata": {},
   "source": [
    "From the above we can see that with using WRMF alone, we can only obtain a reasonable average recall of 0.72.\n",
    "\n",
    "There is some evidence to suggest that the recall is distorted slightly by the very short playlists; however although they may seem very small on the above plots, a closer inspection shows that they are actually of quite reasonable length (>10 songs). Thus, we cannot simply drop these playlists and artificially increase our recall.\n",
    "\n",
    "We can experiment with changing the number of latent factors we use when constructing the model (see later in notebook)."
   ]
  },
  {
   "cell_type": "markdown",
   "metadata": {},
   "source": [
    "Modularisation of the above code:"
   ]
  },
  {
   "cell_type": "code",
   "execution_count": 113,
   "metadata": {},
   "outputs": [],
   "source": [
    "def calc_hit_rates(model, item_user_matrix, excl, playlist_to_indx,\n",
    "                   parallelise=False, progressbar=True):\n",
    "    \"\"\"\n",
    "    Calculates hit rate for all playlists in excl.\n",
    "    \n",
    "    Arguments:\n",
    "        - model - implicit model\n",
    "        - item_user_matrix - sparse CSR matrix for model\n",
    "        - excl - dict. of the playlists and songs excluded in matrix. key = playlist; value = list of songs\n",
    "        - playlist_to_indx - dict. mapping playlist ID to index in playlists array as fed to implicit model\n",
    "        - parallelise - distribute job over 16 worker threads\n",
    "        - progressbar - show progress bar\n",
    "        \n",
    "    Returns:\n",
    "        - list of tuples. [ (playlist_id, hit_rate_for_that_playlist), ... ]\n",
    "    \"\"\"\n",
    "    \n",
    "    if progressbar:\n",
    "        iter_excl = tqdm(excl.items(), total=len(excl))\n",
    "    else:\n",
    "        iter_excl = excl.items()\n",
    "    \n",
    "#     Nested helper to parallelise\n",
    "    def helper(excl_playlist, excl_songs):\n",
    "        recs = model.recommend(playlist_to_indx[excl_playlist], item_user_matrix.T, N=20000)\n",
    "        return (excl_playlist, hit_rate(recs, excl_songs))\n",
    "    \n",
    "    if parallelise:\n",
    "        hit_rates = \\\n",
    "        Parallel(n_jobs=16, prefer=\"threads\")(delayed(helper)(id_, songs) for (id_, songs) in iter_excl)\n",
    "    else:\n",
    "        hit_rates = []\n",
    "        for (id_, songs) in iter_excl:\n",
    "            hit_rates.append(helper(id_, songs))\n",
    "        \n",
    "    return hit_rates"
   ]
  },
  {
   "cell_type": "code",
   "execution_count": 136,
   "metadata": {},
   "outputs": [
    {
     "data": {
      "application/vnd.jupyter.widget-view+json": {
       "model_id": "951a60a48f7044d1a1bc8be10c704075",
       "version_major": 2,
       "version_minor": 0
      },
      "text/plain": [
       "HBox(children=(IntProgress(value=0, max=1958), HTML(value='')))"
      ]
     },
     "metadata": {},
     "output_type": "display_data"
    },
    {
     "name": "stdout",
     "output_type": "stream",
     "text": [
      "\n"
     ]
    }
   ],
   "source": [
    "hit_rates = calc_hit_rates(model, split_train_ratings_matrix, excl, playlist_to_indx,\n",
    "                           parallelise=True)"
   ]
  },
  {
   "cell_type": "code",
   "execution_count": 137,
   "metadata": {},
   "outputs": [],
   "source": [
    "hit_rates = pd.Series(mf_utils.tuples_to_dict(hit_rates))"
   ]
  },
  {
   "cell_type": "code",
   "execution_count": 139,
   "metadata": {},
   "outputs": [
    {
     "data": {
      "text/plain": [
       "0.7241994806323757"
      ]
     },
     "execution_count": 139,
     "metadata": {},
     "output_type": "execute_result"
    }
   ],
   "source": [
    "hit_rates.mean()"
   ]
  },
  {
   "cell_type": "code",
   "execution_count": 138,
   "metadata": {},
   "outputs": [
    {
     "data": {
      "image/png": "[encoded data removed]",
      "text/plain": [
       "<Figure size 432x288 with 1 Axes>"
      ]
     },
     "metadata": {
      "needs_background": "light"
     },
     "output_type": "display_data"
    }
   ],
   "source": [
    "plt.xlabel(\"Playlists\")\n",
    "plt.ylabel(\"Hit rate\")\n",
    "plt.plot(sorted(hit_rates.values))\n",
    "plt.show()"
   ]
  },
  {
   "cell_type": "markdown",
   "metadata": {},
   "source": [
    "### Grid search"
   ]
  },
  {
   "cell_type": "markdown",
   "metadata": {},
   "source": [
    "Grid search to find the optimal number of latent factors to compute when fitting model:"
   ]
  },
  {
   "cell_type": "code",
   "execution_count": 150,
   "metadata": {},
   "outputs": [],
   "source": [
    "def grid_search_factors(srange, item_user_matrix, excl, playlist_to_indx,\n",
    "                       parallelise=True):\n",
    "    \n",
    "    def helper(factors):\n",
    "        model = implicit.als.AlternatingLeastSquares(factors=factors)\n",
    "\n",
    "        # items_users matrix in this case is the songs_playlist matrix\n",
    "        model.fit(item_user_matrix, show_progress=False)\n",
    "        \n",
    "        temp_hit_rates = calc_hit_rates(model, item_user_matrix, excl, playlist_to_indx,\n",
    "                                        parallelise=False, progressbar=False)\n",
    "    \n",
    "        avg_hit_rate = np.mean([hr for _, hr in temp_hit_rates])\n",
    "        \n",
    "        print(f\"factors {factors} | hit rate {avg_hit_rate}\")\n",
    "        \n",
    "        return (factors, avg_hit_rate)\n",
    "    \n",
    "    iter_factors = tqdm(srange, total=len(srange))\n",
    "    \n",
    "    if parallelise:\n",
    "        hit_rates = Parallel(n_jobs=4, prefer=\"threads\")(delayed(helper)(factors) for factors in iter_factors)\n",
    "    else:\n",
    "        hit_rates = [helper(factors) for factors in iter_factors]\n",
    "    \n",
    "    return hit_rates"
   ]
  },
  {
   "cell_type": "code",
   "execution_count": 152,
   "metadata": {},
   "outputs": [
    {
     "data": {
      "application/vnd.jupyter.widget-view+json": {
       "model_id": "1d3c3f53f9bb4713ad0432ba453f5b7b",
       "version_major": 2,
       "version_minor": 0
      },
      "text/plain": [
       "HBox(children=(IntProgress(value=0, max=12), HTML(value='')))"
      ]
     },
     "metadata": {},
     "output_type": "display_data"
    },
    {
     "name": "stdout",
     "output_type": "stream",
     "text": [
      "factors 100 | hit rate 0.7251190202175254\n",
      "factors 150 | hit rate 0.7250090795170948\n",
      "factors 200 | hit rate 0.7270362503327529\n",
      "factors 250 | hit rate 0.7340325894489934\n",
      "factors 300 | hit rate 0.7343500277525251\n",
      "\n",
      "factors 350 | hit rate 0.73173063364382\n",
      "factors 400 | hit rate 0.7299676653919273\n",
      "factors 450 | hit rate 0.7274305244029073\n",
      "factors 500 | hit rate 0.7242372050812332\n",
      "factors 550 | hit rate 0.724471763389122\n",
      "factors 600 | hit rate 0.7252985248652697\n",
      "factors 650 | hit rate 0.721042535943308\n"
     ]
    }
   ],
   "source": [
    "hit_rate_search = grid_search_factors(range(100, 700, 50), split_train_ratings_matrix, excl, playlist_to_indx,\n",
    "                                     parallelise=True)"
   ]
  },
  {
   "cell_type": "code",
   "execution_count": 155,
   "metadata": {},
   "outputs": [],
   "source": [
    "pickle.dump(hit_rate_search, open(\"hit_rate_search.p\", \"wb\"))"
   ]
  },
  {
   "cell_type": "code",
   "execution_count": 156,
   "metadata": {},
   "outputs": [
    {
     "data": {
      "text/plain": [
       "[(100, 0.7251190202175254),\n",
       " (150, 0.7250090795170948),\n",
       " (200, 0.7270362503327529),\n",
       " (250, 0.7340325894489934),\n",
       " (300, 0.7343500277525251),\n",
       " (350, 0.73173063364382),\n",
       " (400, 0.7299676653919273),\n",
       " (450, 0.7274305244029073),\n",
       " (500, 0.7242372050812332),\n",
       " (550, 0.724471763389122),\n",
       " (600, 0.7252985248652697),\n",
       " (650, 0.721042535943308)]"
      ]
     },
     "execution_count": 156,
     "metadata": {},
     "output_type": "execute_result"
    }
   ],
   "source": [
    "hit_rate_search"
   ]
  },
  {
   "cell_type": "code",
   "execution_count": 157,
   "metadata": {},
   "outputs": [],
   "source": [
    "hit_rate_search = mf_utils.tuples_to_dict(hit_rate_search)"
   ]
  },
  {
   "cell_type": "code",
   "execution_count": 159,
   "metadata": {},
   "outputs": [],
   "source": [
    "hit_rate_search = pd.Series(hit_rate_search)"
   ]
  },
  {
   "cell_type": "code",
   "execution_count": 161,
   "metadata": {},
   "outputs": [
    {
     "data": {
      "image/png": "[encoded data removed]",
      "text/plain": [
       "<Figure size 432x288 with 1 Axes>"
      ]
     },
     "metadata": {
      "needs_background": "light"
     },
     "output_type": "display_data"
    }
   ],
   "source": [
    "plt.xlabel(\"Number of latent factors\")\n",
    "plt.ylabel(\"Average hit rate on validation set\")\n",
    "hit_rate_search.plot()\n",
    "plt.show()"
   ]
  },
  {
   "cell_type": "markdown",
   "metadata": {},
   "source": [
    "From the above, it seems that 300 latent factors is approx. the optimal number of latent factors to compute.\n",
    "\n",
    "The highest hit rate which can be achieved is approx. 0.73. This is not as high as we would like, especially given that we are making 20,000 recommendations per playlist.\n",
    "\n",
    "The goal now is to retain as much of this hit rate as possible while reducing the number of recommendations to a more reasonable number, e.g. 20."
   ]
  },
  {
   "cell_type": "markdown",
   "metadata": {},
   "source": [
    "## TODO\n",
    "1. Create an LSTM model/conv. net"
   ]
  },
  {
   "cell_type": "code",
   "execution_count": null,
   "metadata": {},
   "outputs": [],
   "source": []
  }
 ],
 "metadata": {
  "kernelspec": {
   "display_name": "Python 3",
   "language": "python",
   "name": "python3"
  },
  "language_info": {
   "codemirror_mode": {
    "name": "ipython",
    "version": 3
   },
   "file_extension": ".py",
   "mimetype": "text/x-python",
   "name": "python",
   "nbconvert_exporter": "python",
   "pygments_lexer": "ipython3",
   "version": "3.7.4"
  }
 },
 "nbformat": 4,
 "nbformat_minor": 2
}
