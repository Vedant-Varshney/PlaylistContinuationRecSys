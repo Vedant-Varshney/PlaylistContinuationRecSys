{
 "cells": [
  {
   "cell_type": "markdown",
   "metadata": {},
   "source": [
    "# WRMF Search Space Reduction"
   ]
  },
  {
   "cell_type": "markdown",
   "metadata": {},
   "source": [
    "**Objectives:**\n",
    "1. Split the dataframe into a train and test set *on playlists* before the implicit ratings matrix is calculated\n",
    "2. Leave $k$ songs out of $m$ playlists in the training set. Calculate how many songs have to be recommended before the above model achieves a high enough recall/hit rate for the left out songs for these incomplete playlists.\n",
    "3. Perform a grid search to optimise all hyperparameters.\n",
    "4. Recalculate model's ability to reduce down the song search space using the optimised hyperparameters."
   ]
  },
  {
   "cell_type": "code",
   "execution_count": 1,
   "metadata": {},
   "outputs": [],
   "source": [
    "import pandas as pd\n",
    "import matplotlib.pyplot as plt\n",
    "import numpy as np\n",
    "import scipy as sp\n",
    "\n",
    "import implicit\n",
    "from tqdm.notebook import tqdm, trange\n",
    "\n",
    "from sklearn.model_selection import train_test_split\n",
    "\n",
    "import sys\n",
    "sys.path.append(\"..\")\n",
    "\n",
    "from collections import defaultdict\n",
    "from importlib import reload\n",
    "\n",
    "import pickle\n",
    "\n",
    "from joblib import delayed, Parallel\n",
    "\n",
    "import seaborn as sns\n",
    "sns.set()"
   ]
  },
  {
   "cell_type": "code",
   "execution_count": 2,
   "metadata": {},
   "outputs": [],
   "source": [
    "import df_utils\n",
    "import mf_utils"
   ]
  },
  {
   "cell_type": "code",
   "execution_count": 3,
   "metadata": {},
   "outputs": [
    {
     "name": "stderr",
     "output_type": "stream",
     "text": [
      "/Users/vedantvarshney/opt/anaconda3/lib/python3.7/site-packages/IPython/core/interactiveshell.py:3058: DtypeWarning: Columns (2) have mixed types. Specify dtype option on import or set low_memory=False.\n",
      "  interactivity=interactivity, compiler=compiler, result=result)\n"
     ]
    }
   ],
   "source": [
    "df = pd.read_csv(\"cleaned_data_0.2.csv\", index_col=[0])\n",
    "songs_df = pd.read_csv(\"songs_DF.csv\", index_col=[0])"
   ]
  },
  {
   "cell_type": "markdown",
   "metadata": {},
   "source": [
    "## Train-test split"
   ]
  },
  {
   "cell_type": "code",
   "execution_count": 203,
   "metadata": {},
   "outputs": [],
   "source": [
    "train_df, test_df = train_test_split(df, test_size=0.1)"
   ]
  },
  {
   "cell_type": "code",
   "execution_count": 204,
   "metadata": {},
   "outputs": [
    {
     "data": {
      "text/html": [
       "<div>\n",
       "<style scoped>\n",
       "    .dataframe tbody tr th:only-of-type {\n",
       "        vertical-align: middle;\n",
       "    }\n",
       "\n",
       "    .dataframe tbody tr th {\n",
       "        vertical-align: top;\n",
       "    }\n",
       "\n",
       "    .dataframe thead th {\n",
       "        text-align: right;\n",
       "    }\n",
       "</style>\n",
       "<table border=\"1\" class=\"dataframe\">\n",
       "  <thead>\n",
       "    <tr style=\"text-align: right;\">\n",
       "      <th></th>\n",
       "      <th>source</th>\n",
       "      <th>user_id</th>\n",
       "      <th>track_name</th>\n",
       "      <th>artist_name</th>\n",
       "      <th>playlist_id</th>\n",
       "      <th>tags</th>\n",
       "      <th>playlist_name</th>\n",
       "      <th>spotify_id</th>\n",
       "      <th>album</th>\n",
       "      <th>popularity</th>\n",
       "      <th>danceability</th>\n",
       "      <th>energy</th>\n",
       "      <th>loudness</th>\n",
       "      <th>speechiness</th>\n",
       "      <th>acousticness</th>\n",
       "      <th>instrumentalness</th>\n",
       "      <th>liveness</th>\n",
       "      <th>valence</th>\n",
       "      <th>tempo</th>\n",
       "    </tr>\n",
       "  </thead>\n",
       "  <tbody>\n",
       "    <tr>\n",
       "      <td>42560</td>\n",
       "      <td>vagalume</td>\n",
       "      <td>luanabatalha%0A</td>\n",
       "      <td>Breakaway</td>\n",
       "      <td>Avril Lavigne</td>\n",
       "      <td>5286837</td>\n",
       "      <td>pop,rock,rock alternativo</td>\n",
       "      <td>Românticas</td>\n",
       "      <td>4PFAm88FBkY7IFtvCaGctZ</td>\n",
       "      <td>Breakaway</td>\n",
       "      <td>62.0</td>\n",
       "      <td>0.268</td>\n",
       "      <td>0.716</td>\n",
       "      <td>-4.151</td>\n",
       "      <td>0.0337</td>\n",
       "      <td>0.0421</td>\n",
       "      <td>0.000010</td>\n",
       "      <td>0.1080</td>\n",
       "      <td>0.393</td>\n",
       "      <td>160.008</td>\n",
       "    </tr>\n",
       "    <tr>\n",
       "      <td>322468</td>\n",
       "      <td>vagalume</td>\n",
       "      <td>helotwardowski%0A</td>\n",
       "      <td>11 Vidas</td>\n",
       "      <td>Lucas Lucco</td>\n",
       "      <td>5332827</td>\n",
       "      <td>pop,pop/rock,dance</td>\n",
       "      <td>Neverland</td>\n",
       "      <td>57n605a9nDDzchHanKhP0u</td>\n",
       "      <td>O Destino (Bonus Track Version)</td>\n",
       "      <td>43.0</td>\n",
       "      <td>0.624</td>\n",
       "      <td>0.622</td>\n",
       "      <td>-5.780</td>\n",
       "      <td>0.0300</td>\n",
       "      <td>0.8040</td>\n",
       "      <td>0.000000</td>\n",
       "      <td>0.1550</td>\n",
       "      <td>0.457</td>\n",
       "      <td>140.021</td>\n",
       "    </tr>\n",
       "    <tr>\n",
       "      <td>209536</td>\n",
       "      <td>vagalume</td>\n",
       "      <td>rafael262%0A</td>\n",
       "      <td>Chora Viola / Caminheiro / Ladrão de Mulher / ...</td>\n",
       "      <td>Jorge e Mateus</td>\n",
       "      <td>5157622</td>\n",
       "      <td>rock,hard rock,sertanejo</td>\n",
       "      <td>Moda de viola</td>\n",
       "      <td>5HeKtNkRSyNPR4HO1N4a0E</td>\n",
       "      <td>Jorge &amp; Mateus Ao Vivo Em Goiânia (Ao Vivo Em ...</td>\n",
       "      <td>51.0</td>\n",
       "      <td>0.512</td>\n",
       "      <td>0.879</td>\n",
       "      <td>-4.636</td>\n",
       "      <td>0.0639</td>\n",
       "      <td>0.2210</td>\n",
       "      <td>0.000000</td>\n",
       "      <td>0.3280</td>\n",
       "      <td>0.777</td>\n",
       "      <td>118.866</td>\n",
       "    </tr>\n",
       "    <tr>\n",
       "      <td>233555</td>\n",
       "      <td>vagalume</td>\n",
       "      <td>fabricio_alex_%0A</td>\n",
       "      <td>Pergunte Pro Seu Coração</td>\n",
       "      <td>Roberto Carlos</td>\n",
       "      <td>5474873</td>\n",
       "      <td>mpb,romântico,sertanejo</td>\n",
       "      <td>roberto carlos</td>\n",
       "      <td>5bQklaqByFBadQbc3whCsj</td>\n",
       "      <td>Box Roberto Carlos Anos 90</td>\n",
       "      <td>18.0</td>\n",
       "      <td>0.659</td>\n",
       "      <td>0.620</td>\n",
       "      <td>-8.156</td>\n",
       "      <td>0.0269</td>\n",
       "      <td>0.2170</td>\n",
       "      <td>0.000014</td>\n",
       "      <td>0.0763</td>\n",
       "      <td>0.536</td>\n",
       "      <td>88.246</td>\n",
       "    </tr>\n",
       "    <tr>\n",
       "      <td>184704</td>\n",
       "      <td>vagalume</td>\n",
       "      <td>levisoares%0A</td>\n",
       "      <td>I Won't Apologize</td>\n",
       "      <td>Selena Gomez</td>\n",
       "      <td>5554902</td>\n",
       "      <td>pop,dance,sertanejo</td>\n",
       "      <td>SELENA GOMES</td>\n",
       "      <td>2Cmjtu8ZXmHq2EsehUeCx3</td>\n",
       "      <td>Kiss &amp; Tell</td>\n",
       "      <td>40.0</td>\n",
       "      <td>0.558</td>\n",
       "      <td>0.853</td>\n",
       "      <td>-3.827</td>\n",
       "      <td>0.0370</td>\n",
       "      <td>0.0240</td>\n",
       "      <td>0.000000</td>\n",
       "      <td>0.1050</td>\n",
       "      <td>0.795</td>\n",
       "      <td>145.897</td>\n",
       "    </tr>\n",
       "  </tbody>\n",
       "</table>\n",
       "</div>"
      ],
      "text/plain": [
       "          source            user_id  \\\n",
       "42560   vagalume    luanabatalha%0A   \n",
       "322468  vagalume  helotwardowski%0A   \n",
       "209536  vagalume       rafael262%0A   \n",
       "233555  vagalume  fabricio_alex_%0A   \n",
       "184704  vagalume      levisoares%0A   \n",
       "\n",
       "                                               track_name     artist_name  \\\n",
       "42560                                           Breakaway   Avril Lavigne   \n",
       "322468                                           11 Vidas     Lucas Lucco   \n",
       "209536  Chora Viola / Caminheiro / Ladrão de Mulher / ...  Jorge e Mateus   \n",
       "233555                           Pergunte Pro Seu Coração  Roberto Carlos   \n",
       "184704                                  I Won't Apologize    Selena Gomez   \n",
       "\n",
       "        playlist_id                       tags   playlist_name  \\\n",
       "42560       5286837  pop,rock,rock alternativo      Românticas   \n",
       "322468      5332827         pop,pop/rock,dance       Neverland   \n",
       "209536      5157622   rock,hard rock,sertanejo   Moda de viola   \n",
       "233555      5474873    mpb,romântico,sertanejo  roberto carlos   \n",
       "184704      5554902        pop,dance,sertanejo    SELENA GOMES   \n",
       "\n",
       "                    spotify_id  \\\n",
       "42560   4PFAm88FBkY7IFtvCaGctZ   \n",
       "322468  57n605a9nDDzchHanKhP0u   \n",
       "209536  5HeKtNkRSyNPR4HO1N4a0E   \n",
       "233555  5bQklaqByFBadQbc3whCsj   \n",
       "184704  2Cmjtu8ZXmHq2EsehUeCx3   \n",
       "\n",
       "                                                    album  popularity  \\\n",
       "42560                                           Breakaway        62.0   \n",
       "322468                    O Destino (Bonus Track Version)        43.0   \n",
       "209536  Jorge & Mateus Ao Vivo Em Goiânia (Ao Vivo Em ...        51.0   \n",
       "233555                         Box Roberto Carlos Anos 90        18.0   \n",
       "184704                                        Kiss & Tell        40.0   \n",
       "\n",
       "        danceability  energy  loudness  speechiness  acousticness  \\\n",
       "42560          0.268   0.716    -4.151       0.0337        0.0421   \n",
       "322468         0.624   0.622    -5.780       0.0300        0.8040   \n",
       "209536         0.512   0.879    -4.636       0.0639        0.2210   \n",
       "233555         0.659   0.620    -8.156       0.0269        0.2170   \n",
       "184704         0.558   0.853    -3.827       0.0370        0.0240   \n",
       "\n",
       "        instrumentalness  liveness  valence    tempo  \n",
       "42560           0.000010    0.1080    0.393  160.008  \n",
       "322468          0.000000    0.1550    0.457  140.021  \n",
       "209536          0.000000    0.3280    0.777  118.866  \n",
       "233555          0.000014    0.0763    0.536   88.246  \n",
       "184704          0.000000    0.1050    0.795  145.897  "
      ]
     },
     "execution_count": 204,
     "metadata": {},
     "output_type": "execute_result"
    }
   ],
   "source": [
    "train_df.head()"
   ]
  },
  {
   "cell_type": "markdown",
   "metadata": {},
   "source": [
    "Although WRMF will not use the order of the songs in a playlist, it would be good practice to resort the order now for use later."
   ]
  },
  {
   "cell_type": "code",
   "execution_count": 205,
   "metadata": {},
   "outputs": [
    {
     "name": "stderr",
     "output_type": "stream",
     "text": [
      "/Users/vedantvarshney/opt/anaconda3/lib/python3.7/site-packages/ipykernel_launcher.py:1: SettingWithCopyWarning: \n",
      "A value is trying to be set on a copy of a slice from a DataFrame\n",
      "\n",
      "See the caveats in the documentation: http://pandas.pydata.org/pandas-docs/stable/user_guide/indexing.html#returning-a-view-versus-a-copy\n",
      "  \"\"\"Entry point for launching an IPython kernel.\n"
     ]
    },
    {
     "data": {
      "text/html": [
       "<div>\n",
       "<style scoped>\n",
       "    .dataframe tbody tr th:only-of-type {\n",
       "        vertical-align: middle;\n",
       "    }\n",
       "\n",
       "    .dataframe tbody tr th {\n",
       "        vertical-align: top;\n",
       "    }\n",
       "\n",
       "    .dataframe thead th {\n",
       "        text-align: right;\n",
       "    }\n",
       "</style>\n",
       "<table border=\"1\" class=\"dataframe\">\n",
       "  <thead>\n",
       "    <tr style=\"text-align: right;\">\n",
       "      <th></th>\n",
       "      <th>source</th>\n",
       "      <th>user_id</th>\n",
       "      <th>track_name</th>\n",
       "      <th>artist_name</th>\n",
       "      <th>playlist_id</th>\n",
       "      <th>tags</th>\n",
       "      <th>playlist_name</th>\n",
       "      <th>spotify_id</th>\n",
       "      <th>album</th>\n",
       "      <th>popularity</th>\n",
       "      <th>danceability</th>\n",
       "      <th>energy</th>\n",
       "      <th>loudness</th>\n",
       "      <th>speechiness</th>\n",
       "      <th>acousticness</th>\n",
       "      <th>instrumentalness</th>\n",
       "      <th>liveness</th>\n",
       "      <th>valence</th>\n",
       "      <th>tempo</th>\n",
       "    </tr>\n",
       "  </thead>\n",
       "  <tbody>\n",
       "    <tr>\n",
       "      <td>0</td>\n",
       "      <td>vagalume</td>\n",
       "      <td>sitevagalume</td>\n",
       "      <td>Eraser</td>\n",
       "      <td>Ed Sheeran</td>\n",
       "      <td>6736120</td>\n",
       "      <td>pop,pop/rock,rock</td>\n",
       "      <td>Ed Sheeran - Divide</td>\n",
       "      <td>7oolFzHipTMg2nL7shhdz2</td>\n",
       "      <td>÷ (Deluxe)</td>\n",
       "      <td>64.0</td>\n",
       "      <td>0.640</td>\n",
       "      <td>0.812</td>\n",
       "      <td>-5.647</td>\n",
       "      <td>0.0834</td>\n",
       "      <td>0.0860</td>\n",
       "      <td>0.000000</td>\n",
       "      <td>0.0509</td>\n",
       "      <td>0.914</td>\n",
       "      <td>86.013</td>\n",
       "    </tr>\n",
       "    <tr>\n",
       "      <td>1</td>\n",
       "      <td>vagalume</td>\n",
       "      <td>sitevagalume</td>\n",
       "      <td>Castle On The Hill</td>\n",
       "      <td>Ed Sheeran</td>\n",
       "      <td>6736120</td>\n",
       "      <td>pop,pop/rock,rock</td>\n",
       "      <td>Ed Sheeran - Divide</td>\n",
       "      <td>6PCUP3dWmTjcTtXY02oFdT</td>\n",
       "      <td>÷ (Deluxe)</td>\n",
       "      <td>78.0</td>\n",
       "      <td>0.461</td>\n",
       "      <td>0.834</td>\n",
       "      <td>-4.868</td>\n",
       "      <td>0.0989</td>\n",
       "      <td>0.0232</td>\n",
       "      <td>0.000011</td>\n",
       "      <td>0.1400</td>\n",
       "      <td>0.471</td>\n",
       "      <td>135.007</td>\n",
       "    </tr>\n",
       "    <tr>\n",
       "      <td>2</td>\n",
       "      <td>vagalume</td>\n",
       "      <td>sitevagalume</td>\n",
       "      <td>Dive</td>\n",
       "      <td>Ed Sheeran</td>\n",
       "      <td>6736120</td>\n",
       "      <td>pop,pop/rock,rock</td>\n",
       "      <td>Ed Sheeran - Divide</td>\n",
       "      <td>51ChrwmUPDJvedPQnIU8Ls</td>\n",
       "      <td>÷ (Deluxe)</td>\n",
       "      <td>75.0</td>\n",
       "      <td>0.761</td>\n",
       "      <td>0.386</td>\n",
       "      <td>-6.158</td>\n",
       "      <td>0.0399</td>\n",
       "      <td>0.3550</td>\n",
       "      <td>0.000000</td>\n",
       "      <td>0.0953</td>\n",
       "      <td>0.526</td>\n",
       "      <td>134.943</td>\n",
       "    </tr>\n",
       "    <tr>\n",
       "      <td>3</td>\n",
       "      <td>vagalume</td>\n",
       "      <td>sitevagalume</td>\n",
       "      <td>Shape Of You</td>\n",
       "      <td>Ed Sheeran</td>\n",
       "      <td>6736120</td>\n",
       "      <td>pop,pop/rock,rock</td>\n",
       "      <td>Ed Sheeran - Divide</td>\n",
       "      <td>7qiZfU4dY1lWllzX7mPBI3</td>\n",
       "      <td>÷ (Deluxe)</td>\n",
       "      <td>85.0</td>\n",
       "      <td>0.825</td>\n",
       "      <td>0.652</td>\n",
       "      <td>-3.183</td>\n",
       "      <td>0.0802</td>\n",
       "      <td>0.5810</td>\n",
       "      <td>0.000000</td>\n",
       "      <td>0.0931</td>\n",
       "      <td>0.931</td>\n",
       "      <td>95.977</td>\n",
       "    </tr>\n",
       "    <tr>\n",
       "      <td>4</td>\n",
       "      <td>vagalume</td>\n",
       "      <td>sitevagalume</td>\n",
       "      <td>Perfect</td>\n",
       "      <td>Ed Sheeran</td>\n",
       "      <td>6736120</td>\n",
       "      <td>pop,pop/rock,rock</td>\n",
       "      <td>Ed Sheeran - Divide</td>\n",
       "      <td>0tgVpDi06FyKpA1z0VMD4v</td>\n",
       "      <td>÷ (Deluxe)</td>\n",
       "      <td>86.0</td>\n",
       "      <td>0.599</td>\n",
       "      <td>0.448</td>\n",
       "      <td>-6.312</td>\n",
       "      <td>0.0232</td>\n",
       "      <td>0.1630</td>\n",
       "      <td>0.000000</td>\n",
       "      <td>0.1060</td>\n",
       "      <td>0.168</td>\n",
       "      <td>95.050</td>\n",
       "    </tr>\n",
       "  </tbody>\n",
       "</table>\n",
       "</div>"
      ],
      "text/plain": [
       "     source       user_id          track_name artist_name  playlist_id  \\\n",
       "0  vagalume  sitevagalume              Eraser  Ed Sheeran      6736120   \n",
       "1  vagalume  sitevagalume  Castle On The Hill  Ed Sheeran      6736120   \n",
       "2  vagalume  sitevagalume                Dive  Ed Sheeran      6736120   \n",
       "3  vagalume  sitevagalume        Shape Of You  Ed Sheeran      6736120   \n",
       "4  vagalume  sitevagalume             Perfect  Ed Sheeran      6736120   \n",
       "\n",
       "                tags        playlist_name              spotify_id       album  \\\n",
       "0  pop,pop/rock,rock  Ed Sheeran - Divide  7oolFzHipTMg2nL7shhdz2  ÷ (Deluxe)   \n",
       "1  pop,pop/rock,rock  Ed Sheeran - Divide  6PCUP3dWmTjcTtXY02oFdT  ÷ (Deluxe)   \n",
       "2  pop,pop/rock,rock  Ed Sheeran - Divide  51ChrwmUPDJvedPQnIU8Ls  ÷ (Deluxe)   \n",
       "3  pop,pop/rock,rock  Ed Sheeran - Divide  7qiZfU4dY1lWllzX7mPBI3  ÷ (Deluxe)   \n",
       "4  pop,pop/rock,rock  Ed Sheeran - Divide  0tgVpDi06FyKpA1z0VMD4v  ÷ (Deluxe)   \n",
       "\n",
       "   popularity  danceability  energy  loudness  speechiness  acousticness  \\\n",
       "0        64.0         0.640   0.812    -5.647       0.0834        0.0860   \n",
       "1        78.0         0.461   0.834    -4.868       0.0989        0.0232   \n",
       "2        75.0         0.761   0.386    -6.158       0.0399        0.3550   \n",
       "3        85.0         0.825   0.652    -3.183       0.0802        0.5810   \n",
       "4        86.0         0.599   0.448    -6.312       0.0232        0.1630   \n",
       "\n",
       "   instrumentalness  liveness  valence    tempo  \n",
       "0          0.000000    0.0509    0.914   86.013  \n",
       "1          0.000011    0.1400    0.471  135.007  \n",
       "2          0.000000    0.0953    0.526  134.943  \n",
       "3          0.000000    0.0931    0.931   95.977  \n",
       "4          0.000000    0.1060    0.168   95.050  "
      ]
     },
     "execution_count": 205,
     "metadata": {},
     "output_type": "execute_result"
    }
   ],
   "source": [
    "train_df.sort_index(inplace=True)\n",
    "train_df.head()"
   ]
  },
  {
   "cell_type": "code",
   "execution_count": 206,
   "metadata": {},
   "outputs": [
    {
     "name": "stderr",
     "output_type": "stream",
     "text": [
      "/Users/vedantvarshney/opt/anaconda3/lib/python3.7/site-packages/ipykernel_launcher.py:1: SettingWithCopyWarning: \n",
      "A value is trying to be set on a copy of a slice from a DataFrame\n",
      "\n",
      "See the caveats in the documentation: http://pandas.pydata.org/pandas-docs/stable/user_guide/indexing.html#returning-a-view-versus-a-copy\n",
      "  \"\"\"Entry point for launching an IPython kernel.\n"
     ]
    },
    {
     "data": {
      "text/html": [
       "<div>\n",
       "<style scoped>\n",
       "    .dataframe tbody tr th:only-of-type {\n",
       "        vertical-align: middle;\n",
       "    }\n",
       "\n",
       "    .dataframe tbody tr th {\n",
       "        vertical-align: top;\n",
       "    }\n",
       "\n",
       "    .dataframe thead th {\n",
       "        text-align: right;\n",
       "    }\n",
       "</style>\n",
       "<table border=\"1\" class=\"dataframe\">\n",
       "  <thead>\n",
       "    <tr style=\"text-align: right;\">\n",
       "      <th></th>\n",
       "      <th>source</th>\n",
       "      <th>user_id</th>\n",
       "      <th>track_name</th>\n",
       "      <th>artist_name</th>\n",
       "      <th>playlist_id</th>\n",
       "      <th>tags</th>\n",
       "      <th>playlist_name</th>\n",
       "      <th>spotify_id</th>\n",
       "      <th>album</th>\n",
       "      <th>popularity</th>\n",
       "      <th>danceability</th>\n",
       "      <th>energy</th>\n",
       "      <th>loudness</th>\n",
       "      <th>speechiness</th>\n",
       "      <th>acousticness</th>\n",
       "      <th>instrumentalness</th>\n",
       "      <th>liveness</th>\n",
       "      <th>valence</th>\n",
       "      <th>tempo</th>\n",
       "    </tr>\n",
       "  </thead>\n",
       "  <tbody>\n",
       "    <tr>\n",
       "      <td>6</td>\n",
       "      <td>vagalume</td>\n",
       "      <td>sitevagalume</td>\n",
       "      <td>Happier</td>\n",
       "      <td>Ed Sheeran</td>\n",
       "      <td>6736120</td>\n",
       "      <td>pop,pop/rock,rock</td>\n",
       "      <td>Ed Sheeran - Divide</td>\n",
       "      <td>2RttW7RAu5nOAfq6YFvApB</td>\n",
       "      <td>÷ (Deluxe)</td>\n",
       "      <td>81.0</td>\n",
       "      <td>0.522</td>\n",
       "      <td>0.385</td>\n",
       "      <td>-7.355</td>\n",
       "      <td>0.0288</td>\n",
       "      <td>0.53600</td>\n",
       "      <td>0.000000</td>\n",
       "      <td>0.1350</td>\n",
       "      <td>0.236</td>\n",
       "      <td>89.792</td>\n",
       "    </tr>\n",
       "    <tr>\n",
       "      <td>9</td>\n",
       "      <td>vagalume</td>\n",
       "      <td>sitevagalume</td>\n",
       "      <td>How Would You Feel (Paean)</td>\n",
       "      <td>Ed Sheeran</td>\n",
       "      <td>6736120</td>\n",
       "      <td>pop,pop/rock,rock</td>\n",
       "      <td>Ed Sheeran - Divide</td>\n",
       "      <td>6PJ8FF6UR8FZXfEvpHkIVN</td>\n",
       "      <td>÷ (Deluxe)</td>\n",
       "      <td>69.0</td>\n",
       "      <td>0.617</td>\n",
       "      <td>0.439</td>\n",
       "      <td>-5.630</td>\n",
       "      <td>0.0269</td>\n",
       "      <td>0.42400</td>\n",
       "      <td>0.000000</td>\n",
       "      <td>0.1270</td>\n",
       "      <td>0.242</td>\n",
       "      <td>139.979</td>\n",
       "    </tr>\n",
       "    <tr>\n",
       "      <td>17</td>\n",
       "      <td>vagalume</td>\n",
       "      <td>sitevagalume</td>\n",
       "      <td>Hotline Bling</td>\n",
       "      <td>Drake</td>\n",
       "      <td>6123235</td>\n",
       "      <td>pop,pop/rock,rock</td>\n",
       "      <td>Fugir do Carnaval Pop 2016</td>\n",
       "      <td>0wwPcA6wtMf6HUMpIRdeP7</td>\n",
       "      <td>Views</td>\n",
       "      <td>77.0</td>\n",
       "      <td>0.891</td>\n",
       "      <td>0.625</td>\n",
       "      <td>-7.861</td>\n",
       "      <td>0.0558</td>\n",
       "      <td>0.00261</td>\n",
       "      <td>0.000176</td>\n",
       "      <td>0.0504</td>\n",
       "      <td>0.548</td>\n",
       "      <td>134.967</td>\n",
       "    </tr>\n",
       "    <tr>\n",
       "      <td>31</td>\n",
       "      <td>vagalume</td>\n",
       "      <td>sitevagalume</td>\n",
       "      <td>Freedom</td>\n",
       "      <td>Pitbull</td>\n",
       "      <td>6123235</td>\n",
       "      <td>pop,pop/rock,rock</td>\n",
       "      <td>Fugir do Carnaval Pop 2016</td>\n",
       "      <td>1StLlgkTm6s0LGRyAap9SP</td>\n",
       "      <td>Climate Change</td>\n",
       "      <td>50.0</td>\n",
       "      <td>0.701</td>\n",
       "      <td>0.931</td>\n",
       "      <td>-4.954</td>\n",
       "      <td>0.1190</td>\n",
       "      <td>0.09490</td>\n",
       "      <td>0.000000</td>\n",
       "      <td>0.1260</td>\n",
       "      <td>0.803</td>\n",
       "      <td>118.034</td>\n",
       "    </tr>\n",
       "    <tr>\n",
       "      <td>44</td>\n",
       "      <td>vagalume</td>\n",
       "      <td>sitevagalume</td>\n",
       "      <td>Bang My Head (Feat. Sia, Fetty Wap (Remix)</td>\n",
       "      <td>David Guetta</td>\n",
       "      <td>6123243</td>\n",
       "      <td>pop,pop/rock,rock</td>\n",
       "      <td>Fugir Carnaval Eletrônico 2016</td>\n",
       "      <td>440LuUlgdK3j9Uj8Q9L3Yj</td>\n",
       "      <td>Bang My Head (feat. Sia &amp; Fetty Wap)</td>\n",
       "      <td>33.0</td>\n",
       "      <td>0.733</td>\n",
       "      <td>0.675</td>\n",
       "      <td>-7.008</td>\n",
       "      <td>0.0647</td>\n",
       "      <td>0.14400</td>\n",
       "      <td>0.186000</td>\n",
       "      <td>0.1000</td>\n",
       "      <td>0.530</td>\n",
       "      <td>122.011</td>\n",
       "    </tr>\n",
       "  </tbody>\n",
       "</table>\n",
       "</div>"
      ],
      "text/plain": [
       "      source       user_id                                  track_name  \\\n",
       "6   vagalume  sitevagalume                                     Happier   \n",
       "9   vagalume  sitevagalume                  How Would You Feel (Paean)   \n",
       "17  vagalume  sitevagalume                               Hotline Bling   \n",
       "31  vagalume  sitevagalume                                     Freedom   \n",
       "44  vagalume  sitevagalume  Bang My Head (Feat. Sia, Fetty Wap (Remix)   \n",
       "\n",
       "     artist_name  playlist_id               tags  \\\n",
       "6     Ed Sheeran      6736120  pop,pop/rock,rock   \n",
       "9     Ed Sheeran      6736120  pop,pop/rock,rock   \n",
       "17         Drake      6123235  pop,pop/rock,rock   \n",
       "31       Pitbull      6123235  pop,pop/rock,rock   \n",
       "44  David Guetta      6123243  pop,pop/rock,rock   \n",
       "\n",
       "                     playlist_name              spotify_id  \\\n",
       "6              Ed Sheeran - Divide  2RttW7RAu5nOAfq6YFvApB   \n",
       "9              Ed Sheeran - Divide  6PJ8FF6UR8FZXfEvpHkIVN   \n",
       "17      Fugir do Carnaval Pop 2016  0wwPcA6wtMf6HUMpIRdeP7   \n",
       "31      Fugir do Carnaval Pop 2016  1StLlgkTm6s0LGRyAap9SP   \n",
       "44  Fugir Carnaval Eletrônico 2016  440LuUlgdK3j9Uj8Q9L3Yj   \n",
       "\n",
       "                                   album  popularity  danceability  energy  \\\n",
       "6                             ÷ (Deluxe)        81.0         0.522   0.385   \n",
       "9                             ÷ (Deluxe)        69.0         0.617   0.439   \n",
       "17                                 Views        77.0         0.891   0.625   \n",
       "31                        Climate Change        50.0         0.701   0.931   \n",
       "44  Bang My Head (feat. Sia & Fetty Wap)        33.0         0.733   0.675   \n",
       "\n",
       "    loudness  speechiness  acousticness  instrumentalness  liveness  valence  \\\n",
       "6     -7.355       0.0288       0.53600          0.000000    0.1350    0.236   \n",
       "9     -5.630       0.0269       0.42400          0.000000    0.1270    0.242   \n",
       "17    -7.861       0.0558       0.00261          0.000176    0.0504    0.548   \n",
       "31    -4.954       0.1190       0.09490          0.000000    0.1260    0.803   \n",
       "44    -7.008       0.0647       0.14400          0.186000    0.1000    0.530   \n",
       "\n",
       "      tempo  \n",
       "6    89.792  \n",
       "9   139.979  \n",
       "17  134.967  \n",
       "31  118.034  \n",
       "44  122.011  "
      ]
     },
     "execution_count": 206,
     "metadata": {},
     "output_type": "execute_result"
    }
   ],
   "source": [
    "test_df.sort_index(inplace=True)\n",
    "test_df.head()"
   ]
  },
  {
   "cell_type": "code",
   "execution_count": 207,
   "metadata": {},
   "outputs": [
    {
     "data": {
      "text/plain": [
       "(504522, 19)"
      ]
     },
     "execution_count": 207,
     "metadata": {},
     "output_type": "execute_result"
    }
   ],
   "source": [
    "train_df.shape"
   ]
  },
  {
   "cell_type": "code",
   "execution_count": 208,
   "metadata": {},
   "outputs": [
    {
     "data": {
      "text/plain": [
       "(56058, 19)"
      ]
     },
     "execution_count": 208,
     "metadata": {},
     "output_type": "execute_result"
    }
   ],
   "source": [
    "test_df.shape"
   ]
  },
  {
   "cell_type": "markdown",
   "metadata": {},
   "source": [
    "An adaptation of code from 'Exploring WRMF' notebook:"
   ]
  },
  {
   "cell_type": "code",
   "execution_count": 209,
   "metadata": {},
   "outputs": [],
   "source": [
    "def df_to_sparse(df, all_songs):\n",
    "    \"\"\"\n",
    "    Converts a dataframe to a sparse implicit ratings matrix.\n",
    "    \n",
    "    Arguments:\n",
    "        - df - dataframe to convert to a sparse matrix\n",
    "        - all_songs - list of all songs in the search space\n",
    "        - withold_dict - a dictionary whose keys are playlist IDs and whose values are a list of songs which should be\n",
    "        excluded from that playlist when calculating the implicit ratings matrix.\n",
    "        \n",
    "    Returns:\n",
    "        - ratings_matrix - implicit ratings matrix in CSR format\n",
    "    \"\"\"\n",
    "    # Create hashmap of the list of unique songs for fast index lookup\n",
    "    # np.where etc will unnecessarily search the entire array and thus will not scale well.\n",
    "    song_to_indx = {song: i for (i, song) in enumerate(all_songs)}\n",
    "    \n",
    "    # Mapping each song in the original DF to the index in the unique songs list\n",
    "    song_indxs = df.spotify_id.apply(lambda id_: song_to_indx[id_]).values\n",
    "\n",
    "    # Same for list of unique playlists\n",
    "    playlist_to_indx = {playlist: i for (i, playlist) in enumerate(df.playlist_id.unique())}\n",
    "    \n",
    "    # Mapping each playlist in the original DF to the index in the unique playlists list\n",
    "    playlist_indxs = df.playlist_id.apply(lambda id_: playlist_to_indx[id_]).values\n",
    "    \n",
    "    data = np.ones(df.shape[0])\n",
    "    \n",
    "    assert data.shape == song_indxs.shape == playlist_indxs.shape\n",
    "    \n",
    "    # Although matrix only contains int, cast as float for safety in future calculations\n",
    "    # row indx = song indx\n",
    "    # column indx = playlist indx\n",
    "    ratings_matrix = sp.sparse.csr_matrix((data, (song_indxs, playlist_indxs)), dtype=np.float64)\n",
    "    \n",
    "    return ratings_matrix"
   ]
  },
  {
   "cell_type": "code",
   "execution_count": 210,
   "metadata": {},
   "outputs": [],
   "source": [
    "def withold_songs(df, withold_split=(0.2,0.2)):\n",
    "    \"\"\"\n",
    "    Removes a certain proportion of songs from a certain proportion of playlists in DF.\n",
    "    \n",
    "    Arguments:\n",
    "        - df - standard cleaned_data DF\n",
    "        - withold_split - tuple. First value = fraction of playlists to split.\n",
    "        Second value = fraction of songs to remove from said playlists.\n",
    "        \n",
    "    Returns:\n",
    "        - df with songs excluded\n",
    "        - pd Series wrapping a dictionary of playlist and num_songs excluded.\n",
    "        key = playlist; value = list of spotify IDs excluded.\n",
    "        \n",
    "    Note - the withold split is the target split; the exact split will vary slightly.\n",
    "    This is to avoid splits creating empty playlists.\n",
    "    \"\"\"\n",
    "    \n",
    "#     Songs in each playlist\n",
    "    playlist_vc = pd.value_counts(df.playlist_id)\n",
    "\n",
    "#     Number of songs potentially excluded from each playlist\n",
    "    split = playlist_vc.apply(lambda vc: round(vc*withold_split[1]))\n",
    "\n",
    "#     Filter out playlists with a 0 split and which leave no songs in remaining playlist\n",
    "    split = split[(split>0) & (playlist_vc>split)]\n",
    "    \n",
    "#     Sample valid playlists\n",
    "    split = split.sample(frac=withold_split[0])\n",
    "    \n",
    "    indxs_to_drop = []\n",
    "    \n",
    "#     Dictionary for storing spotify IDs of songs excluded from each playlist\n",
    "    excluded = defaultdict(list)\n",
    "    \n",
    "    for playlist_id, num_songs_excl in split.items():\n",
    "        temp_excl_df = df[df.playlist_id==playlist_id].sample(num_songs_excl)\n",
    "        \n",
    "        excluded[playlist_id] += [row.spotify_id for _, row in temp_excl_df.iterrows()]\n",
    "            \n",
    "        indxs_to_drop += list(temp_excl_df.index.values)\n",
    "        \n",
    "    return df.drop(indxs_to_drop, axis=0), pd.Series(excluded)"
   ]
  },
  {
   "cell_type": "code",
   "execution_count": 211,
   "metadata": {},
   "outputs": [],
   "source": [
    "split_train_df, excl = withold_songs(train_df)"
   ]
  },
  {
   "cell_type": "code",
   "execution_count": 212,
   "metadata": {},
   "outputs": [
    {
     "data": {
      "text/plain": [
       "(504522, 19)"
      ]
     },
     "execution_count": 212,
     "metadata": {},
     "output_type": "execute_result"
    }
   ],
   "source": [
    "train_df.shape"
   ]
  },
  {
   "cell_type": "code",
   "execution_count": 213,
   "metadata": {},
   "outputs": [
    {
     "data": {
      "text/plain": [
       "(483197, 19)"
      ]
     },
     "execution_count": 213,
     "metadata": {},
     "output_type": "execute_result"
    }
   ],
   "source": [
    "split_train_df.shape"
   ]
  },
  {
   "cell_type": "code",
   "execution_count": 214,
   "metadata": {},
   "outputs": [
    {
     "data": {
      "text/plain": [
       "6081816    [5uQxF5Bc8ekosDiOu9CENO, 4M3Ehwf8MBJAkxrcrhIE1...\n",
       "5583789    [0u2P5u6lvoDfwTYjAADbn4, 5h8tTI1Z5TrWrrPL2HP0Y...\n",
       "5145621    [213x4gsFDm04hSqIUkg88w, 3ZffCQKLFLUvYM59XKLbV...\n",
       "5135555     [0rImThhPOV8wtgeyltD6no, 1QjC2KRzi0Nm3L4AAREwnY]\n",
       "4906726    [1vkiIBhTNtCZhN4ZEYCgYI, 2bzoC7BAarN1ZmFHs8Dhf...\n",
       "                                 ...                        \n",
       "5374724                             [4TVuirwgzxe9fWRBoWtPpq]\n",
       "5447216    [6abvu3x6fUlOniPRF8WCII, 6ltdafHEeNZ5C5AD4opmc...\n",
       "27004       [3VTNVsTTu05dmTsVFrmGpK, 64MISVB9IIchhOKmWHftoz]\n",
       "5056005    [7MXlTgQeo3IVlMpLnZuhxc, 0xIHLNAb0wPeQBu9C25bk...\n",
       "5111799    [3gVkvfZ4rCmZ7oxjAWk1n9, 3ce7k1L4EkZppZPz1EJWT...\n",
       "Length: 1958, dtype: object"
      ]
     },
     "execution_count": 214,
     "metadata": {},
     "output_type": "execute_result"
    }
   ],
   "source": [
    "pd.Series(excl)"
   ]
  },
  {
   "cell_type": "code",
   "execution_count": 215,
   "metadata": {},
   "outputs": [
    {
     "data": {
      "text/plain": [
       "21325"
      ]
     },
     "execution_count": 215,
     "metadata": {},
     "output_type": "execute_result"
    }
   ],
   "source": [
    "train_df.shape[0] - split_train_df.shape[0]"
   ]
  },
  {
   "cell_type": "code",
   "execution_count": 216,
   "metadata": {},
   "outputs": [
    {
     "name": "stdout",
     "output_type": "stream",
     "text": [
      "ModeResult(mode=array([1]), count=array([383]))\n"
     ]
    },
    {
     "data": {
      "image/png": "[encoded data removed]",
      "text/plain": [
       "<Figure size 432x288 with 1 Axes>"
      ]
     },
     "metadata": {
      "needs_background": "light"
     },
     "output_type": "display_data"
    }
   ],
   "source": [
    "modal_songs_excl = sp.stats.mode(excl.apply(lambda x: len(x)))\n",
    "print(modal_songs_excl)\n",
    "\n",
    "plt.xlabel(\"Number of songs excluded for playlist\")\n",
    "plt.ylabel(\"Count\")\n",
    "excl.apply(lambda x: len(x)).hist()\n",
    "plt.show()"
   ]
  },
  {
   "cell_type": "code",
   "execution_count": 217,
   "metadata": {},
   "outputs": [],
   "source": [
    "split_train_df.to_csv(\"Split_Train_DF.csv\")\n",
    "pickle.dump(excl, open(\"Excluded_Songs_Series\", \"wb\"))"
   ]
  },
  {
   "cell_type": "code",
   "execution_count": 218,
   "metadata": {},
   "outputs": [],
   "source": [
    "train_df.to_csv(\"Train_DF.csv\")\n",
    "test_df.to_csv(\"Test_DF.csv\")"
   ]
  },
  {
   "cell_type": "markdown",
   "metadata": {},
   "source": [
    "## Creating ratings matrix"
   ]
  },
  {
   "cell_type": "code",
   "execution_count": 219,
   "metadata": {},
   "outputs": [],
   "source": [
    "split_train_df = pd.read_csv(\"Split_Train_DF.csv\", index_col=[0])\n",
    "\n",
    "excl = pickle.load(open(\"Excluded_Songs_Series\", \"rb\"))"
   ]
  },
  {
   "cell_type": "code",
   "execution_count": 220,
   "metadata": {},
   "outputs": [
    {
     "data": {
      "text/html": [
       "<div>\n",
       "<style scoped>\n",
       "    .dataframe tbody tr th:only-of-type {\n",
       "        vertical-align: middle;\n",
       "    }\n",
       "\n",
       "    .dataframe tbody tr th {\n",
       "        vertical-align: top;\n",
       "    }\n",
       "\n",
       "    .dataframe thead th {\n",
       "        text-align: right;\n",
       "    }\n",
       "</style>\n",
       "<table border=\"1\" class=\"dataframe\">\n",
       "  <thead>\n",
       "    <tr style=\"text-align: right;\">\n",
       "      <th></th>\n",
       "      <th>source</th>\n",
       "      <th>user_id</th>\n",
       "      <th>track_name</th>\n",
       "      <th>artist_name</th>\n",
       "      <th>playlist_id</th>\n",
       "      <th>tags</th>\n",
       "      <th>playlist_name</th>\n",
       "      <th>spotify_id</th>\n",
       "      <th>album</th>\n",
       "      <th>popularity</th>\n",
       "      <th>danceability</th>\n",
       "      <th>energy</th>\n",
       "      <th>loudness</th>\n",
       "      <th>speechiness</th>\n",
       "      <th>acousticness</th>\n",
       "      <th>instrumentalness</th>\n",
       "      <th>liveness</th>\n",
       "      <th>valence</th>\n",
       "      <th>tempo</th>\n",
       "    </tr>\n",
       "  </thead>\n",
       "  <tbody>\n",
       "    <tr>\n",
       "      <td>0</td>\n",
       "      <td>vagalume</td>\n",
       "      <td>sitevagalume</td>\n",
       "      <td>Eraser</td>\n",
       "      <td>Ed Sheeran</td>\n",
       "      <td>6736120</td>\n",
       "      <td>pop,pop/rock,rock</td>\n",
       "      <td>Ed Sheeran - Divide</td>\n",
       "      <td>7oolFzHipTMg2nL7shhdz2</td>\n",
       "      <td>÷ (Deluxe)</td>\n",
       "      <td>64.0</td>\n",
       "      <td>0.640</td>\n",
       "      <td>0.812</td>\n",
       "      <td>-5.647</td>\n",
       "      <td>0.0834</td>\n",
       "      <td>0.086000</td>\n",
       "      <td>0.000000</td>\n",
       "      <td>0.0509</td>\n",
       "      <td>0.914</td>\n",
       "      <td>86.013</td>\n",
       "    </tr>\n",
       "    <tr>\n",
       "      <td>1</td>\n",
       "      <td>vagalume</td>\n",
       "      <td>sitevagalume</td>\n",
       "      <td>Castle On The Hill</td>\n",
       "      <td>Ed Sheeran</td>\n",
       "      <td>6736120</td>\n",
       "      <td>pop,pop/rock,rock</td>\n",
       "      <td>Ed Sheeran - Divide</td>\n",
       "      <td>6PCUP3dWmTjcTtXY02oFdT</td>\n",
       "      <td>÷ (Deluxe)</td>\n",
       "      <td>78.0</td>\n",
       "      <td>0.461</td>\n",
       "      <td>0.834</td>\n",
       "      <td>-4.868</td>\n",
       "      <td>0.0989</td>\n",
       "      <td>0.023200</td>\n",
       "      <td>0.000011</td>\n",
       "      <td>0.1400</td>\n",
       "      <td>0.471</td>\n",
       "      <td>135.007</td>\n",
       "    </tr>\n",
       "    <tr>\n",
       "      <td>2</td>\n",
       "      <td>vagalume</td>\n",
       "      <td>sitevagalume</td>\n",
       "      <td>Dive</td>\n",
       "      <td>Ed Sheeran</td>\n",
       "      <td>6736120</td>\n",
       "      <td>pop,pop/rock,rock</td>\n",
       "      <td>Ed Sheeran - Divide</td>\n",
       "      <td>51ChrwmUPDJvedPQnIU8Ls</td>\n",
       "      <td>÷ (Deluxe)</td>\n",
       "      <td>75.0</td>\n",
       "      <td>0.761</td>\n",
       "      <td>0.386</td>\n",
       "      <td>-6.158</td>\n",
       "      <td>0.0399</td>\n",
       "      <td>0.355000</td>\n",
       "      <td>0.000000</td>\n",
       "      <td>0.0953</td>\n",
       "      <td>0.526</td>\n",
       "      <td>134.943</td>\n",
       "    </tr>\n",
       "    <tr>\n",
       "      <td>3</td>\n",
       "      <td>vagalume</td>\n",
       "      <td>sitevagalume</td>\n",
       "      <td>Shape Of You</td>\n",
       "      <td>Ed Sheeran</td>\n",
       "      <td>6736120</td>\n",
       "      <td>pop,pop/rock,rock</td>\n",
       "      <td>Ed Sheeran - Divide</td>\n",
       "      <td>7qiZfU4dY1lWllzX7mPBI3</td>\n",
       "      <td>÷ (Deluxe)</td>\n",
       "      <td>85.0</td>\n",
       "      <td>0.825</td>\n",
       "      <td>0.652</td>\n",
       "      <td>-3.183</td>\n",
       "      <td>0.0802</td>\n",
       "      <td>0.581000</td>\n",
       "      <td>0.000000</td>\n",
       "      <td>0.0931</td>\n",
       "      <td>0.931</td>\n",
       "      <td>95.977</td>\n",
       "    </tr>\n",
       "    <tr>\n",
       "      <td>4</td>\n",
       "      <td>vagalume</td>\n",
       "      <td>sitevagalume</td>\n",
       "      <td>Perfect</td>\n",
       "      <td>Ed Sheeran</td>\n",
       "      <td>6736120</td>\n",
       "      <td>pop,pop/rock,rock</td>\n",
       "      <td>Ed Sheeran - Divide</td>\n",
       "      <td>0tgVpDi06FyKpA1z0VMD4v</td>\n",
       "      <td>÷ (Deluxe)</td>\n",
       "      <td>86.0</td>\n",
       "      <td>0.599</td>\n",
       "      <td>0.448</td>\n",
       "      <td>-6.312</td>\n",
       "      <td>0.0232</td>\n",
       "      <td>0.163000</td>\n",
       "      <td>0.000000</td>\n",
       "      <td>0.1060</td>\n",
       "      <td>0.168</td>\n",
       "      <td>95.050</td>\n",
       "    </tr>\n",
       "    <tr>\n",
       "      <td>...</td>\n",
       "      <td>...</td>\n",
       "      <td>...</td>\n",
       "      <td>...</td>\n",
       "      <td>...</td>\n",
       "      <td>...</td>\n",
       "      <td>...</td>\n",
       "      <td>...</td>\n",
       "      <td>...</td>\n",
       "      <td>...</td>\n",
       "      <td>...</td>\n",
       "      <td>...</td>\n",
       "      <td>...</td>\n",
       "      <td>...</td>\n",
       "      <td>...</td>\n",
       "      <td>...</td>\n",
       "      <td>...</td>\n",
       "      <td>...</td>\n",
       "      <td>...</td>\n",
       "      <td>...</td>\n",
       "    </tr>\n",
       "    <tr>\n",
       "      <td>560575</td>\n",
       "      <td>8tracks</td>\n",
       "      <td>11027.0</td>\n",
       "      <td>Instant Karma</td>\n",
       "      <td>John Lennon</td>\n",
       "      <td>10532</td>\n",
       "      <td>indie rock,unknown, alternative &amp; punk</td>\n",
       "      <td>scascio</td>\n",
       "      <td>2E9wKgL8NN7Tvydqcjoh7v</td>\n",
       "      <td>Gimme Some Truth</td>\n",
       "      <td>53.0</td>\n",
       "      <td>0.624</td>\n",
       "      <td>0.931</td>\n",
       "      <td>-9.988</td>\n",
       "      <td>0.1160</td>\n",
       "      <td>0.000899</td>\n",
       "      <td>0.001490</td>\n",
       "      <td>0.0631</td>\n",
       "      <td>0.140</td>\n",
       "      <td>119.887</td>\n",
       "    </tr>\n",
       "    <tr>\n",
       "      <td>560576</td>\n",
       "      <td>8tracks</td>\n",
       "      <td>11027.0</td>\n",
       "      <td>This Must Be the Place (Naive Melody)</td>\n",
       "      <td>Talking Heads</td>\n",
       "      <td>10532</td>\n",
       "      <td>indie rock,unknown, alternative &amp; punk</td>\n",
       "      <td>scascio</td>\n",
       "      <td>6aBUnkXuCEQQHAlTokv9or</td>\n",
       "      <td>Speaking in Tongues (Deluxe Version)</td>\n",
       "      <td>71.0</td>\n",
       "      <td>0.942</td>\n",
       "      <td>0.641</td>\n",
       "      <td>-10.150</td>\n",
       "      <td>0.0333</td>\n",
       "      <td>0.331000</td>\n",
       "      <td>0.179000</td>\n",
       "      <td>0.0280</td>\n",
       "      <td>0.966</td>\n",
       "      <td>114.443</td>\n",
       "    </tr>\n",
       "    <tr>\n",
       "      <td>560577</td>\n",
       "      <td>8tracks</td>\n",
       "      <td>11027.0</td>\n",
       "      <td>Rock &amp; Roll (Full-Length Version)</td>\n",
       "      <td>The Velvet Underground</td>\n",
       "      <td>10532</td>\n",
       "      <td>indie rock,unknown, alternative &amp; punk</td>\n",
       "      <td>scascio</td>\n",
       "      <td>1o6DclZHw0HomxXEQR1ijX</td>\n",
       "      <td>Loaded: Re-Loaded 45th Anniversary Edition</td>\n",
       "      <td>62.0</td>\n",
       "      <td>0.494</td>\n",
       "      <td>0.735</td>\n",
       "      <td>-8.347</td>\n",
       "      <td>0.0345</td>\n",
       "      <td>0.004010</td>\n",
       "      <td>0.000003</td>\n",
       "      <td>0.5440</td>\n",
       "      <td>0.742</td>\n",
       "      <td>132.526</td>\n",
       "    </tr>\n",
       "    <tr>\n",
       "      <td>560578</td>\n",
       "      <td>8tracks</td>\n",
       "      <td>11027.0</td>\n",
       "      <td>So. Central Rain (I'm Sorry)</td>\n",
       "      <td>R.E.M.</td>\n",
       "      <td>10532</td>\n",
       "      <td>indie rock,unknown, alternative &amp; punk</td>\n",
       "      <td>scascio</td>\n",
       "      <td>3AdyPM9rfgfPxoWS4tKh2O</td>\n",
       "      <td>Live At The Olympia</td>\n",
       "      <td>38.0</td>\n",
       "      <td>0.339</td>\n",
       "      <td>0.950</td>\n",
       "      <td>-4.797</td>\n",
       "      <td>0.0556</td>\n",
       "      <td>0.000804</td>\n",
       "      <td>0.000034</td>\n",
       "      <td>0.9700</td>\n",
       "      <td>0.460</td>\n",
       "      <td>142.148</td>\n",
       "    </tr>\n",
       "    <tr>\n",
       "      <td>560579</td>\n",
       "      <td>8tracks</td>\n",
       "      <td>24524.0</td>\n",
       "      <td>Phantom Punch</td>\n",
       "      <td>Sondre Lerche</td>\n",
       "      <td>27073</td>\n",
       "      <td>pop,rock, alternative rock</td>\n",
       "      <td>Wake up!</td>\n",
       "      <td>337mW8qSIO7fXdA2UaDxE2</td>\n",
       "      <td>Phantom Punch</td>\n",
       "      <td>19.0</td>\n",
       "      <td>0.511</td>\n",
       "      <td>0.888</td>\n",
       "      <td>-3.125</td>\n",
       "      <td>0.1120</td>\n",
       "      <td>0.008520</td>\n",
       "      <td>0.000000</td>\n",
       "      <td>0.1900</td>\n",
       "      <td>0.828</td>\n",
       "      <td>146.441</td>\n",
       "    </tr>\n",
       "  </tbody>\n",
       "</table>\n",
       "<p>483197 rows × 19 columns</p>\n",
       "</div>"
      ],
      "text/plain": [
       "          source       user_id                             track_name  \\\n",
       "0       vagalume  sitevagalume                                 Eraser   \n",
       "1       vagalume  sitevagalume                     Castle On The Hill   \n",
       "2       vagalume  sitevagalume                                   Dive   \n",
       "3       vagalume  sitevagalume                           Shape Of You   \n",
       "4       vagalume  sitevagalume                                Perfect   \n",
       "...          ...           ...                                    ...   \n",
       "560575   8tracks       11027.0                          Instant Karma   \n",
       "560576   8tracks       11027.0  This Must Be the Place (Naive Melody)   \n",
       "560577   8tracks       11027.0      Rock & Roll (Full-Length Version)   \n",
       "560578   8tracks       11027.0           So. Central Rain (I'm Sorry)   \n",
       "560579   8tracks       24524.0                          Phantom Punch   \n",
       "\n",
       "                   artist_name  playlist_id  \\\n",
       "0                   Ed Sheeran      6736120   \n",
       "1                   Ed Sheeran      6736120   \n",
       "2                   Ed Sheeran      6736120   \n",
       "3                   Ed Sheeran      6736120   \n",
       "4                   Ed Sheeran      6736120   \n",
       "...                        ...          ...   \n",
       "560575             John Lennon        10532   \n",
       "560576           Talking Heads        10532   \n",
       "560577  The Velvet Underground        10532   \n",
       "560578                  R.E.M.        10532   \n",
       "560579           Sondre Lerche        27073   \n",
       "\n",
       "                                           tags        playlist_name  \\\n",
       "0                             pop,pop/rock,rock  Ed Sheeran - Divide   \n",
       "1                             pop,pop/rock,rock  Ed Sheeran - Divide   \n",
       "2                             pop,pop/rock,rock  Ed Sheeran - Divide   \n",
       "3                             pop,pop/rock,rock  Ed Sheeran - Divide   \n",
       "4                             pop,pop/rock,rock  Ed Sheeran - Divide   \n",
       "...                                         ...                  ...   \n",
       "560575   indie rock,unknown, alternative & punk              scascio   \n",
       "560576   indie rock,unknown, alternative & punk              scascio   \n",
       "560577   indie rock,unknown, alternative & punk              scascio   \n",
       "560578   indie rock,unknown, alternative & punk              scascio   \n",
       "560579               pop,rock, alternative rock             Wake up!   \n",
       "\n",
       "                    spotify_id                                       album  \\\n",
       "0       7oolFzHipTMg2nL7shhdz2                                  ÷ (Deluxe)   \n",
       "1       6PCUP3dWmTjcTtXY02oFdT                                  ÷ (Deluxe)   \n",
       "2       51ChrwmUPDJvedPQnIU8Ls                                  ÷ (Deluxe)   \n",
       "3       7qiZfU4dY1lWllzX7mPBI3                                  ÷ (Deluxe)   \n",
       "4       0tgVpDi06FyKpA1z0VMD4v                                  ÷ (Deluxe)   \n",
       "...                        ...                                         ...   \n",
       "560575  2E9wKgL8NN7Tvydqcjoh7v                            Gimme Some Truth   \n",
       "560576  6aBUnkXuCEQQHAlTokv9or        Speaking in Tongues (Deluxe Version)   \n",
       "560577  1o6DclZHw0HomxXEQR1ijX  Loaded: Re-Loaded 45th Anniversary Edition   \n",
       "560578  3AdyPM9rfgfPxoWS4tKh2O                         Live At The Olympia   \n",
       "560579  337mW8qSIO7fXdA2UaDxE2                               Phantom Punch   \n",
       "\n",
       "        popularity  danceability  energy  loudness  speechiness  acousticness  \\\n",
       "0             64.0         0.640   0.812    -5.647       0.0834      0.086000   \n",
       "1             78.0         0.461   0.834    -4.868       0.0989      0.023200   \n",
       "2             75.0         0.761   0.386    -6.158       0.0399      0.355000   \n",
       "3             85.0         0.825   0.652    -3.183       0.0802      0.581000   \n",
       "4             86.0         0.599   0.448    -6.312       0.0232      0.163000   \n",
       "...            ...           ...     ...       ...          ...           ...   \n",
       "560575        53.0         0.624   0.931    -9.988       0.1160      0.000899   \n",
       "560576        71.0         0.942   0.641   -10.150       0.0333      0.331000   \n",
       "560577        62.0         0.494   0.735    -8.347       0.0345      0.004010   \n",
       "560578        38.0         0.339   0.950    -4.797       0.0556      0.000804   \n",
       "560579        19.0         0.511   0.888    -3.125       0.1120      0.008520   \n",
       "\n",
       "        instrumentalness  liveness  valence    tempo  \n",
       "0               0.000000    0.0509    0.914   86.013  \n",
       "1               0.000011    0.1400    0.471  135.007  \n",
       "2               0.000000    0.0953    0.526  134.943  \n",
       "3               0.000000    0.0931    0.931   95.977  \n",
       "4               0.000000    0.1060    0.168   95.050  \n",
       "...                  ...       ...      ...      ...  \n",
       "560575          0.001490    0.0631    0.140  119.887  \n",
       "560576          0.179000    0.0280    0.966  114.443  \n",
       "560577          0.000003    0.5440    0.742  132.526  \n",
       "560578          0.000034    0.9700    0.460  142.148  \n",
       "560579          0.000000    0.1900    0.828  146.441  \n",
       "\n",
       "[483197 rows x 19 columns]"
      ]
     },
     "execution_count": 220,
     "metadata": {},
     "output_type": "execute_result"
    }
   ],
   "source": [
    "split_train_df"
   ]
  },
  {
   "cell_type": "code",
   "execution_count": 221,
   "metadata": {},
   "outputs": [],
   "source": [
    "split_train_ratings_matrix = mf_utils.df_to_sparse(split_train_df, all_songs=df.spotify_id.unique())"
   ]
  },
  {
   "cell_type": "code",
   "execution_count": 222,
   "metadata": {},
   "outputs": [
    {
     "data": {
      "text/plain": [
       "<105152x10531 sparse matrix of type '<class 'numpy.float64'>'\n",
       "\twith 479651 stored elements in Compressed Sparse Row format>"
      ]
     },
     "execution_count": 222,
     "metadata": {},
     "output_type": "execute_result"
    }
   ],
   "source": [
    "split_train_ratings_matrix"
   ]
  },
  {
   "cell_type": "markdown",
   "metadata": {},
   "source": [
    "## Fitting ratings matrix"
   ]
  },
  {
   "cell_type": "code",
   "execution_count": 223,
   "metadata": {},
   "outputs": [
    {
     "data": {
      "application/vnd.jupyter.widget-view+json": {
       "model_id": "9a43825cbbc5481990090416a9d3424d",
       "version_major": 2,
       "version_minor": 0
      },
      "text/plain": [
       "HBox(children=(IntProgress(value=0, max=15), HTML(value='')))"
      ]
     },
     "metadata": {},
     "output_type": "display_data"
    },
    {
     "name": "stdout",
     "output_type": "stream",
     "text": [
      "\n"
     ]
    }
   ],
   "source": [
    "model = implicit.als.AlternatingLeastSquares(factors=150)\n",
    "\n",
    "# items_users matrix in this case is the songs_playlist matrix\n",
    "model.fit(split_train_ratings_matrix)"
   ]
  },
  {
   "cell_type": "markdown",
   "metadata": {},
   "source": [
    "### Example recommendations"
   ]
  },
  {
   "cell_type": "code",
   "execution_count": 224,
   "metadata": {},
   "outputs": [],
   "source": [
    "sample_playlist_indx = 10\n",
    "\n",
    "recommendations = model.recommend(sample_playlist_indx, split_train_ratings_matrix.T)"
   ]
  },
  {
   "cell_type": "code",
   "execution_count": 225,
   "metadata": {},
   "outputs": [
    {
     "name": "stdout",
     "output_type": "stream",
     "text": [
      "Liked Tracks:\n",
      "                                          track_name  \\\n",
      "spotify_id                                             \n",
      "7DD7eSuYSC5xk2ArU62esN                         Help!   \n",
      "1Ud6moTC0KyXMq1Oxfien0        Sympathy For The Devil   \n",
      "3qiyyUfYe7CRYLucrPmulD                  Baba O'Riley   \n",
      "7aE5WXu5sFeNRh3Z05wwu4            Wish You Were Here   \n",
      "4u7EnebtmKWzUH433cf5Qv             Bohemian Rhapsody   \n",
      "5CQ30WqJwcep0pYcV4AMNc            Stairway To Heaven   \n",
      "5uvosCdMlFdTXhoazkTI5R                 Light My Fire   \n",
      "6KTv0Z8BmVqM7DPxbGzpVC        Rock And Roll All Nite   \n",
      "64Ny7djQ6rNJspquof2KoX                     Hound Dog   \n",
      "2QfiRTz5Yc8DdShCxG1tB2               Johnny B. Goode   \n",
      "5UvE5QlINnvEc7aFO14DVL      Great    Balls  Of  Fire   \n",
      "0NWPxcsf5vdjdiFUI8NgkP                       Hey Joe   \n",
      "63OFKbMaZSDZ4wtesuuq6f               Born To Be Wild   \n",
      "6gJdDnF2TzfA1WPMXuCa3x                    Proud Mary   \n",
      "3G7tRC24Uh09Hmp1KZ7LQ2                I'm A Believer   \n",
      "08mG3Y1vljYA6bvDt4Wqkj                 Back In Black   \n",
      "1jzDzZWeSDBg5fhNc3tczV                      Paranoid   \n",
      "5MMnwYs0hIxkENRsbkWJ2G            Smoke On The Water   \n",
      "052vSBPxqdmYRDlkSPiavc                      Cry Baby   \n",
      "2Y90nL1ohB4sgYELDs7uNx                    Glory Days   \n",
      "7e89621JPkKaeDSTQ3avtg            Sweet Home Alabama   \n",
      "39shmbIHICJ2Wxnk1fPSdz  Should I Stay Or Should I Go   \n",
      "\n",
      "                                         artist_name  popularity  \n",
      "spotify_id                                                        \n",
      "7DD7eSuYSC5xk2ArU62esN                   The Beatles        72.0  \n",
      "1Ud6moTC0KyXMq1Oxfien0                Rolling Stones        75.0  \n",
      "3qiyyUfYe7CRYLucrPmulD                       The Who        77.0  \n",
      "7aE5WXu5sFeNRh3Z05wwu4                    Pink Floyd        70.0  \n",
      "4u7EnebtmKWzUH433cf5Qv                         Queen        83.0  \n",
      "5CQ30WqJwcep0pYcV4AMNc                  Led Zeppelin        78.0  \n",
      "5uvosCdMlFdTXhoazkTI5R                     The Doors        72.0  \n",
      "6KTv0Z8BmVqM7DPxbGzpVC                          Kiss        75.0  \n",
      "64Ny7djQ6rNJspquof2KoX                 Elvis Presley        69.0  \n",
      "2QfiRTz5Yc8DdShCxG1tB2                   Chuck Berry        74.0  \n",
      "5UvE5QlINnvEc7aFO14DVL               Jerry Lee Lewis        66.0  \n",
      "0NWPxcsf5vdjdiFUI8NgkP                  Jimi Hendrix        71.0  \n",
      "63OFKbMaZSDZ4wtesuuq6f                   Steppenwolf        73.0  \n",
      "6gJdDnF2TzfA1WPMXuCa3x  Creedence Clearwater Revival        66.0  \n",
      "3G7tRC24Uh09Hmp1KZ7LQ2                   The Monkees        73.0  \n",
      "08mG3Y1vljYA6bvDt4Wqkj                         AC/DC        83.0  \n",
      "1jzDzZWeSDBg5fhNc3tczV                 Black Sabbath        76.0  \n",
      "5MMnwYs0hIxkENRsbkWJ2G                   Deep Purple        75.0  \n",
      "052vSBPxqdmYRDlkSPiavc                  Janis Joplin        69.0  \n",
      "2Y90nL1ohB4sgYELDs7uNx             Bruce Springsteen        69.0  \n",
      "7e89621JPkKaeDSTQ3avtg                Lynyrd Skynyrd        82.0  \n",
      "39shmbIHICJ2Wxnk1fPSdz                     The Clash        78.0  \n",
      "\n",
      "Recommended Tracks:\n",
      "                                   track_name              artist_name  \\\n",
      "spotify_id                                                               \n",
      "02RL8oNMFNw5Jjrlcg5PgF        Hip Hop Is Dead                      Nas   \n",
      "02ResSuBPl9WJoCgSyjrSx     You Stole My Heart                  Dr. Sin   \n",
      "02PTdS9L4BFXOtNvyM1ukF   Bittersweet Memories  Bullet For My Valentine   \n",
      "02Rku3sO5BIbP9yj1xrnZ1          One Fine Wire           Colbie Caillat   \n",
      "02PHWELRAoYIxx3TTGvIit  Forró do Pic Plic Plá          Trio Nordestino   \n",
      "02O46nGb7mSRDzD2fIPSCy          Open Our Eyes     Earth, Wind And Fire   \n",
      "02PEzBRF5NQgBQPrXZvdvL        I Was The Sword            Funeral Diner   \n",
      "02Q7GcNPVgFNr8nNhq5oLg            Bill Murray                 Gorillaz   \n",
      "02uRCMxwVsADO15u8DSIFR                Campeão             Aline Barros   \n",
      "02P3jdwtXBPRVMSDG8WDkS           Louco de Luz         Kleiton e Kledir   \n",
      "\n",
      "                        popularity     score  \n",
      "spotify_id                                    \n",
      "02RL8oNMFNw5Jjrlcg5PgF        36.0  0.444903  \n",
      "02ResSuBPl9WJoCgSyjrSx        29.0  0.394683  \n",
      "02PTdS9L4BFXOtNvyM1ukF        51.0  0.381758  \n",
      "02Rku3sO5BIbP9yj1xrnZ1        33.0  0.331719  \n",
      "02PHWELRAoYIxx3TTGvIit        12.0  0.328792  \n",
      "02O46nGb7mSRDzD2fIPSCy        32.0  0.294279  \n",
      "02PEzBRF5NQgBQPrXZvdvL        34.0  0.291672  \n",
      "02Q7GcNPVgFNr8nNhq5oLg        50.0  0.276047  \n",
      "02uRCMxwVsADO15u8DSIFR        39.0  0.273541  \n",
      "02P3jdwtXBPRVMSDG8WDkS         0.0  0.272881  \n"
     ]
    }
   ],
   "source": [
    "mf_utils.inspect_recommendations(sample_playlist_indx, recommendations, split_train_df, songs_df)"
   ]
  },
  {
   "cell_type": "markdown",
   "metadata": {},
   "source": [
    "## TODO\n",
    "1. Calculate hit rate for top 20k songs for playlists which were split\n",
    "2. Optimise hyperparameters\n",
    "3. See how much search space can be reduced?"
   ]
  },
  {
   "cell_type": "code",
   "execution_count": 11,
   "metadata": {},
   "outputs": [],
   "source": [
    "# CANNOT use songs_df here as order is different\n",
    "indx_to_song = mf_utils.indx_mapping(df.spotify_id.unique())\n",
    "indx_to_playlist = mf_utils.indx_mapping(split_train_df.playlist_id.unique())\n",
    "\n",
    "song_to_indx = mf_utils.indx_mapping(df.spotify_id.unique(), indx_to_item=False)\n",
    "playlist_to_indx = mf_utils.indx_mapping(split_train_df.playlist_id.unique(), indx_to_item=False)"
   ]
  },
  {
   "cell_type": "code",
   "execution_count": 227,
   "metadata": {},
   "outputs": [],
   "source": [
    "def hit_rate(recommendations, excluded_songs):\n",
    "    \"\"\"\n",
    "    Returns the hit rate (correct recommendations/number of songs excluded)\n",
    "    \n",
    "    Arguments:\n",
    "        - recommendations - recs for a single playlist as returned by implicit\n",
    "        - excluded_songs - Spotify IDs excluded from that playlist\n",
    "    \"\"\"\n",
    "    recs_spotifyids = list(mf_utils.recs_to_spotifyids(recommendations, indx_to_song).keys())\n",
    "    num_hits = len(set(recs_spotifyids).intersection(set(excluded_songs)))\n",
    "    \n",
    "    return num_hits/len(excluded_songs)"
   ]
  },
  {
   "cell_type": "markdown",
   "metadata": {},
   "source": [
    "**Hit rate for an example playlist:**"
   ]
  },
  {
   "cell_type": "code",
   "execution_count": 246,
   "metadata": {},
   "outputs": [],
   "source": [
    "sample_playlist = excl.sample(1).index[0]"
   ]
  },
  {
   "cell_type": "code",
   "execution_count": 247,
   "metadata": {},
   "outputs": [
    {
     "data": {
      "text/plain": [
       "1.0"
      ]
     },
     "execution_count": 247,
     "metadata": {},
     "output_type": "execute_result"
    }
   ],
   "source": [
    "recommendations = model.recommend(playlist_to_indx[sample_playlist], split_train_ratings_matrix.T, N=20000)\n",
    "\n",
    "hit_rate(recommendations, excl[sample_playlist])"
   ]
  },
  {
   "cell_type": "markdown",
   "metadata": {},
   "source": [
    "**Calculating hit rate for all 'split' playlists:**"
   ]
  },
  {
   "cell_type": "code",
   "execution_count": 248,
   "metadata": {},
   "outputs": [
    {
     "data": {
      "application/vnd.jupyter.widget-view+json": {
       "model_id": "c0fd394a5f664ec9a9554a47e03c4d24",
       "version_major": 2,
       "version_minor": 0
      },
      "text/plain": [
       "HBox(children=(IntProgress(value=0, max=1958), HTML(value='')))"
      ]
     },
     "metadata": {},
     "output_type": "display_data"
    },
    {
     "name": "stdout",
     "output_type": "stream",
     "text": [
      "\n"
     ]
    }
   ],
   "source": [
    "hit_rates = []\n",
    "\n",
    "for playlist_id, songs in tqdm(excl.items(), total=len(excl)):\n",
    "    recs = model.recommend(playlist_to_indx[playlist_id], split_train_ratings_matrix.T, N=20000)\n",
    "    hit_rates.append(hit_rate(recs, excl[playlist_id]))"
   ]
  },
  {
   "cell_type": "code",
   "execution_count": 249,
   "metadata": {},
   "outputs": [
    {
     "data": {
      "text/plain": [
       "[<matplotlib.lines.Line2D at 0x1a6598b850>]"
      ]
     },
     "execution_count": 249,
     "metadata": {},
     "output_type": "execute_result"
    },
    {
     "data": {
      "image/png": "[encoded data removed]",
      "text/plain": [
       "<Figure size 432x288 with 1 Axes>"
      ]
     },
     "metadata": {
      "needs_background": "light"
     },
     "output_type": "display_data"
    }
   ],
   "source": [
    "hit_rates = np.asarray(hit_rates)\n",
    "plt.plot(hit_rates)"
   ]
  },
  {
   "cell_type": "code",
   "execution_count": 250,
   "metadata": {},
   "outputs": [],
   "source": [
    "sort_indxs = np.argsort(hit_rates)\n",
    "\n",
    "playlist_mask = df.playlist_id.isin(excl.index.values)"
   ]
  },
  {
   "cell_type": "code",
   "execution_count": 251,
   "metadata": {},
   "outputs": [],
   "source": [
    "playlist_lengths = pd.value_counts(split_train_df.playlist_id[playlist_mask])"
   ]
  },
  {
   "cell_type": "code",
   "execution_count": 252,
   "metadata": {},
   "outputs": [
    {
     "data": {
      "image/png": "[encoded data removed]",
      "text/plain": [
       "<Figure size 432x288 with 1 Axes>"
      ]
     },
     "metadata": {
      "needs_background": "light"
     },
     "output_type": "display_data"
    },
    {
     "data": {
      "image/png": "[encoded data removed]",
      "text/plain": [
       "<Figure size 432x288 with 1 Axes>"
      ]
     },
     "metadata": {
      "needs_background": "light"
     },
     "output_type": "display_data"
    }
   ],
   "source": [
    "plt.xlabel(\"Playlists\")\n",
    "plt.ylabel(\"Hit rate\")\n",
    "plt.plot(hit_rates[sort_indxs], label=\"hit rate\")\n",
    "plt.show()\n",
    "\n",
    "plt.xlabel(\"Playlists\")\n",
    "plt.ylabel(\"Playlist Length\")\n",
    "plt.plot(playlist_lengths.values[sort_indxs], label=\"length\")\n",
    "plt.show()"
   ]
  },
  {
   "cell_type": "code",
   "execution_count": 253,
   "metadata": {},
   "outputs": [
    {
     "data": {
      "text/plain": [
       "array([ 6,  6, 34, 34, 18, 14, 67,  7, 14, 14, 33,  7,  4,  8, 70,  6, 18,\n",
       "        4, 13, 18,  8, 71,  6,  8,  4, 34, 18, 18, 14,  5, 14, 34, 18, 14,\n",
       "       62, 62, 14,  7,  7,  6, 14, 34,  5, 14,  6, 14, 64,  5, 34,  6, 18,\n",
       "       72,  8, 82, 13,  6, 82, 30, 82,  4, 83, 18,  6,  4,  4, 12,  4,  4,\n",
       "        8, 86, 30, 18,  8, 12,  8, 84, 18, 80, 18,  8, 74, 13, 13,  4,  8,\n",
       "        4,  8, 18, 18, 13, 77, 18,  8,  4, 78,  4, 79, 31, 79, 79])"
      ]
     },
     "execution_count": 253,
     "metadata": {},
     "output_type": "execute_result"
    }
   ],
   "source": [
    "playlist_lengths.values[sort_indxs][:100]"
   ]
  },
  {
   "cell_type": "code",
   "execution_count": 254,
   "metadata": {},
   "outputs": [
    {
     "data": {
      "text/plain": [
       "0.7162828604461938"
      ]
     },
     "execution_count": 254,
     "metadata": {},
     "output_type": "execute_result"
    }
   ],
   "source": [
    "np.mean(hit_rates)"
   ]
  },
  {
   "cell_type": "markdown",
   "metadata": {},
   "source": [
    "From the above we can see that with using WRMF alone, we can only obtain a reasonable average recall of 0.72.\n",
    "\n",
    "There is some evidence to suggest that the recall is distorted slightly by the very short playlists; however although they may seem very small on the above plots, a closer inspection shows that they are actually of quite reasonable length (>10 songs). Thus, we cannot simply drop these playlists and artificially increase our recall.\n",
    "\n",
    "We can experiment with changing the number of latent factors we use when constructing the model (see later in notebook)."
   ]
  },
  {
   "cell_type": "markdown",
   "metadata": {},
   "source": [
    "Modularisation of the above code:"
   ]
  },
  {
   "cell_type": "code",
   "execution_count": 7,
   "metadata": {},
   "outputs": [],
   "source": [
    "def calc_hit_rates(model, item_user_matrix, excl, playlist_to_indx,\n",
    "                   N=20000, parallelise=False, progressbar=True):\n",
    "    \"\"\"\n",
    "    Calculates hit rate for all playlists in excl.\n",
    "    \n",
    "    Arguments:\n",
    "        - model - implicit model\n",
    "        - item_user_matrix - sparse CSR matrix for model\n",
    "        - excl - dict. of the playlists and songs excluded in matrix. key = playlist; value = list of songs\n",
    "        - playlist_to_indx - dict. mapping playlist ID to index in playlists array as fed to implicit model\n",
    "        - parallelise - distribute job over 16 worker threads\n",
    "        - progressbar - show progress bar\n",
    "        \n",
    "    Returns:\n",
    "        - list of tuples. [ (playlist_id, hit_rate_for_that_playlist), ... ]\n",
    "    \"\"\"\n",
    "    \n",
    "    if progressbar:\n",
    "        iter_excl = tqdm(excl.items(), total=len(excl))\n",
    "    else:\n",
    "        iter_excl = excl.items()\n",
    "    \n",
    "#     Nested helper to parallelise\n",
    "    def helper(excl_playlist, excl_songs):\n",
    "        recs = model.recommend(playlist_to_indx[excl_playlist], item_user_matrix.T, N=N)\n",
    "        return (excl_playlist, hit_rate(recs, excl_songs))\n",
    "    \n",
    "    if parallelise:\n",
    "        hit_rates = \\\n",
    "        Parallel(n_jobs=16, prefer=\"threads\")(delayed(helper)(id_, songs) for (id_, songs) in iter_excl)\n",
    "    else:\n",
    "        hit_rates = []\n",
    "        for (id_, songs) in iter_excl:\n",
    "            hit_rates.append(helper(id_, songs))\n",
    "        \n",
    "    return hit_rates"
   ]
  },
  {
   "cell_type": "code",
   "execution_count": 256,
   "metadata": {},
   "outputs": [
    {
     "data": {
      "application/vnd.jupyter.widget-view+json": {
       "model_id": "c54bb70c5cb9491c91c59262fef4f2e9",
       "version_major": 2,
       "version_minor": 0
      },
      "text/plain": [
       "HBox(children=(IntProgress(value=0, max=1958), HTML(value='')))"
      ]
     },
     "metadata": {},
     "output_type": "display_data"
    },
    {
     "name": "stdout",
     "output_type": "stream",
     "text": [
      "\n"
     ]
    }
   ],
   "source": [
    "hit_rates = calc_hit_rates(model, split_train_ratings_matrix, excl, playlist_to_indx,\n",
    "                           parallelise=True)"
   ]
  },
  {
   "cell_type": "code",
   "execution_count": 257,
   "metadata": {},
   "outputs": [],
   "source": [
    "hit_rates = pd.Series(mf_utils.tuples_to_dict(hit_rates))"
   ]
  },
  {
   "cell_type": "code",
   "execution_count": 258,
   "metadata": {},
   "outputs": [
    {
     "data": {
      "text/plain": [
       "0.7162828604461935"
      ]
     },
     "execution_count": 258,
     "metadata": {},
     "output_type": "execute_result"
    }
   ],
   "source": [
    "hit_rates.mean()"
   ]
  },
  {
   "cell_type": "code",
   "execution_count": 259,
   "metadata": {},
   "outputs": [
    {
     "data": {
      "image/png": "[encoded data removed]",
      "text/plain": [
       "<Figure size 432x288 with 1 Axes>"
      ]
     },
     "metadata": {
      "needs_background": "light"
     },
     "output_type": "display_data"
    }
   ],
   "source": [
    "plt.xlabel(\"Playlists\")\n",
    "plt.ylabel(\"Hit rate\")\n",
    "plt.plot(sorted(hit_rates.values))\n",
    "plt.show()"
   ]
  },
  {
   "cell_type": "markdown",
   "metadata": {},
   "source": [
    "### Grid search"
   ]
  },
  {
   "cell_type": "markdown",
   "metadata": {},
   "source": [
    "Grid search to find the optimal number of latent factors to compute when fitting model:"
   ]
  },
  {
   "cell_type": "code",
   "execution_count": 261,
   "metadata": {},
   "outputs": [],
   "source": [
    "def grid_search_factors(srange, item_user_matrix, excl, playlist_to_indx,\n",
    "                       parallelise=True):\n",
    "    \n",
    "    def helper(factors):\n",
    "        model = implicit.als.AlternatingLeastSquares(factors=factors)\n",
    "\n",
    "        # items_users matrix in this case is the songs_playlist matrix\n",
    "        model.fit(item_user_matrix, show_progress=False)\n",
    "        \n",
    "        temp_hit_rates = calc_hit_rates(model, item_user_matrix, excl, playlist_to_indx,\n",
    "                                        parallelise=False, progressbar=False)\n",
    "    \n",
    "        avg_hit_rate = np.mean([hr for _, hr in temp_hit_rates])\n",
    "        \n",
    "        print(f\"factors {factors} | hit rate {avg_hit_rate}\")\n",
    "        \n",
    "        return (factors, avg_hit_rate)\n",
    "    \n",
    "    iter_factors = tqdm(srange, total=len(srange))\n",
    "    \n",
    "    if parallelise:\n",
    "        hit_rates = Parallel(n_jobs=4, prefer=\"threads\")(delayed(helper)(factors) for factors in iter_factors)\n",
    "    else:\n",
    "        hit_rates = [helper(factors) for factors in iter_factors]\n",
    "    \n",
    "    return hit_rates"
   ]
  },
  {
   "cell_type": "code",
   "execution_count": 152,
   "metadata": {},
   "outputs": [
    {
     "data": {
      "application/vnd.jupyter.widget-view+json": {
       "model_id": "1d3c3f53f9bb4713ad0432ba453f5b7b",
       "version_major": 2,
       "version_minor": 0
      },
      "text/plain": [
       "HBox(children=(IntProgress(value=0, max=12), HTML(value='')))"
      ]
     },
     "metadata": {},
     "output_type": "display_data"
    },
    {
     "name": "stdout",
     "output_type": "stream",
     "text": [
      "factors 100 | hit rate 0.7251190202175254\n",
      "factors 150 | hit rate 0.7250090795170948\n",
      "factors 200 | hit rate 0.7270362503327529\n",
      "factors 250 | hit rate 0.7340325894489934\n",
      "factors 300 | hit rate 0.7343500277525251\n",
      "\n",
      "factors 350 | hit rate 0.73173063364382\n",
      "factors 400 | hit rate 0.7299676653919273\n",
      "factors 450 | hit rate 0.7274305244029073\n",
      "factors 500 | hit rate 0.7242372050812332\n",
      "factors 550 | hit rate 0.724471763389122\n",
      "factors 600 | hit rate 0.7252985248652697\n",
      "factors 650 | hit rate 0.721042535943308\n"
     ]
    }
   ],
   "source": [
    "hit_rate_search = grid_search_factors(range(100, 700, 50), split_train_ratings_matrix, excl, playlist_to_indx,\n",
    "                                     parallelise=True)"
   ]
  },
  {
   "cell_type": "code",
   "execution_count": 155,
   "metadata": {},
   "outputs": [],
   "source": [
    "pickle.dump(hit_rate_search, open(\"hit_rate_search.p\", \"wb\"))"
   ]
  },
  {
   "cell_type": "code",
   "execution_count": 156,
   "metadata": {},
   "outputs": [
    {
     "data": {
      "text/plain": [
       "[(100, 0.7251190202175254),\n",
       " (150, 0.7250090795170948),\n",
       " (200, 0.7270362503327529),\n",
       " (250, 0.7340325894489934),\n",
       " (300, 0.7343500277525251),\n",
       " (350, 0.73173063364382),\n",
       " (400, 0.7299676653919273),\n",
       " (450, 0.7274305244029073),\n",
       " (500, 0.7242372050812332),\n",
       " (550, 0.724471763389122),\n",
       " (600, 0.7252985248652697),\n",
       " (650, 0.721042535943308)]"
      ]
     },
     "execution_count": 156,
     "metadata": {},
     "output_type": "execute_result"
    }
   ],
   "source": [
    "hit_rate_search"
   ]
  },
  {
   "cell_type": "code",
   "execution_count": 157,
   "metadata": {},
   "outputs": [],
   "source": [
    "hit_rate_search = mf_utils.tuples_to_dict(hit_rate_search)"
   ]
  },
  {
   "cell_type": "code",
   "execution_count": 159,
   "metadata": {},
   "outputs": [],
   "source": [
    "hit_rate_search = pd.Series(hit_rate_search)"
   ]
  },
  {
   "cell_type": "code",
   "execution_count": 161,
   "metadata": {},
   "outputs": [
    {
     "data": {
      "image/png": "[encoded data removed]",
      "text/plain": [
       "<Figure size 432x288 with 1 Axes>"
      ]
     },
     "metadata": {
      "needs_background": "light"
     },
     "output_type": "display_data"
    }
   ],
   "source": [
    "plt.xlabel(\"Number of latent factors\")\n",
    "plt.ylabel(\"Average hit rate on validation set\")\n",
    "hit_rate_search.plot()\n",
    "plt.show()"
   ]
  },
  {
   "cell_type": "markdown",
   "metadata": {},
   "source": [
    "From the above, it seems that 300 latent factors is approx. the optimal number of latent factors to compute.\n",
    "\n",
    "The highest average hit rate which can be achieved is approx. 0.73. This is not as high as we would like, especially given that we are making 20,000 recommendations per playlist.\n",
    "\n",
    "The goal now is to retain as much of this hit rate as possible while reducing the number of recommendations to a more reasonable number, e.g. 20."
   ]
  },
  {
   "cell_type": "markdown",
   "metadata": {},
   "source": [
    "## Hit rates for N recommendations"
   ]
  },
  {
   "cell_type": "markdown",
   "metadata": {},
   "source": [
    "Loading data and models:"
   ]
  },
  {
   "cell_type": "code",
   "execution_count": 6,
   "metadata": {},
   "outputs": [
    {
     "data": {
      "application/vnd.jupyter.widget-view+json": {
       "model_id": "ee27fa815716488c82c2d29556b615ff",
       "version_major": 2,
       "version_minor": 0
      },
      "text/plain": [
       "HBox(children=(IntProgress(value=0, max=15), HTML(value='')))"
      ]
     },
     "metadata": {},
     "output_type": "display_data"
    },
    {
     "name": "stdout",
     "output_type": "stream",
     "text": [
      "\n"
     ]
    }
   ],
   "source": [
    "split_train_df = pd.read_csv(\"Split_Train_DF.csv\", index_col=[0])\n",
    "excl = pickle.load(open(\"Excluded_Songs_Series\", \"rb\"))\n",
    "\n",
    "split_train_ratings_matrix = mf_utils.df_to_sparse(split_train_df, all_songs=df.spotify_id.unique())\n",
    "\n",
    "# Number of latent factors now 300\n",
    "model = implicit.als.AlternatingLeastSquares(factors=300)\n",
    "\n",
    "# items_users matrix in this case is the songs_playlist matrix\n",
    "model.fit(split_train_ratings_matrix)\n",
    "\n",
    "# CANNOT use songs_df here as order is different\n",
    "indx_to_song = mf_utils.indx_mapping(df.spotify_id.unique())\n",
    "indx_to_playlist = mf_utils.indx_mapping(split_train_df.playlist_id.unique())\n",
    "\n",
    "song_to_indx = mf_utils.indx_mapping(df.spotify_id.unique(), indx_to_item=False)\n",
    "playlist_to_indx = mf_utils.indx_mapping(split_train_df.playlist_id.unique(), indx_to_item=False)"
   ]
  },
  {
   "cell_type": "code",
   "execution_count": 18,
   "metadata": {},
   "outputs": [
    {
     "data": {
      "text/plain": [
       "<module 'mf_utils' from '../mf_utils.py'>"
      ]
     },
     "execution_count": 18,
     "metadata": {},
     "output_type": "execute_result"
    }
   ],
   "source": [
    "reload(mf_utils)"
   ]
  },
  {
   "cell_type": "code",
   "execution_count": 19,
   "metadata": {},
   "outputs": [
    {
     "data": {
      "application/vnd.jupyter.widget-view+json": {
       "model_id": "6caf8121e5304fa3ba5052e1cc76b168",
       "version_major": 2,
       "version_minor": 0
      },
      "text/plain": [
       "HBox(children=(IntProgress(value=0, max=1958), HTML(value='')))"
      ]
     },
     "metadata": {},
     "output_type": "display_data"
    },
    {
     "name": "stderr",
     "output_type": "stream",
     "text": [
      "\n",
      "\n",
      "\n",
      " 30%|██▉       | 578/1958 [00:16<00:11, 117.16it/s]\u001b[A\u001b[A\u001b[A"
     ]
    },
    {
     "name": "stdout",
     "output_type": "stream",
     "text": [
      "\n"
     ]
    }
   ],
   "source": [
    "hit_rates = mf_utils.calc_hit_rates(model, split_train_ratings_matrix, excl, playlist_to_indx, indx_to_song,\n",
    "                                    N=1000, parallelise=True)"
   ]
  },
  {
   "cell_type": "code",
   "execution_count": 20,
   "metadata": {},
   "outputs": [],
   "source": [
    "hit_rates = pd.Series(mf_utils.tuples_to_dict(hit_rates))"
   ]
  },
  {
   "cell_type": "code",
   "execution_count": 21,
   "metadata": {},
   "outputs": [
    {
     "data": {
      "text/plain": [
       "0.5965848042013409"
      ]
     },
     "execution_count": 21,
     "metadata": {},
     "output_type": "execute_result"
    }
   ],
   "source": [
    "hit_rates.mean()"
   ]
  },
  {
   "cell_type": "markdown",
   "metadata": {},
   "source": [
    "We can see that we achieve a respectable 60% recall even when recommending only 1000 songs per playlist. This is a very good starting to point on which to build."
   ]
  },
  {
   "cell_type": "code",
   "execution_count": 22,
   "metadata": {},
   "outputs": [
    {
     "data": {
      "application/vnd.jupyter.widget-view+json": {
       "model_id": "5e6d04aa814a42c4801508215395e420",
       "version_major": 2,
       "version_minor": 0
      },
      "text/plain": [
       "HBox(children=(IntProgress(value=0, max=1958), HTML(value='')))"
      ]
     },
     "metadata": {},
     "output_type": "display_data"
    },
    {
     "name": "stdout",
     "output_type": "stream",
     "text": [
      "\n"
     ]
    },
    {
     "data": {
      "text/plain": [
       "0.39853922570563916"
      ]
     },
     "execution_count": 22,
     "metadata": {},
     "output_type": "execute_result"
    }
   ],
   "source": [
    "hit_rates = mf_utils.calc_hit_rates(model, split_train_ratings_matrix, excl, playlist_to_indx, indx_to_song,\n",
    "                                    N=100, parallelise=True)\n",
    "\n",
    "hit_rates = pd.Series(mf_utils.tuples_to_dict(hit_rates))\n",
    "\n",
    "hit_rates.mean()"
   ]
  },
  {
   "cell_type": "code",
   "execution_count": 25,
   "metadata": {},
   "outputs": [
    {
     "data": {
      "application/vnd.jupyter.widget-view+json": {
       "model_id": "b888488a01e54330a77d85dcf62aa0ad",
       "version_major": 2,
       "version_minor": 0
      },
      "text/plain": [
       "HBox(children=(IntProgress(value=0, max=1958), HTML(value='')))"
      ]
     },
     "metadata": {},
     "output_type": "display_data"
    },
    {
     "name": "stdout",
     "output_type": "stream",
     "text": [
      "\n"
     ]
    },
    {
     "data": {
      "text/plain": [
       "0.11914176048925669"
      ]
     },
     "execution_count": 25,
     "metadata": {},
     "output_type": "execute_result"
    }
   ],
   "source": [
    "hit_rates = mf_utils.calc_hit_rates(model, split_train_ratings_matrix, excl, playlist_to_indx, indx_to_song,\n",
    "                                    N=10, parallelise=True)\n",
    "\n",
    "hit_rates = pd.Series(mf_utils.tuples_to_dict(hit_rates))\n",
    "\n",
    "hit_rates.mean()"
   ]
  },
  {
   "cell_type": "markdown",
   "metadata": {},
   "source": [
    "We can also see that even when we go to very low N (number of recommendations), we still a maintain a decent recall for approx. 10% despite there being over 500,000 songs in the dataset."
   ]
  },
  {
   "cell_type": "markdown",
   "metadata": {},
   "source": [
    "## Generating candidate songs for each playlist"
   ]
  },
  {
   "cell_type": "code",
   "execution_count": 16,
   "metadata": {},
   "outputs": [],
   "source": [
    "split_train_df = pd.read_csv(\"Split_Train_DF.csv\", index_col=[0])\n",
    "# excl = pickle.load(open(\"Excluded_Songs_Series\", \"rb\"))\n",
    "\n",
    "# train_df.to_csv(\"Train_DF.csv\")\n",
    "# test_df.to_csv(\"Test_DF.csv\")"
   ]
  },
  {
   "cell_type": "code",
   "execution_count": 17,
   "metadata": {},
   "outputs": [],
   "source": [
    "split_train_ratings_matrix = mf_utils.df_to_sparse(split_train_df, all_songs=df.spotify_id.unique())"
   ]
  },
  {
   "cell_type": "code",
   "execution_count": 18,
   "metadata": {},
   "outputs": [
    {
     "data": {
      "application/vnd.jupyter.widget-view+json": {
       "model_id": "1fef448b60c94bab8d8e88c176f0f7da",
       "version_major": 2,
       "version_minor": 0
      },
      "text/plain": [
       "HBox(children=(IntProgress(value=0, max=15), HTML(value='')))"
      ]
     },
     "metadata": {},
     "output_type": "display_data"
    },
    {
     "name": "stdout",
     "output_type": "stream",
     "text": [
      "\n"
     ]
    }
   ],
   "source": [
    "# Number of latent factors now 300\n",
    "model = implicit.als.AlternatingLeastSquares(factors=300)\n",
    "\n",
    "# items_users matrix in this case is the songs_playlist matrix\n",
    "model.fit(split_train_ratings_matrix)"
   ]
  },
  {
   "cell_type": "code",
   "execution_count": 19,
   "metadata": {},
   "outputs": [],
   "source": [
    "pickle.dump(model, open(\"WRMF_model_factors300.p\", \"wb\"))"
   ]
  },
  {
   "cell_type": "code",
   "execution_count": 20,
   "metadata": {},
   "outputs": [],
   "source": [
    "# CANNOT use songs_df here as order is different\n",
    "indx_to_song = mf_utils.indx_mapping(df.spotify_id.unique())\n",
    "indx_to_playlist = mf_utils.indx_mapping(split_train_df.playlist_id.unique())\n",
    "\n",
    "song_to_indx = mf_utils.indx_mapping(df.spotify_id.unique(), indx_to_item=False)\n",
    "playlist_to_indx = mf_utils.indx_mapping(split_train_df.playlist_id.unique(), indx_to_item=False)"
   ]
  },
  {
   "cell_type": "code",
   "execution_count": 21,
   "metadata": {},
   "outputs": [],
   "source": [
    "def gen_wrmf_candidates(model, item_user_matrix, playlist_ids, playlist_to_indx, indx_to_song, N=20000):\n",
    "    \"\"\"\n",
    "    Generates N recommendations for each playlist.\n",
    "    \n",
    "    Arguments:\n",
    "        - model - pre-trained implicit model\n",
    "        - item_user_matrix - sparse CSR item-user matrix\n",
    "        - playlist_ids - list of unique playlist IDs to generate recommendations for\n",
    "        - playlist_to_indx - dict. where key = playlist ID, value = index in matrix\n",
    "        - indx_to_song - dict. where key = index in matrix, value = song Spotify ID\n",
    "        - N - number of recommendations to generate per playlist\n",
    "        \n",
    "    Returns:\n",
    "        - wrmf_recs_df - pandas DF containing recommended Spotify IDs. columns = playlist IDs\n",
    "        - wrmf_score_df - pandas DF containing scores for above dataframe.\n",
    "    \"\"\"\n",
    "    def helper(playlist_id):\n",
    "        playlist_indx = playlist_to_indx[playlist_id]\n",
    "        \n",
    "#         Need to provide user-item matrix here\n",
    "        recs = model.recommend(playlist_indx, item_user_matrix.T, N=N)\n",
    "        rec_indxs, rec_scores = mf_utils.unpack_tuples_list(recs)\n",
    "        \n",
    "        rec_spot_ids = [indx_to_song[x] for x in rec_indxs]\n",
    "        \n",
    "        return (playlist_id, rec_spot_ids, rec_scores)\n",
    "\n",
    "        \n",
    "    play_ids, spot_ids, scores = mf_utils.unpack_tuples_list(\n",
    "        Parallel(n_jobs=4, prefer=\"threads\")(delayed(helper)(id_) for id_ in tqdm(playlist_ids)))\n",
    "        \n",
    "#     Quick check to ensure order was maintained in the above parallelised job\n",
    "    assert (pd.Series(play_ids) == pd.Series(playlist_ids)).all()\n",
    "        \n",
    "    wrmf_recs_df = pd.DataFrame(columns=playlist_ids, data=np.asarray(spot_ids).T)\n",
    "    wrmf_score_df = pd.DataFrame(columns=playlist_ids, data=np.asarray(scores).T)\n",
    "    \n",
    "    return wrmf_recs_df, wrmf_score_df"
   ]
  },
  {
   "cell_type": "code",
   "execution_count": null,
   "metadata": {},
   "outputs": [
    {
     "data": {
      "application/vnd.jupyter.widget-view+json": {
       "model_id": "93343c7c64b940488bef8d9dd17c3ad0",
       "version_major": 2,
       "version_minor": 0
      },
      "text/plain": [
       "HBox(children=(IntProgress(value=0, max=10531), HTML(value='')))"
      ]
     },
     "metadata": {},
     "output_type": "display_data"
    },
    {
     "name": "stdout",
     "output_type": "stream",
     "text": [
      "\n"
     ]
    }
   ],
   "source": [
    "wrmf_recs_df, wrmf_score_df = gen_wrmf_candidates(model, split_train_ratings_matrix,\n",
    "                                                  split_train_df.playlist_id.unique(), playlist_to_indx, indx_to_song)"
   ]
  },
  {
   "cell_type": "code",
   "execution_count": null,
   "metadata": {},
   "outputs": [],
   "source": [
    "wrmf_score_df"
   ]
  },
  {
   "cell_type": "code",
   "execution_count": null,
   "metadata": {},
   "outputs": [],
   "source": [
    "wrmf_recs_df.to_csv(\"WRMF_Candidate_Spotify_IDs.csv\")\n",
    "wrmf_score_df.to_csv(\"WRMF_Candidate_Scores.csv\")"
   ]
  },
  {
   "cell_type": "code",
   "execution_count": null,
   "metadata": {},
   "outputs": [],
   "source": []
  }
 ],
 "metadata": {
  "kernelspec": {
   "display_name": "Python 3",
   "language": "python",
   "name": "python3"
  },
  "language_info": {
   "codemirror_mode": {
    "name": "ipython",
    "version": 3
   },
   "file_extension": ".py",
   "mimetype": "text/x-python",
   "name": "python",
   "nbconvert_exporter": "python",
   "pygments_lexer": "ipython3",
   "version": "3.7.4"
  }
 },
 "nbformat": 4,
 "nbformat_minor": 2
}
