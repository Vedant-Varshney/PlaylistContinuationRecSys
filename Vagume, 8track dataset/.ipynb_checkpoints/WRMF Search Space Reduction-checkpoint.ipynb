{
 "cells": [
  {
   "cell_type": "markdown",
   "metadata": {},
   "source": [
    "# WRMF Search Space Reduction"
   ]
  },
  {
   "cell_type": "markdown",
   "metadata": {},
   "source": [
    "**Objectives:**\n",
    "1. Split the dataframe into a train and test set *on playlists* before the implicit ratings matrix is calculated\n",
    "2. Leave $k$ songs out of $m$ playlists in the training set. Calculate how many songs have to be recommended before the above model achieves a high enough recall/hit rate for the left out songs for these incomplete playlists.\n",
    "3. Perform a grid search to optimise all hyperparameters.\n",
    "4. Recalculate model's ability to reduce down the song search space using the optimised hyperparameters."
   ]
  },
  {
   "cell_type": "code",
   "execution_count": 152,
   "metadata": {},
   "outputs": [],
   "source": [
    "import pandas as pd\n",
    "import matplotlib.pyplot as plt\n",
    "import numpy as np\n",
    "import scipy as sp\n",
    "\n",
    "import implicit\n",
    "from tqdm import tqdm\n",
    "\n",
    "from sklearn.model_selection import train_test_split\n",
    "\n",
    "import sys\n",
    "sys.path.append(\"..\")\n",
    "\n",
    "from collections import defaultdict\n",
    "from importlib import reload"
   ]
  },
  {
   "cell_type": "code",
   "execution_count": 139,
   "metadata": {},
   "outputs": [],
   "source": [
    "import df_utils\n",
    "import mf_utils"
   ]
  },
  {
   "cell_type": "code",
   "execution_count": 11,
   "metadata": {},
   "outputs": [
    {
     "name": "stderr",
     "output_type": "stream",
     "text": [
      "/Users/vedantvarshney/opt/anaconda3/lib/python3.7/site-packages/IPython/core/interactiveshell.py:3058: DtypeWarning: Columns (2) have mixed types. Specify dtype option on import or set low_memory=False.\n",
      "  interactivity=interactivity, compiler=compiler, result=result)\n"
     ]
    }
   ],
   "source": [
    "df = pd.read_csv(\"cleaned_data_0.2.csv\", index_col=[0])\n",
    "songs_df = pd.read_csv(\"songs_DF.csv\", index_col=[0])"
   ]
  },
  {
   "cell_type": "markdown",
   "metadata": {},
   "source": [
    "## Train-test split"
   ]
  },
  {
   "cell_type": "code",
   "execution_count": 18,
   "metadata": {},
   "outputs": [],
   "source": [
    "train_df, test_df = train_test_split(df, test_size=0.1)"
   ]
  },
  {
   "cell_type": "code",
   "execution_count": 22,
   "metadata": {},
   "outputs": [
    {
     "data": {
      "text/plain": [
       "(504522, 19)"
      ]
     },
     "execution_count": 22,
     "metadata": {},
     "output_type": "execute_result"
    }
   ],
   "source": [
    "train_df.shape"
   ]
  },
  {
   "cell_type": "code",
   "execution_count": 20,
   "metadata": {},
   "outputs": [
    {
     "data": {
      "text/plain": [
       "(56058, 19)"
      ]
     },
     "execution_count": 20,
     "metadata": {},
     "output_type": "execute_result"
    }
   ],
   "source": [
    "test_df.shape"
   ]
  },
  {
   "cell_type": "markdown",
   "metadata": {},
   "source": [
    "An adaptation of code from 'Exploring WRMF' notebook:"
   ]
  },
  {
   "cell_type": "code",
   "execution_count": 125,
   "metadata": {},
   "outputs": [],
   "source": [
    "def df_to_sparse(df, all_songs):\n",
    "    \"\"\"\n",
    "    Converts a dataframe to a sparse implicit ratings matrix.\n",
    "    \n",
    "    Arguments:\n",
    "        - df - dataframe to convert to a sparse matrix\n",
    "        - all_songs - list of all songs in the search space\n",
    "        - withold_dict - a dictionary whose keys are playlist IDs and whose values are a list of songs which should be\n",
    "        excluded from that playlist when calculating the implicit ratings matrix.\n",
    "        \n",
    "    Returns:\n",
    "        - ratings_matrix - implicit ratings matrix in CSR format\n",
    "    \"\"\"\n",
    "    # Create hashmap of the list of unique songs for fast index lookup\n",
    "    # np.where etc will unnecessarily search the entire array and thus will not scale well.\n",
    "    song_to_indx = {song: i for (i, song) in enumerate(all_songs)}\n",
    "    \n",
    "    # Mapping each song in the original DF to the index in the unique songs list\n",
    "    song_indxs = df.spotify_id.apply(lambda id_: song_to_indx[id_]).values\n",
    "\n",
    "    # Same for list of unique playlists\n",
    "    playlist_to_indx = {playlist: i for (i, playlist) in enumerate(df.playlist_id.unique())}\n",
    "    \n",
    "    # Mapping each playlist in the original DF to the index in the unique playlists list\n",
    "    playlist_indxs = df.playlist_id.apply(lambda id_: playlist_to_indx[id_]).values\n",
    "    \n",
    "    data = np.ones(df.shape[0])\n",
    "    \n",
    "    assert data.shape == song_indxs.shape == playlist_indxs.shape\n",
    "    \n",
    "    # Although matrix only contains int, cast as float for safety in future calculations\n",
    "    # row indx = song indx\n",
    "    # column indx = playlist indx\n",
    "    ratings_matrix = sp.sparse.csr_matrix((data, (song_indxs, playlist_indxs)), dtype=np.float64)\n",
    "    \n",
    "    return ratings_matrix"
   ]
  },
  {
   "cell_type": "code",
   "execution_count": 96,
   "metadata": {},
   "outputs": [],
   "source": [
    "def withold_songs(df, withold_split=(0.2,0.2)):\n",
    "    \"\"\"\n",
    "    Removes a certain proportion of songs from a certain proportion of playlists in DF.\n",
    "    \n",
    "    Arguments:\n",
    "        - df - standard cleaned_data DF\n",
    "        - withold_split - tuple. First value = fraction of playlists to split.\n",
    "        Second value = fraction of songs to remove from said playlists.\n",
    "        \n",
    "    Returns:\n",
    "        - df with songs excluded\n",
    "        - pd Series wrapping a dictionary of playlist and num_songs excluded.\n",
    "        key = playlist; value = list of spotify IDs excluded.\n",
    "        \n",
    "    Note - the withold split is the target split; the exact split will vary slightly.\n",
    "    This is to avoid splits creating empty playlists.\n",
    "    \"\"\"\n",
    "    \n",
    "#     Songs in each playlist\n",
    "    playlist_vc = pd.value_counts(df.playlist_id)\n",
    "\n",
    "#     Number of songs potentially excluded from each playlist\n",
    "    split = playlist_vc.apply(lambda vc: round(vc*withold_split[1]))\n",
    "\n",
    "#     Filter out playlists with a 0 split and which leave no songs in remaining playlist\n",
    "    split = split[(split>0) & (playlist_vc>split)]\n",
    "    \n",
    "#     Sample valid playlists\n",
    "    split = split.sample(frac=withold_split[0])\n",
    "    \n",
    "    indxs_to_drop = []\n",
    "    \n",
    "#     Dictionary for storing spotify IDs of songs excluded from each playlist\n",
    "    excluded = defaultdict(list)\n",
    "    \n",
    "    for playlist_id, num_songs_excl in split.items():\n",
    "        temp_excl_df = df[df.playlist_id==playlist_id].sample(num_songs_excl)\n",
    "        \n",
    "        excluded[playlist_id] += [row.spotify_id for _, row in temp_excl_df.iterrows()]\n",
    "            \n",
    "        indxs_to_drop += list(temp_excl_df.index.values)\n",
    "        \n",
    "    return df.drop(indxs_to_drop, axis=0), pd.Series(excluded)"
   ]
  },
  {
   "cell_type": "code",
   "execution_count": 101,
   "metadata": {},
   "outputs": [],
   "source": [
    "split_train_df, excl = withold_songs(train_df)"
   ]
  },
  {
   "cell_type": "code",
   "execution_count": 123,
   "metadata": {},
   "outputs": [
    {
     "data": {
      "text/plain": [
       "(504522, 19)"
      ]
     },
     "execution_count": 123,
     "metadata": {},
     "output_type": "execute_result"
    }
   ],
   "source": [
    "train_df.shape"
   ]
  },
  {
   "cell_type": "code",
   "execution_count": 102,
   "metadata": {},
   "outputs": [
    {
     "data": {
      "text/plain": [
       "(484597, 19)"
      ]
     },
     "execution_count": 102,
     "metadata": {},
     "output_type": "execute_result"
    }
   ],
   "source": [
    "split_train_df.shape"
   ]
  },
  {
   "cell_type": "code",
   "execution_count": 103,
   "metadata": {},
   "outputs": [
    {
     "data": {
      "text/plain": [
       "5226987    [5scK80Nrz12oGUnQGcPgg1, 6m2NpJ7G9r4BdAWbo5jKe...\n",
       "5200521     [0qTbh1DLzauftSDhU9dZ3K, 4EdlXNyvfFE4yGyrn3tdAv]\n",
       "5627728     [6c6W25YoDGjTq3qSPOga5t, 6qCp2Out7ymmGb4VqHLY7P]\n",
       "5202533    [5lobaaQ4FThZgkQf0Uv6FM, 7uBFKnrL9HAoAp0aDCfvD...\n",
       "10059                               [7KCNf8eHB3MMwuLyrmYkII]\n",
       "                                 ...                        \n",
       "5452844    [3BJe4B8zGnqEdQPMvfVjuS, 1mKXFLRA179hdOWQBwUk9...\n",
       "5306219    [2SgPrP39liz9qtXK7Zq3sf, 469rBLYJUZHMJLtq2Wch3...\n",
       "21392       [4gbVRS8gloEluzf0GzDOFc, 2ndWbjiiNBEOrlfToKlABE]\n",
       "1026                                [5ieOrMB7d6WI6XcnzfH7sM]\n",
       "5507614                             [0G3iJ1r5SSv7nUBNCgBmwF]\n",
       "Length: 1960, dtype: object"
      ]
     },
     "execution_count": 103,
     "metadata": {},
     "output_type": "execute_result"
    }
   ],
   "source": [
    "pd.Series(excl)"
   ]
  },
  {
   "cell_type": "code",
   "execution_count": 104,
   "metadata": {},
   "outputs": [
    {
     "data": {
      "text/plain": [
       "19925"
      ]
     },
     "execution_count": 104,
     "metadata": {},
     "output_type": "execute_result"
    }
   ],
   "source": [
    "train_df.shape[0] - split_train_df.shape[0]"
   ]
  },
  {
   "cell_type": "code",
   "execution_count": 122,
   "metadata": {},
   "outputs": [
    {
     "name": "stdout",
     "output_type": "stream",
     "text": [
      "ModeResult(mode=array([1]), count=array([388]))\n"
     ]
    },
    {
     "data": {
      "image/png": "[encoded data removed]",
      "text/plain": [
       "<Figure size 432x288 with 1 Axes>"
      ]
     },
     "metadata": {
      "needs_background": "light"
     },
     "output_type": "display_data"
    }
   ],
   "source": [
    "modal_songs_excl = sp.stats.mode(excl.apply(lambda x: len(x)))\n",
    "print(modal_songs_excl)\n",
    "\n",
    "plt.xlabel(\"Number of songs excluded for playlist\")\n",
    "plt.ylabel(\"Count\")\n",
    "excl.apply(lambda x: len(x)).hist()\n",
    "plt.show()"
   ]
  },
  {
   "cell_type": "markdown",
   "metadata": {},
   "source": [
    "## Creating ratings matrix"
   ]
  },
  {
   "cell_type": "code",
   "execution_count": 126,
   "metadata": {},
   "outputs": [],
   "source": [
    "split_train_ratings_matrix = df_to_sparse(train_df, all_songs=df.spotify_id.unique())"
   ]
  },
  {
   "cell_type": "code",
   "execution_count": 127,
   "metadata": {},
   "outputs": [
    {
     "data": {
      "text/plain": [
       "<105152x10534 sparse matrix of type '<class 'numpy.float64'>'\n",
       "\twith 500654 stored elements in Compressed Sparse Row format>"
      ]
     },
     "execution_count": 127,
     "metadata": {},
     "output_type": "execute_result"
    }
   ],
   "source": [
    "split_train_ratings_matrix"
   ]
  },
  {
   "cell_type": "markdown",
   "metadata": {},
   "source": [
    "## Fitting ratings matrix"
   ]
  },
  {
   "cell_type": "code",
   "execution_count": 202,
   "metadata": {},
   "outputs": [
    {
     "data": {
      "application/vnd.jupyter.widget-view+json": {
       "model_id": "d838b14848e0434984ea7e80e48c8b91",
       "version_major": 2,
       "version_minor": 0
      },
      "text/plain": [
       "HBox(children=(IntProgress(value=0, max=15), HTML(value='')))"
      ]
     },
     "metadata": {},
     "output_type": "display_data"
    },
    {
     "name": "stdout",
     "output_type": "stream",
     "text": [
      "\n"
     ]
    }
   ],
   "source": [
    "model = implicit.als.AlternatingLeastSquares(factors=150)\n",
    "\n",
    "# items_users matrix in this case is the songs_playlist matrix\n",
    "model.fit(split_train_ratings_matrix)"
   ]
  },
  {
   "cell_type": "markdown",
   "metadata": {},
   "source": [
    "### Example recommendations"
   ]
  },
  {
   "cell_type": "code",
   "execution_count": 203,
   "metadata": {},
   "outputs": [],
   "source": [
    "sample_playlist_indx = 0\n",
    "\n",
    "recommendations = model.recommend(sample_playlist_indx, split_train_ratings_matrix.T)"
   ]
  },
  {
   "cell_type": "code",
   "execution_count": 204,
   "metadata": {},
   "outputs": [
    {
     "name": "stdout",
     "output_type": "stream",
     "text": [
      "Liked Tracks:\n",
      "                                                        track_name  \\\n",
      "spotify_id                                                           \n",
      "3jZomvOBa5qfTo5HkqI1p5          One Way Or Another (Teenage Kicks)   \n",
      "6CcJMwBtXByIz4zQLzFkKc                                  I Love You   \n",
      "4ILX2CDYdkqIqiVsIDE0Yy  Quando O Sol Bater Na Janela do Teu Quarto   \n",
      "6T4gN0XbNbgWGcqkwTaqqA                            Vento No Litoral   \n",
      "7MnT7msJZg3XBAS0OTfGrB                               Tempo Perdido   \n",
      "...                                                            ...   \n",
      "5Gu0PDLN4YJeW75PpBSg9p                                   Let Me Go   \n",
      "3SdTKo2uVsxFblQjpScoHy                                 Stand By Me   \n",
      "7p9dd71JR2ucoAuO1Sy0VZ                            When You're Gone   \n",
      "5G2c6FsfTzgYUzageCmfXY                                   One Thing   \n",
      "1vxw6aYJls2oq3gW0DujAo                                       Crazy   \n",
      "\n",
      "                                      artist_name  popularity  \n",
      "spotify_id                                                     \n",
      "3jZomvOBa5qfTo5HkqI1p5              One Direction        66.0  \n",
      "6CcJMwBtXByIz4zQLzFkKc             Jennifer Lopez        83.0  \n",
      "4ILX2CDYdkqIqiVsIDE0Yy              Legião Urbana        57.0  \n",
      "6T4gN0XbNbgWGcqkwTaqqA              Legião Urbana        48.0  \n",
      "7MnT7msJZg3XBAS0OTfGrB  Zezé Di Camargo e Luciano        68.0  \n",
      "...                                           ...         ...  \n",
      "5Gu0PDLN4YJeW75PpBSg9p               3 Doors Down        80.0  \n",
      "3SdTKo2uVsxFblQjpScoHy                      Oasis        78.0  \n",
      "7p9dd71JR2ucoAuO1Sy0VZ              Avril Lavigne        67.0  \n",
      "5G2c6FsfTzgYUzageCmfXY               Taylor Swift        73.0  \n",
      "1vxw6aYJls2oq3gW0DujAo                  Aerosmith        76.0  \n",
      "\n",
      "[118 rows x 3 columns]\n",
      "\n",
      "Recommended Tracks:\n",
      "                                         track_name  \\\n",
      "spotify_id                                            \n",
      "06xkZyjTIh8z8evDynHP9G               Beijo, Me Liga   \n",
      "09ekFvUyVebZ1kyYt6oz28             Suplica Cearense   \n",
      "09eTdPN8RUdrAQKsNMF1fI        Order Of The Universe   \n",
      "02P3jdwtXBPRVMSDG8WDkS                 Louco de Luz   \n",
      "09fFNAVcwcXJcXUP7mM4Xe  You're A Special Part Of Me   \n",
      "0162o5irCVnAki4PlGyY1G                   Un Soñador   \n",
      "0G2tHYsAHueVaPhTTBbVna               The Golden Age   \n",
      "09fEg2GgHCBjkiYabvpmnY                      Mr. Man   \n",
      "02Wqo17NTdNMwuSkxZns3G             Mistério de Amor   \n",
      "0KD3EGKEV2qby1pxKx8KO0           Con Le Mie Lacrime   \n",
      "\n",
      "                                      artist_name  popularity     score  \n",
      "spotify_id                                                               \n",
      "06xkZyjTIh8z8evDynHP9G                    Aliados        35.0  0.727282  \n",
      "09ekFvUyVebZ1kyYt6oz28               Luiz Gonzaga        59.0  0.686948  \n",
      "09eTdPN8RUdrAQKsNMF1fI                        Yes        24.0  0.636107  \n",
      "02P3jdwtXBPRVMSDG8WDkS           Kleiton e Kledir         0.0  0.588608  \n",
      "09fFNAVcwcXJcXUP7mM4Xe                 Diana Ross        28.0  0.586665  \n",
      "0162o5irCVnAki4PlGyY1G                Alta Cumbia        20.0  0.586111  \n",
      "0G2tHYsAHueVaPhTTBbVna  The Asteroids Galaxy Tour        54.0  0.556381  \n",
      "09fEg2GgHCBjkiYabvpmnY                Alicia Keys        44.0  0.555484  \n",
      "02Wqo17NTdNMwuSkxZns3G                     Fagner        28.0  0.543243  \n",
      "0KD3EGKEV2qby1pxKx8KO0             Rolling Stones        16.0  0.535269  \n"
     ]
    }
   ],
   "source": [
    "mf_utils.inspect_recommendations(sample_playlist_indx, recommendations, split_train_df, songs_df)"
   ]
  },
  {
   "cell_type": "markdown",
   "metadata": {},
   "source": [
    "## TODO\n",
    "1. Calculate hit rate for top 20k songs for playlists which were split\n",
    "2. Optimise hyperparameters\n",
    "3. See how much search space can be reduced?"
   ]
  },
  {
   "cell_type": "code",
   "execution_count": null,
   "metadata": {},
   "outputs": [],
   "source": []
  }
 ],
 "metadata": {
  "kernelspec": {
   "display_name": "Python 3",
   "language": "python",
   "name": "python3"
  },
  "language_info": {
   "codemirror_mode": {
    "name": "ipython",
    "version": 3
   },
   "file_extension": ".py",
   "mimetype": "text/x-python",
   "name": "python",
   "nbconvert_exporter": "python",
   "pygments_lexer": "ipython3",
   "version": "3.7.4"
  }
 },
 "nbformat": 4,
 "nbformat_minor": 2
}
