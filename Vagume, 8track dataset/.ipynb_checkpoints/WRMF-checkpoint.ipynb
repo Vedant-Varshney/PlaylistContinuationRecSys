{
 "cells": [
  {
   "cell_type": "markdown",
   "metadata": {},
   "source": [
    "# WRMF"
   ]
  },
  {
   "cell_type": "markdown",
   "metadata": {},
   "source": [
    "**Objectives:**\n",
    "1. Compute the implicit ratings playlist-song matrix\n",
    "2. Factorise the matrix and output playlist and song embeddings\n",
    "3. Find the 20,000 most used songs for each playlist."
   ]
  },
  {
   "cell_type": "code",
   "execution_count": 2,
   "metadata": {},
   "outputs": [],
   "source": [
    "import pandas as pd\n",
    "import matplotlib.pyplot as plt\n",
    "import numpy as np\n",
    "import scipy as sp\n",
    "\n",
    "import implicit"
   ]
  },
  {
   "cell_type": "code",
   "execution_count": 57,
   "metadata": {},
   "outputs": [],
   "source": [
    "df = pd.read_csv(\"cleaned_data_0.2.csv\", index_col=[0])"
   ]
  },
  {
   "cell_type": "code",
   "execution_count": 38,
   "metadata": {},
   "outputs": [
    {
     "data": {
      "text/html": [
       "<div>\n",
       "<style scoped>\n",
       "    .dataframe tbody tr th:only-of-type {\n",
       "        vertical-align: middle;\n",
       "    }\n",
       "\n",
       "    .dataframe tbody tr th {\n",
       "        vertical-align: top;\n",
       "    }\n",
       "\n",
       "    .dataframe thead th {\n",
       "        text-align: right;\n",
       "    }\n",
       "</style>\n",
       "<table border=\"1\" class=\"dataframe\">\n",
       "  <thead>\n",
       "    <tr style=\"text-align: right;\">\n",
       "      <th></th>\n",
       "      <th>source</th>\n",
       "      <th>user_id</th>\n",
       "      <th>track_name</th>\n",
       "      <th>artist_name</th>\n",
       "      <th>playlist_id</th>\n",
       "      <th>tags</th>\n",
       "      <th>playlist_name</th>\n",
       "      <th>spotify_id</th>\n",
       "      <th>album</th>\n",
       "      <th>popularity</th>\n",
       "      <th>danceability</th>\n",
       "      <th>energy</th>\n",
       "      <th>loudness</th>\n",
       "      <th>speechiness</th>\n",
       "      <th>acousticness</th>\n",
       "      <th>instrumentalness</th>\n",
       "      <th>liveness</th>\n",
       "      <th>valence</th>\n",
       "      <th>tempo</th>\n",
       "    </tr>\n",
       "  </thead>\n",
       "  <tbody>\n",
       "    <tr>\n",
       "      <td>0</td>\n",
       "      <td>vagalume</td>\n",
       "      <td>sitevagalume</td>\n",
       "      <td>Eraser</td>\n",
       "      <td>Ed Sheeran</td>\n",
       "      <td>6736120</td>\n",
       "      <td>pop,pop/rock,rock</td>\n",
       "      <td>Ed Sheeran - Divide</td>\n",
       "      <td>7oolFzHipTMg2nL7shhdz2</td>\n",
       "      <td>÷ (Deluxe)</td>\n",
       "      <td>64.0</td>\n",
       "      <td>0.640</td>\n",
       "      <td>0.812</td>\n",
       "      <td>-5.647</td>\n",
       "      <td>0.0834</td>\n",
       "      <td>0.0860</td>\n",
       "      <td>0.000000</td>\n",
       "      <td>0.0509</td>\n",
       "      <td>0.914</td>\n",
       "      <td>86.013</td>\n",
       "    </tr>\n",
       "    <tr>\n",
       "      <td>1</td>\n",
       "      <td>vagalume</td>\n",
       "      <td>sitevagalume</td>\n",
       "      <td>Castle On The Hill</td>\n",
       "      <td>Ed Sheeran</td>\n",
       "      <td>6736120</td>\n",
       "      <td>pop,pop/rock,rock</td>\n",
       "      <td>Ed Sheeran - Divide</td>\n",
       "      <td>6PCUP3dWmTjcTtXY02oFdT</td>\n",
       "      <td>÷ (Deluxe)</td>\n",
       "      <td>78.0</td>\n",
       "      <td>0.461</td>\n",
       "      <td>0.834</td>\n",
       "      <td>-4.868</td>\n",
       "      <td>0.0989</td>\n",
       "      <td>0.0232</td>\n",
       "      <td>0.000011</td>\n",
       "      <td>0.1400</td>\n",
       "      <td>0.471</td>\n",
       "      <td>135.007</td>\n",
       "    </tr>\n",
       "    <tr>\n",
       "      <td>2</td>\n",
       "      <td>vagalume</td>\n",
       "      <td>sitevagalume</td>\n",
       "      <td>Dive</td>\n",
       "      <td>Ed Sheeran</td>\n",
       "      <td>6736120</td>\n",
       "      <td>pop,pop/rock,rock</td>\n",
       "      <td>Ed Sheeran - Divide</td>\n",
       "      <td>51ChrwmUPDJvedPQnIU8Ls</td>\n",
       "      <td>÷ (Deluxe)</td>\n",
       "      <td>75.0</td>\n",
       "      <td>0.761</td>\n",
       "      <td>0.386</td>\n",
       "      <td>-6.158</td>\n",
       "      <td>0.0399</td>\n",
       "      <td>0.3550</td>\n",
       "      <td>0.000000</td>\n",
       "      <td>0.0953</td>\n",
       "      <td>0.526</td>\n",
       "      <td>134.943</td>\n",
       "    </tr>\n",
       "    <tr>\n",
       "      <td>3</td>\n",
       "      <td>vagalume</td>\n",
       "      <td>sitevagalume</td>\n",
       "      <td>Shape Of You</td>\n",
       "      <td>Ed Sheeran</td>\n",
       "      <td>6736120</td>\n",
       "      <td>pop,pop/rock,rock</td>\n",
       "      <td>Ed Sheeran - Divide</td>\n",
       "      <td>7qiZfU4dY1lWllzX7mPBI3</td>\n",
       "      <td>÷ (Deluxe)</td>\n",
       "      <td>85.0</td>\n",
       "      <td>0.825</td>\n",
       "      <td>0.652</td>\n",
       "      <td>-3.183</td>\n",
       "      <td>0.0802</td>\n",
       "      <td>0.5810</td>\n",
       "      <td>0.000000</td>\n",
       "      <td>0.0931</td>\n",
       "      <td>0.931</td>\n",
       "      <td>95.977</td>\n",
       "    </tr>\n",
       "    <tr>\n",
       "      <td>4</td>\n",
       "      <td>vagalume</td>\n",
       "      <td>sitevagalume</td>\n",
       "      <td>Perfect</td>\n",
       "      <td>Ed Sheeran</td>\n",
       "      <td>6736120</td>\n",
       "      <td>pop,pop/rock,rock</td>\n",
       "      <td>Ed Sheeran - Divide</td>\n",
       "      <td>0tgVpDi06FyKpA1z0VMD4v</td>\n",
       "      <td>÷ (Deluxe)</td>\n",
       "      <td>86.0</td>\n",
       "      <td>0.599</td>\n",
       "      <td>0.448</td>\n",
       "      <td>-6.312</td>\n",
       "      <td>0.0232</td>\n",
       "      <td>0.1630</td>\n",
       "      <td>0.000000</td>\n",
       "      <td>0.1060</td>\n",
       "      <td>0.168</td>\n",
       "      <td>95.050</td>\n",
       "    </tr>\n",
       "  </tbody>\n",
       "</table>\n",
       "</div>"
      ],
      "text/plain": [
       "     source       user_id          track_name artist_name  playlist_id  \\\n",
       "0  vagalume  sitevagalume              Eraser  Ed Sheeran      6736120   \n",
       "1  vagalume  sitevagalume  Castle On The Hill  Ed Sheeran      6736120   \n",
       "2  vagalume  sitevagalume                Dive  Ed Sheeran      6736120   \n",
       "3  vagalume  sitevagalume        Shape Of You  Ed Sheeran      6736120   \n",
       "4  vagalume  sitevagalume             Perfect  Ed Sheeran      6736120   \n",
       "\n",
       "                tags        playlist_name              spotify_id       album  \\\n",
       "0  pop,pop/rock,rock  Ed Sheeran - Divide  7oolFzHipTMg2nL7shhdz2  ÷ (Deluxe)   \n",
       "1  pop,pop/rock,rock  Ed Sheeran - Divide  6PCUP3dWmTjcTtXY02oFdT  ÷ (Deluxe)   \n",
       "2  pop,pop/rock,rock  Ed Sheeran - Divide  51ChrwmUPDJvedPQnIU8Ls  ÷ (Deluxe)   \n",
       "3  pop,pop/rock,rock  Ed Sheeran - Divide  7qiZfU4dY1lWllzX7mPBI3  ÷ (Deluxe)   \n",
       "4  pop,pop/rock,rock  Ed Sheeran - Divide  0tgVpDi06FyKpA1z0VMD4v  ÷ (Deluxe)   \n",
       "\n",
       "   popularity  danceability  energy  loudness  speechiness  acousticness  \\\n",
       "0        64.0         0.640   0.812    -5.647       0.0834        0.0860   \n",
       "1        78.0         0.461   0.834    -4.868       0.0989        0.0232   \n",
       "2        75.0         0.761   0.386    -6.158       0.0399        0.3550   \n",
       "3        85.0         0.825   0.652    -3.183       0.0802        0.5810   \n",
       "4        86.0         0.599   0.448    -6.312       0.0232        0.1630   \n",
       "\n",
       "   instrumentalness  liveness  valence    tempo  \n",
       "0          0.000000    0.0509    0.914   86.013  \n",
       "1          0.000011    0.1400    0.471  135.007  \n",
       "2          0.000000    0.0953    0.526  134.943  \n",
       "3          0.000000    0.0931    0.931   95.977  \n",
       "4          0.000000    0.1060    0.168   95.050  "
      ]
     },
     "execution_count": 38,
     "metadata": {},
     "output_type": "execute_result"
    }
   ],
   "source": [
    "df.head()"
   ]
  },
  {
   "cell_type": "code",
   "execution_count": 14,
   "metadata": {},
   "outputs": [
    {
     "data": {
      "text/html": [
       "<div>\n",
       "<style scoped>\n",
       "    .dataframe tbody tr th:only-of-type {\n",
       "        vertical-align: middle;\n",
       "    }\n",
       "\n",
       "    .dataframe tbody tr th {\n",
       "        vertical-align: top;\n",
       "    }\n",
       "\n",
       "    .dataframe thead th {\n",
       "        text-align: right;\n",
       "    }\n",
       "</style>\n",
       "<table border=\"1\" class=\"dataframe\">\n",
       "  <thead>\n",
       "    <tr style=\"text-align: right;\">\n",
       "      <th></th>\n",
       "      <th>playlist_id</th>\n",
       "      <th>popularity</th>\n",
       "      <th>danceability</th>\n",
       "      <th>energy</th>\n",
       "      <th>loudness</th>\n",
       "      <th>speechiness</th>\n",
       "      <th>acousticness</th>\n",
       "      <th>instrumentalness</th>\n",
       "      <th>liveness</th>\n",
       "      <th>valence</th>\n",
       "      <th>tempo</th>\n",
       "    </tr>\n",
       "  </thead>\n",
       "  <tbody>\n",
       "    <tr>\n",
       "      <td>count</td>\n",
       "      <td>5.605800e+05</td>\n",
       "      <td>560580.000000</td>\n",
       "      <td>560580.000000</td>\n",
       "      <td>560580.000000</td>\n",
       "      <td>560580.000000</td>\n",
       "      <td>560580.000000</td>\n",
       "      <td>560580.000000</td>\n",
       "      <td>560580.000000</td>\n",
       "      <td>560580.000000</td>\n",
       "      <td>560580.000000</td>\n",
       "      <td>560580.000000</td>\n",
       "    </tr>\n",
       "    <tr>\n",
       "      <td>mean</td>\n",
       "      <td>4.883720e+06</td>\n",
       "      <td>44.834045</td>\n",
       "      <td>0.585467</td>\n",
       "      <td>0.650172</td>\n",
       "      <td>-7.650535</td>\n",
       "      <td>0.078989</td>\n",
       "      <td>0.291727</td>\n",
       "      <td>0.063936</td>\n",
       "      <td>0.232787</td>\n",
       "      <td>0.531227</td>\n",
       "      <td>122.459596</td>\n",
       "    </tr>\n",
       "    <tr>\n",
       "      <td>std</td>\n",
       "      <td>1.582749e+06</td>\n",
       "      <td>22.334717</td>\n",
       "      <td>0.158456</td>\n",
       "      <td>0.223298</td>\n",
       "      <td>4.132012</td>\n",
       "      <td>0.088246</td>\n",
       "      <td>0.296057</td>\n",
       "      <td>0.205016</td>\n",
       "      <td>0.216726</td>\n",
       "      <td>0.248684</td>\n",
       "      <td>28.813805</td>\n",
       "    </tr>\n",
       "    <tr>\n",
       "      <td>min</td>\n",
       "      <td>1.870000e+02</td>\n",
       "      <td>0.000000</td>\n",
       "      <td>0.000000</td>\n",
       "      <td>0.000000</td>\n",
       "      <td>-60.000000</td>\n",
       "      <td>0.000000</td>\n",
       "      <td>0.000000</td>\n",
       "      <td>0.000000</td>\n",
       "      <td>0.000000</td>\n",
       "      <td>0.000000</td>\n",
       "      <td>0.000000</td>\n",
       "    </tr>\n",
       "    <tr>\n",
       "      <td>25%</td>\n",
       "      <td>5.086943e+06</td>\n",
       "      <td>28.000000</td>\n",
       "      <td>0.483000</td>\n",
       "      <td>0.500000</td>\n",
       "      <td>-9.362000</td>\n",
       "      <td>0.033900</td>\n",
       "      <td>0.029600</td>\n",
       "      <td>0.000000</td>\n",
       "      <td>0.098600</td>\n",
       "      <td>0.334000</td>\n",
       "      <td>99.989000</td>\n",
       "    </tr>\n",
       "    <tr>\n",
       "      <td>50%</td>\n",
       "      <td>5.340961e+06</td>\n",
       "      <td>47.000000</td>\n",
       "      <td>0.595000</td>\n",
       "      <td>0.685000</td>\n",
       "      <td>-6.671000</td>\n",
       "      <td>0.045600</td>\n",
       "      <td>0.181000</td>\n",
       "      <td>0.000003</td>\n",
       "      <td>0.137000</td>\n",
       "      <td>0.535000</td>\n",
       "      <td>122.668000</td>\n",
       "    </tr>\n",
       "    <tr>\n",
       "      <td>75%</td>\n",
       "      <td>5.593525e+06</td>\n",
       "      <td>63.000000</td>\n",
       "      <td>0.698000</td>\n",
       "      <td>0.832000</td>\n",
       "      <td>-4.877000</td>\n",
       "      <td>0.079100</td>\n",
       "      <td>0.512000</td>\n",
       "      <td>0.000711</td>\n",
       "      <td>0.296000</td>\n",
       "      <td>0.737000</td>\n",
       "      <td>139.994000</td>\n",
       "    </tr>\n",
       "    <tr>\n",
       "      <td>max</td>\n",
       "      <td>6.774895e+06</td>\n",
       "      <td>100.000000</td>\n",
       "      <td>0.988000</td>\n",
       "      <td>1.000000</td>\n",
       "      <td>3.776000</td>\n",
       "      <td>0.966000</td>\n",
       "      <td>0.996000</td>\n",
       "      <td>1.000000</td>\n",
       "      <td>1.000000</td>\n",
       "      <td>1.000000</td>\n",
       "      <td>247.972000</td>\n",
       "    </tr>\n",
       "  </tbody>\n",
       "</table>\n",
       "</div>"
      ],
      "text/plain": [
       "        playlist_id     popularity   danceability         energy  \\\n",
       "count  5.605800e+05  560580.000000  560580.000000  560580.000000   \n",
       "mean   4.883720e+06      44.834045       0.585467       0.650172   \n",
       "std    1.582749e+06      22.334717       0.158456       0.223298   \n",
       "min    1.870000e+02       0.000000       0.000000       0.000000   \n",
       "25%    5.086943e+06      28.000000       0.483000       0.500000   \n",
       "50%    5.340961e+06      47.000000       0.595000       0.685000   \n",
       "75%    5.593525e+06      63.000000       0.698000       0.832000   \n",
       "max    6.774895e+06     100.000000       0.988000       1.000000   \n",
       "\n",
       "            loudness    speechiness   acousticness  instrumentalness  \\\n",
       "count  560580.000000  560580.000000  560580.000000     560580.000000   \n",
       "mean       -7.650535       0.078989       0.291727          0.063936   \n",
       "std         4.132012       0.088246       0.296057          0.205016   \n",
       "min       -60.000000       0.000000       0.000000          0.000000   \n",
       "25%        -9.362000       0.033900       0.029600          0.000000   \n",
       "50%        -6.671000       0.045600       0.181000          0.000003   \n",
       "75%        -4.877000       0.079100       0.512000          0.000711   \n",
       "max         3.776000       0.966000       0.996000          1.000000   \n",
       "\n",
       "            liveness        valence          tempo  \n",
       "count  560580.000000  560580.000000  560580.000000  \n",
       "mean        0.232787       0.531227     122.459596  \n",
       "std         0.216726       0.248684      28.813805  \n",
       "min         0.000000       0.000000       0.000000  \n",
       "25%         0.098600       0.334000      99.989000  \n",
       "50%         0.137000       0.535000     122.668000  \n",
       "75%         0.296000       0.737000     139.994000  \n",
       "max         1.000000       1.000000     247.972000  "
      ]
     },
     "execution_count": 14,
     "metadata": {},
     "output_type": "execute_result"
    }
   ],
   "source": [
    "df.describe()"
   ]
  },
  {
   "cell_type": "markdown",
   "metadata": {},
   "source": [
    "## Implicit Ratings Matrix"
   ]
  },
  {
   "cell_type": "markdown",
   "metadata": {},
   "source": [
    "We now need to create a songs-playlist matrix, $R$.\n",
    "\n",
    "$R_{ij}$ is 1 if song $i$ is in playlist $j$ and 0 otherwise."
   ]
  },
  {
   "cell_type": "code",
   "execution_count": 53,
   "metadata": {},
   "outputs": [],
   "source": [
    "# 1-2 line solution but resulting matrix is very sparse and wastes a LOT of memory (~100MB becomes ~1GB)\n",
    "\n",
    "# assert np.isfinite(df.popularity).all()\n",
    "# songs_playlist = df.pivot_table(index=\"spotify_id\", columns=\"playlist_id\",\n",
    "#                                 aggfunc=lambda x: 1, fill_value=0, values=\"popularity\")"
   ]
  },
  {
   "cell_type": "markdown",
   "metadata": {},
   "source": [
    "First let us calculate the sparsity of the dataset as it is."
   ]
  },
  {
   "cell_type": "code",
   "execution_count": 130,
   "metadata": {},
   "outputs": [
    {
     "name": "stdout",
     "output_type": "stream",
     "text": [
      "Sparsity: 0.05032%\n"
     ]
    }
   ],
   "source": [
    "def sparsity(df):\n",
    "    return float(df.shape[0])*100/float(len(df.spotify_id.unique()) * len(df.playlist_id.unique()))\n",
    "\n",
    "print(f\"Sparsity: {sparsity(df):.5f}%\")"
   ]
  },
  {
   "cell_type": "markdown",
   "metadata": {},
   "source": [
    "A good sparsity here would be approx. 0.1%.\n",
    "\n",
    "Let us remove some very short playlists to see whether our sparsity improves.\n",
    "\n",
    "Note - perhaps the better strategy to improve sparsity would be to remove the most novel (least popular) songs. However, this may introduce bias."
   ]
  },
  {
   "cell_type": "code",
   "execution_count": 141,
   "metadata": {},
   "outputs": [],
   "source": [
    "def plot_value_occurences(column, df=df):\n",
    "    value_counts = pd.value_counts(df[column])\n",
    "\n",
    "    plt.figure(figsize=(12,10))\n",
    "\n",
    "    plt.xlabel(column)\n",
    "    plt.ylabel(f\"{column} Occurences\")\n",
    "\n",
    "    plt.plot(value_counts.values, marker=\"x\")\n",
    "    plt.show()"
   ]
  },
  {
   "cell_type": "code",
   "execution_count": 142,
   "metadata": {},
   "outputs": [
    {
     "data": {
      "image/png": "[encoded data removed]",
      "text/plain": [
       "<Figure size 864x720 with 1 Axes>"
      ]
     },
     "metadata": {
      "needs_background": "light"
     },
     "output_type": "display_data"
    }
   ],
   "source": [
    "plot_value_occurences(\"playlist_id\")"
   ]
  },
  {
   "cell_type": "code",
   "execution_count": 143,
   "metadata": {},
   "outputs": [],
   "source": [
    "def cold_start_indxs(df, song_threshold=2, return_playlist=False, reverse=False):\n",
    "    \"\"\"\n",
    "    Returns the *index* for all playlists which do not have at least the treshold number of songs.\n",
    "    \"\"\"\n",
    "    value_counts = pd.value_counts(df.playlist_id)\n",
    "    if reverse:\n",
    "        playlists = value_counts[value_counts>song_threshold].index.values\n",
    "    else:\n",
    "        playlists = value_counts[value_counts<song_threshold].index.values\n",
    "    \n",
    "    if return_playlist:\n",
    "        return df[df.playlist_id.isin(playlists)].index, playlists\n",
    "    else:\n",
    "        return df[df.playlist_id.isin(playlists)].index"
   ]
  },
  {
   "cell_type": "code",
   "execution_count": 155,
   "metadata": {},
   "outputs": [
    {
     "name": "stdout",
     "output_type": "stream",
     "text": [
      "% of records from playlists below threshold length: 0.09%\n"
     ]
    }
   ],
   "source": [
    "short_playlists = cold_start_indxs(df, song_threshold=2)\n",
    "\n",
    "print(f\"% of records from playlists below threshold length: {len(short_playlists)*100/len(df):.2f}%\")"
   ]
  },
  {
   "cell_type": "code",
   "execution_count": 157,
   "metadata": {},
   "outputs": [
    {
     "name": "stdout",
     "output_type": "stream",
     "text": [
      "% of playlists retained: 95.44%\n",
      "Sparsity: 0.05269%\n"
     ]
    }
   ],
   "source": [
    "new_df = df.drop(short_playlists, axis=0)\n",
    "\n",
    "print(f\"% of playlists retained: {len(new_df.playlist_id.unique())*100/len(df.playlist_id.unique()):.2f}%\")\n",
    "print(f\"Sparsity: {sparsity(new_df):.5f}%\")"
   ]
  },
  {
   "cell_type": "markdown",
   "metadata": {},
   "source": [
    "We can see that we have improved our sparsity by 0.006% but have also lost 0.5% of all records and, more importantly, 5% of all playlists. This is likely not a good tradeoff in the long run."
   ]
  },
  {
   "cell_type": "markdown",
   "metadata": {},
   "source": [
    "Let us now explore what would happen if we removed the longest playlists. This should not drastically reduce the number of playlists in our dataset but may have a significant impact on sparsity depending on how novel the songs in these very long playlists are."
   ]
  },
  {
   "cell_type": "code",
   "execution_count": 164,
   "metadata": {},
   "outputs": [
    {
     "name": "stdout",
     "output_type": "stream",
     "text": [
      "% of records from playlists above threshold length: 7.70%\n",
      "% of playlists retained: 99.74%\n",
      "Sparsity: 0.04907%\n"
     ]
    }
   ],
   "source": [
    "short_playlists = cold_start_indxs(df, song_threshold=1000, reverse=True)\n",
    "\n",
    "print(f\"% of records from playlists above threshold length: {len(short_playlists)*100/len(df):.2f}%\")\n",
    "\n",
    "new_df = df.drop(short_playlists, axis=0)\n",
    "\n",
    "print(f\"% of playlists retained: {len(new_df.playlist_id.unique())*100/len(df.playlist_id.unique()):.2f}%\")\n",
    "print(f\"Sparsity: {sparsity(new_df):.5f}%\")"
   ]
  },
  {
   "cell_type": "markdown",
   "metadata": {},
   "source": [
    "From the above we can see that dropping the longest playlists allows us to retail near 100% of all playlists while lowering the number of records by 7%.\n",
    "\n",
    "However, the sparsity of this new dataset actually decreases. This suggests that many of the songs in these very long playlists are very popular (as is to be expected) and thus were not significantly contributing to the low sparsity."
   ]
  },
  {
   "cell_type": "markdown",
   "metadata": {},
   "source": [
    "It seems then that neither removing the longest playlists nor the shortest seem like good options.\n",
    "\n",
    "For now, let us move forward with the original dataset (with a sparsity of 0.050%) and see what recall we can achieve with our WRMF recommendations. If this is sufficiently high $(\\gtrapprox{60}\\%)$, we can proceed. If not, we may have to assess improving the sparsity before rerunning the WRMF model."
   ]
  },
  {
   "cell_type": "markdown",
   "metadata": {},
   "source": [
    "## TODO\n",
    "1. Build sparse matrix.\n",
    "2. WRMF"
   ]
  },
  {
   "cell_type": "code",
   "execution_count": null,
   "metadata": {},
   "outputs": [],
   "source": []
  }
 ],
 "metadata": {
  "kernelspec": {
   "display_name": "Python 3",
   "language": "python",
   "name": "python3"
  },
  "language_info": {
   "codemirror_mode": {
    "name": "ipython",
    "version": 3
   },
   "file_extension": ".py",
   "mimetype": "text/x-python",
   "name": "python",
   "nbconvert_exporter": "python",
   "pygments_lexer": "ipython3",
   "version": "3.7.4"
  }
 },
 "nbformat": 4,
 "nbformat_minor": 2
}
