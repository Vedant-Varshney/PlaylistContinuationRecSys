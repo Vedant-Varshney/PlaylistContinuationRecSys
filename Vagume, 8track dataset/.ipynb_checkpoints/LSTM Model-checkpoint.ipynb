{
 "cells": [
  {
   "cell_type": "markdown",
   "metadata": {},
   "source": [
    "# LSTM Model"
   ]
  },
  {
   "cell_type": "code",
   "execution_count": 37,
   "metadata": {},
   "outputs": [],
   "source": [
    "import pandas as pd\n",
    "import matplotlib.pyplot as plt\n",
    "import numpy as np\n",
    "import scipy as sp\n",
    "\n",
    "import implicit\n",
    "from tqdm.notebook import tqdm, trange\n",
    "\n",
    "from sklearn.model_selection import train_test_split\n",
    "\n",
    "import sys\n",
    "sys.path.append(\"..\")\n",
    "\n",
    "from collections import defaultdict\n",
    "from importlib import reload\n",
    "\n",
    "import pickle\n",
    "\n",
    "from joblib import delayed, Parallel\n",
    "\n",
    "import seaborn as sns\n",
    "sns.set()\n",
    "\n",
    "import tensorflow as tf\n",
    "from tensorflow import keras\n",
    "\n",
    "from tensorflow.keras.models import Sequential\n",
    "from tensorflow.keras.layers import Dense, LSTM, Embedding\n",
    "from tensorflow.keras.optimizers import RMSprop\n",
    "from tensorflow.keras.callbacks import EarlyStopping\n",
    "from tensorflow.keras.backend import square, mean, log, dot, flatten, clear_session\n",
    "from sklearn.preprocessing import MinMaxScaler\n",
    "from sklearn.metrics import mean_squared_error"
   ]
  },
  {
   "cell_type": "code",
   "execution_count": 2,
   "metadata": {},
   "outputs": [],
   "source": [
    "import df_utils\n",
    "import mf_utils\n",
    "import rnn_utils"
   ]
  },
  {
   "cell_type": "code",
   "execution_count": 60,
   "metadata": {},
   "outputs": [
    {
     "name": "stderr",
     "output_type": "stream",
     "text": [
      "/Users/vedantvarshney/opt/anaconda3/lib/python3.7/site-packages/IPython/core/interactiveshell.py:3058: DtypeWarning: Columns (2) have mixed types. Specify dtype option on import or set low_memory=False.\n",
      "  interactivity=interactivity, compiler=compiler, result=result)\n"
     ]
    }
   ],
   "source": [
    "df = pd.read_csv(\"cleaned_data_0.2.csv\", index_col=[0])\n",
    "songs_df = pd.read_csv(\"songs_DF.csv\", index_col=[0])\n",
    "\n",
    "train_df = pd.read_csv(\"Train_DF.csv\", index_col=[0])\n",
    "\n",
    "# split_train_df = pd.read_csv(\"Split_Train_DF.csv\", index_col=[0])\n",
    "excl = pickle.load(open(\"Excluded_Songs_Series.p\", \"rb\"))\n",
    "\n",
    "# CANNOT use songs_df here as order is different\n",
    "indx_to_song = mf_utils.indx_mapping(df.spotify_id.unique())\n",
    "\n",
    "# CHANGE FROM EARLIER NOTEBOOKS - now using train_df and not split_train_df\n",
    "indx_to_playlist = mf_utils.indx_mapping(train_df.playlist_id.unique())\n",
    "\n",
    "song_to_indx = mf_utils.indx_mapping(df.spotify_id.unique(), indx_to_item=False)\n",
    "playlist_to_indx = mf_utils.indx_mapping(train_df.playlist_id.unique(), indx_to_item=False)"
   ]
  },
  {
   "cell_type": "code",
   "execution_count": 4,
   "metadata": {},
   "outputs": [
    {
     "name": "stderr",
     "output_type": "stream",
     "text": [
      "WARNING:root:Intel MKL BLAS detected. Its highly recommend to set the environment variable 'export MKL_NUM_THREADS=1' to disable its internal multithreading\n"
     ]
    },
    {
     "data": {
      "application/vnd.jupyter.widget-view+json": {
       "model_id": "e42b96affe814e7691d2f6337af3a551",
       "version_major": 2,
       "version_minor": 0
      },
      "text/plain": [
       "HBox(children=(IntProgress(value=0, max=15), HTML(value='')))"
      ]
     },
     "metadata": {},
     "output_type": "display_data"
    },
    {
     "name": "stdout",
     "output_type": "stream",
     "text": [
      "\n"
     ]
    }
   ],
   "source": [
    "train_ratings_matrix = mf_utils.df_to_sparse(train_df, all_songs=df.spotify_id.unique())\n",
    "\n",
    "# Number of latent factors now 300\n",
    "wrmf_model = implicit.als.AlternatingLeastSquares(factors=300)\n",
    "\n",
    "# items_users matrix in this case is the songs_playlist matrix\n",
    "wrmf_model.fit(train_ratings_matrix)"
   ]
  },
  {
   "cell_type": "code",
   "execution_count": 5,
   "metadata": {},
   "outputs": [
    {
     "data": {
      "text/plain": [
       "(10531, 300)"
      ]
     },
     "execution_count": 5,
     "metadata": {},
     "output_type": "execute_result"
    }
   ],
   "source": [
    "wrmf_model.user_factors.shape"
   ]
  },
  {
   "cell_type": "code",
   "execution_count": 6,
   "metadata": {},
   "outputs": [
    {
     "data": {
      "text/plain": [
       "(105152, 300)"
      ]
     },
     "execution_count": 6,
     "metadata": {},
     "output_type": "execute_result"
    }
   ],
   "source": [
    "wrmf_model.item_factors.shape"
   ]
  },
  {
   "cell_type": "code",
   "execution_count": 7,
   "metadata": {},
   "outputs": [
    {
     "data": {
      "text/plain": [
       "0"
      ]
     },
     "execution_count": 7,
     "metadata": {},
     "output_type": "execute_result"
    }
   ],
   "source": [
    "playlist_to_indx[6736120]"
   ]
  },
  {
   "cell_type": "code",
   "execution_count": 8,
   "metadata": {},
   "outputs": [
    {
     "data": {
      "text/html": [
       "<div>\n",
       "<style scoped>\n",
       "    .dataframe tbody tr th:only-of-type {\n",
       "        vertical-align: middle;\n",
       "    }\n",
       "\n",
       "    .dataframe tbody tr th {\n",
       "        vertical-align: top;\n",
       "    }\n",
       "\n",
       "    .dataframe thead th {\n",
       "        text-align: right;\n",
       "    }\n",
       "</style>\n",
       "<table border=\"1\" class=\"dataframe\">\n",
       "  <thead>\n",
       "    <tr style=\"text-align: right;\">\n",
       "      <th></th>\n",
       "      <th>source</th>\n",
       "      <th>user_id</th>\n",
       "      <th>track_name</th>\n",
       "      <th>artist_name</th>\n",
       "      <th>playlist_id</th>\n",
       "      <th>tags</th>\n",
       "      <th>playlist_name</th>\n",
       "      <th>spotify_id</th>\n",
       "      <th>album</th>\n",
       "      <th>popularity</th>\n",
       "      <th>danceability</th>\n",
       "      <th>energy</th>\n",
       "      <th>loudness</th>\n",
       "      <th>speechiness</th>\n",
       "      <th>acousticness</th>\n",
       "      <th>instrumentalness</th>\n",
       "      <th>liveness</th>\n",
       "      <th>valence</th>\n",
       "      <th>tempo</th>\n",
       "    </tr>\n",
       "  </thead>\n",
       "  <tbody>\n",
       "    <tr>\n",
       "      <td>0</td>\n",
       "      <td>vagalume</td>\n",
       "      <td>sitevagalume</td>\n",
       "      <td>Eraser</td>\n",
       "      <td>Ed Sheeran</td>\n",
       "      <td>6736120</td>\n",
       "      <td>pop,pop/rock,rock</td>\n",
       "      <td>Ed Sheeran - Divide</td>\n",
       "      <td>7oolFzHipTMg2nL7shhdz2</td>\n",
       "      <td>÷ (Deluxe)</td>\n",
       "      <td>64.0</td>\n",
       "      <td>0.640</td>\n",
       "      <td>0.812</td>\n",
       "      <td>-5.647</td>\n",
       "      <td>0.0834</td>\n",
       "      <td>0.086000</td>\n",
       "      <td>0.000000</td>\n",
       "      <td>0.0509</td>\n",
       "      <td>0.914</td>\n",
       "      <td>86.013</td>\n",
       "    </tr>\n",
       "    <tr>\n",
       "      <td>1</td>\n",
       "      <td>vagalume</td>\n",
       "      <td>sitevagalume</td>\n",
       "      <td>Castle On The Hill</td>\n",
       "      <td>Ed Sheeran</td>\n",
       "      <td>6736120</td>\n",
       "      <td>pop,pop/rock,rock</td>\n",
       "      <td>Ed Sheeran - Divide</td>\n",
       "      <td>6PCUP3dWmTjcTtXY02oFdT</td>\n",
       "      <td>÷ (Deluxe)</td>\n",
       "      <td>78.0</td>\n",
       "      <td>0.461</td>\n",
       "      <td>0.834</td>\n",
       "      <td>-4.868</td>\n",
       "      <td>0.0989</td>\n",
       "      <td>0.023200</td>\n",
       "      <td>0.000011</td>\n",
       "      <td>0.1400</td>\n",
       "      <td>0.471</td>\n",
       "      <td>135.007</td>\n",
       "    </tr>\n",
       "    <tr>\n",
       "      <td>2</td>\n",
       "      <td>vagalume</td>\n",
       "      <td>sitevagalume</td>\n",
       "      <td>Dive</td>\n",
       "      <td>Ed Sheeran</td>\n",
       "      <td>6736120</td>\n",
       "      <td>pop,pop/rock,rock</td>\n",
       "      <td>Ed Sheeran - Divide</td>\n",
       "      <td>51ChrwmUPDJvedPQnIU8Ls</td>\n",
       "      <td>÷ (Deluxe)</td>\n",
       "      <td>75.0</td>\n",
       "      <td>0.761</td>\n",
       "      <td>0.386</td>\n",
       "      <td>-6.158</td>\n",
       "      <td>0.0399</td>\n",
       "      <td>0.355000</td>\n",
       "      <td>0.000000</td>\n",
       "      <td>0.0953</td>\n",
       "      <td>0.526</td>\n",
       "      <td>134.943</td>\n",
       "    </tr>\n",
       "    <tr>\n",
       "      <td>3</td>\n",
       "      <td>vagalume</td>\n",
       "      <td>sitevagalume</td>\n",
       "      <td>Shape Of You</td>\n",
       "      <td>Ed Sheeran</td>\n",
       "      <td>6736120</td>\n",
       "      <td>pop,pop/rock,rock</td>\n",
       "      <td>Ed Sheeran - Divide</td>\n",
       "      <td>7qiZfU4dY1lWllzX7mPBI3</td>\n",
       "      <td>÷ (Deluxe)</td>\n",
       "      <td>85.0</td>\n",
       "      <td>0.825</td>\n",
       "      <td>0.652</td>\n",
       "      <td>-3.183</td>\n",
       "      <td>0.0802</td>\n",
       "      <td>0.581000</td>\n",
       "      <td>0.000000</td>\n",
       "      <td>0.0931</td>\n",
       "      <td>0.931</td>\n",
       "      <td>95.977</td>\n",
       "    </tr>\n",
       "    <tr>\n",
       "      <td>4</td>\n",
       "      <td>vagalume</td>\n",
       "      <td>sitevagalume</td>\n",
       "      <td>Perfect</td>\n",
       "      <td>Ed Sheeran</td>\n",
       "      <td>6736120</td>\n",
       "      <td>pop,pop/rock,rock</td>\n",
       "      <td>Ed Sheeran - Divide</td>\n",
       "      <td>0tgVpDi06FyKpA1z0VMD4v</td>\n",
       "      <td>÷ (Deluxe)</td>\n",
       "      <td>86.0</td>\n",
       "      <td>0.599</td>\n",
       "      <td>0.448</td>\n",
       "      <td>-6.312</td>\n",
       "      <td>0.0232</td>\n",
       "      <td>0.163000</td>\n",
       "      <td>0.000000</td>\n",
       "      <td>0.1060</td>\n",
       "      <td>0.168</td>\n",
       "      <td>95.050</td>\n",
       "    </tr>\n",
       "    <tr>\n",
       "      <td>...</td>\n",
       "      <td>...</td>\n",
       "      <td>...</td>\n",
       "      <td>...</td>\n",
       "      <td>...</td>\n",
       "      <td>...</td>\n",
       "      <td>...</td>\n",
       "      <td>...</td>\n",
       "      <td>...</td>\n",
       "      <td>...</td>\n",
       "      <td>...</td>\n",
       "      <td>...</td>\n",
       "      <td>...</td>\n",
       "      <td>...</td>\n",
       "      <td>...</td>\n",
       "      <td>...</td>\n",
       "      <td>...</td>\n",
       "      <td>...</td>\n",
       "      <td>...</td>\n",
       "      <td>...</td>\n",
       "    </tr>\n",
       "    <tr>\n",
       "      <td>560575</td>\n",
       "      <td>8tracks</td>\n",
       "      <td>11027</td>\n",
       "      <td>Instant Karma</td>\n",
       "      <td>John Lennon</td>\n",
       "      <td>10532</td>\n",
       "      <td>indie rock,unknown, alternative &amp; punk</td>\n",
       "      <td>scascio</td>\n",
       "      <td>2E9wKgL8NN7Tvydqcjoh7v</td>\n",
       "      <td>Gimme Some Truth</td>\n",
       "      <td>53.0</td>\n",
       "      <td>0.624</td>\n",
       "      <td>0.931</td>\n",
       "      <td>-9.988</td>\n",
       "      <td>0.1160</td>\n",
       "      <td>0.000899</td>\n",
       "      <td>0.001490</td>\n",
       "      <td>0.0631</td>\n",
       "      <td>0.140</td>\n",
       "      <td>119.887</td>\n",
       "    </tr>\n",
       "    <tr>\n",
       "      <td>560576</td>\n",
       "      <td>8tracks</td>\n",
       "      <td>11027</td>\n",
       "      <td>This Must Be the Place (Naive Melody)</td>\n",
       "      <td>Talking Heads</td>\n",
       "      <td>10532</td>\n",
       "      <td>indie rock,unknown, alternative &amp; punk</td>\n",
       "      <td>scascio</td>\n",
       "      <td>6aBUnkXuCEQQHAlTokv9or</td>\n",
       "      <td>Speaking in Tongues (Deluxe Version)</td>\n",
       "      <td>71.0</td>\n",
       "      <td>0.942</td>\n",
       "      <td>0.641</td>\n",
       "      <td>-10.150</td>\n",
       "      <td>0.0333</td>\n",
       "      <td>0.331000</td>\n",
       "      <td>0.179000</td>\n",
       "      <td>0.0280</td>\n",
       "      <td>0.966</td>\n",
       "      <td>114.443</td>\n",
       "    </tr>\n",
       "    <tr>\n",
       "      <td>560577</td>\n",
       "      <td>8tracks</td>\n",
       "      <td>11027</td>\n",
       "      <td>Rock &amp; Roll (Full-Length Version)</td>\n",
       "      <td>The Velvet Underground</td>\n",
       "      <td>10532</td>\n",
       "      <td>indie rock,unknown, alternative &amp; punk</td>\n",
       "      <td>scascio</td>\n",
       "      <td>1o6DclZHw0HomxXEQR1ijX</td>\n",
       "      <td>Loaded: Re-Loaded 45th Anniversary Edition</td>\n",
       "      <td>62.0</td>\n",
       "      <td>0.494</td>\n",
       "      <td>0.735</td>\n",
       "      <td>-8.347</td>\n",
       "      <td>0.0345</td>\n",
       "      <td>0.004010</td>\n",
       "      <td>0.000003</td>\n",
       "      <td>0.5440</td>\n",
       "      <td>0.742</td>\n",
       "      <td>132.526</td>\n",
       "    </tr>\n",
       "    <tr>\n",
       "      <td>560578</td>\n",
       "      <td>8tracks</td>\n",
       "      <td>11027</td>\n",
       "      <td>So. Central Rain (I'm Sorry)</td>\n",
       "      <td>R.E.M.</td>\n",
       "      <td>10532</td>\n",
       "      <td>indie rock,unknown, alternative &amp; punk</td>\n",
       "      <td>scascio</td>\n",
       "      <td>3AdyPM9rfgfPxoWS4tKh2O</td>\n",
       "      <td>Live At The Olympia</td>\n",
       "      <td>38.0</td>\n",
       "      <td>0.339</td>\n",
       "      <td>0.950</td>\n",
       "      <td>-4.797</td>\n",
       "      <td>0.0556</td>\n",
       "      <td>0.000804</td>\n",
       "      <td>0.000034</td>\n",
       "      <td>0.9700</td>\n",
       "      <td>0.460</td>\n",
       "      <td>142.148</td>\n",
       "    </tr>\n",
       "    <tr>\n",
       "      <td>560579</td>\n",
       "      <td>8tracks</td>\n",
       "      <td>24524</td>\n",
       "      <td>Phantom Punch</td>\n",
       "      <td>Sondre Lerche</td>\n",
       "      <td>27073</td>\n",
       "      <td>pop,rock, alternative rock</td>\n",
       "      <td>Wake up!</td>\n",
       "      <td>337mW8qSIO7fXdA2UaDxE2</td>\n",
       "      <td>Phantom Punch</td>\n",
       "      <td>19.0</td>\n",
       "      <td>0.511</td>\n",
       "      <td>0.888</td>\n",
       "      <td>-3.125</td>\n",
       "      <td>0.1120</td>\n",
       "      <td>0.008520</td>\n",
       "      <td>0.000000</td>\n",
       "      <td>0.1900</td>\n",
       "      <td>0.828</td>\n",
       "      <td>146.441</td>\n",
       "    </tr>\n",
       "  </tbody>\n",
       "</table>\n",
       "<p>504522 rows × 19 columns</p>\n",
       "</div>"
      ],
      "text/plain": [
       "          source       user_id                             track_name  \\\n",
       "0       vagalume  sitevagalume                                 Eraser   \n",
       "1       vagalume  sitevagalume                     Castle On The Hill   \n",
       "2       vagalume  sitevagalume                                   Dive   \n",
       "3       vagalume  sitevagalume                           Shape Of You   \n",
       "4       vagalume  sitevagalume                                Perfect   \n",
       "...          ...           ...                                    ...   \n",
       "560575   8tracks         11027                          Instant Karma   \n",
       "560576   8tracks         11027  This Must Be the Place (Naive Melody)   \n",
       "560577   8tracks         11027      Rock & Roll (Full-Length Version)   \n",
       "560578   8tracks         11027           So. Central Rain (I'm Sorry)   \n",
       "560579   8tracks         24524                          Phantom Punch   \n",
       "\n",
       "                   artist_name  playlist_id  \\\n",
       "0                   Ed Sheeran      6736120   \n",
       "1                   Ed Sheeran      6736120   \n",
       "2                   Ed Sheeran      6736120   \n",
       "3                   Ed Sheeran      6736120   \n",
       "4                   Ed Sheeran      6736120   \n",
       "...                        ...          ...   \n",
       "560575             John Lennon        10532   \n",
       "560576           Talking Heads        10532   \n",
       "560577  The Velvet Underground        10532   \n",
       "560578                  R.E.M.        10532   \n",
       "560579           Sondre Lerche        27073   \n",
       "\n",
       "                                           tags        playlist_name  \\\n",
       "0                             pop,pop/rock,rock  Ed Sheeran - Divide   \n",
       "1                             pop,pop/rock,rock  Ed Sheeran - Divide   \n",
       "2                             pop,pop/rock,rock  Ed Sheeran - Divide   \n",
       "3                             pop,pop/rock,rock  Ed Sheeran - Divide   \n",
       "4                             pop,pop/rock,rock  Ed Sheeran - Divide   \n",
       "...                                         ...                  ...   \n",
       "560575   indie rock,unknown, alternative & punk              scascio   \n",
       "560576   indie rock,unknown, alternative & punk              scascio   \n",
       "560577   indie rock,unknown, alternative & punk              scascio   \n",
       "560578   indie rock,unknown, alternative & punk              scascio   \n",
       "560579               pop,rock, alternative rock             Wake up!   \n",
       "\n",
       "                    spotify_id                                       album  \\\n",
       "0       7oolFzHipTMg2nL7shhdz2                                  ÷ (Deluxe)   \n",
       "1       6PCUP3dWmTjcTtXY02oFdT                                  ÷ (Deluxe)   \n",
       "2       51ChrwmUPDJvedPQnIU8Ls                                  ÷ (Deluxe)   \n",
       "3       7qiZfU4dY1lWllzX7mPBI3                                  ÷ (Deluxe)   \n",
       "4       0tgVpDi06FyKpA1z0VMD4v                                  ÷ (Deluxe)   \n",
       "...                        ...                                         ...   \n",
       "560575  2E9wKgL8NN7Tvydqcjoh7v                            Gimme Some Truth   \n",
       "560576  6aBUnkXuCEQQHAlTokv9or        Speaking in Tongues (Deluxe Version)   \n",
       "560577  1o6DclZHw0HomxXEQR1ijX  Loaded: Re-Loaded 45th Anniversary Edition   \n",
       "560578  3AdyPM9rfgfPxoWS4tKh2O                         Live At The Olympia   \n",
       "560579  337mW8qSIO7fXdA2UaDxE2                               Phantom Punch   \n",
       "\n",
       "        popularity  danceability  energy  loudness  speechiness  acousticness  \\\n",
       "0             64.0         0.640   0.812    -5.647       0.0834      0.086000   \n",
       "1             78.0         0.461   0.834    -4.868       0.0989      0.023200   \n",
       "2             75.0         0.761   0.386    -6.158       0.0399      0.355000   \n",
       "3             85.0         0.825   0.652    -3.183       0.0802      0.581000   \n",
       "4             86.0         0.599   0.448    -6.312       0.0232      0.163000   \n",
       "...            ...           ...     ...       ...          ...           ...   \n",
       "560575        53.0         0.624   0.931    -9.988       0.1160      0.000899   \n",
       "560576        71.0         0.942   0.641   -10.150       0.0333      0.331000   \n",
       "560577        62.0         0.494   0.735    -8.347       0.0345      0.004010   \n",
       "560578        38.0         0.339   0.950    -4.797       0.0556      0.000804   \n",
       "560579        19.0         0.511   0.888    -3.125       0.1120      0.008520   \n",
       "\n",
       "        instrumentalness  liveness  valence    tempo  \n",
       "0               0.000000    0.0509    0.914   86.013  \n",
       "1               0.000011    0.1400    0.471  135.007  \n",
       "2               0.000000    0.0953    0.526  134.943  \n",
       "3               0.000000    0.0931    0.931   95.977  \n",
       "4               0.000000    0.1060    0.168   95.050  \n",
       "...                  ...       ...      ...      ...  \n",
       "560575          0.001490    0.0631    0.140  119.887  \n",
       "560576          0.179000    0.0280    0.966  114.443  \n",
       "560577          0.000003    0.5440    0.742  132.526  \n",
       "560578          0.000034    0.9700    0.460  142.148  \n",
       "560579          0.000000    0.1900    0.828  146.441  \n",
       "\n",
       "[504522 rows x 19 columns]"
      ]
     },
     "execution_count": 8,
     "metadata": {},
     "output_type": "execute_result"
    }
   ],
   "source": [
    "train_df"
   ]
  },
  {
   "cell_type": "code",
   "execution_count": 9,
   "metadata": {},
   "outputs": [
    {
     "data": {
      "text/plain": [
       "<module 'rnn_utils' from '../rnn_utils.py'>"
      ]
     },
     "execution_count": 9,
     "metadata": {},
     "output_type": "execute_result"
    }
   ],
   "source": [
    "reload(rnn_utils)"
   ]
  },
  {
   "cell_type": "code",
   "execution_count": 10,
   "metadata": {},
   "outputs": [
    {
     "name": "stdout",
     "output_type": "stream",
     "text": [
      "Number of unique songs:  105152\n"
     ]
    }
   ],
   "source": [
    "print(\"Number of unique songs: \", len(df.spotify_id.unique()))"
   ]
  },
  {
   "cell_type": "code",
   "execution_count": 129,
   "metadata": {},
   "outputs": [],
   "source": [
    "vocab_size = int(40e3)\n",
    "\n",
    "song_vocab = pd.value_counts(df.spotify_id)[:vocab_size].index.values"
   ]
  },
  {
   "cell_type": "code",
   "execution_count": 130,
   "metadata": {},
   "outputs": [
    {
     "data": {
      "text/plain": [
       "array(['4rHZZAmHpZrA3iH5zx8frV', '4v0hWD4N6qefyFrmSGLjTV',\n",
       "       '2dOTkLZFbpNXrhc24CnTFd', ..., '36482XFSL8gPsIG6ca9kTx',\n",
       "       '2dYa9mK32L5oJGeUo3Lde4', '6GXMbGxKPE0THWVuf22fyj'], dtype=object)"
      ]
     },
     "execution_count": 130,
     "metadata": {},
     "output_type": "execute_result"
    }
   ],
   "source": [
    "song_vocab"
   ]
  },
  {
   "cell_type": "code",
   "execution_count": 131,
   "metadata": {},
   "outputs": [
    {
     "data": {
      "text/plain": [
       "(40000,)"
      ]
     },
     "execution_count": 131,
     "metadata": {},
     "output_type": "execute_result"
    }
   ],
   "source": [
    "song_vocab.shape"
   ]
  },
  {
   "cell_type": "code",
   "execution_count": 156,
   "metadata": {},
   "outputs": [],
   "source": [
    "vocab_indxs = pd.Series(df.spotify_id.unique())[songs_series.isin(song_vocab)].index.values\n",
    "\n",
    "# Reorder songs in vocab. so that they follow the *order* in df.spotify_id.unique()\n",
    "song_vocab = df.spotify_id.unique()[vocab_indxs]\n",
    "\n",
    "# New song to index dict. which now corresponds to the smaller vocabulary rather than the entire dataset\n",
    "song_to_indx_vocab = {song_vocab[i]: i for i in range(len(song_vocab))}"
   ]
  },
  {
   "cell_type": "code",
   "execution_count": 157,
   "metadata": {},
   "outputs": [
    {
     "data": {
      "application/vnd.jupyter.widget-view+json": {
       "model_id": "d6b6db5c6ee34c3aa1a585fbcce60cf6",
       "version_major": 2,
       "version_minor": 0
      },
      "text/plain": [
       "HBox(children=(IntProgress(value=0, max=10531), HTML(value='')))"
      ]
     },
     "metadata": {},
     "output_type": "display_data"
    },
    {
     "name": "stdout",
     "output_type": "stream",
     "text": [
      "\n"
     ]
    }
   ],
   "source": [
    "train_playlist_songs_matrix, lengths_series = rnn_utils.create_playlist_song_matrix(train_df, song_to_indx_vocab,\n",
    "                                                                                    song_vocab=song_vocab)"
   ]
  },
  {
   "cell_type": "code",
   "execution_count": 158,
   "metadata": {},
   "outputs": [
    {
     "data": {
      "text/plain": [
       "<matplotlib.axes._subplots.AxesSubplot at 0x14d2831d0>"
      ]
     },
     "execution_count": 158,
     "metadata": {},
     "output_type": "execute_result"
    },
    {
     "data": {
      "image/png": "[encoded data removed]",
      "text/plain": [
       "<Figure size 432x288 with 1 Axes>"
      ]
     },
     "metadata": {},
     "output_type": "display_data"
    }
   ],
   "source": [
    "lengths_series.hist(bins=50)"
   ]
  },
  {
   "cell_type": "markdown",
   "metadata": {},
   "source": [
    "Let us check that train_playlist_songs_matrix has the shape (num_playlists, None, num_latent_factors):"
   ]
  },
  {
   "cell_type": "code",
   "execution_count": 159,
   "metadata": {},
   "outputs": [
    {
     "name": "stdout",
     "output_type": "stream",
     "text": [
      "[27 29 30 31 32 33 35 36 37 38 39]\n"
     ]
    }
   ],
   "source": [
    "print(train_playlist_songs_matrix[2])"
   ]
  },
  {
   "cell_type": "code",
   "execution_count": 160,
   "metadata": {},
   "outputs": [
    {
     "data": {
      "text/plain": [
       "<module 'rnn_utils' from '../rnn_utils.py'>"
      ]
     },
     "execution_count": 160,
     "metadata": {},
     "output_type": "execute_result"
    }
   ],
   "source": [
    "reload(rnn_utils)"
   ]
  },
  {
   "cell_type": "code",
   "execution_count": 161,
   "metadata": {},
   "outputs": [],
   "source": [
    "# latent vectors for each song *IN VOCAB*\n",
    "item_factors_vocab = wrmf_model.item_factors[vocab_indxs]"
   ]
  },
  {
   "cell_type": "code",
   "execution_count": 162,
   "metadata": {},
   "outputs": [],
   "source": [
    "def generate_xy_sample():\n",
    "    while True:\n",
    "        for playlist in train_playlist_songs_matrix:\n",
    "            xsample, ysample = rnn_utils.prepare_sample(playlist, item_factors_vocab, vocab_size)\n",
    "            yield xsample, ysample"
   ]
  },
  {
   "cell_type": "code",
   "execution_count": 163,
   "metadata": {},
   "outputs": [],
   "source": [
    "a, b = next(generate_xy_sample())"
   ]
  },
  {
   "cell_type": "code",
   "execution_count": 164,
   "metadata": {},
   "outputs": [
    {
     "name": "stdout",
     "output_type": "stream",
     "text": [
      "(6, 300)\n",
      "float32 \n",
      "\n",
      "(6, 40000)\n",
      "int32 \n",
      "\n"
     ]
    }
   ],
   "source": [
    "for x in next(generate_xy_sample()):\n",
    "    print(x.shape)\n",
    "    print(x.dtype, \"\\n\")"
   ]
  },
  {
   "cell_type": "code",
   "execution_count": 165,
   "metadata": {},
   "outputs": [],
   "source": [
    "assert (b == 1).any()"
   ]
  },
  {
   "cell_type": "code",
   "execution_count": 166,
   "metadata": {},
   "outputs": [],
   "source": [
    "num_latent_factors = 300"
   ]
  },
  {
   "cell_type": "code",
   "execution_count": 169,
   "metadata": {},
   "outputs": [],
   "source": [
    "train_dataset = tf.data.Dataset.from_generator(generate_xy_sample,\n",
    "                                              output_types=(tf.float32, tf.int32),\n",
    "                                              output_shapes=(tf.TensorShape([None, num_latent_factors]), tf.TensorShape([None, vocab_size]))\n",
    "                                              )"
   ]
  },
  {
   "cell_type": "code",
   "execution_count": 170,
   "metadata": {},
   "outputs": [
    {
     "name": "stdout",
     "output_type": "stream",
     "text": [
      "(1, 6, 300)\n",
      "float32 \n",
      "\n",
      "(1, 6, 40000)\n",
      "int32 \n",
      "\n"
     ]
    }
   ],
   "source": [
    "for x in next(train_dataset.batch(1).as_numpy_iterator()):\n",
    "    print(x.shape)\n",
    "    print(x.dtype, \"\\n\")"
   ]
  },
  {
   "cell_type": "code",
   "execution_count": 171,
   "metadata": {},
   "outputs": [
    {
     "data": {
      "text/plain": [
       "TensorShape([300, 40000])"
      ]
     },
     "execution_count": 171,
     "metadata": {},
     "output_type": "execute_result"
    }
   ],
   "source": [
    "item_factors_T = tf.convert_to_tensor(item_factors_vocab.T, dtype=tf.float32)\n",
    "item_factors_T.shape"
   ]
  },
  {
   "cell_type": "code",
   "execution_count": 172,
   "metadata": {},
   "outputs": [],
   "source": [
    "BATCH_SIZE = 10\n",
    "\n",
    "item_factors_T_batch = tf.tile(tf.expand_dims(item_factors_T, axis=0), multiples=[BATCH_SIZE, 1, 1])"
   ]
  },
  {
   "cell_type": "code",
   "execution_count": 173,
   "metadata": {},
   "outputs": [
    {
     "name": "stdout",
     "output_type": "stream",
     "text": [
      "(10, 300, 40000)\n",
      "<dtype: 'float32'>\n"
     ]
    }
   ],
   "source": [
    "print(item_factors_T_batch.shape)\n",
    "print(item_factors_T_batch.dtype)"
   ]
  },
  {
   "cell_type": "code",
   "execution_count": 174,
   "metadata": {},
   "outputs": [
    {
     "data": {
      "text/plain": [
       "TensorShape([10, 300, 40000])"
      ]
     },
     "execution_count": 174,
     "metadata": {},
     "output_type": "execute_result"
    }
   ],
   "source": [
    "item_factors_T_batch.shape"
   ]
  },
  {
   "cell_type": "code",
   "execution_count": 175,
   "metadata": {},
   "outputs": [
    {
     "data": {
      "text/plain": [
       "<tf.Tensor: shape=(), dtype=int32, numpy=10>"
      ]
     },
     "execution_count": 175,
     "metadata": {},
     "output_type": "execute_result"
    }
   ],
   "source": [
    "tf.shape(item_factors_T_batch)[0]"
   ]
  },
  {
   "cell_type": "code",
   "execution_count": 176,
   "metadata": {},
   "outputs": [],
   "source": [
    "def custom_loss(y_true, y_pred):\n",
    "    \n",
    "#  y_true - shape (batch_size, playlist_length, multihot ie vocab_size ie 40k)\n",
    "#  y_pred - shape (batch_size, playlist_length, 300)\n",
    "\n",
    "    loss = 0\n",
    "\n",
    "#     Cast to a boolean mask. Consider changing during preprocessing.\n",
    "    y_true = tf.cast(y_true, tf.bool)\n",
    "#     print(\"y_true shape, \", y_true.shape)\n",
    "\n",
    "# Adjust global variable if batch size is different than the one anticipated? \n",
    "# Slightly ugly solution (changing global variables) but significantly reduces unnecessary computation.\n",
    "\n",
    "# BUG - UnboundLocalError?!\n",
    "#     if tf.shape(item_factors_T_batch)[0] != tf.shape(y_true)[0]:\n",
    "    batch_size = tf.shape(y_true)[0]\n",
    "\n",
    "    item_factors_T_batch = tf.tile(tf.expand_dims(item_factors_T, axis=0), multiples=[batch_size, 1, 1])\n",
    "    \n",
    "#     print(\"item factors T batch \", item_factors_T_batch.shape)\n",
    "\n",
    "#     item_factors_T_batch = tf.expand_dims(item_factors_T, axis=0)\n",
    "    \n",
    "#     Contains all the necessary dot products\n",
    "    composite = tf.matmul(y_pred, item_factors_T_batch)\n",
    "    \n",
    "#     print(\"composite shape \", composite.shape)\n",
    "        \n",
    "# TODO - improve such that only have to run through mask once.\n",
    "    correct = tf.boolean_mask(composite, y_true)\n",
    "    incorrect = tf.boolean_mask(composite, ~y_true)\n",
    "    \n",
    "    loss -= tf.math.reduce_sum(log(tf.math.sigmoid(correct)))\n",
    "    loss -= tf.math.reduce_sum(log(1-tf.math.sigmoid(incorrect)))\n",
    "    \n",
    "    return loss\n",
    "        "
   ]
  },
  {
   "cell_type": "code",
   "execution_count": 177,
   "metadata": {},
   "outputs": [
    {
     "name": "stdout",
     "output_type": "stream",
     "text": [
      "(1, 6, 300)\n",
      "float32\n",
      "(1, 6, 40000)\n",
      "int32\n"
     ]
    },
    {
     "data": {
      "text/plain": [
       "<tf.Tensor: shape=(), dtype=float32, numpy=167670.34>"
      ]
     },
     "execution_count": 177,
     "metadata": {},
     "output_type": "execute_result"
    }
   ],
   "source": [
    "# TEST - custom loss function\n",
    "\n",
    "a, b = next(train_dataset.batch(1).as_numpy_iterator())\n",
    "\n",
    "print(a.shape)\n",
    "print(a.dtype)\n",
    "\n",
    "print(b.shape)\n",
    "print(b.dtype)\n",
    "\n",
    "custom_loss(b, a)"
   ]
  },
  {
   "cell_type": "markdown",
   "metadata": {},
   "source": [
    "## Creating Model"
   ]
  },
  {
   "cell_type": "code",
   "execution_count": 178,
   "metadata": {},
   "outputs": [
    {
     "name": "stdout",
     "output_type": "stream",
     "text": [
      "300\n",
      "40000\n"
     ]
    }
   ],
   "source": [
    "print(num_latent_factors)\n",
    "print(vocab_size)"
   ]
  },
  {
   "cell_type": "code",
   "execution_count": 196,
   "metadata": {},
   "outputs": [],
   "source": [
    "clear_session()"
   ]
  },
  {
   "cell_type": "code",
   "execution_count": 197,
   "metadata": {},
   "outputs": [],
   "source": [
    "LSTM_L1_UNITS = 50\n",
    "LSTM_L2_UNITS = 25\n",
    "LEARNING_RATE = 1e-3\n",
    "\n",
    "model = Sequential()\n",
    "\n",
    "model.add(LSTM(units=LSTM_L1_UNITS,\n",
    "              return_sequences=True,\n",
    "              input_shape=(None, num_latent_factors)))\n",
    "\n",
    "model.add(LSTM(units=LSTM_L2_UNITS,\n",
    "              return_sequences=True,\n",
    "              input_shape=(None, LSTM_L1_UNITS)))\n",
    "\n",
    "model.add(Dense(units=num_latent_factors, activation=\"sigmoid\"))\n",
    "\n",
    "optimiser = RMSprop(lr=LEARNING_RATE)\n",
    "\n",
    "model.compile(loss=custom_loss, optimizer=optimiser)"
   ]
  },
  {
   "cell_type": "code",
   "execution_count": 198,
   "metadata": {},
   "outputs": [
    {
     "data": {
      "text/plain": [
       "9518"
      ]
     },
     "execution_count": 198,
     "metadata": {},
     "output_type": "execute_result"
    }
   ],
   "source": [
    "train_playlist_songs_matrix.shape[0]"
   ]
  },
  {
   "cell_type": "markdown",
   "metadata": {},
   "source": [
    "## TODO\n",
    "Batch size other than 1 throws error!"
   ]
  },
  {
   "cell_type": "code",
   "execution_count": 195,
   "metadata": {},
   "outputs": [
    {
     "name": "stdout",
     "output_type": "stream",
     "text": [
      "Epoch 1/10\n",
      "3663/9518 [==========>...................] - ETA: 10:15 - loss: 1371393.3750"
     ]
    },
    {
     "ename": "KeyboardInterrupt",
     "evalue": "",
     "output_type": "error",
     "traceback": [
      "\u001b[0;31m---------------------------------------------------------------------------\u001b[0m",
      "\u001b[0;31mKeyboardInterrupt\u001b[0m                         Traceback (most recent call last)",
      "\u001b[0;32m<ipython-input-195-e42e4c4122e9>\u001b[0m in \u001b[0;36m<module>\u001b[0;34m\u001b[0m\n\u001b[1;32m      1\u001b[0m model.fit(train_dataset.batch(1),\n\u001b[1;32m      2\u001b[0m          \u001b[0mepochs\u001b[0m\u001b[0;34m=\u001b[0m\u001b[0;36m10\u001b[0m\u001b[0;34m,\u001b[0m\u001b[0;34m\u001b[0m\u001b[0;34m\u001b[0m\u001b[0m\n\u001b[0;32m----> 3\u001b[0;31m          steps_per_epoch=train_playlist_songs_matrix.shape[0])\n\u001b[0m",
      "\u001b[0;32m~/opt/anaconda3/lib/python3.7/site-packages/tensorflow/python/keras/engine/training.py\u001b[0m in \u001b[0;36m_method_wrapper\u001b[0;34m(self, *args, **kwargs)\u001b[0m\n\u001b[1;32m    106\u001b[0m   \u001b[0;32mdef\u001b[0m \u001b[0m_method_wrapper\u001b[0m\u001b[0;34m(\u001b[0m\u001b[0mself\u001b[0m\u001b[0;34m,\u001b[0m \u001b[0;34m*\u001b[0m\u001b[0margs\u001b[0m\u001b[0;34m,\u001b[0m \u001b[0;34m**\u001b[0m\u001b[0mkwargs\u001b[0m\u001b[0;34m)\u001b[0m\u001b[0;34m:\u001b[0m\u001b[0;34m\u001b[0m\u001b[0;34m\u001b[0m\u001b[0m\n\u001b[1;32m    107\u001b[0m     \u001b[0;32mif\u001b[0m \u001b[0;32mnot\u001b[0m \u001b[0mself\u001b[0m\u001b[0;34m.\u001b[0m\u001b[0m_in_multi_worker_mode\u001b[0m\u001b[0;34m(\u001b[0m\u001b[0;34m)\u001b[0m\u001b[0;34m:\u001b[0m  \u001b[0;31m# pylint: disable=protected-access\u001b[0m\u001b[0;34m\u001b[0m\u001b[0;34m\u001b[0m\u001b[0m\n\u001b[0;32m--> 108\u001b[0;31m       \u001b[0;32mreturn\u001b[0m \u001b[0mmethod\u001b[0m\u001b[0;34m(\u001b[0m\u001b[0mself\u001b[0m\u001b[0;34m,\u001b[0m \u001b[0;34m*\u001b[0m\u001b[0margs\u001b[0m\u001b[0;34m,\u001b[0m \u001b[0;34m**\u001b[0m\u001b[0mkwargs\u001b[0m\u001b[0;34m)\u001b[0m\u001b[0;34m\u001b[0m\u001b[0;34m\u001b[0m\u001b[0m\n\u001b[0m\u001b[1;32m    109\u001b[0m \u001b[0;34m\u001b[0m\u001b[0m\n\u001b[1;32m    110\u001b[0m     \u001b[0;31m# Running inside `run_distribute_coordinator` already.\u001b[0m\u001b[0;34m\u001b[0m\u001b[0;34m\u001b[0m\u001b[0;34m\u001b[0m\u001b[0m\n",
      "\u001b[0;32m~/opt/anaconda3/lib/python3.7/site-packages/tensorflow/python/keras/engine/training.py\u001b[0m in \u001b[0;36mfit\u001b[0;34m(self, x, y, batch_size, epochs, verbose, callbacks, validation_split, validation_data, shuffle, class_weight, sample_weight, initial_epoch, steps_per_epoch, validation_steps, validation_batch_size, validation_freq, max_queue_size, workers, use_multiprocessing)\u001b[0m\n\u001b[1;32m   1096\u001b[0m                 batch_size=batch_size):\n\u001b[1;32m   1097\u001b[0m               \u001b[0mcallbacks\u001b[0m\u001b[0;34m.\u001b[0m\u001b[0mon_train_batch_begin\u001b[0m\u001b[0;34m(\u001b[0m\u001b[0mstep\u001b[0m\u001b[0;34m)\u001b[0m\u001b[0;34m\u001b[0m\u001b[0;34m\u001b[0m\u001b[0m\n\u001b[0;32m-> 1098\u001b[0;31m               \u001b[0mtmp_logs\u001b[0m \u001b[0;34m=\u001b[0m \u001b[0mtrain_function\u001b[0m\u001b[0;34m(\u001b[0m\u001b[0miterator\u001b[0m\u001b[0;34m)\u001b[0m\u001b[0;34m\u001b[0m\u001b[0;34m\u001b[0m\u001b[0m\n\u001b[0m\u001b[1;32m   1099\u001b[0m               \u001b[0;32mif\u001b[0m \u001b[0mdata_handler\u001b[0m\u001b[0;34m.\u001b[0m\u001b[0mshould_sync\u001b[0m\u001b[0;34m:\u001b[0m\u001b[0;34m\u001b[0m\u001b[0;34m\u001b[0m\u001b[0m\n\u001b[1;32m   1100\u001b[0m                 \u001b[0mcontext\u001b[0m\u001b[0;34m.\u001b[0m\u001b[0masync_wait\u001b[0m\u001b[0;34m(\u001b[0m\u001b[0;34m)\u001b[0m\u001b[0;34m\u001b[0m\u001b[0;34m\u001b[0m\u001b[0m\n",
      "\u001b[0;32m~/opt/anaconda3/lib/python3.7/site-packages/tensorflow/python/eager/def_function.py\u001b[0m in \u001b[0;36m__call__\u001b[0;34m(self, *args, **kwds)\u001b[0m\n\u001b[1;32m    778\u001b[0m       \u001b[0;32melse\u001b[0m\u001b[0;34m:\u001b[0m\u001b[0;34m\u001b[0m\u001b[0;34m\u001b[0m\u001b[0m\n\u001b[1;32m    779\u001b[0m         \u001b[0mcompiler\u001b[0m \u001b[0;34m=\u001b[0m \u001b[0;34m\"nonXla\"\u001b[0m\u001b[0;34m\u001b[0m\u001b[0;34m\u001b[0m\u001b[0m\n\u001b[0;32m--> 780\u001b[0;31m         \u001b[0mresult\u001b[0m \u001b[0;34m=\u001b[0m \u001b[0mself\u001b[0m\u001b[0;34m.\u001b[0m\u001b[0m_call\u001b[0m\u001b[0;34m(\u001b[0m\u001b[0;34m*\u001b[0m\u001b[0margs\u001b[0m\u001b[0;34m,\u001b[0m \u001b[0;34m**\u001b[0m\u001b[0mkwds\u001b[0m\u001b[0;34m)\u001b[0m\u001b[0;34m\u001b[0m\u001b[0;34m\u001b[0m\u001b[0m\n\u001b[0m\u001b[1;32m    781\u001b[0m \u001b[0;34m\u001b[0m\u001b[0m\n\u001b[1;32m    782\u001b[0m       \u001b[0mnew_tracing_count\u001b[0m \u001b[0;34m=\u001b[0m \u001b[0mself\u001b[0m\u001b[0;34m.\u001b[0m\u001b[0m_get_tracing_count\u001b[0m\u001b[0;34m(\u001b[0m\u001b[0;34m)\u001b[0m\u001b[0;34m\u001b[0m\u001b[0;34m\u001b[0m\u001b[0m\n",
      "\u001b[0;32m~/opt/anaconda3/lib/python3.7/site-packages/tensorflow/python/eager/def_function.py\u001b[0m in \u001b[0;36m_call\u001b[0;34m(self, *args, **kwds)\u001b[0m\n\u001b[1;32m    805\u001b[0m       \u001b[0;31m# In this case we have created variables on the first call, so we run the\u001b[0m\u001b[0;34m\u001b[0m\u001b[0;34m\u001b[0m\u001b[0;34m\u001b[0m\u001b[0m\n\u001b[1;32m    806\u001b[0m       \u001b[0;31m# defunned version which is guaranteed to never create variables.\u001b[0m\u001b[0;34m\u001b[0m\u001b[0;34m\u001b[0m\u001b[0;34m\u001b[0m\u001b[0m\n\u001b[0;32m--> 807\u001b[0;31m       \u001b[0;32mreturn\u001b[0m \u001b[0mself\u001b[0m\u001b[0;34m.\u001b[0m\u001b[0m_stateless_fn\u001b[0m\u001b[0;34m(\u001b[0m\u001b[0;34m*\u001b[0m\u001b[0margs\u001b[0m\u001b[0;34m,\u001b[0m \u001b[0;34m**\u001b[0m\u001b[0mkwds\u001b[0m\u001b[0;34m)\u001b[0m  \u001b[0;31m# pylint: disable=not-callable\u001b[0m\u001b[0;34m\u001b[0m\u001b[0;34m\u001b[0m\u001b[0m\n\u001b[0m\u001b[1;32m    808\u001b[0m     \u001b[0;32melif\u001b[0m \u001b[0mself\u001b[0m\u001b[0;34m.\u001b[0m\u001b[0m_stateful_fn\u001b[0m \u001b[0;32mis\u001b[0m \u001b[0;32mnot\u001b[0m \u001b[0;32mNone\u001b[0m\u001b[0;34m:\u001b[0m\u001b[0;34m\u001b[0m\u001b[0;34m\u001b[0m\u001b[0m\n\u001b[1;32m    809\u001b[0m       \u001b[0;31m# Release the lock early so that multiple threads can perform the call\u001b[0m\u001b[0;34m\u001b[0m\u001b[0;34m\u001b[0m\u001b[0;34m\u001b[0m\u001b[0m\n",
      "\u001b[0;32m~/opt/anaconda3/lib/python3.7/site-packages/tensorflow/python/eager/function.py\u001b[0m in \u001b[0;36m__call__\u001b[0;34m(self, *args, **kwargs)\u001b[0m\n\u001b[1;32m   2827\u001b[0m     \u001b[0;32mwith\u001b[0m \u001b[0mself\u001b[0m\u001b[0;34m.\u001b[0m\u001b[0m_lock\u001b[0m\u001b[0;34m:\u001b[0m\u001b[0;34m\u001b[0m\u001b[0;34m\u001b[0m\u001b[0m\n\u001b[1;32m   2828\u001b[0m       \u001b[0mgraph_function\u001b[0m\u001b[0;34m,\u001b[0m \u001b[0margs\u001b[0m\u001b[0;34m,\u001b[0m \u001b[0mkwargs\u001b[0m \u001b[0;34m=\u001b[0m \u001b[0mself\u001b[0m\u001b[0;34m.\u001b[0m\u001b[0m_maybe_define_function\u001b[0m\u001b[0;34m(\u001b[0m\u001b[0margs\u001b[0m\u001b[0;34m,\u001b[0m \u001b[0mkwargs\u001b[0m\u001b[0;34m)\u001b[0m\u001b[0;34m\u001b[0m\u001b[0;34m\u001b[0m\u001b[0m\n\u001b[0;32m-> 2829\u001b[0;31m     \u001b[0;32mreturn\u001b[0m \u001b[0mgraph_function\u001b[0m\u001b[0;34m.\u001b[0m\u001b[0m_filtered_call\u001b[0m\u001b[0;34m(\u001b[0m\u001b[0margs\u001b[0m\u001b[0;34m,\u001b[0m \u001b[0mkwargs\u001b[0m\u001b[0;34m)\u001b[0m  \u001b[0;31m# pylint: disable=protected-access\u001b[0m\u001b[0;34m\u001b[0m\u001b[0;34m\u001b[0m\u001b[0m\n\u001b[0m\u001b[1;32m   2830\u001b[0m \u001b[0;34m\u001b[0m\u001b[0m\n\u001b[1;32m   2831\u001b[0m   \u001b[0;34m@\u001b[0m\u001b[0mproperty\u001b[0m\u001b[0;34m\u001b[0m\u001b[0;34m\u001b[0m\u001b[0m\n",
      "\u001b[0;32m~/opt/anaconda3/lib/python3.7/site-packages/tensorflow/python/eager/function.py\u001b[0m in \u001b[0;36m_filtered_call\u001b[0;34m(self, args, kwargs, cancellation_manager)\u001b[0m\n\u001b[1;32m   1846\u001b[0m                            resource_variable_ops.BaseResourceVariable))],\n\u001b[1;32m   1847\u001b[0m         \u001b[0mcaptured_inputs\u001b[0m\u001b[0;34m=\u001b[0m\u001b[0mself\u001b[0m\u001b[0;34m.\u001b[0m\u001b[0mcaptured_inputs\u001b[0m\u001b[0;34m,\u001b[0m\u001b[0;34m\u001b[0m\u001b[0;34m\u001b[0m\u001b[0m\n\u001b[0;32m-> 1848\u001b[0;31m         cancellation_manager=cancellation_manager)\n\u001b[0m\u001b[1;32m   1849\u001b[0m \u001b[0;34m\u001b[0m\u001b[0m\n\u001b[1;32m   1850\u001b[0m   \u001b[0;32mdef\u001b[0m \u001b[0m_call_flat\u001b[0m\u001b[0;34m(\u001b[0m\u001b[0mself\u001b[0m\u001b[0;34m,\u001b[0m \u001b[0margs\u001b[0m\u001b[0;34m,\u001b[0m \u001b[0mcaptured_inputs\u001b[0m\u001b[0;34m,\u001b[0m \u001b[0mcancellation_manager\u001b[0m\u001b[0;34m=\u001b[0m\u001b[0;32mNone\u001b[0m\u001b[0;34m)\u001b[0m\u001b[0;34m:\u001b[0m\u001b[0;34m\u001b[0m\u001b[0;34m\u001b[0m\u001b[0m\n",
      "\u001b[0;32m~/opt/anaconda3/lib/python3.7/site-packages/tensorflow/python/eager/function.py\u001b[0m in \u001b[0;36m_call_flat\u001b[0;34m(self, args, captured_inputs, cancellation_manager)\u001b[0m\n\u001b[1;32m   1922\u001b[0m       \u001b[0;31m# No tape is watching; skip to running the function.\u001b[0m\u001b[0;34m\u001b[0m\u001b[0;34m\u001b[0m\u001b[0;34m\u001b[0m\u001b[0m\n\u001b[1;32m   1923\u001b[0m       return self._build_call_outputs(self._inference_function.call(\n\u001b[0;32m-> 1924\u001b[0;31m           ctx, args, cancellation_manager=cancellation_manager))\n\u001b[0m\u001b[1;32m   1925\u001b[0m     forward_backward = self._select_forward_and_backward_functions(\n\u001b[1;32m   1926\u001b[0m         \u001b[0margs\u001b[0m\u001b[0;34m,\u001b[0m\u001b[0;34m\u001b[0m\u001b[0;34m\u001b[0m\u001b[0m\n",
      "\u001b[0;32m~/opt/anaconda3/lib/python3.7/site-packages/tensorflow/python/eager/function.py\u001b[0m in \u001b[0;36mcall\u001b[0;34m(self, ctx, args, cancellation_manager)\u001b[0m\n\u001b[1;32m    548\u001b[0m               \u001b[0minputs\u001b[0m\u001b[0;34m=\u001b[0m\u001b[0margs\u001b[0m\u001b[0;34m,\u001b[0m\u001b[0;34m\u001b[0m\u001b[0;34m\u001b[0m\u001b[0m\n\u001b[1;32m    549\u001b[0m               \u001b[0mattrs\u001b[0m\u001b[0;34m=\u001b[0m\u001b[0mattrs\u001b[0m\u001b[0;34m,\u001b[0m\u001b[0;34m\u001b[0m\u001b[0;34m\u001b[0m\u001b[0m\n\u001b[0;32m--> 550\u001b[0;31m               ctx=ctx)\n\u001b[0m\u001b[1;32m    551\u001b[0m         \u001b[0;32melse\u001b[0m\u001b[0;34m:\u001b[0m\u001b[0;34m\u001b[0m\u001b[0;34m\u001b[0m\u001b[0m\n\u001b[1;32m    552\u001b[0m           outputs = execute.execute_with_cancellation(\n",
      "\u001b[0;32m~/opt/anaconda3/lib/python3.7/site-packages/tensorflow/python/eager/execute.py\u001b[0m in \u001b[0;36mquick_execute\u001b[0;34m(op_name, num_outputs, inputs, attrs, ctx, name)\u001b[0m\n\u001b[1;32m     58\u001b[0m     \u001b[0mctx\u001b[0m\u001b[0;34m.\u001b[0m\u001b[0mensure_initialized\u001b[0m\u001b[0;34m(\u001b[0m\u001b[0;34m)\u001b[0m\u001b[0;34m\u001b[0m\u001b[0;34m\u001b[0m\u001b[0m\n\u001b[1;32m     59\u001b[0m     tensors = pywrap_tfe.TFE_Py_Execute(ctx._handle, device_name, op_name,\n\u001b[0;32m---> 60\u001b[0;31m                                         inputs, attrs, num_outputs)\n\u001b[0m\u001b[1;32m     61\u001b[0m   \u001b[0;32mexcept\u001b[0m \u001b[0mcore\u001b[0m\u001b[0;34m.\u001b[0m\u001b[0m_NotOkStatusException\u001b[0m \u001b[0;32mas\u001b[0m \u001b[0me\u001b[0m\u001b[0;34m:\u001b[0m\u001b[0;34m\u001b[0m\u001b[0;34m\u001b[0m\u001b[0m\n\u001b[1;32m     62\u001b[0m     \u001b[0;32mif\u001b[0m \u001b[0mname\u001b[0m \u001b[0;32mis\u001b[0m \u001b[0;32mnot\u001b[0m \u001b[0;32mNone\u001b[0m\u001b[0;34m:\u001b[0m\u001b[0;34m\u001b[0m\u001b[0;34m\u001b[0m\u001b[0m\n",
      "\u001b[0;31mKeyboardInterrupt\u001b[0m: "
     ]
    }
   ],
   "source": [
    "model.fit(train_dataset.batch(1),\n",
    "         epochs=10,\n",
    "         steps_per_epoch=train_playlist_songs_matrix.shape[0])"
   ]
  },
  {
   "cell_type": "code",
   "execution_count": null,
   "metadata": {},
   "outputs": [],
   "source": []
  }
 ],
 "metadata": {
  "kernelspec": {
   "display_name": "Python 3",
   "language": "python",
   "name": "python3"
  },
  "language_info": {
   "codemirror_mode": {
    "name": "ipython",
    "version": 3
   },
   "file_extension": ".py",
   "mimetype": "text/x-python",
   "name": "python",
   "nbconvert_exporter": "python",
   "pygments_lexer": "ipython3",
   "version": "3.7.4"
  }
 },
 "nbformat": 4,
 "nbformat_minor": 2
}
